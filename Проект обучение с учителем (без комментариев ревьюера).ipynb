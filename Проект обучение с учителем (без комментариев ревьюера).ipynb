{
 "cells": [
  {
   "cell_type": "markdown",
   "metadata": {
    "id": "H6cQIZr3ElW1"
   },
   "source": [
    "# Разработка решения для персонализации предложений постоянным клиентам Интернет-магазина «В один клик»\n",
    "В целях удержания активности постоянных клиентов интернет-магазин «В один клик» (Заказчик) принял решение персонализировать предложения постоянным клиентам, чтобы увеличить их покупательскую активность. \n",
    "Для этого нужно: \n",
    "1. Построить модель, которая предскажет вероятность снижения покупательской активности клиента в следующие три месяца.\n",
    "2. В исследование нужно включить дополнительные данные финансового департамента о прибыльности клиента: какой доход каждый покупатель приносил компании за последние три месяца.\n",
    "3. Используя данные модели и данные о прибыльности клиентов, нужно выделить сегменты покупателей и разработать для них персонализированные предложения."
   ]
  },
  {
   "cell_type": "markdown",
   "metadata": {},
   "source": [
    "**Описание данных**\\\n",
    "Даны четыре талицы.\\\n",
    "1) Таблица, которая содержит данные о поведении покупателя на сайте, о коммуникациях с покупателем и его продуктовом поведении:\\\n",
    "*market_file.csv*\n",
    "\\\n",
    "'id' — номер покупателя в корпоративной базе данных.\\\n",
    "'Покупательская активность' — рассчитанный класс покупательской активности (целевой признак): «снизилась» или «прежний уровень».\\\n",
    "'Тип сервиса' — уровень сервиса, например «премиум» и «стандарт».\\\n",
    "'Разрешить сообщать' — информация о том, можно ли присылать покупателю дополнительные предложения о товаре. Согласие на это даёт покупатель.\\\n",
    "'Маркет_актив_6_мес' — среднемесячное значение маркетинговых коммуникаций компании, которое приходилось на покупателя за последние 6 месяцев. Это значение показывает, какое число рассылок, звонков, показов рекламы и прочего приходилось на клиента.\\\n",
    "'Маркет_актив_тек_мес' — количество маркетинговых коммуникаций в текущем месяце.\\\n",
    "'Длительность' — значение, которое показывает, сколько дней прошло с момента регистрации покупателя на сайте.\\\n",
    "'Акционные_покупки' — среднемесячная доля покупок по акции от общего числа покупок за последние 6 месяцев.\\\n",
    "'Популярная_категория' — самая популярная категория товаров у покупателя за последние 6 месяцев.\\\n",
    "'Средний_просмотр_категорий_за_визит' — показывает, сколько в среднем категорий покупатель просмотрел за визит в течение последнего месяца.\\\n",
    "'Неоплаченные_продукты_штук_квартал' — общее число неоплаченных товаров в корзине за последние 3 месяца.\\\n",
    "'Ошибка_сервиса' — число сбоев, которые коснулись покупателя во время посещения сайта.\\\n",
    "'Страниц_за_визит' — среднее количество страниц, которые просмотрел покупатель за один визит на сайт за последние 3 месяца.\\\n",
    "\n",
    "\n",
    "2) Таблица с данными о выручке, которую получает магазин с покупателя, то есть сколько покупатель всего потратил за период взаимодействия с сайтом:\\\n",
    "*market_money.csv*\\\n",
    "'id' — номер покупателя в корпоративной базе данных.\\\n",
    "'Период' — название периода, во время которого зафиксирована выручка. Например, 'текущий_месяц' или 'предыдущий_месяц'.\\\n",
    "'Выручка' — сумма выручки за период.\\\n",
    "\n",
    "\n",
    "3) Таблица с данными о времени (в минутах), которое покупатель провёл на сайте в течение периода:\\\n",
    "*market_time.csv*\\\n",
    "'id' — номер покупателя в корпоративной базе данных.\\\n",
    "'Период' — название периода, во время которого зафиксировано общее время.\\\n",
    "'минут' — значение времени, проведённого на сайте, в минутах.\\\n",
    "\n",
    "\n",
    "4) Таблица с данными о среднемесячной прибыли покупателя за последние 3 месяца: какую прибыль получает магазин от продаж каждому покупателю:\\\n",
    "*money.csv*\\\n",
    "'id' — номер покупателя в корпоративной базе данных.\n",
    "'Прибыль' — значение прибыли."
   ]
  },
  {
   "cell_type": "markdown",
   "metadata": {},
   "source": [
    "## Загрузка данных"
   ]
  },
  {
   "cell_type": "code",
   "execution_count": 1,
   "metadata": {},
   "outputs": [
    {
     "name": "stderr",
     "output_type": "stream",
     "text": [
      "ERROR: Invalid requirement: '#'\n"
     ]
    },
    {
     "ename": "ModuleNotFoundError",
     "evalue": "No module named 'shap'",
     "output_type": "error",
     "traceback": [
      "\u001b[1;31m---------------------------------------------------------------------------\u001b[0m",
      "\u001b[1;31mModuleNotFoundError\u001b[0m                       Traceback (most recent call last)",
      "Cell \u001b[1;32mIn[1], line 46\u001b[0m\n\u001b[0;32m     43\u001b[0m \u001b[38;5;28;01mfrom\u001b[39;00m \u001b[38;5;21;01msklearn\u001b[39;00m\u001b[38;5;21;01m.\u001b[39;00m\u001b[38;5;21;01mfeature_selection\u001b[39;00m \u001b[38;5;28;01mimport\u001b[39;00m SelectKBest, f_classif\n\u001b[0;32m     45\u001b[0m get_ipython()\u001b[38;5;241m.\u001b[39msystem(\u001b[38;5;124m'\u001b[39m\u001b[38;5;124mpip install shap -q # -q убирает необязательные выводы в командах Linux\u001b[39m\u001b[38;5;124m'\u001b[39m)\n\u001b[1;32m---> 46\u001b[0m \u001b[38;5;28;01mimport\u001b[39;00m \u001b[38;5;21;01mshap\u001b[39;00m\n\u001b[0;32m     48\u001b[0m \u001b[38;5;28;01mfrom\u001b[39;00m \u001b[38;5;21;01mwarnings\u001b[39;00m \u001b[38;5;28;01mimport\u001b[39;00m simplefilter\n\u001b[0;32m     49\u001b[0m \u001b[38;5;66;03m# ignore all future warnings\u001b[39;00m\n",
      "\u001b[1;31mModuleNotFoundError\u001b[0m: No module named 'shap'"
     ]
    }
   ],
   "source": [
    "#Импортирую нужные библиотеки и классы\n",
    "import pandas as pd\n",
    "import matplotlib.pyplot as plt\n",
    "import numpy as np\n",
    "from scipy import stats as st\n",
    "import seaborn as sns\n",
    "from sklearn.model_selection import train_test_split\n",
    "from sklearn.metrics import (\n",
    "    accuracy_score, \n",
    "    recall_score, \n",
    "    precision_score, \n",
    "    confusion_matrix,\n",
    "    mean_absolute_error, \n",
    "    mean_squared_error,\n",
    "    f1_score,\n",
    "    roc_auc_score\n",
    ")\n",
    "try:\n",
    "    import phik\n",
    "except:\n",
    "    !pip install -q phik\n",
    "    import phik\n",
    "from phik.report import plot_correlation_matrix\n",
    "\n",
    "# класс pipeline\n",
    "from sklearn.pipeline import Pipeline\n",
    "\n",
    "# классы для подготовки данных\n",
    "from sklearn.preprocessing import OneHotEncoder, OrdinalEncoder, StandardScaler, MinMaxScaler, RobustScaler\n",
    "from sklearn.compose import ColumnTransformer\n",
    "\n",
    "# класс для работы с пропусками\n",
    "from sklearn.impute import SimpleImputer\n",
    "\n",
    "from sklearn.model_selection import RandomizedSearchCV, GridSearchCV\n",
    "\n",
    "# модели\n",
    "from sklearn.linear_model import LogisticRegression\n",
    "from sklearn.neighbors import KNeighborsClassifier\n",
    "from sklearn.tree import DecisionTreeClassifier\n",
    "from sklearn.svm import SVC\n",
    "\n",
    "from sklearn.feature_selection import SelectKBest, f_classif\n",
    "\n",
    "!pip install shap -q # -q убирает необязательные выводы в командах Linux\n",
    "import shap\n",
    "\n",
    "from warnings import simplefilter\n",
    "# ignore all future warnings\n",
    "simplefilter(action='ignore', category=FutureWarning)"
   ]
  },
  {
   "cell_type": "markdown",
   "metadata": {},
   "source": [
    "### Загружаю каждую таблицу и вывожу информацию о датафреймах."
   ]
  },
  {
   "cell_type": "code",
   "execution_count": null,
   "metadata": {},
   "outputs": [],
   "source": [
    "market = pd.read_csv('/datasets/market_file.csv')\n",
    "market.info()\n",
    "market.head()"
   ]
  },
  {
   "cell_type": "code",
   "execution_count": null,
   "metadata": {},
   "outputs": [],
   "source": [
    "market_money = pd.read_csv('/datasets/market_money.csv')\n",
    "market_money.info()\n",
    "market_money.head(10)"
   ]
  },
  {
   "cell_type": "code",
   "execution_count": null,
   "metadata": {},
   "outputs": [],
   "source": [
    "market_time = pd.read_csv('/datasets/market_time.csv')\n",
    "market_time.info()\n",
    "market_time.head()"
   ]
  },
  {
   "cell_type": "code",
   "execution_count": null,
   "metadata": {},
   "outputs": [],
   "source": [
    "money = pd.read_csv('/datasets/money.csv', sep=';', decimal = ',')\n",
    "money.info()\n",
    "money.head()"
   ]
  },
  {
   "cell_type": "markdown",
   "metadata": {},
   "source": [
    "Предварительно можно отметить, что данные есть по 1300 клиентам. В таблицах *market_money* и *market_time* строк в три и в два раза больше, т.к. там одному клиенту соответствует несколько строк с разными периодами.\\\n",
    "Нужно будет проверить категориальные столбцы на предмет опечаток. Например, в Типе сервиса странно выглядит значение \"стандартт\".\\\n",
    "В таблице *market_time* хочется переименовать наименование столбца \"минуты\" в, например, \"Минут_на_сайте\", т.к. это будет более удобно для восприятия и, кроме того, все остальные столбцы начинаются с заглавной буквы."
   ]
  },
  {
   "cell_type": "markdown",
   "metadata": {},
   "source": [
    "## Предобработка данных"
   ]
  },
  {
   "cell_type": "markdown",
   "metadata": {},
   "source": [
    "### Предобработка первой таблицы *market*"
   ]
  },
  {
   "cell_type": "code",
   "execution_count": null,
   "metadata": {},
   "outputs": [],
   "source": [
    "#вывожу на экран уникальные зачения и их количество для столбцов, содержащих категоральные признаки\n",
    "for i in market.select_dtypes(exclude='number').columns.tolist():\n",
    "    print(market[i].value_counts())\n",
    "    print()"
   ]
  },
  {
   "cell_type": "code",
   "execution_count": null,
   "metadata": {},
   "outputs": [],
   "source": [
    "#корректирую опечатку в типе сервиса\n",
    "market['Тип сервиса'] = market['Тип сервиса'].str.replace('стандартт', 'стандарт')"
   ]
  },
  {
   "cell_type": "code",
   "execution_count": null,
   "metadata": {},
   "outputs": [],
   "source": [
    "#проверяю на наличие явных дубликатов\n",
    "market.duplicated().sum()"
   ]
  },
  {
   "cell_type": "markdown",
   "metadata": {},
   "source": [
    "### Предобработка второй таблицы *market_money*"
   ]
  },
  {
   "cell_type": "code",
   "execution_count": null,
   "metadata": {},
   "outputs": [],
   "source": [
    "market_money['Период'].value_counts()"
   ]
  },
  {
   "cell_type": "code",
   "execution_count": null,
   "metadata": {},
   "outputs": [],
   "source": [
    "#корректирую опечатку\n",
    "market_money['Период'] = market_money['Период'].str.replace('препредыдущий_месяц', 'предпредыдущий_месяц')"
   ]
  },
  {
   "cell_type": "code",
   "execution_count": null,
   "metadata": {},
   "outputs": [],
   "source": [
    "#проверяю на наличие явных дубликатов\n",
    "market_money.duplicated().sum()"
   ]
  },
  {
   "cell_type": "code",
   "execution_count": null,
   "metadata": {},
   "outputs": [],
   "source": [
    "market_money['Выручка'].describe()"
   ]
  },
  {
   "cell_type": "markdown",
   "metadata": {},
   "source": [
    "### Предобработка третьей таблицы *market_time*"
   ]
  },
  {
   "cell_type": "code",
   "execution_count": null,
   "metadata": {},
   "outputs": [],
   "source": [
    "market_time['Период'].value_counts()"
   ]
  },
  {
   "cell_type": "code",
   "execution_count": null,
   "metadata": {},
   "outputs": [],
   "source": [
    "#корректирую опечатку\n",
    "market_time['Период'] = market_time['Период'].str.replace('предыдцщий_месяц', 'предыдущий_месяц')"
   ]
  },
  {
   "cell_type": "code",
   "execution_count": null,
   "metadata": {},
   "outputs": [],
   "source": [
    "#проверяю на наличие явных дубликатов\n",
    "market_time.duplicated().sum()"
   ]
  },
  {
   "cell_type": "markdown",
   "metadata": {},
   "source": [
    "### Предобработка четвертой таблицы *money*"
   ]
  },
  {
   "cell_type": "code",
   "execution_count": null,
   "metadata": {},
   "outputs": [],
   "source": [
    "money['Прибыль'].describe()"
   ]
  },
  {
   "cell_type": "code",
   "execution_count": null,
   "metadata": {},
   "outputs": [],
   "source": [
    "#money['Прибыль'] = money['Прибыль']*1000"
   ]
  },
  {
   "cell_type": "markdown",
   "metadata": {},
   "source": [
    "## Исследовательский анализ данных"
   ]
  },
  {
   "cell_type": "markdown",
   "metadata": {},
   "source": [
    "### Исследовательский анализ данных первой таблицы *market*"
   ]
  },
  {
   "cell_type": "code",
   "execution_count": null,
   "metadata": {},
   "outputs": [],
   "source": [
    "market.head()"
   ]
  },
  {
   "cell_type": "code",
   "execution_count": null,
   "metadata": {},
   "outputs": [],
   "source": [
    "market_col=['Покупательская активность', 'Тип сервиса', 'Разрешить сообщать']\n",
    "n=0\n",
    "plt.figure(figsize=(15, 10))\n",
    "for col in market_col:\n",
    "    m=n+1\n",
    "    plt.subplot(1, 3, m)\n",
    "    n=m\n",
    "    market[col].value_counts().sort_values().plot(kind='pie', autopct='%1.0f%%', title=col, ylabel=\"\");\n",
    "    print()"
   ]
  },
  {
   "cell_type": "markdown",
   "metadata": {},
   "source": [
    "Покупательская способность снизилась у 38% покупателей, у остальных осталась на прежнем уровне. Такой дисбаланс нужно будет учитывать на последующих этапах. Интересно, почему нет категории \"повысилась\". \\\n",
    "Почти у 30% покупателей тип сервиса \"премиум\", а у 70% - \"стандарт\".\\\n",
    "Три четверти покупателей разрешают сообщать им о дополнительных предложениях о товаре."
   ]
  },
  {
   "cell_type": "code",
   "execution_count": null,
   "metadata": {},
   "outputs": [],
   "source": [
    "market['Популярная_категория'].value_counts().sort_values().plot.barh()\n",
    "plt.title('Популярная категория', size=\"xx-large\")\n",
    "plt.xlabel(\"Количество покупателей\");"
   ]
  },
  {
   "cell_type": "markdown",
   "metadata": {},
   "source": [
    "Самая популярная катеория - \"Товары для детей\". На втором месте \"Домашний текстиль\".\\ \n",
    "Затем по порядку \"Косметика и аксесуары\", \"Техника для красоты и здоровья\", \"Мелкая бытовая техника и элетроника\", \"Кухонная посуда\"."
   ]
  },
  {
   "cell_type": "code",
   "execution_count": null,
   "metadata": {
    "scrolled": true
   },
   "outputs": [],
   "source": [
    "# строю гистограмму для всех числовых столбцов таблицы на одном графике\n",
    "market.drop('id', axis=1).hist(figsize=(15, 10), bins=40);"
   ]
  },
  {
   "cell_type": "code",
   "execution_count": null,
   "metadata": {},
   "outputs": [],
   "source": [
    "market.describe()"
   ]
  },
  {
   "cell_type": "markdown",
   "metadata": {},
   "source": [
    "По распределениям на нормальное похоже разве что распределение \"Ошибки сервиса\". У \"Акционных покупок\" две вершины - возможно проходили какие-то акции в период наблюдения.\\\n",
    "Описательная статистика тоже показывает, что у большинства признаков значительное стандартное отклонение."
   ]
  },
  {
   "cell_type": "code",
   "execution_count": null,
   "metadata": {
    "scrolled": true
   },
   "outputs": [],
   "source": [
    "col_boxplot = market.select_dtypes(include='number').columns.tolist()\n",
    "len(col_boxplot)"
   ]
  },
  {
   "cell_type": "code",
   "execution_count": null,
   "metadata": {},
   "outputs": [],
   "source": [
    "n=0\n",
    "plt.figure(figsize=(15,10))\n",
    "for col in col_boxplot:\n",
    "    m=n+1\n",
    "    plt.subplot(3, 3, m)\n",
    "    n=m\n",
    "    market.boxplot(col)"
   ]
  },
  {
   "cell_type": "code",
   "execution_count": null,
   "metadata": {},
   "outputs": [],
   "source": [
    "market.query('Маркет_актив_6_мес < 2')['id'].count()"
   ]
  },
  {
   "cell_type": "code",
   "execution_count": null,
   "metadata": {},
   "outputs": [],
   "source": [
    "market.query('Маркет_актив_тек_мес != 4')['id'].count()"
   ]
  },
  {
   "cell_type": "code",
   "execution_count": null,
   "metadata": {},
   "outputs": [],
   "source": [
    "market.query('Акционные_покупки > 0.5')['id'].count()"
   ]
  },
  {
   "cell_type": "code",
   "execution_count": null,
   "metadata": {},
   "outputs": [],
   "source": [
    "market.query('Неоплаченные_продукты_штук_квартал > 8')['id'].count()"
   ]
  },
  {
   "cell_type": "markdown",
   "metadata": {},
   "source": [
    "Видны выбросы в колонках Маркет_актив_6_мес, Маркет_актив_тек_мес, Акционные_покупки и Неоплаченные продукты штук квартал.\n",
    "Они не выглядят аномальными, поэтому думаю, что удалять или заменять их какими-то другими значениями не стоит."
   ]
  },
  {
   "cell_type": "markdown",
   "metadata": {},
   "source": [
    "### Исследовательский анализ данных второй таблицы *market_money*"
   ]
  },
  {
   "cell_type": "code",
   "execution_count": null,
   "metadata": {},
   "outputs": [],
   "source": [
    "market_money.head()"
   ]
  },
  {
   "cell_type": "code",
   "execution_count": null,
   "metadata": {},
   "outputs": [],
   "source": [
    "(market_money\n",
    " .pivot_table(index='Период', values='Выручка', aggfunc='mean')\n",
    " .plot(title='Средняя выручка за три последних месяца',\n",
    "       kind='bar',\n",
    "       ylim=(0, 5500),\n",
    "       legend=False,\n",
    "       figsize=(12, 5),\n",
    "       xlabel='')\n",
    ");"
   ]
  },
  {
   "cell_type": "markdown",
   "metadata": {},
   "source": [
    "Средняя выручка от одного клиента составляет около 5 тысяч рублей в месяц. Заметно, что в наблюдаемые три месяца она по немногу росла."
   ]
  },
  {
   "cell_type": "code",
   "execution_count": null,
   "metadata": {},
   "outputs": [],
   "source": [
    "market_money.groupby('Период')['Выручка'].sum()"
   ]
  },
  {
   "cell_type": "markdown",
   "metadata": {},
   "source": [
    "Общий объем выручки в текущем месяце тоже выше, чем в предыдущих."
   ]
  },
  {
   "cell_type": "code",
   "execution_count": null,
   "metadata": {},
   "outputs": [],
   "source": [
    "market_money_pivot2 = market_money.pivot_table(index='id', columns='Период', values='Выручка')\n",
    "plt.figure(figsize=(15,8))\n",
    "plt.subplot(1, 3, 1)\n",
    "market_money_pivot2.boxplot('предпредыдущий_месяц');\n",
    "plt.subplot(1, 3, 2)\n",
    "market_money_pivot2.boxplot('предыдущий_месяц');\n",
    "plt.subplot(1, 3, 3)\n",
    "market_money_pivot2.boxplot('текущий_месяц');"
   ]
  },
  {
   "cell_type": "code",
   "execution_count": null,
   "metadata": {},
   "outputs": [],
   "source": [
    "market_money_pivot2.hist(figsize=(15, 10), bins=40);"
   ]
  },
  {
   "cell_type": "markdown",
   "metadata": {},
   "source": [
    "Очень бросается в глаза выброс, который искажает и диаграмму рассеивания и гистограмму. От него явно стоит избавиться."
   ]
  },
  {
   "cell_type": "code",
   "execution_count": null,
   "metadata": {
    "scrolled": true
   },
   "outputs": [],
   "source": [
    "market_money_pivot2.query('текущий_месяц > 20000')"
   ]
  },
  {
   "cell_type": "code",
   "execution_count": null,
   "metadata": {},
   "outputs": [],
   "source": [
    "market_money = market_money.query('id != 215380')"
   ]
  },
  {
   "cell_type": "markdown",
   "metadata": {},
   "source": [
    "### Исследовательский анализ данных третьей таблицы *market_time*"
   ]
  },
  {
   "cell_type": "code",
   "execution_count": null,
   "metadata": {},
   "outputs": [],
   "source": [
    "market_time.head()"
   ]
  },
  {
   "cell_type": "code",
   "execution_count": null,
   "metadata": {},
   "outputs": [],
   "source": [
    "market_time.groupby('Период')['минут'].mean()"
   ]
  },
  {
   "cell_type": "markdown",
   "metadata": {},
   "source": [
    "Среднее время на сайте в текущем месяце составляет 13,2 минуты. Оно совсем немного, но снизилось по сравнению с предыдущим месяцем."
   ]
  },
  {
   "cell_type": "code",
   "execution_count": null,
   "metadata": {},
   "outputs": [],
   "source": [
    "market_time.groupby('Период')['минут'].hist(legend=True, alpha=0.6);"
   ]
  },
  {
   "cell_type": "markdown",
   "metadata": {},
   "source": [
    "В текущем месяце распределение проводимого на сайте времени выглядит нормальным. Больше всего клиентов проводили на сайте около 12,5 минут.\\\n",
    "А вот в прошлом месяце видно два пика. Возможно были какие-то рекламные компании, повлиявшие на время."
   ]
  },
  {
   "cell_type": "markdown",
   "metadata": {},
   "source": [
    "<font color='blue'><b>Комментарий ревьюера : </b></font> ✔️\\\n",
    "<font color='green'> 👍</font>"
   ]
  },
  {
   "cell_type": "markdown",
   "metadata": {},
   "source": [
    "### Исследовательский анализ данных четвертой таблицы *money*"
   ]
  },
  {
   "cell_type": "code",
   "execution_count": null,
   "metadata": {},
   "outputs": [],
   "source": [
    "money.head()"
   ]
  },
  {
   "cell_type": "code",
   "execution_count": null,
   "metadata": {},
   "outputs": [],
   "source": [
    "money['Прибыль'].describe()"
   ]
  },
  {
   "cell_type": "code",
   "execution_count": null,
   "metadata": {},
   "outputs": [],
   "source": [
    "money['Прибыль'].hist(bins=30);"
   ]
  },
  {
   "cell_type": "markdown",
   "metadata": {},
   "source": [
    "Показатель прибыли варьируется от примерно 1 до 7,4 процента. Средняя прибыль и мода близки и составляют почти 4%.\n",
    "Распеределение немного смещено вправо, но близко к нормальному."
   ]
  },
  {
   "cell_type": "markdown",
   "metadata": {},
   "source": [
    "### Отобор клиентов с покупательской активностью не менее трёх месяцев, то есть таких, которые что-либо покупали в этот период.\n",
    "Для этого возьму данные из таблицы *market_money*. Задание немного не ясно, но предположим, что нужны покупатели, которые совершали покупки в каждый из трех месяцев."
   ]
  },
  {
   "cell_type": "code",
   "execution_count": null,
   "metadata": {},
   "outputs": [],
   "source": [
    "market_money_pivot = market_money.pivot_table(index='id', columns='Период', values='Выручка').reset_index()\n",
    "market_money_pivot.head()"
   ]
  },
  {
   "cell_type": "code",
   "execution_count": null,
   "metadata": {},
   "outputs": [],
   "source": [
    "market_money_pivot_requested = market_money_pivot.loc[\n",
    "    (market_money_pivot['предпредыдущий_месяц']>0) & (market_money_pivot['предыдущий_месяц']>0)\n",
    "    & (market_money_pivot['текущий_месяц']>0)]\n",
    "\n",
    "market_money_pivot_requested['id'].count()"
   ]
  },
  {
   "cell_type": "code",
   "execution_count": null,
   "metadata": {},
   "outputs": [],
   "source": [
    "market_money_pivot.loc[\n",
    "    (market_money_pivot['предпредыдущий_месяц']==0) | (market_money_pivot['предыдущий_месяц']==0)\n",
    "    | (market_money_pivot['текущий_месяц']==0)]"
   ]
  },
  {
   "cell_type": "markdown",
   "metadata": {},
   "source": [
    "Получилось, что всего трое клиентов не подпадают под требование о трехмесячной активности. Сохраняю остальных в отдельный список."
   ]
  },
  {
   "cell_type": "code",
   "execution_count": null,
   "metadata": {},
   "outputs": [],
   "source": [
    "id_requested = market_money_pivot_requested['id']"
   ]
  },
  {
   "cell_type": "markdown",
   "metadata": {},
   "source": [
    "## Объединение таблиц\n",
    "4.1 Объедините таблицы market_file.csv, market_money.csv, market_time.csv. Данные о прибыли из файла money.csv при моделировании вам не понадобятся.\\\n",
    "4.2 Учитывайте, что данные о выручке и времени на сайте находятся в одном столбце для всех периодов. В итоговой таблице сделайте отдельный столбец для каждого периода.\n"
   ]
  },
  {
   "cell_type": "markdown",
   "metadata": {},
   "source": [
    "Сначала преобразую таблички, где в одном столбце данные по разным периодам, а затем уже объединю их в один датафрейм."
   ]
  },
  {
   "cell_type": "code",
   "execution_count": null,
   "metadata": {},
   "outputs": [],
   "source": [
    "market = market.set_index('id')"
   ]
  },
  {
   "cell_type": "code",
   "execution_count": null,
   "metadata": {},
   "outputs": [],
   "source": [
    "market_money_pivot_requested = market_money_pivot_requested.set_index('id')\n",
    "market_money_pivot_requested.columns = ['выручка_предпредыдущий_месяц', 'выручка_предыдущий_месяц', 'выручка_текущий_месяц']"
   ]
  },
  {
   "cell_type": "code",
   "execution_count": null,
   "metadata": {},
   "outputs": [],
   "source": [
    "market_money_pivot_requested.head()"
   ]
  },
  {
   "cell_type": "code",
   "execution_count": null,
   "metadata": {
    "scrolled": true
   },
   "outputs": [],
   "source": [
    "market_time_pivot = market_time.pivot_table(index='id', columns='Период', values='минут').reset_index().set_index('id')\n",
    "market_time_pivot.columns = ['минут_предыдущий_месяц', 'минут_текущий_месяц']"
   ]
  },
  {
   "cell_type": "code",
   "execution_count": null,
   "metadata": {},
   "outputs": [],
   "source": [
    "market_full = market.merge(market_money_pivot_requested, on = 'id')"
   ]
  },
  {
   "cell_type": "code",
   "execution_count": null,
   "metadata": {},
   "outputs": [],
   "source": [
    "market_full = market_full.merge(market_time_pivot, on = 'id')"
   ]
  },
  {
   "cell_type": "code",
   "execution_count": null,
   "metadata": {},
   "outputs": [],
   "source": [
    "market_full.head()"
   ]
  },
  {
   "cell_type": "code",
   "execution_count": null,
   "metadata": {
    "scrolled": true
   },
   "outputs": [],
   "source": [
    "market_full.info()"
   ]
  },
  {
   "cell_type": "markdown",
   "metadata": {},
   "source": [
    "Все соединилось корректно, сохранились данные всех 1297 клиентов."
   ]
  },
  {
   "cell_type": "markdown",
   "metadata": {},
   "source": [
    "## Корреляционный анализ\n",
    "Корреляционный анализ признаков в количественной шкале в итоговой таблице для моделирования. Сделайте выводы о мультиколлинеарности и при необходимости устраните её.\n"
   ]
  },
  {
   "cell_type": "markdown",
   "metadata": {},
   "source": [
    "Для анализа корреляции между признаками построю матрицу корреляции и тепловую карту"
   ]
  },
  {
   "cell_type": "code",
   "execution_count": null,
   "metadata": {},
   "outputs": [],
   "source": [
    "market_full.info()"
   ]
  },
  {
   "cell_type": "code",
   "execution_count": null,
   "metadata": {},
   "outputs": [],
   "source": [
    "phik_overview = market_full.phik_matrix(\n",
    "    interval_cols=['Длительность', 'выручка_предпредыдущий_месяц', 'выручка_предыдущий_месяц', 'выручка_текущий_месяц', 'Прибыль'])\n",
    "plot_correlation_matrix(\n",
    "    phik_overview.values,\n",
    "    x_labels=phik_overview.columns,\n",
    "    y_labels=phik_overview.index,\n",
    "    vmin=0, vmax=1, color_map='Blues',\n",
    "    title=r'correlation $\\phi_K$',\n",
    "    fontsize_factor=1.5,\n",
    "    figsize=(20, 15)\n",
    ") "
   ]
  },
  {
   "cell_type": "markdown",
   "metadata": {},
   "source": [
    "<font color='purple'><b>Строю графики scatter_plot для всех признаков (каждый по каждому)</b></font>"
   ]
  },
  {
   "cell_type": "code",
   "execution_count": null,
   "metadata": {},
   "outputs": [],
   "source": [
    "features = [\n",
    " 'Тип сервиса',\n",
    " 'Разрешить сообщать',\n",
    " 'Маркет_актив_6_мес',\n",
    " 'Маркет_актив_тек_мес',\n",
    " 'Длительность',\n",
    " 'Акционные_покупки',\n",
    " 'Популярная_категория',\n",
    " 'Средний_просмотр_категорий_за_визит',\n",
    " 'Неоплаченные_продукты_штук_квартал',\n",
    " 'Ошибка_сервиса',\n",
    " 'Страниц_за_визит',\n",
    " 'выручка_предпредыдущий_месяц',\n",
    " 'выручка_предыдущий_месяц',\n",
    " 'выручка_текущий_месяц',\n",
    " 'минут_предыдущий_месяц',\n",
    " 'минут_текущий_месяц']"
   ]
  },
  {
   "cell_type": "code",
   "execution_count": null,
   "metadata": {},
   "outputs": [],
   "source": [
    "n=0\n",
    "plt.figure(figsize=(15, 900))\n",
    "for i in features:\n",
    "    for j in features:\n",
    "        m=n+1\n",
    "        plt.subplot(300, 1, m)\n",
    "        n=m\n",
    "        sns.scatterplot(data=market_full, x=i, y=j, hue='Покупательская активность', palette=\"deep\")"
   ]
  },
  {
   "cell_type": "markdown",
   "metadata": {},
   "source": [
    "Сильнее  всего \"Покупательская активность\" коррелирует с фактором \"Страниц за визит\" (среднее количество страниц, посещаемых при визите на сайт, за период 3 месяца) и <font color='purple'><b>Акионными покупками</b></font>. Также видна связь с минутами, проведенными на сайте, и активностью маркетологов за последние 6 месяцев и средним просмотром категорий за визит.\\\n",
    "<font color='purple'><b>Стали заметны связь между выручками в текущем и предыдущем месяце, а также активностью маркетологов за 6 месяцев и акционными покупками. Возможно, стоит удалить столбец с выручкой за текущий месяц и столбец с активностью маркетологов из-за мультиколлинеарности. Кроме того, выручка за текущий месяц может быть расчитана не совсем корректно, если месяц еще не закончился.</b></font>"
   ]
  },
  {
   "cell_type": "markdown",
   "metadata": {},
   "source": [
    "## Использование пайплайнов"
   ]
  },
  {
   "cell_type": "markdown",
   "metadata": {},
   "source": [
    "6.1 Во время подготовки данных используйте ColumnTransformer. Количественные и категориальные признаки обработайте в пайплайне раздельно. Для кодирования категориальных признаков используйте как минимум два кодировщика, для масштабирования количественных — как минимум два скейлера.\\\n",
    "Напоминаем, что для каждой модели можно подготовить данные с разным кодированием и масштабированием.\\\n",
    "6.2 Обучите четыре модели: KNeighborsClassifier(), DecisionTreeClassifier(), LogisticRegression() и  SVC(). Для каждой из них подберите как минимум один гиперпараметр. Выберите подходящую для задачи метрику, аргументируйте свой выбор. Используйте эту метрику при подборе гиперпараметров.\\\n",
    "6.3 Выберите лучшую модель, используя заданную метрику. Для этого примените одну из стратегий:\\\n",
    "использовать пайплайны и инструменты подбора гиперпараметров для каждой модели отдельно, чтобы выбрать лучшую модель самостоятельно;\\\n",
    "использовать один общий пайплайн для всех моделей и инструмент подбора гиперпараметров, который вернёт вам лучшую модель."
   ]
  },
  {
   "cell_type": "markdown",
   "metadata": {},
   "source": [
    "**Буду использовать один общий пайплайн для выполнения задания**\n",
    "\n"
   ]
  },
  {
   "cell_type": "code",
   "execution_count": null,
   "metadata": {},
   "outputs": [],
   "source": [
    "market_full.info()"
   ]
  },
  {
   "cell_type": "code",
   "execution_count": null,
   "metadata": {},
   "outputs": [],
   "source": [
    "TEST_SIZE=0.25\n",
    "RANDOM_STATE=24\n",
    "\n",
    "#разбиваю данные на тренировочную и тостовую выборки, указываяя целевой признак для стратификации\n",
    "X_train, X_test, y_train, y_test = train_test_split(\n",
    "    market_full.drop(['Покупательская активность'], axis=1),\n",
    "    market_full['Покупательская активность'],\n",
    "    test_size = TEST_SIZE, \n",
    "    random_state = RANDOM_STATE,\n",
    "    stratify = market_full['Покупательская активность'])"
   ]
  },
  {
   "cell_type": "code",
   "execution_count": null,
   "metadata": {},
   "outputs": [],
   "source": [
    "#выбираю колонки с категориальными признаками и напоминаю себе какие варианты значений они содержат \n",
    "cat_col_names = X_train.select_dtypes(exclude='number').columns.tolist()\n",
    "for i in cat_col_names:\n",
    "    print(i, X_train[i].unique().tolist())\n",
    "    print()"
   ]
  },
  {
   "cell_type": "markdown",
   "metadata": {},
   "source": [
    "Для признаков \"Тип сервиса\" и \"Разрешить сообщать\" определю кодирование OHE, а вот для \"Популярной категории\" выберу OrdinalEncoder чтобы не множить признаки."
   ]
  },
  {
   "cell_type": "code",
   "execution_count": null,
   "metadata": {},
   "outputs": [],
   "source": [
    "ohe_columns = ['Тип сервиса', 'Разрешить сообщать']\n",
    "ord_columns = ['Популярная_категория']"
   ]
  },
  {
   "cell_type": "markdown",
   "metadata": {},
   "source": [
    "<font color='blue'><b>Комментарий ревьюера : </b></font> ✔️\\\n",
    "<font color='green'> Отлично, что разделяешь категории на порядковые и номинальные.</font>"
   ]
  },
  {
   "cell_type": "code",
   "execution_count": null,
   "metadata": {},
   "outputs": [],
   "source": [
    "num_columns = X_train.select_dtypes(include='number').columns.tolist()\n",
    "num_columns"
   ]
  },
  {
   "cell_type": "code",
   "execution_count": null,
   "metadata": {},
   "outputs": [],
   "source": [
    "# Пайплайн для подготовки признаков из списка ohe_columns\n",
    "ohe_pipe = Pipeline(\n",
    "    [\n",
    "        ('simpleImputer_ohe', SimpleImputer(missing_values=np.nan, strategy='most_frequent')),\n",
    "        ('ohe', OneHotEncoder(drop='first', handle_unknown='error', sparse=False))\n",
    "    ]\n",
    " )"
   ]
  },
  {
   "cell_type": "markdown",
   "metadata": {},
   "source": [
    "В пайплайне выше я заменила значение handle_unknown с ignor на error, т.к. на шаге GridSearchCV что-то шло не так... Если честно, то не поняла причину."
   ]
  },
  {
   "cell_type": "code",
   "execution_count": null,
   "metadata": {},
   "outputs": [],
   "source": [
    "# Ппайплайн для подготовки признаков ord_columns:\n",
    "ord_pipe = Pipeline(\n",
    "    [\n",
    "        ('simpleImputer_before_ord', SimpleImputer(missing_values=np.nan, strategy='most_frequent')),\n",
    "        ('ord',  OrdinalEncoder(handle_unknown='use_encoded_value', unknown_value=np.nan)),\n",
    "        ('simpleImputer_after_ord', SimpleImputer(missing_values=np.nan, strategy='most_frequent'))\n",
    "    ]\n",
    ")"
   ]
  },
  {
   "cell_type": "code",
   "execution_count": null,
   "metadata": {},
   "outputs": [],
   "source": [
    "# общий пайплайн для подготовки данных\n",
    "data_preprocessor = ColumnTransformer(\n",
    "    [\n",
    "        ('ohe', ohe_pipe, ohe_columns),\n",
    "        ('ord', ord_pipe, ord_columns),\n",
    "        ('num', StandardScaler(), num_columns)    \n",
    "    ], \n",
    "    remainder =  'passthrough'\n",
    ")"
   ]
  },
  {
   "cell_type": "code",
   "execution_count": null,
   "metadata": {},
   "outputs": [],
   "source": [
    "# итоговый пайплайн для подготовки данных\n",
    "final_pipeline = Pipeline(\n",
    "    [\n",
    "        ('preprocessor', data_preprocessor),\n",
    "        ('models', KNeighborsClassifier())\n",
    "    ]\n",
    ")"
   ]
  },
  {
   "cell_type": "code",
   "execution_count": null,
   "metadata": {},
   "outputs": [],
   "source": [
    "#создаю словарь гиперпараметров\n",
    "param_grid = [\n",
    "    # словарь для модели DecisionTreeClassifier()\n",
    "    {\n",
    "        'models': [DecisionTreeClassifier(random_state=RANDOM_STATE)],\n",
    "        'models__max_depth': range(2, 4),\n",
    "        'models__max_features': range(2, 4),\n",
    "        'preprocessor__num': [StandardScaler(), MinMaxScaler(), 'passthrough']  \n",
    "    },\n",
    "    # словарь для модели KNeighborsClassifier() \n",
    "    {\n",
    "        'models': [KNeighborsClassifier()],\n",
    "        'models__n_neighbors': range(2, 4),\n",
    "        'preprocessor__num': [StandardScaler(), MinMaxScaler(), 'passthrough']   \n",
    "    },\n",
    "    # словарь для модели LogisticRegression()\n",
    "    {\n",
    "        'models': [LogisticRegression(\n",
    "            random_state=RANDOM_STATE, \n",
    "            solver='liblinear', \n",
    "            penalty='l1'\n",
    "        )],\n",
    "        'models__C': range(1, 4),\n",
    "        'preprocessor__num': [StandardScaler(), MinMaxScaler(), 'passthrough']  \n",
    "    },\n",
    "    # словарь для модели SVC()\n",
    "    {\n",
    "        'models': [SVC(random_state=RANDOM_STATE, probability= True)],\n",
    "        'models__kernel': ['linear', 'sigmoid', 'rbf'],\n",
    "        'preprocessor__num': [StandardScaler(), MinMaxScaler(), 'passthrough']  \n",
    "\n",
    "    }\n",
    "]"
   ]
  },
  {
   "cell_type": "code",
   "execution_count": null,
   "metadata": {
    "scrolled": true
   },
   "outputs": [],
   "source": [
    "grid = GridSearchCV(\n",
    "    final_pipeline, \n",
    "    param_grid=param_grid, \n",
    "    cv=5,\n",
    "    scoring='roc_auc',\n",
    "    error_score='raise',\n",
    "    n_jobs=-1\n",
    ")\n",
    "grid.fit(X_train, y_train)"
   ]
  },
  {
   "cell_type": "code",
   "execution_count": null,
   "metadata": {},
   "outputs": [],
   "source": [
    "grid.best_estimator_"
   ]
  },
  {
   "cell_type": "code",
   "execution_count": null,
   "metadata": {},
   "outputs": [],
   "source": [
    "grid.best_params_, grid.best_score_"
   ]
  },
  {
   "cell_type": "markdown",
   "metadata": {},
   "source": [
    "Победил метод опорных векторов и StandardScaler."
   ]
  },
  {
   "cell_type": "code",
   "execution_count": null,
   "metadata": {},
   "outputs": [],
   "source": [
    "proba = grid.predict_proba(X_test)[:, 1]\n",
    "print('Площадь ROC-кривой:', roc_auc_score(y_test, proba))"
   ]
  },
  {
   "cell_type": "markdown",
   "metadata": {},
   "source": [
    "## Анализ важности признаков\n",
    "7.1 Оцените важность признаков для лучшей модели и постройте график важности с помощью метода SHAP.\\\n",
    "7.2 Сделайте выводы о значимости признаков:\n",
    "какие признаки мало значимы для модели;\n",
    "какие признаки сильнее всего влияют на целевой признак;\n",
    "как можно использовать эти наблюдения при моделировании и принятии бизнес-решений.\n"
   ]
  },
  {
   "cell_type": "markdown",
   "metadata": {},
   "source": [
    "Для начала провожу предобработку данных, согласно выданным пайплайном лучшим параметрам. \n",
    "Сначала пыталась воспользоваться пайплайном data_preprocessor, но не смогла сделать это корректно, поэтому решила вручную пройти шаги кодирований OHE, ORD и стандартизации посредтсвом StandardScaler."
   ]
  },
  {
   "cell_type": "code",
   "execution_count": null,
   "metadata": {},
   "outputs": [],
   "source": [
    "ohe_encoder = OneHotEncoder(drop='first', sparse=False)\n",
    "\n",
    "X_train_ohe = ohe_encoder.fit_transform(X_train[ohe_columns])\n",
    "\n",
    "ohe_encoder_col_names = ohe_encoder.get_feature_names()\n",
    "\n",
    "X_train_ohe_df = pd.DataFrame(X_train_ohe, columns=ohe_encoder_col_names)\n",
    "\n",
    "print(X_train_ohe_df.head(5))\n"
   ]
  },
  {
   "cell_type": "code",
   "execution_count": null,
   "metadata": {},
   "outputs": [],
   "source": [
    "X_test_ohe = ohe_encoder.transform(X_test[ohe_columns])\n",
    "X_test_ohe_df = pd.DataFrame(X_test_ohe, columns=ohe_encoder_col_names)"
   ]
  },
  {
   "cell_type": "code",
   "execution_count": null,
   "metadata": {},
   "outputs": [],
   "source": [
    "ord_encoder = OrdinalEncoder(handle_unknown='use_encoded_value', unknown_value=np.nan)\n",
    "\n",
    "X_train_ord = ord_encoder.fit_transform(X_train[ord_columns])\n",
    "\n",
    "X_train_ord_df = pd.DataFrame(X_train_ord, columns=ord_columns)\n",
    "\n",
    "print(X_train_ord_df.head(5))"
   ]
  },
  {
   "cell_type": "code",
   "execution_count": null,
   "metadata": {},
   "outputs": [],
   "source": [
    "X_test_ord = ord_encoder.transform(X_test[ord_columns])\n",
    "X_test_ord_df = pd.DataFrame(X_test_ord, columns=ord_columns)"
   ]
  },
  {
   "cell_type": "code",
   "execution_count": null,
   "metadata": {},
   "outputs": [],
   "source": [
    "scaler=StandardScaler()\n",
    "X_train_scaled=scaler.fit_transform(X_train[num_columns])\n",
    "X_train_scaled_df=pd.DataFrame(X_train_scaled, columns=num_columns)\n",
    "X_train_scaled_df.head()"
   ]
  },
  {
   "cell_type": "code",
   "execution_count": null,
   "metadata": {
    "scrolled": true
   },
   "outputs": [],
   "source": [
    "X_test_scaled=scaler.transform(X_test[num_columns])\n",
    "X_test_scaled_df=pd.DataFrame(X_test_scaled, columns=num_columns)\n",
    "X_test_scaled_df.head()"
   ]
  },
  {
   "cell_type": "markdown",
   "metadata": {},
   "source": [
    "Получив всю эту красоту осознала, в чем была моя ошибка. Для практики и чтобы не склеивать куски Х проделала то же самое всё-таки пайпланом data_preprocessor:"
   ]
  },
  {
   "cell_type": "code",
   "execution_count": null,
   "metadata": {},
   "outputs": [],
   "source": [
    "fine_X_train = data_preprocessor.fit_transform(X_train)"
   ]
  },
  {
   "cell_type": "code",
   "execution_count": null,
   "metadata": {},
   "outputs": [],
   "source": [
    "list(ohe_columns), list(ord_columns), list(num_columns)"
   ]
  },
  {
   "cell_type": "code",
   "execution_count": null,
   "metadata": {},
   "outputs": [],
   "source": [
    "fine_X_train_df = pd.DataFrame(fine_X_train, columns = ['Тип сервиса', 'Разрешить сообщать', 'Популярная_категория', 'Маркет_актив_6_мес',\n",
    "  'Маркет_актив_тек_мес',\n",
    "  'Длительность',\n",
    "  'Акционные_покупки',\n",
    "  'Средний_просмотр_категорий_за_визит',\n",
    "  'Неоплаченные_продукты_штук_квартал',\n",
    "  'Ошибка_сервиса',\n",
    "  'Страниц_за_визит',\n",
    "  'выручка_предпредыдущий_месяц',\n",
    "  'выручка_предыдущий_месяц',\n",
    "  'выручка_текущий_месяц',\n",
    "  'минут_предыдущий_месяц',\n",
    "  'минут_текущий_месяц'])"
   ]
  },
  {
   "cell_type": "code",
   "execution_count": null,
   "metadata": {
    "scrolled": true
   },
   "outputs": [],
   "source": [
    "fine_X_train_df.head()"
   ]
  },
  {
   "cell_type": "code",
   "execution_count": null,
   "metadata": {},
   "outputs": [],
   "source": [
    "fine_X_test = data_preprocessor.transform(X_test)\n",
    "fine_X_test_df = pd.DataFrame(fine_X_test, columns = ['Тип сервиса', 'Разрешить сообщать', 'Популярная_категория', 'Маркет_актив_6_мес',\n",
    "  'Маркет_актив_тек_мес',\n",
    "  'Длительность',\n",
    "  'Акционные_покупки',\n",
    "  'Средний_просмотр_категорий_за_визит',\n",
    "  'Неоплаченные_продукты_штук_квартал',\n",
    "  'Ошибка_сервиса',\n",
    "  'Страниц_за_визит',\n",
    "  'выручка_предпредыдущий_месяц',\n",
    "  'выручка_предыдущий_месяц',\n",
    "  'выручка_текущий_месяц',\n",
    "  'минут_предыдущий_месяц',\n",
    "  'минут_текущий_месяц'])\n",
    "fine_X_test_df.head()"
   ]
  },
  {
   "cell_type": "markdown",
   "metadata": {},
   "source": [
    "Упорно пыталась проделать задание с победившей моделью, но ядро rbf не поддалось...\n",
    "Обучаю модель с kernel='linear' вместо этого:"
   ]
  },
  {
   "cell_type": "code",
   "execution_count": null,
   "metadata": {},
   "outputs": [],
   "source": [
    "model = SVC(random_state=RANDOM_STATE, kernel='linear', probability=True)\n",
    "model.fit(fine_X_train, y_train)"
   ]
  },
  {
   "cell_type": "markdown",
   "metadata": {},
   "source": [
    "Далее провожу анализ SHAP-значений, рисую диаграммы shap.plots.beeswarm и shap.plots.waterfall."
   ]
  },
  {
   "cell_type": "code",
   "execution_count": null,
   "metadata": {},
   "outputs": [],
   "source": [
    "explainer = shap.Explainer(model, fine_X_train)"
   ]
  },
  {
   "cell_type": "code",
   "execution_count": null,
   "metadata": {},
   "outputs": [],
   "source": [
    "shap_values = explainer(fine_X_train_df)"
   ]
  },
  {
   "cell_type": "code",
   "execution_count": null,
   "metadata": {},
   "outputs": [],
   "source": [
    "fine_X_train_df.shape"
   ]
  },
  {
   "cell_type": "code",
   "execution_count": null,
   "metadata": {},
   "outputs": [],
   "source": [
    "shap.plots.beeswarm(shap_values, max_display=16) "
   ]
  },
  {
   "cell_type": "code",
   "execution_count": null,
   "metadata": {},
   "outputs": [],
   "source": [
    "shap.plots.bar(shap_values, max_display=16) "
   ]
  },
  {
   "cell_type": "markdown",
   "metadata": {},
   "source": [
    "Столбчатая диаграмма показывает общий вклад признаков в прогнозы модели. Признак \"Страниц за визит\" сильнее всего влияет на прогнозы модели. Далее идут минуты на сайте в предыдущем и текущем месяцах, на четвертом месте с небольшим отрывом \"Акционные покупки\"."
   ]
  },
  {
   "cell_type": "markdown",
   "metadata": {},
   "source": [
    "##  Сегментация покупателей\n",
    "8.1 Выполните сегментацию покупателей. Используйте результаты моделирования и данные о прибыльности покупателей.\\\n",
    "8.2 Выберите группу покупателей и предложите, как увеличить её покупательскую активность: \n",
    "Проведите графическое и аналитическое исследование группы покупателей.\n",
    "Сделайте предложения по работе с сегментом для увеличения покупательской активности.\\\n",
    "8.3 Сделайте выводы о сегментах:\n",
    "какой сегмент вы взяли для дополнительного исследования,\n",
    "какие предложения вы сделали и почему.\n"
   ]
  },
  {
   "cell_type": "markdown",
   "metadata": {},
   "source": [
    "По заданию в исследование нужно включить дополнительные данные финансового департамента о прибыльности клиента: какой доход каждый покупатель приносил компании за последние три месяца.\\\n",
    "~~Для этого дополню данные market_full. Сначала добавлю столбец с \"Прибылью\", а затем расчитаю \"Доход\", умножив прибыль на сумму выручки.~~"
   ]
  },
  {
   "cell_type": "code",
   "execution_count": null,
   "metadata": {},
   "outputs": [],
   "source": [
    "market_full = market_full.merge(money, on = 'id')"
   ]
  },
  {
   "cell_type": "markdown",
   "metadata": {},
   "source": [
    "<font color='purple'><b>Ниже меняю расчет дохода:</b></font>"
   ]
  },
  {
   "cell_type": "code",
   "execution_count": null,
   "metadata": {
    "scrolled": true
   },
   "outputs": [],
   "source": [
    "# убираю расчеты столбца доход и принимаю в качестве дохода выручку за три месяца\n",
    "market_full['Доход'] = market_full['выручка_предпредыдущий_месяц']+market_full['выручка_предыдущий_месяц']+market_full['минут_текущий_месяц']"
   ]
  },
  {
   "cell_type": "code",
   "execution_count": null,
   "metadata": {
    "scrolled": true
   },
   "outputs": [],
   "source": [
    "market_full.head()"
   ]
  },
  {
   "cell_type": "code",
   "execution_count": null,
   "metadata": {},
   "outputs": [],
   "source": [
    "market_full['Доход'].describe()"
   ]
  },
  {
   "cell_type": "markdown",
   "metadata": {},
   "source": [
    "~~Клиент приносит в среднем примерно 60 000 за три месяца.~~\n",
    "После перерасчета дохода с новым подходом получается, что в среднем клиент приносит примерно 9 800 рублей. Мода близка в средней, далее проверяю на наличие выбросов."
   ]
  },
  {
   "cell_type": "code",
   "execution_count": null,
   "metadata": {},
   "outputs": [],
   "source": [
    "market_full.boxplot('Доход');"
   ]
  },
  {
   "cell_type": "markdown",
   "metadata": {},
   "source": [
    "Есть явные выбросы."
   ]
  },
  {
   "cell_type": "code",
   "execution_count": null,
   "metadata": {},
   "outputs": [],
   "source": [
    "market_full['Доход'].hist(bins=50);"
   ]
  },
  {
   "cell_type": "code",
   "execution_count": null,
   "metadata": {},
   "outputs": [],
   "source": [
    "market_full.query('Доход < 100000')['Доход'].hist(bins=30);"
   ]
  },
  {
   "cell_type": "markdown",
   "metadata": {},
   "source": [
    "<font color='purple'><b>Далее ориентируясь на полученный ящик с усами и гистограмму для работы беру только покупателей с суммарной выручкой в пределах 7500-11800 рублей.</b></font>"
   ]
  },
  {
   "cell_type": "code",
   "execution_count": null,
   "metadata": {},
   "outputs": [],
   "source": [
    "market_full_norm=market_full.query('Доход < 11800')\n",
    "market_full_norm=market_full_norm.query('Доход > 7500')\n",
    "market_full_norm['Доход'].describe()"
   ]
  },
  {
   "cell_type": "markdown",
   "metadata": {},
   "source": [
    "~~Даже если отбросить покупателей, которые принесли магазину сверхдоходы по сравнению с остальными клиентами, то средняя всё равно остается на уровне около 60 000 рублей, как и медиана.~~\\\n",
    "Можно еще взглянуть на гистограмму с группировкой по покупательской активности."
   ]
  },
  {
   "cell_type": "code",
   "execution_count": null,
   "metadata": {
    "scrolled": true
   },
   "outputs": [],
   "source": [
    "market_full_norm.groupby('Покупательская активность')['Доход'].hist(bins=50, legend=True, alpha=0.6, density=True);"
   ]
  },
  {
   "cell_type": "markdown",
   "metadata": {},
   "source": [
    "~~Разделю покупателей на несколько категорий, исходя из принесенного ими дохода.\\\n",
    "<font color='purple'><b>Меняю сегменты в связи с перерасчетом столбца \"Доход\".</b></font> ~~"
   ]
  },
  {
   "cell_type": "markdown",
   "metadata": {},
   "source": [
    "<font color='purple'><b>Чувствовала, что что-то не так в моих мыслях... И вот! Нашла в инстукции примеры сегментирования покупателей, которые привязаны не только к доходу... Моя зацикленность на сегментации по доходу, наверное, была связана с тем, что я финансист...</b></font>"
   ]
  },
  {
   "cell_type": "code",
   "execution_count": null,
   "metadata": {},
   "outputs": [],
   "source": [
    "#беру тестовую выборку и добавляю столбец с вероятностями снижения покупательской активности\n",
    "proba = grid.predict_proba(X_test)[:, 1]\n",
    "X_test['Вероятность']= proba"
   ]
  },
  {
   "cell_type": "code",
   "execution_count": null,
   "metadata": {
    "scrolled": true
   },
   "outputs": [],
   "source": [
    "#строю гистограмму, чтобы посмотреть на распределение\n",
    "X_test['Вероятность'].hist();"
   ]
  },
  {
   "cell_type": "markdown",
   "metadata": {},
   "source": [
    "Очень хорошо заметно, что есть группы с большей и меньшей вероятностью снижения покупательской активности. Для анализа выберу группу покупателей, у которой вероятность снижения покуптельской активности свыше 0,9."
   ]
  },
  {
   "cell_type": "code",
   "execution_count": null,
   "metadata": {},
   "outputs": [],
   "source": [
    "my_target_segment = X_test[X_test['Вероятность']>0.9]"
   ]
  },
  {
   "cell_type": "code",
   "execution_count": null,
   "metadata": {},
   "outputs": [],
   "source": [
    "my_target_segment.shape"
   ]
  },
  {
   "cell_type": "code",
   "execution_count": null,
   "metadata": {},
   "outputs": [],
   "source": [
    "my_target_segment['Популярная_категория'].value_counts().sort_values().plot.barh()\n",
    "plt.title('Популярная категория', size=\"xx-large\")\n",
    "plt.xlabel(\"Количество покупателей\");"
   ]
  },
  {
   "cell_type": "markdown",
   "metadata": {},
   "source": [
    "Количество клиентов с высокой вероятностью снижения покупательской активности составила 82 человека. Их любимая категория - это товары для детей. На втором месте \"косметика и аксесуары\" и \"домашний текстиль\"."
   ]
  },
  {
   "cell_type": "markdown",
   "metadata": {},
   "source": [
    "Для данного сегмента покупателей можно попробовать повысить количество страниц просматриваемых на сайте и увеличить количество минут, то есть нужно заинтересовать их интересными предложениями об их самых популярных категориях - Товары для детей, Косметика и аксесуары или Домашний текстиль, внимание к которым бы побуждало их больше времени проводить на сайте."
   ]
  },
  {
   "cell_type": "markdown",
   "metadata": {},
   "source": [
    "## Общий вывод"
   ]
  },
  {
   "cell_type": "markdown",
   "metadata": {},
   "source": [
    "В целях удержания и увеличения покупательской активности клиентов своего интернет-магазин «В один клик» Заказчик решил персонализировать предложения постоянным клиентам.\\\n",
    "Для этого было проеведена разработка решения для персонализации, включающая следующее:\\\n",
    "1. Построена модель, предсказывающая вероятность снижения покупательской активности клиента в следующие три месяца.\n",
    "2. Было проведено исследование дополнительных данных финансового департамента о прибыльности клиента: расчитан доход принесенный каждым покупателем компании за последние три месяца, а также суммарные выручка и доход.\n",
    "3. С использованием данныых модели и данных о прибыльности клиентов выделены четыре сегмента покупателей и рекомендованы варианты разработки предложений для одного из них.\n",
    "\n",
    "Для построения модели бьла проведена предобработка и исследовательский анализ данных, полученных от Заказчика. Затем данные были объединены в один общий дата фрейм.\\\n",
    "Был проведен корреляционный анализ всех признаков, который показал связь между целевым признаком \"Покупательская активность\" с фактором \"Страниц за визит\" (среднее количество страниц, посещаемых при визите на сайт, за период 3 месяца), а также с минутами, проведенными на сайте, активностью маркетологов за последние 6 месяцев и средним просмотром категорий за визит.\\\n",
    "Для выбора лучшего варианта предподготовки данных, подбора модели и ее лучших гиперпараметров использовался пайплайн, подобравший в качестве лучших SVC(\"kernel': 'rbf') и StandardScaler().\\\n",
    "Был проведен анализ важности признаков модели, который показал, что признак \"Страниц за визит\" сильнее всего влияет на прогнозы модели, далее идут минуты на сайте в предыдущем и текущем месяцах, а затем \"Акционные покупки\".\\\n",
    "Заказчику даны рекомендации для одного из мегментов покупателей: повысить количество страниц просматриваемых на сайте и увеличить количество минут, то есть нужно заинтересовать их интересными предложениями об их самых популярных категориях - товары для детей или домашний текстиль, внимание к которым бы побуждало их больше времени проводить на сайте."
   ]
  }
 ],
 "metadata": {
  "ExecuteTimeLog": [
   {
    "duration": 51,
    "start_time": "2024-01-20T16:07:37.836Z"
   },
   {
    "duration": 5018,
    "start_time": "2024-01-20T16:07:52.335Z"
   },
   {
    "duration": 96,
    "start_time": "2024-01-20T16:08:00.859Z"
   },
   {
    "duration": 44,
    "start_time": "2024-01-21T11:50:00.353Z"
   },
   {
    "duration": 4599,
    "start_time": "2024-01-21T11:50:15.298Z"
   },
   {
    "duration": 88,
    "start_time": "2024-01-21T11:50:19.899Z"
   },
   {
    "duration": 64,
    "start_time": "2024-01-21T11:50:19.989Z"
   },
   {
    "duration": 93,
    "start_time": "2024-01-21T11:50:20.055Z"
   },
   {
    "duration": 63,
    "start_time": "2024-01-21T11:50:20.150Z"
   },
   {
    "duration": 46,
    "start_time": "2024-01-21T11:51:28.516Z"
   },
   {
    "duration": 47,
    "start_time": "2024-01-21T11:52:00.826Z"
   },
   {
    "duration": 108,
    "start_time": "2024-01-21T12:19:16.626Z"
   },
   {
    "duration": 8,
    "start_time": "2024-01-21T12:19:22.815Z"
   },
   {
    "duration": 17,
    "start_time": "2024-01-21T12:19:35.225Z"
   },
   {
    "duration": 15,
    "start_time": "2024-01-21T12:20:11.194Z"
   },
   {
    "duration": 15,
    "start_time": "2024-01-21T12:20:39.858Z"
   },
   {
    "duration": 10,
    "start_time": "2024-01-21T12:32:16.855Z"
   },
   {
    "duration": 5,
    "start_time": "2024-01-21T12:37:51.603Z"
   },
   {
    "duration": 12,
    "start_time": "2024-01-21T12:37:54.026Z"
   },
   {
    "duration": 27,
    "start_time": "2024-01-21T12:40:22.601Z"
   },
   {
    "duration": 7,
    "start_time": "2024-01-21T12:42:50.779Z"
   },
   {
    "duration": 5,
    "start_time": "2024-01-21T12:45:35.946Z"
   },
   {
    "duration": 6,
    "start_time": "2024-01-21T12:48:01.462Z"
   },
   {
    "duration": 6,
    "start_time": "2024-01-21T12:48:53.872Z"
   },
   {
    "duration": 4,
    "start_time": "2024-01-21T12:49:53.712Z"
   },
   {
    "duration": 5,
    "start_time": "2024-01-21T12:49:55.839Z"
   },
   {
    "duration": 7,
    "start_time": "2024-01-21T12:53:07.088Z"
   },
   {
    "duration": 41,
    "start_time": "2024-01-21T12:58:09.987Z"
   },
   {
    "duration": 8,
    "start_time": "2024-01-21T14:38:16.254Z"
   },
   {
    "duration": 83,
    "start_time": "2024-01-21T15:14:57.294Z"
   },
   {
    "duration": 497,
    "start_time": "2024-01-21T15:15:01.856Z"
   },
   {
    "duration": 1175,
    "start_time": "2024-01-21T15:15:49.285Z"
   },
   {
    "duration": 1021,
    "start_time": "2024-01-21T15:18:18.198Z"
   },
   {
    "duration": 824,
    "start_time": "2024-01-21T15:18:38.686Z"
   },
   {
    "duration": 1034,
    "start_time": "2024-01-21T15:18:51.673Z"
   },
   {
    "duration": 44,
    "start_time": "2024-01-26T15:39:29.591Z"
   },
   {
    "duration": 4705,
    "start_time": "2024-01-26T15:39:36.592Z"
   },
   {
    "duration": 89,
    "start_time": "2024-01-26T15:39:41.299Z"
   },
   {
    "duration": 64,
    "start_time": "2024-01-26T15:39:41.389Z"
   },
   {
    "duration": 96,
    "start_time": "2024-01-26T15:39:41.454Z"
   },
   {
    "duration": 62,
    "start_time": "2024-01-26T15:39:41.552Z"
   },
   {
    "duration": 9,
    "start_time": "2024-01-26T15:39:41.615Z"
   },
   {
    "duration": 46,
    "start_time": "2024-01-26T15:39:41.625Z"
   },
   {
    "duration": 145,
    "start_time": "2024-01-26T15:39:41.672Z"
   },
   {
    "duration": 0,
    "start_time": "2024-01-26T15:39:41.818Z"
   },
   {
    "duration": 0,
    "start_time": "2024-01-26T15:39:41.819Z"
   },
   {
    "duration": 0,
    "start_time": "2024-01-26T15:39:41.821Z"
   },
   {
    "duration": 0,
    "start_time": "2024-01-26T15:39:41.822Z"
   },
   {
    "duration": 0,
    "start_time": "2024-01-26T15:39:41.823Z"
   },
   {
    "duration": 0,
    "start_time": "2024-01-26T15:39:41.824Z"
   },
   {
    "duration": 0,
    "start_time": "2024-01-26T15:39:41.825Z"
   },
   {
    "duration": 0,
    "start_time": "2024-01-26T15:39:41.826Z"
   },
   {
    "duration": 0,
    "start_time": "2024-01-26T15:39:41.833Z"
   },
   {
    "duration": 0,
    "start_time": "2024-01-26T15:39:41.834Z"
   },
   {
    "duration": 0,
    "start_time": "2024-01-26T15:39:41.835Z"
   },
   {
    "duration": 30,
    "start_time": "2024-01-26T15:40:45.004Z"
   },
   {
    "duration": 1358,
    "start_time": "2024-01-26T15:45:27.707Z"
   },
   {
    "duration": 51,
    "start_time": "2024-01-26T15:45:29.066Z"
   },
   {
    "duration": 29,
    "start_time": "2024-01-26T15:45:29.118Z"
   },
   {
    "duration": 24,
    "start_time": "2024-01-26T15:45:29.149Z"
   },
   {
    "duration": 34,
    "start_time": "2024-01-26T15:45:29.175Z"
   },
   {
    "duration": 8,
    "start_time": "2024-01-26T15:45:29.210Z"
   },
   {
    "duration": 20,
    "start_time": "2024-01-26T15:45:29.219Z"
   },
   {
    "duration": 33,
    "start_time": "2024-01-26T15:45:29.240Z"
   },
   {
    "duration": 12,
    "start_time": "2024-01-26T15:45:29.275Z"
   },
   {
    "duration": 18,
    "start_time": "2024-01-26T15:45:29.289Z"
   },
   {
    "duration": 10,
    "start_time": "2024-01-26T15:45:29.309Z"
   },
   {
    "duration": 37,
    "start_time": "2024-01-26T15:45:29.320Z"
   },
   {
    "duration": 7,
    "start_time": "2024-01-26T15:45:29.359Z"
   },
   {
    "duration": 31,
    "start_time": "2024-01-26T15:45:29.367Z"
   },
   {
    "duration": 15,
    "start_time": "2024-01-26T15:45:29.400Z"
   },
   {
    "duration": 21,
    "start_time": "2024-01-26T15:45:29.417Z"
   },
   {
    "duration": 21,
    "start_time": "2024-01-26T15:45:29.440Z"
   },
   {
    "duration": 1077,
    "start_time": "2024-01-26T15:45:29.463Z"
   },
   {
    "duration": 68,
    "start_time": "2024-01-26T15:45:30.541Z"
   },
   {
    "duration": 103,
    "start_time": "2024-01-26T15:46:39.496Z"
   },
   {
    "duration": 469,
    "start_time": "2024-01-26T15:47:37.625Z"
   },
   {
    "duration": 4,
    "start_time": "2024-01-26T15:51:55.036Z"
   },
   {
    "duration": 12,
    "start_time": "2024-01-26T15:52:08.436Z"
   },
   {
    "duration": 8,
    "start_time": "2024-01-26T15:52:23.338Z"
   },
   {
    "duration": 12,
    "start_time": "2024-01-26T15:52:44.018Z"
   },
   {
    "duration": 9,
    "start_time": "2024-01-26T15:52:47.561Z"
   },
   {
    "duration": 4,
    "start_time": "2024-01-26T15:53:17.123Z"
   },
   {
    "duration": 126,
    "start_time": "2024-01-26T15:56:14.439Z"
   },
   {
    "duration": 131,
    "start_time": "2024-01-26T15:56:23.361Z"
   },
   {
    "duration": 2111,
    "start_time": "2024-01-26T15:58:00.532Z"
   },
   {
    "duration": 2029,
    "start_time": "2024-01-26T15:58:11.124Z"
   },
   {
    "duration": 4475,
    "start_time": "2024-01-28T13:48:34.522Z"
   },
   {
    "duration": 91,
    "start_time": "2024-01-28T13:48:38.999Z"
   },
   {
    "duration": 66,
    "start_time": "2024-01-28T13:48:39.091Z"
   },
   {
    "duration": 94,
    "start_time": "2024-01-28T13:48:39.158Z"
   },
   {
    "duration": 62,
    "start_time": "2024-01-28T13:48:39.254Z"
   },
   {
    "duration": 8,
    "start_time": "2024-01-28T13:48:39.317Z"
   },
   {
    "duration": 8,
    "start_time": "2024-01-28T13:48:39.327Z"
   },
   {
    "duration": 26,
    "start_time": "2024-01-28T13:48:39.336Z"
   },
   {
    "duration": 6,
    "start_time": "2024-01-28T13:48:39.363Z"
   },
   {
    "duration": 5,
    "start_time": "2024-01-28T13:48:39.370Z"
   },
   {
    "duration": 14,
    "start_time": "2024-01-28T13:48:39.376Z"
   },
   {
    "duration": 8,
    "start_time": "2024-01-28T13:48:39.391Z"
   },
   {
    "duration": 21,
    "start_time": "2024-01-28T13:48:39.400Z"
   },
   {
    "duration": 15,
    "start_time": "2024-01-28T13:48:39.423Z"
   },
   {
    "duration": 12,
    "start_time": "2024-01-28T13:48:39.439Z"
   },
   {
    "duration": 9,
    "start_time": "2024-01-28T13:48:39.452Z"
   },
   {
    "duration": 8,
    "start_time": "2024-01-28T13:48:39.463Z"
   },
   {
    "duration": 1085,
    "start_time": "2024-01-28T13:48:39.472Z"
   },
   {
    "duration": 4,
    "start_time": "2024-01-28T13:48:40.559Z"
   },
   {
    "duration": 1804,
    "start_time": "2024-01-28T13:48:40.564Z"
   },
   {
    "duration": 851,
    "start_time": "2024-01-28T13:56:52.358Z"
   },
   {
    "duration": 764,
    "start_time": "2024-01-28T13:57:10.491Z"
   },
   {
    "duration": 12,
    "start_time": "2024-01-28T13:59:26.483Z"
   },
   {
    "duration": 105,
    "start_time": "2024-01-28T14:01:07.668Z"
   },
   {
    "duration": 4,
    "start_time": "2024-01-28T14:01:16.048Z"
   },
   {
    "duration": 184,
    "start_time": "2024-01-28T14:05:56.905Z"
   },
   {
    "duration": 177,
    "start_time": "2024-01-28T14:06:22.911Z"
   },
   {
    "duration": 181,
    "start_time": "2024-01-28T14:08:26.345Z"
   },
   {
    "duration": 219,
    "start_time": "2024-01-28T14:08:44.033Z"
   },
   {
    "duration": 516,
    "start_time": "2024-01-28T14:11:25.765Z"
   },
   {
    "duration": 336,
    "start_time": "2024-01-28T14:11:40.257Z"
   },
   {
    "duration": 377,
    "start_time": "2024-01-28T14:11:55.284Z"
   },
   {
    "duration": 284,
    "start_time": "2024-01-28T14:12:33.894Z"
   },
   {
    "duration": 250,
    "start_time": "2024-01-28T14:12:45.727Z"
   },
   {
    "duration": 327,
    "start_time": "2024-01-28T14:12:54.550Z"
   },
   {
    "duration": 265,
    "start_time": "2024-01-28T14:13:07.117Z"
   },
   {
    "duration": 276,
    "start_time": "2024-01-28T14:13:18.208Z"
   },
   {
    "duration": 309,
    "start_time": "2024-01-28T14:13:33.453Z"
   },
   {
    "duration": 293,
    "start_time": "2024-01-28T14:13:44.329Z"
   },
   {
    "duration": 306,
    "start_time": "2024-01-28T14:13:50.055Z"
   },
   {
    "duration": 389,
    "start_time": "2024-01-28T14:14:58.699Z"
   },
   {
    "duration": 130,
    "start_time": "2024-01-28T14:21:20.398Z"
   },
   {
    "duration": 132,
    "start_time": "2024-01-28T14:21:47.702Z"
   },
   {
    "duration": 134,
    "start_time": "2024-01-28T14:21:57.437Z"
   },
   {
    "duration": 121,
    "start_time": "2024-01-28T14:22:05.954Z"
   },
   {
    "duration": 140,
    "start_time": "2024-01-28T14:22:18.597Z"
   },
   {
    "duration": 134,
    "start_time": "2024-01-28T14:22:23.246Z"
   },
   {
    "duration": 193,
    "start_time": "2024-01-28T14:22:39.525Z"
   },
   {
    "duration": 182,
    "start_time": "2024-01-28T14:22:47.872Z"
   },
   {
    "duration": 172,
    "start_time": "2024-01-28T14:32:21.386Z"
   },
   {
    "duration": 263,
    "start_time": "2024-01-28T14:32:34.441Z"
   },
   {
    "duration": 90,
    "start_time": "2024-01-28T14:36:06.097Z"
   },
   {
    "duration": 5,
    "start_time": "2024-01-28T14:37:40.337Z"
   },
   {
    "duration": 9,
    "start_time": "2024-01-28T14:38:31.536Z"
   },
   {
    "duration": 647,
    "start_time": "2024-01-28T14:39:00.447Z"
   },
   {
    "duration": 630,
    "start_time": "2024-01-28T14:39:28.778Z"
   },
   {
    "duration": 1026,
    "start_time": "2024-01-28T14:39:37.460Z"
   },
   {
    "duration": 759,
    "start_time": "2024-01-28T14:40:28.588Z"
   },
   {
    "duration": 79,
    "start_time": "2024-01-28T14:47:11.428Z"
   },
   {
    "duration": 8,
    "start_time": "2024-01-28T14:49:39.279Z"
   },
   {
    "duration": 8,
    "start_time": "2024-01-28T14:57:14.340Z"
   },
   {
    "duration": 14,
    "start_time": "2024-01-28T14:59:12.961Z"
   },
   {
    "duration": 8,
    "start_time": "2024-01-28T14:59:39.591Z"
   },
   {
    "duration": 5,
    "start_time": "2024-01-28T15:00:05.965Z"
   },
   {
    "duration": 29,
    "start_time": "2024-01-28T15:03:32.358Z"
   },
   {
    "duration": 15,
    "start_time": "2024-01-28T15:04:34.114Z"
   },
   {
    "duration": 8,
    "start_time": "2024-01-28T15:04:43.736Z"
   },
   {
    "duration": 30,
    "start_time": "2024-01-28T15:04:54.266Z"
   },
   {
    "duration": 9,
    "start_time": "2024-01-28T15:36:39.835Z"
   },
   {
    "duration": 128,
    "start_time": "2024-01-28T16:19:35.806Z"
   },
   {
    "duration": 132,
    "start_time": "2024-01-28T16:19:47.754Z"
   },
   {
    "duration": 48757,
    "start_time": "2024-01-28T16:21:04.149Z"
   },
   {
    "duration": 1234,
    "start_time": "2024-01-28T16:25:32.661Z"
   },
   {
    "duration": 1187,
    "start_time": "2024-01-28T16:25:48.243Z"
   },
   {
    "duration": 14,
    "start_time": "2024-01-28T16:27:55.036Z"
   },
   {
    "duration": 12,
    "start_time": "2024-01-28T16:29:24.764Z"
   },
   {
    "duration": 1417,
    "start_time": "2024-01-28T17:01:43.232Z"
   },
   {
    "duration": 53,
    "start_time": "2024-01-28T17:01:44.650Z"
   },
   {
    "duration": 29,
    "start_time": "2024-01-28T17:01:44.705Z"
   },
   {
    "duration": 37,
    "start_time": "2024-01-28T17:01:44.737Z"
   },
   {
    "duration": 34,
    "start_time": "2024-01-28T17:01:44.775Z"
   },
   {
    "duration": 18,
    "start_time": "2024-01-28T17:01:44.810Z"
   },
   {
    "duration": 22,
    "start_time": "2024-01-28T17:01:44.830Z"
   },
   {
    "duration": 19,
    "start_time": "2024-01-28T17:01:44.855Z"
   },
   {
    "duration": 5,
    "start_time": "2024-01-28T17:01:44.875Z"
   },
   {
    "duration": 9,
    "start_time": "2024-01-28T17:01:44.883Z"
   },
   {
    "duration": 7,
    "start_time": "2024-01-28T17:01:44.893Z"
   },
   {
    "duration": 18,
    "start_time": "2024-01-28T17:01:44.901Z"
   },
   {
    "duration": 7,
    "start_time": "2024-01-28T17:01:44.921Z"
   },
   {
    "duration": 9,
    "start_time": "2024-01-28T17:01:44.930Z"
   },
   {
    "duration": 8,
    "start_time": "2024-01-28T17:01:44.941Z"
   },
   {
    "duration": 11,
    "start_time": "2024-01-28T17:01:44.952Z"
   },
   {
    "duration": 17,
    "start_time": "2024-01-28T17:01:44.965Z"
   },
   {
    "duration": 232,
    "start_time": "2024-01-28T17:01:44.984Z"
   },
   {
    "duration": 156,
    "start_time": "2024-01-28T17:01:45.218Z"
   },
   {
    "duration": 1216,
    "start_time": "2024-01-28T17:01:45.375Z"
   },
   {
    "duration": 30,
    "start_time": "2024-01-28T17:01:46.592Z"
   },
   {
    "duration": 36,
    "start_time": "2024-01-28T17:01:46.624Z"
   },
   {
    "duration": 28,
    "start_time": "2024-01-28T17:01:46.662Z"
   },
   {
    "duration": 27910,
    "start_time": "2024-01-28T17:01:46.691Z"
   },
   {
    "duration": 21,
    "start_time": "2024-01-28T17:02:14.604Z"
   },
   {
    "duration": 20872,
    "start_time": "2024-01-28T17:02:53.492Z"
   },
   {
    "duration": 146,
    "start_time": "2024-01-28T17:05:24.736Z"
   },
   {
    "duration": 18,
    "start_time": "2024-01-28T17:06:56.364Z"
   },
   {
    "duration": 13,
    "start_time": "2024-01-28T17:07:07.382Z"
   },
   {
    "duration": 115,
    "start_time": "2024-01-28T17:08:59.180Z"
   },
   {
    "duration": 17,
    "start_time": "2024-01-28T17:09:14.208Z"
   },
   {
    "duration": 11,
    "start_time": "2024-01-28T17:09:18.771Z"
   },
   {
    "duration": 143,
    "start_time": "2024-01-28T17:09:33.582Z"
   },
   {
    "duration": 232,
    "start_time": "2024-01-28T17:09:39.613Z"
   },
   {
    "duration": 222,
    "start_time": "2024-01-28T17:15:11.191Z"
   },
   {
    "duration": 328,
    "start_time": "2024-01-28T17:20:30.680Z"
   },
   {
    "duration": 14,
    "start_time": "2024-01-28T17:21:00.404Z"
   },
   {
    "duration": 234,
    "start_time": "2024-01-28T17:21:03.515Z"
   },
   {
    "duration": 129,
    "start_time": "2024-01-28T17:21:20.511Z"
   },
   {
    "duration": 181,
    "start_time": "2024-01-28T17:21:30.175Z"
   },
   {
    "duration": 1148,
    "start_time": "2024-01-28T17:22:28.606Z"
   },
   {
    "duration": 13,
    "start_time": "2024-01-28T17:22:35.030Z"
   },
   {
    "duration": 1357,
    "start_time": "2024-01-28T17:22:42.862Z"
   },
   {
    "duration": 81,
    "start_time": "2024-01-28T17:23:06.988Z"
   },
   {
    "duration": 9,
    "start_time": "2024-01-28T17:23:11.055Z"
   },
   {
    "duration": 15,
    "start_time": "2024-01-28T17:25:09.247Z"
   },
   {
    "duration": 136,
    "start_time": "2024-01-28T17:25:20.650Z"
   },
   {
    "duration": 125,
    "start_time": "2024-01-28T17:25:28.828Z"
   },
   {
    "duration": 110,
    "start_time": "2024-01-28T17:25:35.858Z"
   },
   {
    "duration": 118,
    "start_time": "2024-01-28T17:25:53.205Z"
   },
   {
    "duration": 305,
    "start_time": "2024-01-28T17:26:44.284Z"
   },
   {
    "duration": 9,
    "start_time": "2024-01-28T17:28:47.974Z"
   },
   {
    "duration": 9,
    "start_time": "2024-01-28T17:29:11.941Z"
   },
   {
    "duration": 113,
    "start_time": "2024-01-28T17:29:16.772Z"
   },
   {
    "duration": 119,
    "start_time": "2024-01-28T17:29:49.390Z"
   },
   {
    "duration": 12,
    "start_time": "2024-01-28T17:30:05.612Z"
   },
   {
    "duration": 15,
    "start_time": "2024-01-28T17:30:52.245Z"
   },
   {
    "duration": 91,
    "start_time": "2024-01-28T17:31:11.848Z"
   },
   {
    "duration": 105,
    "start_time": "2024-01-28T17:31:18.922Z"
   },
   {
    "duration": 78,
    "start_time": "2024-01-28T17:35:16.582Z"
   },
   {
    "duration": 124,
    "start_time": "2024-01-28T17:35:24.096Z"
   },
   {
    "duration": 113,
    "start_time": "2024-01-28T17:39:10.564Z"
   },
   {
    "duration": 115,
    "start_time": "2024-01-28T17:40:03.356Z"
   },
   {
    "duration": 13,
    "start_time": "2024-01-28T17:40:42.312Z"
   },
   {
    "duration": 105,
    "start_time": "2024-01-28T17:40:46.461Z"
   },
   {
    "duration": 76,
    "start_time": "2024-01-28T17:41:46.103Z"
   },
   {
    "duration": 77,
    "start_time": "2024-01-28T17:41:55.362Z"
   },
   {
    "duration": 82,
    "start_time": "2024-01-28T17:42:15.077Z"
   },
   {
    "duration": 69,
    "start_time": "2024-01-28T17:42:20.867Z"
   },
   {
    "duration": 79,
    "start_time": "2024-01-28T17:42:33.031Z"
   },
   {
    "duration": 76,
    "start_time": "2024-01-28T17:42:42.159Z"
   },
   {
    "duration": 112,
    "start_time": "2024-01-28T17:42:48.993Z"
   },
   {
    "duration": 110,
    "start_time": "2024-01-28T17:42:56.219Z"
   },
   {
    "duration": 113,
    "start_time": "2024-01-28T17:44:00.932Z"
   },
   {
    "duration": 166,
    "start_time": "2024-01-28T17:44:10.505Z"
   },
   {
    "duration": 147,
    "start_time": "2024-01-28T17:44:21.145Z"
   },
   {
    "duration": 115,
    "start_time": "2024-01-28T17:44:30.112Z"
   },
   {
    "duration": 111,
    "start_time": "2024-01-28T17:45:33.492Z"
   },
   {
    "duration": 102,
    "start_time": "2024-01-28T17:47:22.972Z"
   },
   {
    "duration": 110,
    "start_time": "2024-01-28T17:47:53.276Z"
   },
   {
    "duration": 138,
    "start_time": "2024-01-28T17:48:15.530Z"
   },
   {
    "duration": 130,
    "start_time": "2024-01-28T17:48:23.396Z"
   },
   {
    "duration": 134,
    "start_time": "2024-01-28T17:48:27.883Z"
   },
   {
    "duration": 115,
    "start_time": "2024-01-28T17:48:34.382Z"
   },
   {
    "duration": 4,
    "start_time": "2024-01-28T17:50:20.995Z"
   },
   {
    "duration": 69,
    "start_time": "2024-01-28T17:50:32.806Z"
   },
   {
    "duration": 97,
    "start_time": "2024-01-28T17:51:08.151Z"
   },
   {
    "duration": 130,
    "start_time": "2024-01-28T17:51:12.571Z"
   },
   {
    "duration": 131,
    "start_time": "2024-01-28T17:51:27.597Z"
   },
   {
    "duration": 129,
    "start_time": "2024-01-28T17:52:37.988Z"
   },
   {
    "duration": 126,
    "start_time": "2024-01-28T17:53:04.234Z"
   },
   {
    "duration": 78,
    "start_time": "2024-01-28T17:53:30.281Z"
   },
   {
    "duration": 73,
    "start_time": "2024-01-28T17:53:49.267Z"
   },
   {
    "duration": 132,
    "start_time": "2024-01-28T17:53:55.845Z"
   },
   {
    "duration": 118,
    "start_time": "2024-01-28T17:54:28.545Z"
   },
   {
    "duration": 121,
    "start_time": "2024-01-28T17:54:41.300Z"
   },
   {
    "duration": 96,
    "start_time": "2024-01-28T17:55:30.643Z"
   },
   {
    "duration": 66,
    "start_time": "2024-01-28T17:55:34.913Z"
   },
   {
    "duration": 81,
    "start_time": "2024-01-28T17:55:37.658Z"
   },
   {
    "duration": 122,
    "start_time": "2024-01-28T17:55:49.065Z"
   },
   {
    "duration": 98,
    "start_time": "2024-01-28T17:56:14.666Z"
   },
   {
    "duration": 130,
    "start_time": "2024-01-28T17:56:20.971Z"
   },
   {
    "duration": 120,
    "start_time": "2024-01-28T17:56:50.986Z"
   },
   {
    "duration": 120,
    "start_time": "2024-01-28T18:00:21.994Z"
   },
   {
    "duration": 83,
    "start_time": "2024-01-28T18:01:33.814Z"
   },
   {
    "duration": 81,
    "start_time": "2024-01-28T18:01:51.235Z"
   },
   {
    "duration": 135,
    "start_time": "2024-01-28T18:01:59.536Z"
   },
   {
    "duration": 113,
    "start_time": "2024-01-28T18:02:20.754Z"
   },
   {
    "duration": 9,
    "start_time": "2024-01-28T18:04:34.397Z"
   },
   {
    "duration": 5,
    "start_time": "2024-01-28T18:05:05.960Z"
   },
   {
    "duration": 8,
    "start_time": "2024-01-28T18:06:12.674Z"
   },
   {
    "duration": 6,
    "start_time": "2024-01-28T18:06:21.883Z"
   },
   {
    "duration": 109,
    "start_time": "2024-01-28T18:07:29.712Z"
   },
   {
    "duration": 117,
    "start_time": "2024-01-28T18:07:36.302Z"
   },
   {
    "duration": 6,
    "start_time": "2024-01-28T18:08:18.478Z"
   },
   {
    "duration": 5,
    "start_time": "2024-01-28T18:09:29.257Z"
   },
   {
    "duration": 8,
    "start_time": "2024-01-28T18:09:44.453Z"
   },
   {
    "duration": 7,
    "start_time": "2024-01-28T18:10:03.364Z"
   },
   {
    "duration": 108,
    "start_time": "2024-01-28T18:11:11.541Z"
   },
   {
    "duration": 160,
    "start_time": "2024-01-28T18:11:50.552Z"
   },
   {
    "duration": 108,
    "start_time": "2024-01-28T18:12:13.601Z"
   },
   {
    "duration": 105,
    "start_time": "2024-01-28T18:12:21.786Z"
   },
   {
    "duration": 126,
    "start_time": "2024-01-28T18:12:45.368Z"
   },
   {
    "duration": 151,
    "start_time": "2024-01-28T18:13:03.056Z"
   },
   {
    "duration": 167,
    "start_time": "2024-01-28T18:13:50.905Z"
   },
   {
    "duration": 281,
    "start_time": "2024-01-28T18:14:27.420Z"
   },
   {
    "duration": 190,
    "start_time": "2024-01-28T18:14:32.002Z"
   },
   {
    "duration": 163,
    "start_time": "2024-01-28T18:14:43.405Z"
   },
   {
    "duration": 207,
    "start_time": "2024-01-28T18:14:49.429Z"
   },
   {
    "duration": 158,
    "start_time": "2024-01-28T18:14:55.981Z"
   },
   {
    "duration": 7,
    "start_time": "2024-01-28T18:19:44.768Z"
   },
   {
    "duration": 210,
    "start_time": "2024-01-28T18:20:19.208Z"
   },
   {
    "duration": 123,
    "start_time": "2024-01-28T18:20:40.272Z"
   },
   {
    "duration": 121,
    "start_time": "2024-01-28T18:20:46.862Z"
   },
   {
    "duration": 8,
    "start_time": "2024-01-28T18:21:07.826Z"
   },
   {
    "duration": 1261,
    "start_time": "2024-01-28T18:25:55.498Z"
   },
   {
    "duration": 51,
    "start_time": "2024-01-28T18:25:56.761Z"
   },
   {
    "duration": 28,
    "start_time": "2024-01-28T18:25:56.813Z"
   },
   {
    "duration": 25,
    "start_time": "2024-01-28T18:25:56.842Z"
   },
   {
    "duration": 34,
    "start_time": "2024-01-28T18:25:56.869Z"
   },
   {
    "duration": 7,
    "start_time": "2024-01-28T18:25:56.904Z"
   },
   {
    "duration": 16,
    "start_time": "2024-01-28T18:25:56.913Z"
   },
   {
    "duration": 22,
    "start_time": "2024-01-28T18:25:56.930Z"
   },
   {
    "duration": 4,
    "start_time": "2024-01-28T18:25:56.954Z"
   },
   {
    "duration": 11,
    "start_time": "2024-01-28T18:25:56.960Z"
   },
   {
    "duration": 6,
    "start_time": "2024-01-28T18:25:56.972Z"
   },
   {
    "duration": 17,
    "start_time": "2024-01-28T18:25:56.979Z"
   },
   {
    "duration": 26,
    "start_time": "2024-01-28T18:25:56.998Z"
   },
   {
    "duration": 28,
    "start_time": "2024-01-28T18:25:57.026Z"
   },
   {
    "duration": 16,
    "start_time": "2024-01-28T18:25:57.055Z"
   },
   {
    "duration": 30,
    "start_time": "2024-01-28T18:25:57.072Z"
   },
   {
    "duration": 20,
    "start_time": "2024-01-28T18:25:57.103Z"
   },
   {
    "duration": 221,
    "start_time": "2024-01-28T18:25:57.124Z"
   },
   {
    "duration": 130,
    "start_time": "2024-01-28T18:25:57.346Z"
   },
   {
    "duration": 1039,
    "start_time": "2024-01-28T18:25:57.478Z"
   },
   {
    "duration": 37,
    "start_time": "2024-01-28T18:25:58.518Z"
   },
   {
    "duration": 5,
    "start_time": "2024-01-28T18:25:58.557Z"
   },
   {
    "duration": 119,
    "start_time": "2024-01-28T18:25:58.564Z"
   },
   {
    "duration": 6,
    "start_time": "2024-01-28T18:25:58.684Z"
   },
   {
    "duration": 12,
    "start_time": "2024-01-28T18:25:58.691Z"
   },
   {
    "duration": 23,
    "start_time": "2024-01-28T18:25:58.704Z"
   },
   {
    "duration": 158,
    "start_time": "2024-01-28T18:25:58.728Z"
   },
   {
    "duration": 6,
    "start_time": "2024-01-28T18:25:58.887Z"
   },
   {
    "duration": 26,
    "start_time": "2024-01-28T18:25:58.894Z"
   },
   {
    "duration": 107,
    "start_time": "2024-01-28T18:25:58.921Z"
   },
   {
    "duration": 7,
    "start_time": "2024-01-28T18:34:19.013Z"
   },
   {
    "duration": 19,
    "start_time": "2024-01-28T18:35:37.596Z"
   },
   {
    "duration": 113,
    "start_time": "2024-01-28T18:36:08.014Z"
   },
   {
    "duration": 19,
    "start_time": "2024-01-28T18:36:13.249Z"
   },
   {
    "duration": 19,
    "start_time": "2024-01-28T18:36:24.440Z"
   },
   {
    "duration": 12,
    "start_time": "2024-01-28T18:36:48.791Z"
   },
   {
    "duration": 18,
    "start_time": "2024-01-28T18:36:56.078Z"
   },
   {
    "duration": 18,
    "start_time": "2024-01-28T18:37:24.617Z"
   },
   {
    "duration": 12,
    "start_time": "2024-01-28T18:37:57.458Z"
   },
   {
    "duration": 12,
    "start_time": "2024-01-28T18:38:06.365Z"
   },
   {
    "duration": 18,
    "start_time": "2024-01-28T18:38:31.135Z"
   },
   {
    "duration": 10,
    "start_time": "2024-01-28T18:39:13.619Z"
   },
   {
    "duration": 17,
    "start_time": "2024-01-28T18:39:21.480Z"
   },
   {
    "duration": 16,
    "start_time": "2024-01-28T18:40:56.454Z"
   },
   {
    "duration": 1190,
    "start_time": "2024-01-28T18:43:34.598Z"
   },
   {
    "duration": 8,
    "start_time": "2024-01-28T18:44:25.982Z"
   },
   {
    "duration": 11,
    "start_time": "2024-01-28T18:44:50.275Z"
   },
   {
    "duration": 10,
    "start_time": "2024-01-28T18:45:57.978Z"
   },
   {
    "duration": 6,
    "start_time": "2024-01-28T18:48:05.639Z"
   },
   {
    "duration": 20,
    "start_time": "2024-01-28T18:48:36.148Z"
   },
   {
    "duration": 5016,
    "start_time": "2024-01-30T11:48:51.510Z"
   },
   {
    "duration": 140,
    "start_time": "2024-01-30T11:48:56.528Z"
   },
   {
    "duration": 93,
    "start_time": "2024-01-30T11:48:56.669Z"
   },
   {
    "duration": 62,
    "start_time": "2024-01-30T11:48:56.764Z"
   },
   {
    "duration": 71,
    "start_time": "2024-01-30T11:48:56.829Z"
   },
   {
    "duration": 9,
    "start_time": "2024-01-30T11:48:56.902Z"
   },
   {
    "duration": 31,
    "start_time": "2024-01-30T11:48:56.913Z"
   },
   {
    "duration": 17,
    "start_time": "2024-01-30T11:48:56.946Z"
   },
   {
    "duration": 28,
    "start_time": "2024-01-30T11:48:56.965Z"
   },
   {
    "duration": 16,
    "start_time": "2024-01-30T11:48:56.995Z"
   },
   {
    "duration": 28,
    "start_time": "2024-01-30T11:48:57.013Z"
   },
   {
    "duration": 34,
    "start_time": "2024-01-30T11:48:57.042Z"
   },
   {
    "duration": 26,
    "start_time": "2024-01-30T11:48:57.078Z"
   },
   {
    "duration": 12,
    "start_time": "2024-01-30T11:48:57.107Z"
   },
   {
    "duration": 16,
    "start_time": "2024-01-30T11:48:57.121Z"
   },
   {
    "duration": 13,
    "start_time": "2024-01-30T11:48:57.138Z"
   },
   {
    "duration": 16,
    "start_time": "2024-01-30T11:48:57.152Z"
   },
   {
    "duration": 227,
    "start_time": "2024-01-30T11:48:57.169Z"
   },
   {
    "duration": 159,
    "start_time": "2024-01-30T11:48:57.398Z"
   },
   {
    "duration": 1124,
    "start_time": "2024-01-30T11:48:57.558Z"
   },
   {
    "duration": 34,
    "start_time": "2024-01-30T11:48:58.683Z"
   },
   {
    "duration": 6,
    "start_time": "2024-01-30T11:48:58.718Z"
   },
   {
    "duration": 135,
    "start_time": "2024-01-30T11:48:58.726Z"
   },
   {
    "duration": 6,
    "start_time": "2024-01-30T11:48:58.862Z"
   },
   {
    "duration": 18,
    "start_time": "2024-01-30T11:48:58.869Z"
   },
   {
    "duration": 9,
    "start_time": "2024-01-30T11:48:58.888Z"
   },
   {
    "duration": 183,
    "start_time": "2024-01-30T11:48:58.899Z"
   },
   {
    "duration": 12,
    "start_time": "2024-01-30T11:48:59.083Z"
   },
   {
    "duration": 29,
    "start_time": "2024-01-30T11:48:59.096Z"
   },
   {
    "duration": 120,
    "start_time": "2024-01-30T11:48:59.126Z"
   },
   {
    "duration": 20,
    "start_time": "2024-01-30T11:48:59.247Z"
   },
   {
    "duration": 10,
    "start_time": "2024-01-30T11:48:59.268Z"
   },
   {
    "duration": 83,
    "start_time": "2024-01-30T11:48:59.279Z"
   },
   {
    "duration": 1637,
    "start_time": "2024-01-30T12:01:01.316Z"
   },
   {
    "duration": 1375,
    "start_time": "2024-01-30T12:03:23.042Z"
   },
   {
    "duration": 1390,
    "start_time": "2024-01-30T12:05:11.002Z"
   },
   {
    "duration": 1337,
    "start_time": "2024-01-30T12:05:38.882Z"
   },
   {
    "duration": 9,
    "start_time": "2024-01-30T12:07:39.749Z"
   },
   {
    "duration": 13,
    "start_time": "2024-01-30T12:07:49.466Z"
   },
   {
    "duration": 7,
    "start_time": "2024-01-30T12:08:17.669Z"
   },
   {
    "duration": 7,
    "start_time": "2024-01-30T12:08:21.609Z"
   },
   {
    "duration": 11,
    "start_time": "2024-01-30T12:21:32.804Z"
   },
   {
    "duration": 9,
    "start_time": "2024-01-30T12:22:06.944Z"
   },
   {
    "duration": 13,
    "start_time": "2024-01-30T12:22:13.858Z"
   },
   {
    "duration": 8,
    "start_time": "2024-01-30T12:22:32.393Z"
   },
   {
    "duration": 50,
    "start_time": "2024-01-31T17:26:50.339Z"
   },
   {
    "duration": 5325,
    "start_time": "2024-01-31T17:26:55.517Z"
   },
   {
    "duration": 95,
    "start_time": "2024-01-31T17:27:00.845Z"
   },
   {
    "duration": 70,
    "start_time": "2024-01-31T17:27:00.942Z"
   },
   {
    "duration": 96,
    "start_time": "2024-01-31T17:27:01.015Z"
   },
   {
    "duration": 66,
    "start_time": "2024-01-31T17:27:01.114Z"
   },
   {
    "duration": 10,
    "start_time": "2024-01-31T17:27:01.182Z"
   },
   {
    "duration": 24,
    "start_time": "2024-01-31T17:27:01.194Z"
   },
   {
    "duration": 21,
    "start_time": "2024-01-31T17:27:01.220Z"
   },
   {
    "duration": 25,
    "start_time": "2024-01-31T17:27:01.243Z"
   },
   {
    "duration": 39,
    "start_time": "2024-01-31T17:27:01.269Z"
   },
   {
    "duration": 18,
    "start_time": "2024-01-31T17:27:01.310Z"
   },
   {
    "duration": 15,
    "start_time": "2024-01-31T17:27:01.329Z"
   },
   {
    "duration": 41,
    "start_time": "2024-01-31T17:27:01.346Z"
   },
   {
    "duration": 17,
    "start_time": "2024-01-31T17:27:01.390Z"
   },
   {
    "duration": 14,
    "start_time": "2024-01-31T17:27:01.408Z"
   },
   {
    "duration": 32,
    "start_time": "2024-01-31T17:27:01.424Z"
   },
   {
    "duration": 27,
    "start_time": "2024-01-31T17:27:01.457Z"
   },
   {
    "duration": 273,
    "start_time": "2024-01-31T17:27:01.485Z"
   },
   {
    "duration": 165,
    "start_time": "2024-01-31T17:27:01.760Z"
   },
   {
    "duration": 1299,
    "start_time": "2024-01-31T17:27:01.927Z"
   },
   {
    "duration": 33,
    "start_time": "2024-01-31T17:27:03.228Z"
   },
   {
    "duration": 22,
    "start_time": "2024-01-31T17:27:03.263Z"
   },
   {
    "duration": 142,
    "start_time": "2024-01-31T17:27:03.287Z"
   },
   {
    "duration": 6,
    "start_time": "2024-01-31T17:27:03.431Z"
   },
   {
    "duration": 8,
    "start_time": "2024-01-31T17:27:03.439Z"
   },
   {
    "duration": 8,
    "start_time": "2024-01-31T17:27:03.448Z"
   },
   {
    "duration": 208,
    "start_time": "2024-01-31T17:27:03.458Z"
   },
   {
    "duration": 14,
    "start_time": "2024-01-31T17:27:03.668Z"
   },
   {
    "duration": 17,
    "start_time": "2024-01-31T17:27:03.683Z"
   },
   {
    "duration": 147,
    "start_time": "2024-01-31T17:27:03.702Z"
   },
   {
    "duration": 44,
    "start_time": "2024-01-31T17:27:03.851Z"
   },
   {
    "duration": 16,
    "start_time": "2024-01-31T17:27:03.897Z"
   },
   {
    "duration": 1356,
    "start_time": "2024-01-31T17:27:03.915Z"
   },
   {
    "duration": 0,
    "start_time": "2024-01-31T17:27:05.273Z"
   },
   {
    "duration": 0,
    "start_time": "2024-01-31T17:27:05.274Z"
   },
   {
    "duration": 0,
    "start_time": "2024-01-31T17:27:05.275Z"
   },
   {
    "duration": 0,
    "start_time": "2024-01-31T17:27:05.277Z"
   },
   {
    "duration": 0,
    "start_time": "2024-01-31T17:27:05.278Z"
   },
   {
    "duration": 5,
    "start_time": "2024-01-31T17:27:26.735Z"
   },
   {
    "duration": 4,
    "start_time": "2024-01-31T17:27:53.535Z"
   },
   {
    "duration": 14,
    "start_time": "2024-01-31T17:30:55.171Z"
   },
   {
    "duration": 4,
    "start_time": "2024-01-31T17:31:01.303Z"
   },
   {
    "duration": 13,
    "start_time": "2024-01-31T17:31:07.884Z"
   },
   {
    "duration": 1671,
    "start_time": "2024-01-31T17:31:28.874Z"
   },
   {
    "duration": 57,
    "start_time": "2024-01-31T17:31:30.547Z"
   },
   {
    "duration": 32,
    "start_time": "2024-01-31T17:31:30.606Z"
   },
   {
    "duration": 39,
    "start_time": "2024-01-31T17:31:30.641Z"
   },
   {
    "duration": 39,
    "start_time": "2024-01-31T17:31:30.682Z"
   },
   {
    "duration": 10,
    "start_time": "2024-01-31T17:31:30.722Z"
   },
   {
    "duration": 41,
    "start_time": "2024-01-31T17:31:30.733Z"
   },
   {
    "duration": 47,
    "start_time": "2024-01-31T17:31:30.775Z"
   },
   {
    "duration": 32,
    "start_time": "2024-01-31T17:31:30.824Z"
   },
   {
    "duration": 34,
    "start_time": "2024-01-31T17:31:30.859Z"
   },
   {
    "duration": 27,
    "start_time": "2024-01-31T17:31:30.894Z"
   },
   {
    "duration": 39,
    "start_time": "2024-01-31T17:31:30.923Z"
   },
   {
    "duration": 25,
    "start_time": "2024-01-31T17:31:30.963Z"
   },
   {
    "duration": 31,
    "start_time": "2024-01-31T17:31:30.989Z"
   },
   {
    "duration": 27,
    "start_time": "2024-01-31T17:31:31.022Z"
   },
   {
    "duration": 34,
    "start_time": "2024-01-31T17:31:31.051Z"
   },
   {
    "duration": 38,
    "start_time": "2024-01-31T17:31:31.087Z"
   },
   {
    "duration": 271,
    "start_time": "2024-01-31T17:31:31.127Z"
   },
   {
    "duration": 161,
    "start_time": "2024-01-31T17:31:31.400Z"
   },
   {
    "duration": 1259,
    "start_time": "2024-01-31T17:31:31.562Z"
   },
   {
    "duration": 40,
    "start_time": "2024-01-31T17:31:32.823Z"
   },
   {
    "duration": 36,
    "start_time": "2024-01-31T17:31:32.865Z"
   },
   {
    "duration": 150,
    "start_time": "2024-01-31T17:31:32.903Z"
   },
   {
    "duration": 7,
    "start_time": "2024-01-31T17:31:33.056Z"
   },
   {
    "duration": 22,
    "start_time": "2024-01-31T17:31:33.065Z"
   },
   {
    "duration": 12,
    "start_time": "2024-01-31T17:31:33.089Z"
   },
   {
    "duration": 193,
    "start_time": "2024-01-31T17:31:33.103Z"
   },
   {
    "duration": 7,
    "start_time": "2024-01-31T17:31:33.299Z"
   },
   {
    "duration": 11,
    "start_time": "2024-01-31T17:31:33.307Z"
   },
   {
    "duration": 144,
    "start_time": "2024-01-31T17:31:33.319Z"
   },
   {
    "duration": 24,
    "start_time": "2024-01-31T17:31:33.465Z"
   },
   {
    "duration": 4,
    "start_time": "2024-01-31T17:31:33.490Z"
   },
   {
    "duration": 127,
    "start_time": "2024-01-31T17:31:33.496Z"
   },
   {
    "duration": 0,
    "start_time": "2024-01-31T17:31:33.625Z"
   },
   {
    "duration": 0,
    "start_time": "2024-01-31T17:31:33.626Z"
   },
   {
    "duration": 0,
    "start_time": "2024-01-31T17:31:33.627Z"
   },
   {
    "duration": 0,
    "start_time": "2024-01-31T17:31:33.628Z"
   },
   {
    "duration": 0,
    "start_time": "2024-01-31T17:31:33.629Z"
   },
   {
    "duration": 10,
    "start_time": "2024-01-31T17:33:22.462Z"
   },
   {
    "duration": 3,
    "start_time": "2024-01-31T17:34:05.999Z"
   },
   {
    "duration": 11,
    "start_time": "2024-01-31T17:34:18.580Z"
   },
   {
    "duration": 11,
    "start_time": "2024-01-31T17:34:37.276Z"
   },
   {
    "duration": 4,
    "start_time": "2024-01-31T17:35:07.154Z"
   },
   {
    "duration": 12,
    "start_time": "2024-01-31T17:35:18.420Z"
   },
   {
    "duration": 12,
    "start_time": "2024-01-31T17:35:32.268Z"
   },
   {
    "duration": 8,
    "start_time": "2024-01-31T17:35:40.913Z"
   },
   {
    "duration": 16,
    "start_time": "2024-01-31T17:36:23.068Z"
   },
   {
    "duration": 79,
    "start_time": "2024-01-31T17:36:45.336Z"
   },
   {
    "duration": 14,
    "start_time": "2024-01-31T17:36:52.941Z"
   },
   {
    "duration": 7,
    "start_time": "2024-01-31T17:37:47.446Z"
   },
   {
    "duration": 3,
    "start_time": "2024-01-31T17:39:10.193Z"
   },
   {
    "duration": 6,
    "start_time": "2024-01-31T17:39:26.010Z"
   },
   {
    "duration": 3,
    "start_time": "2024-01-31T17:39:40.071Z"
   },
   {
    "duration": 19,
    "start_time": "2024-01-31T17:40:06.882Z"
   },
   {
    "duration": 12,
    "start_time": "2024-01-31T17:42:05.026Z"
   },
   {
    "duration": 9,
    "start_time": "2024-01-31T17:42:07.110Z"
   },
   {
    "duration": 7,
    "start_time": "2024-01-31T17:42:09.590Z"
   },
   {
    "duration": 8,
    "start_time": "2024-01-31T17:42:11.712Z"
   },
   {
    "duration": 13,
    "start_time": "2024-01-31T17:48:30.284Z"
   },
   {
    "duration": 10,
    "start_time": "2024-01-31T17:50:08.627Z"
   },
   {
    "duration": 13,
    "start_time": "2024-01-31T17:50:23.888Z"
   },
   {
    "duration": 20,
    "start_time": "2024-01-31T17:50:50.853Z"
   },
   {
    "duration": 20,
    "start_time": "2024-01-31T17:51:04.016Z"
   },
   {
    "duration": 21,
    "start_time": "2024-01-31T17:52:04.436Z"
   },
   {
    "duration": 14,
    "start_time": "2024-01-31T17:52:09.827Z"
   },
   {
    "duration": 18,
    "start_time": "2024-01-31T17:52:18.842Z"
   },
   {
    "duration": 13,
    "start_time": "2024-01-31T17:52:29.303Z"
   },
   {
    "duration": 16,
    "start_time": "2024-01-31T17:52:42.482Z"
   },
   {
    "duration": 13,
    "start_time": "2024-01-31T17:52:45.441Z"
   },
   {
    "duration": 5,
    "start_time": "2024-01-31T17:52:54.340Z"
   },
   {
    "duration": 12,
    "start_time": "2024-01-31T17:52:56.448Z"
   },
   {
    "duration": 5,
    "start_time": "2024-01-31T17:53:20.310Z"
   },
   {
    "duration": 4,
    "start_time": "2024-01-31T17:53:35.343Z"
   },
   {
    "duration": 14,
    "start_time": "2024-01-31T17:53:37.405Z"
   },
   {
    "duration": 9,
    "start_time": "2024-01-31T17:53:50.675Z"
   },
   {
    "duration": 16,
    "start_time": "2024-01-31T17:54:02.213Z"
   },
   {
    "duration": 18,
    "start_time": "2024-01-31T17:54:36.939Z"
   },
   {
    "duration": 18,
    "start_time": "2024-01-31T17:54:50.110Z"
   },
   {
    "duration": 13,
    "start_time": "2024-01-31T17:55:52.151Z"
   },
   {
    "duration": 20,
    "start_time": "2024-01-31T17:56:13.980Z"
   },
   {
    "duration": 1630,
    "start_time": "2024-01-31T17:56:34.677Z"
   },
   {
    "duration": 55,
    "start_time": "2024-01-31T17:56:36.309Z"
   },
   {
    "duration": 32,
    "start_time": "2024-01-31T17:56:36.366Z"
   },
   {
    "duration": 30,
    "start_time": "2024-01-31T17:56:36.399Z"
   },
   {
    "duration": 38,
    "start_time": "2024-01-31T17:56:36.431Z"
   },
   {
    "duration": 10,
    "start_time": "2024-01-31T17:56:36.470Z"
   },
   {
    "duration": 7,
    "start_time": "2024-01-31T17:56:36.482Z"
   },
   {
    "duration": 12,
    "start_time": "2024-01-31T17:56:36.490Z"
   },
   {
    "duration": 8,
    "start_time": "2024-01-31T17:56:36.503Z"
   },
   {
    "duration": 7,
    "start_time": "2024-01-31T17:56:36.513Z"
   },
   {
    "duration": 6,
    "start_time": "2024-01-31T17:56:36.521Z"
   },
   {
    "duration": 8,
    "start_time": "2024-01-31T17:56:36.528Z"
   },
   {
    "duration": 6,
    "start_time": "2024-01-31T17:56:36.537Z"
   },
   {
    "duration": 5,
    "start_time": "2024-01-31T17:56:36.584Z"
   },
   {
    "duration": 8,
    "start_time": "2024-01-31T17:56:36.591Z"
   },
   {
    "duration": 9,
    "start_time": "2024-01-31T17:56:36.601Z"
   },
   {
    "duration": 15,
    "start_time": "2024-01-31T17:56:36.612Z"
   },
   {
    "duration": 271,
    "start_time": "2024-01-31T17:56:36.632Z"
   },
   {
    "duration": 174,
    "start_time": "2024-01-31T17:56:36.904Z"
   },
   {
    "duration": 1261,
    "start_time": "2024-01-31T17:56:37.082Z"
   },
   {
    "duration": 44,
    "start_time": "2024-01-31T17:56:38.345Z"
   },
   {
    "duration": 8,
    "start_time": "2024-01-31T17:56:38.391Z"
   },
   {
    "duration": 157,
    "start_time": "2024-01-31T17:56:38.400Z"
   },
   {
    "duration": 10,
    "start_time": "2024-01-31T17:56:38.559Z"
   },
   {
    "duration": 12,
    "start_time": "2024-01-31T17:56:38.582Z"
   },
   {
    "duration": 10,
    "start_time": "2024-01-31T17:56:38.596Z"
   },
   {
    "duration": 228,
    "start_time": "2024-01-31T17:56:38.608Z"
   },
   {
    "duration": 10,
    "start_time": "2024-01-31T17:56:38.838Z"
   },
   {
    "duration": 11,
    "start_time": "2024-01-31T17:56:38.850Z"
   },
   {
    "duration": 167,
    "start_time": "2024-01-31T17:56:38.863Z"
   },
   {
    "duration": 21,
    "start_time": "2024-01-31T17:56:39.031Z"
   },
   {
    "duration": 7,
    "start_time": "2024-01-31T17:56:39.053Z"
   },
   {
    "duration": 32,
    "start_time": "2024-01-31T17:56:39.062Z"
   },
   {
    "duration": 5,
    "start_time": "2024-01-31T17:56:39.096Z"
   },
   {
    "duration": 16,
    "start_time": "2024-01-31T17:56:39.103Z"
   },
   {
    "duration": 4,
    "start_time": "2024-01-31T17:56:39.120Z"
   },
   {
    "duration": 5,
    "start_time": "2024-01-31T17:56:39.126Z"
   },
   {
    "duration": 11,
    "start_time": "2024-01-31T17:56:39.132Z"
   },
   {
    "duration": 44,
    "start_time": "2024-01-31T17:56:39.145Z"
   },
   {
    "duration": 16,
    "start_time": "2024-01-31T17:56:39.191Z"
   },
   {
    "duration": 134,
    "start_time": "2024-01-31T17:57:52.339Z"
   },
   {
    "duration": 1469,
    "start_time": "2024-01-31T17:58:04.513Z"
   },
   {
    "duration": 56,
    "start_time": "2024-01-31T17:58:05.984Z"
   },
   {
    "duration": 33,
    "start_time": "2024-01-31T17:58:06.041Z"
   },
   {
    "duration": 29,
    "start_time": "2024-01-31T17:58:06.076Z"
   },
   {
    "duration": 38,
    "start_time": "2024-01-31T17:58:06.107Z"
   },
   {
    "duration": 10,
    "start_time": "2024-01-31T17:58:06.147Z"
   },
   {
    "duration": 7,
    "start_time": "2024-01-31T17:58:06.159Z"
   },
   {
    "duration": 9,
    "start_time": "2024-01-31T17:58:06.167Z"
   },
   {
    "duration": 24,
    "start_time": "2024-01-31T17:58:06.178Z"
   },
   {
    "duration": 8,
    "start_time": "2024-01-31T17:58:06.204Z"
   },
   {
    "duration": 8,
    "start_time": "2024-01-31T17:58:06.213Z"
   },
   {
    "duration": 9,
    "start_time": "2024-01-31T17:58:06.224Z"
   },
   {
    "duration": 16,
    "start_time": "2024-01-31T17:58:06.234Z"
   },
   {
    "duration": 8,
    "start_time": "2024-01-31T17:58:06.255Z"
   },
   {
    "duration": 20,
    "start_time": "2024-01-31T17:58:06.265Z"
   },
   {
    "duration": 8,
    "start_time": "2024-01-31T17:58:06.287Z"
   },
   {
    "duration": 18,
    "start_time": "2024-01-31T17:58:06.296Z"
   },
   {
    "duration": 266,
    "start_time": "2024-01-31T17:58:06.316Z"
   },
   {
    "duration": 170,
    "start_time": "2024-01-31T17:58:06.583Z"
   },
   {
    "duration": 1241,
    "start_time": "2024-01-31T17:58:06.755Z"
   },
   {
    "duration": 43,
    "start_time": "2024-01-31T17:58:07.998Z"
   },
   {
    "duration": 8,
    "start_time": "2024-01-31T17:58:08.042Z"
   },
   {
    "duration": 175,
    "start_time": "2024-01-31T17:58:08.052Z"
   },
   {
    "duration": 7,
    "start_time": "2024-01-31T17:58:08.228Z"
   },
   {
    "duration": 8,
    "start_time": "2024-01-31T17:58:08.236Z"
   },
   {
    "duration": 22,
    "start_time": "2024-01-31T17:58:08.245Z"
   },
   {
    "duration": 192,
    "start_time": "2024-01-31T17:58:08.268Z"
   },
   {
    "duration": 8,
    "start_time": "2024-01-31T17:58:08.461Z"
   },
   {
    "duration": 17,
    "start_time": "2024-01-31T17:58:08.471Z"
   },
   {
    "duration": 141,
    "start_time": "2024-01-31T17:58:08.490Z"
   },
   {
    "duration": 19,
    "start_time": "2024-01-31T17:58:08.633Z"
   },
   {
    "duration": 6,
    "start_time": "2024-01-31T17:58:08.654Z"
   },
   {
    "duration": 28,
    "start_time": "2024-01-31T17:58:08.662Z"
   },
   {
    "duration": 2,
    "start_time": "2024-01-31T17:58:08.692Z"
   },
   {
    "duration": 5,
    "start_time": "2024-01-31T17:58:08.696Z"
   },
   {
    "duration": 14,
    "start_time": "2024-01-31T17:58:08.702Z"
   },
   {
    "duration": 3,
    "start_time": "2024-01-31T17:58:08.718Z"
   },
   {
    "duration": 159,
    "start_time": "2024-01-31T17:58:08.723Z"
   },
   {
    "duration": 0,
    "start_time": "2024-01-31T17:58:08.884Z"
   },
   {
    "duration": 0,
    "start_time": "2024-01-31T17:58:08.885Z"
   },
   {
    "duration": 6,
    "start_time": "2024-01-31T17:58:53.540Z"
   },
   {
    "duration": 21,
    "start_time": "2024-01-31T17:59:00.726Z"
   },
   {
    "duration": 13,
    "start_time": "2024-01-31T17:59:04.898Z"
   },
   {
    "duration": 3,
    "start_time": "2024-01-31T18:01:52.794Z"
   },
   {
    "duration": 19,
    "start_time": "2024-01-31T18:03:18.702Z"
   },
   {
    "duration": 19,
    "start_time": "2024-01-31T18:03:36.291Z"
   },
   {
    "duration": 25,
    "start_time": "2024-01-31T18:03:51.818Z"
   },
   {
    "duration": 8,
    "start_time": "2024-01-31T18:04:37.016Z"
   },
   {
    "duration": 14,
    "start_time": "2024-01-31T18:04:52.708Z"
   },
   {
    "duration": 1567,
    "start_time": "2024-01-31T18:05:25.980Z"
   },
   {
    "duration": 55,
    "start_time": "2024-01-31T18:05:27.549Z"
   },
   {
    "duration": 32,
    "start_time": "2024-01-31T18:05:27.606Z"
   },
   {
    "duration": 30,
    "start_time": "2024-01-31T18:05:27.639Z"
   },
   {
    "duration": 37,
    "start_time": "2024-01-31T18:05:27.671Z"
   },
   {
    "duration": 10,
    "start_time": "2024-01-31T18:05:27.710Z"
   },
   {
    "duration": 13,
    "start_time": "2024-01-31T18:05:27.722Z"
   },
   {
    "duration": 18,
    "start_time": "2024-01-31T18:05:27.737Z"
   },
   {
    "duration": 6,
    "start_time": "2024-01-31T18:05:27.757Z"
   },
   {
    "duration": 17,
    "start_time": "2024-01-31T18:05:27.765Z"
   },
   {
    "duration": 13,
    "start_time": "2024-01-31T18:05:27.783Z"
   },
   {
    "duration": 8,
    "start_time": "2024-01-31T18:05:27.798Z"
   },
   {
    "duration": 5,
    "start_time": "2024-01-31T18:05:27.807Z"
   },
   {
    "duration": 5,
    "start_time": "2024-01-31T18:05:27.816Z"
   },
   {
    "duration": 18,
    "start_time": "2024-01-31T18:05:27.823Z"
   },
   {
    "duration": 18,
    "start_time": "2024-01-31T18:05:27.843Z"
   },
   {
    "duration": 20,
    "start_time": "2024-01-31T18:05:27.863Z"
   },
   {
    "duration": 249,
    "start_time": "2024-01-31T18:05:27.885Z"
   },
   {
    "duration": 166,
    "start_time": "2024-01-31T18:05:28.136Z"
   },
   {
    "duration": 1281,
    "start_time": "2024-01-31T18:05:28.304Z"
   },
   {
    "duration": 48,
    "start_time": "2024-01-31T18:05:29.587Z"
   },
   {
    "duration": 11,
    "start_time": "2024-01-31T18:05:29.637Z"
   },
   {
    "duration": 166,
    "start_time": "2024-01-31T18:05:29.650Z"
   },
   {
    "duration": 8,
    "start_time": "2024-01-31T18:05:29.818Z"
   },
   {
    "duration": 17,
    "start_time": "2024-01-31T18:05:29.827Z"
   },
   {
    "duration": 8,
    "start_time": "2024-01-31T18:05:29.846Z"
   },
   {
    "duration": 220,
    "start_time": "2024-01-31T18:05:29.856Z"
   },
   {
    "duration": 8,
    "start_time": "2024-01-31T18:05:30.081Z"
   },
   {
    "duration": 48,
    "start_time": "2024-01-31T18:05:30.090Z"
   },
   {
    "duration": 209,
    "start_time": "2024-01-31T18:05:30.139Z"
   },
   {
    "duration": 21,
    "start_time": "2024-01-31T18:05:30.350Z"
   },
   {
    "duration": 35,
    "start_time": "2024-01-31T18:05:30.381Z"
   },
   {
    "duration": 51,
    "start_time": "2024-01-31T18:05:30.418Z"
   },
   {
    "duration": 27,
    "start_time": "2024-01-31T18:05:30.470Z"
   },
   {
    "duration": 40,
    "start_time": "2024-01-31T18:05:30.499Z"
   },
   {
    "duration": 42,
    "start_time": "2024-01-31T18:05:30.541Z"
   },
   {
    "duration": 37,
    "start_time": "2024-01-31T18:05:30.585Z"
   },
   {
    "duration": 164,
    "start_time": "2024-01-31T18:05:30.624Z"
   },
   {
    "duration": 0,
    "start_time": "2024-01-31T18:05:30.789Z"
   },
   {
    "duration": 0,
    "start_time": "2024-01-31T18:05:30.790Z"
   },
   {
    "duration": 14,
    "start_time": "2024-01-31T18:05:55.878Z"
   },
   {
    "duration": 17,
    "start_time": "2024-01-31T18:05:57.860Z"
   },
   {
    "duration": 25,
    "start_time": "2024-01-31T18:06:02.436Z"
   },
   {
    "duration": 9,
    "start_time": "2024-01-31T18:06:26.740Z"
   },
   {
    "duration": 1542,
    "start_time": "2024-01-31T18:06:49.246Z"
   },
   {
    "duration": 54,
    "start_time": "2024-01-31T18:06:50.790Z"
   },
   {
    "duration": 40,
    "start_time": "2024-01-31T18:06:50.846Z"
   },
   {
    "duration": 35,
    "start_time": "2024-01-31T18:06:50.888Z"
   },
   {
    "duration": 38,
    "start_time": "2024-01-31T18:06:50.926Z"
   },
   {
    "duration": 10,
    "start_time": "2024-01-31T18:06:50.965Z"
   },
   {
    "duration": 18,
    "start_time": "2024-01-31T18:06:50.977Z"
   },
   {
    "duration": 13,
    "start_time": "2024-01-31T18:06:50.997Z"
   },
   {
    "duration": 13,
    "start_time": "2024-01-31T18:06:51.012Z"
   },
   {
    "duration": 7,
    "start_time": "2024-01-31T18:06:51.027Z"
   },
   {
    "duration": 11,
    "start_time": "2024-01-31T18:06:51.036Z"
   },
   {
    "duration": 15,
    "start_time": "2024-01-31T18:06:51.049Z"
   },
   {
    "duration": 7,
    "start_time": "2024-01-31T18:06:51.066Z"
   },
   {
    "duration": 5,
    "start_time": "2024-01-31T18:06:51.081Z"
   },
   {
    "duration": 16,
    "start_time": "2024-01-31T18:06:51.088Z"
   },
   {
    "duration": 16,
    "start_time": "2024-01-31T18:06:51.105Z"
   },
   {
    "duration": 16,
    "start_time": "2024-01-31T18:06:51.122Z"
   },
   {
    "duration": 264,
    "start_time": "2024-01-31T18:06:51.139Z"
   },
   {
    "duration": 172,
    "start_time": "2024-01-31T18:06:51.404Z"
   },
   {
    "duration": 1271,
    "start_time": "2024-01-31T18:06:51.578Z"
   },
   {
    "duration": 53,
    "start_time": "2024-01-31T18:06:52.851Z"
   },
   {
    "duration": 9,
    "start_time": "2024-01-31T18:06:52.905Z"
   },
   {
    "duration": 159,
    "start_time": "2024-01-31T18:06:52.916Z"
   },
   {
    "duration": 10,
    "start_time": "2024-01-31T18:06:53.077Z"
   },
   {
    "duration": 11,
    "start_time": "2024-01-31T18:06:53.088Z"
   },
   {
    "duration": 7,
    "start_time": "2024-01-31T18:06:53.102Z"
   },
   {
    "duration": 219,
    "start_time": "2024-01-31T18:06:53.111Z"
   },
   {
    "duration": 8,
    "start_time": "2024-01-31T18:06:53.332Z"
   },
   {
    "duration": 31,
    "start_time": "2024-01-31T18:06:53.341Z"
   },
   {
    "duration": 219,
    "start_time": "2024-01-31T18:06:53.375Z"
   },
   {
    "duration": 23,
    "start_time": "2024-01-31T18:06:53.596Z"
   },
   {
    "duration": 11,
    "start_time": "2024-01-31T18:06:53.621Z"
   },
   {
    "duration": 16,
    "start_time": "2024-01-31T18:06:53.634Z"
   },
   {
    "duration": 9,
    "start_time": "2024-01-31T18:06:53.652Z"
   },
   {
    "duration": 9,
    "start_time": "2024-01-31T18:06:53.683Z"
   },
   {
    "duration": 11,
    "start_time": "2024-01-31T18:06:53.694Z"
   },
   {
    "duration": 16,
    "start_time": "2024-01-31T18:06:53.706Z"
   },
   {
    "duration": 152,
    "start_time": "2024-01-31T18:06:53.724Z"
   },
   {
    "duration": 0,
    "start_time": "2024-01-31T18:06:53.878Z"
   },
   {
    "duration": 0,
    "start_time": "2024-01-31T18:06:53.879Z"
   },
   {
    "duration": 19,
    "start_time": "2024-01-31T18:07:37.610Z"
   },
   {
    "duration": 18,
    "start_time": "2024-01-31T18:08:05.172Z"
   },
   {
    "duration": 21,
    "start_time": "2024-01-31T18:09:26.075Z"
   },
   {
    "duration": 21,
    "start_time": "2024-01-31T18:09:30.875Z"
   },
   {
    "duration": 15,
    "start_time": "2024-01-31T18:09:46.370Z"
   },
   {
    "duration": 19,
    "start_time": "2024-01-31T18:09:56.987Z"
   },
   {
    "duration": 15,
    "start_time": "2024-01-31T18:10:32.138Z"
   },
   {
    "duration": 23,
    "start_time": "2024-01-31T18:10:39.017Z"
   },
   {
    "duration": 17,
    "start_time": "2024-01-31T18:10:50.220Z"
   },
   {
    "duration": 16,
    "start_time": "2024-01-31T18:11:00.382Z"
   },
   {
    "duration": 17,
    "start_time": "2024-01-31T18:11:14.961Z"
   },
   {
    "duration": 17,
    "start_time": "2024-01-31T18:11:21.343Z"
   },
   {
    "duration": 17,
    "start_time": "2024-01-31T18:11:21.868Z"
   },
   {
    "duration": 14,
    "start_time": "2024-01-31T18:11:42.506Z"
   },
   {
    "duration": 12,
    "start_time": "2024-01-31T18:12:34.587Z"
   },
   {
    "duration": 9,
    "start_time": "2024-01-31T18:12:52.876Z"
   },
   {
    "duration": 20,
    "start_time": "2024-01-31T18:13:37.941Z"
   },
   {
    "duration": 17,
    "start_time": "2024-01-31T18:13:48.166Z"
   },
   {
    "duration": 16,
    "start_time": "2024-01-31T18:13:56.683Z"
   },
   {
    "duration": 13,
    "start_time": "2024-01-31T18:16:22.707Z"
   },
   {
    "duration": 8,
    "start_time": "2024-01-31T18:16:33.963Z"
   },
   {
    "duration": 20,
    "start_time": "2024-01-31T18:16:37.329Z"
   },
   {
    "duration": 7,
    "start_time": "2024-01-31T18:18:34.701Z"
   },
   {
    "duration": 15,
    "start_time": "2024-01-31T18:18:36.716Z"
   },
   {
    "duration": 9,
    "start_time": "2024-01-31T18:19:06.774Z"
   },
   {
    "duration": 15,
    "start_time": "2024-01-31T18:19:08.579Z"
   },
   {
    "duration": 7,
    "start_time": "2024-01-31T18:19:26.490Z"
   },
   {
    "duration": 17,
    "start_time": "2024-01-31T18:19:28.512Z"
   },
   {
    "duration": 16,
    "start_time": "2024-01-31T18:21:21.654Z"
   },
   {
    "duration": 13,
    "start_time": "2024-01-31T18:22:22.544Z"
   },
   {
    "duration": 1547,
    "start_time": "2024-01-31T18:22:34.953Z"
   },
   {
    "duration": 55,
    "start_time": "2024-01-31T18:22:36.502Z"
   },
   {
    "duration": 33,
    "start_time": "2024-01-31T18:22:36.559Z"
   },
   {
    "duration": 29,
    "start_time": "2024-01-31T18:22:36.594Z"
   },
   {
    "duration": 38,
    "start_time": "2024-01-31T18:22:36.625Z"
   },
   {
    "duration": 9,
    "start_time": "2024-01-31T18:22:36.664Z"
   },
   {
    "duration": 6,
    "start_time": "2024-01-31T18:22:36.675Z"
   },
   {
    "duration": 7,
    "start_time": "2024-01-31T18:22:36.682Z"
   },
   {
    "duration": 5,
    "start_time": "2024-01-31T18:22:36.691Z"
   },
   {
    "duration": 8,
    "start_time": "2024-01-31T18:22:36.698Z"
   },
   {
    "duration": 7,
    "start_time": "2024-01-31T18:22:36.707Z"
   },
   {
    "duration": 8,
    "start_time": "2024-01-31T18:22:36.715Z"
   },
   {
    "duration": 6,
    "start_time": "2024-01-31T18:22:36.724Z"
   },
   {
    "duration": 48,
    "start_time": "2024-01-31T18:22:36.734Z"
   },
   {
    "duration": 7,
    "start_time": "2024-01-31T18:22:36.783Z"
   },
   {
    "duration": 9,
    "start_time": "2024-01-31T18:22:36.791Z"
   },
   {
    "duration": 26,
    "start_time": "2024-01-31T18:22:36.802Z"
   },
   {
    "duration": 269,
    "start_time": "2024-01-31T18:22:36.832Z"
   },
   {
    "duration": 160,
    "start_time": "2024-01-31T18:22:37.103Z"
   },
   {
    "duration": 1278,
    "start_time": "2024-01-31T18:22:37.265Z"
   },
   {
    "duration": 44,
    "start_time": "2024-01-31T18:22:38.544Z"
   },
   {
    "duration": 7,
    "start_time": "2024-01-31T18:22:38.589Z"
   },
   {
    "duration": 149,
    "start_time": "2024-01-31T18:22:38.598Z"
   },
   {
    "duration": 7,
    "start_time": "2024-01-31T18:22:38.749Z"
   },
   {
    "duration": 25,
    "start_time": "2024-01-31T18:22:38.757Z"
   },
   {
    "duration": 7,
    "start_time": "2024-01-31T18:22:38.784Z"
   },
   {
    "duration": 203,
    "start_time": "2024-01-31T18:22:38.793Z"
   },
   {
    "duration": 7,
    "start_time": "2024-01-31T18:22:38.997Z"
   },
   {
    "duration": 11,
    "start_time": "2024-01-31T18:22:39.006Z"
   },
   {
    "duration": 150,
    "start_time": "2024-01-31T18:22:39.019Z"
   },
   {
    "duration": 28,
    "start_time": "2024-01-31T18:22:39.171Z"
   },
   {
    "duration": 7,
    "start_time": "2024-01-31T18:22:39.201Z"
   },
   {
    "duration": 15,
    "start_time": "2024-01-31T18:22:39.209Z"
   },
   {
    "duration": 8,
    "start_time": "2024-01-31T18:22:39.226Z"
   },
   {
    "duration": 6,
    "start_time": "2024-01-31T18:22:39.236Z"
   },
   {
    "duration": 43,
    "start_time": "2024-01-31T18:22:39.243Z"
   },
   {
    "duration": 4,
    "start_time": "2024-01-31T18:22:39.288Z"
   },
   {
    "duration": 10,
    "start_time": "2024-01-31T18:22:39.294Z"
   },
   {
    "duration": 18,
    "start_time": "2024-01-31T18:22:39.305Z"
   },
   {
    "duration": 8,
    "start_time": "2024-01-31T18:22:39.324Z"
   },
   {
    "duration": 47,
    "start_time": "2024-01-31T18:22:39.336Z"
   },
   {
    "duration": 13,
    "start_time": "2024-01-31T18:22:39.385Z"
   },
   {
    "duration": 129,
    "start_time": "2024-01-31T18:23:50.713Z"
   },
   {
    "duration": 18,
    "start_time": "2024-01-31T18:23:58.494Z"
   },
   {
    "duration": 14,
    "start_time": "2024-01-31T18:24:50.703Z"
   },
   {
    "duration": 7,
    "start_time": "2024-01-31T18:25:15.312Z"
   },
   {
    "duration": 15,
    "start_time": "2024-01-31T18:25:16.924Z"
   },
   {
    "duration": 75,
    "start_time": "2024-01-31T18:25:53.054Z"
   },
   {
    "duration": 8,
    "start_time": "2024-01-31T18:26:00.254Z"
   },
   {
    "duration": 17,
    "start_time": "2024-01-31T18:26:02.178Z"
   },
   {
    "duration": 14,
    "start_time": "2024-01-31T18:26:12.429Z"
   },
   {
    "duration": 2910,
    "start_time": "2024-01-31T18:30:44.258Z"
   },
   {
    "duration": 16,
    "start_time": "2024-01-31T18:45:54.187Z"
   },
   {
    "duration": 3,
    "start_time": "2024-01-31T18:45:57.591Z"
   },
   {
    "duration": 7,
    "start_time": "2024-01-31T18:45:59.008Z"
   },
   {
    "duration": 4,
    "start_time": "2024-01-31T18:48:15.754Z"
   },
   {
    "duration": 14,
    "start_time": "2024-01-31T18:53:24.211Z"
   },
   {
    "duration": 2727,
    "start_time": "2024-01-31T18:54:49.429Z"
   },
   {
    "duration": 896,
    "start_time": "2024-01-31T18:58:14.576Z"
   },
   {
    "duration": 2789,
    "start_time": "2024-01-31T18:58:29.269Z"
   },
   {
    "duration": 225,
    "start_time": "2024-01-31T18:59:40.145Z"
   },
   {
    "duration": 3048,
    "start_time": "2024-01-31T18:59:47.559Z"
   },
   {
    "duration": 2898,
    "start_time": "2024-01-31T19:00:00.106Z"
   },
   {
    "duration": 4601,
    "start_time": "2024-02-01T10:42:48.315Z"
   },
   {
    "duration": 90,
    "start_time": "2024-02-01T10:42:52.918Z"
   },
   {
    "duration": 67,
    "start_time": "2024-02-01T10:42:53.010Z"
   },
   {
    "duration": 95,
    "start_time": "2024-02-01T10:42:53.078Z"
   },
   {
    "duration": 64,
    "start_time": "2024-02-01T10:42:53.175Z"
   },
   {
    "duration": 10,
    "start_time": "2024-02-01T10:42:53.241Z"
   },
   {
    "duration": 17,
    "start_time": "2024-02-01T10:42:53.252Z"
   },
   {
    "duration": 20,
    "start_time": "2024-02-01T10:42:53.271Z"
   },
   {
    "duration": 15,
    "start_time": "2024-02-01T10:42:53.293Z"
   },
   {
    "duration": 19,
    "start_time": "2024-02-01T10:42:53.310Z"
   },
   {
    "duration": 51,
    "start_time": "2024-02-01T10:42:53.330Z"
   },
   {
    "duration": 16,
    "start_time": "2024-02-01T10:42:53.382Z"
   },
   {
    "duration": 23,
    "start_time": "2024-02-01T10:42:53.400Z"
   },
   {
    "duration": 17,
    "start_time": "2024-02-01T10:42:53.425Z"
   },
   {
    "duration": 19,
    "start_time": "2024-02-01T10:42:53.444Z"
   },
   {
    "duration": 15,
    "start_time": "2024-02-01T10:42:53.465Z"
   },
   {
    "duration": 31,
    "start_time": "2024-02-01T10:42:53.482Z"
   },
   {
    "duration": 219,
    "start_time": "2024-02-01T10:42:53.514Z"
   },
   {
    "duration": 142,
    "start_time": "2024-02-01T10:42:53.735Z"
   },
   {
    "duration": 1089,
    "start_time": "2024-02-01T10:42:53.879Z"
   },
   {
    "duration": 31,
    "start_time": "2024-02-01T10:42:54.970Z"
   },
   {
    "duration": 8,
    "start_time": "2024-02-01T10:42:55.002Z"
   },
   {
    "duration": 149,
    "start_time": "2024-02-01T10:42:55.011Z"
   },
   {
    "duration": 7,
    "start_time": "2024-02-01T10:42:55.162Z"
   },
   {
    "duration": 19,
    "start_time": "2024-02-01T10:42:55.170Z"
   },
   {
    "duration": 10,
    "start_time": "2024-02-01T10:42:55.191Z"
   },
   {
    "duration": 162,
    "start_time": "2024-02-01T10:42:55.203Z"
   },
   {
    "duration": 7,
    "start_time": "2024-02-01T10:42:55.366Z"
   },
   {
    "duration": 22,
    "start_time": "2024-02-01T10:42:55.375Z"
   },
   {
    "duration": 132,
    "start_time": "2024-02-01T10:42:55.399Z"
   },
   {
    "duration": 25,
    "start_time": "2024-02-01T10:42:55.532Z"
   },
   {
    "duration": 7,
    "start_time": "2024-02-01T10:42:55.558Z"
   },
   {
    "duration": 14,
    "start_time": "2024-02-01T10:42:55.566Z"
   },
   {
    "duration": 8,
    "start_time": "2024-02-01T10:42:55.582Z"
   },
   {
    "duration": 32,
    "start_time": "2024-02-01T10:42:55.591Z"
   },
   {
    "duration": 28,
    "start_time": "2024-02-01T10:42:55.624Z"
   },
   {
    "duration": 13,
    "start_time": "2024-02-01T10:42:55.654Z"
   },
   {
    "duration": 13,
    "start_time": "2024-02-01T10:42:55.668Z"
   },
   {
    "duration": 41,
    "start_time": "2024-02-01T10:42:55.683Z"
   },
   {
    "duration": 60,
    "start_time": "2024-02-01T10:42:55.725Z"
   },
   {
    "duration": 46,
    "start_time": "2024-02-01T10:42:55.790Z"
   },
   {
    "duration": 29,
    "start_time": "2024-02-01T10:42:55.837Z"
   },
   {
    "duration": 27,
    "start_time": "2024-02-01T10:42:55.868Z"
   },
   {
    "duration": 3237,
    "start_time": "2024-02-01T10:42:55.897Z"
   },
   {
    "duration": 3,
    "start_time": "2024-02-01T10:42:59.137Z"
   },
   {
    "duration": 39,
    "start_time": "2024-02-01T10:42:59.142Z"
   },
   {
    "duration": 13,
    "start_time": "2024-02-03T11:48:33.846Z"
   },
   {
    "duration": 14,
    "start_time": "2024-02-03T11:48:50.969Z"
   },
   {
    "duration": 107,
    "start_time": "2024-02-03T12:06:06.859Z"
   },
   {
    "duration": 4,
    "start_time": "2024-02-03T12:06:17.175Z"
   },
   {
    "duration": 3,
    "start_time": "2024-02-03T12:06:30.290Z"
   },
   {
    "duration": 5,
    "start_time": "2024-02-03T12:08:54.680Z"
   },
   {
    "duration": 7,
    "start_time": "2024-02-03T12:09:27.322Z"
   },
   {
    "duration": 4,
    "start_time": "2024-02-03T12:09:51.604Z"
   },
   {
    "duration": 6,
    "start_time": "2024-02-03T12:14:18.796Z"
   },
   {
    "duration": 13,
    "start_time": "2024-02-03T12:14:50.807Z"
   },
   {
    "duration": 10,
    "start_time": "2024-02-03T12:14:55.235Z"
   },
   {
    "duration": 6,
    "start_time": "2024-02-03T12:15:54.746Z"
   },
   {
    "duration": 7,
    "start_time": "2024-02-03T12:16:06.890Z"
   },
   {
    "duration": 8,
    "start_time": "2024-02-03T12:16:13.523Z"
   },
   {
    "duration": 4,
    "start_time": "2024-02-03T12:17:56.680Z"
   },
   {
    "duration": 6,
    "start_time": "2024-02-03T12:18:36.078Z"
   },
   {
    "duration": 12,
    "start_time": "2024-02-03T12:28:33.758Z"
   },
   {
    "duration": 10,
    "start_time": "2024-02-03T12:28:40.088Z"
   },
   {
    "duration": 12,
    "start_time": "2024-02-03T12:28:43.934Z"
   },
   {
    "duration": 13,
    "start_time": "2024-02-03T12:28:51.093Z"
   },
   {
    "duration": 11,
    "start_time": "2024-02-03T12:30:25.538Z"
   },
   {
    "duration": 6,
    "start_time": "2024-02-03T12:30:33.025Z"
   },
   {
    "duration": 7,
    "start_time": "2024-02-03T12:31:02.029Z"
   },
   {
    "duration": 6,
    "start_time": "2024-02-03T12:31:29.866Z"
   },
   {
    "duration": 1419,
    "start_time": "2024-02-03T13:36:58.739Z"
   },
   {
    "duration": 54,
    "start_time": "2024-02-03T13:37:00.160Z"
   },
   {
    "duration": 29,
    "start_time": "2024-02-03T13:37:00.216Z"
   },
   {
    "duration": 52,
    "start_time": "2024-02-03T13:37:00.246Z"
   },
   {
    "duration": 55,
    "start_time": "2024-02-03T13:37:00.300Z"
   },
   {
    "duration": 26,
    "start_time": "2024-02-03T13:37:00.357Z"
   },
   {
    "duration": 51,
    "start_time": "2024-02-03T13:37:00.384Z"
   },
   {
    "duration": 33,
    "start_time": "2024-02-03T13:37:00.437Z"
   },
   {
    "duration": 43,
    "start_time": "2024-02-03T13:37:00.472Z"
   },
   {
    "duration": 73,
    "start_time": "2024-02-03T13:37:00.517Z"
   },
   {
    "duration": 88,
    "start_time": "2024-02-03T13:37:00.592Z"
   },
   {
    "duration": 58,
    "start_time": "2024-02-03T13:37:00.682Z"
   },
   {
    "duration": 67,
    "start_time": "2024-02-03T13:37:00.741Z"
   },
   {
    "duration": 37,
    "start_time": "2024-02-03T13:37:00.810Z"
   },
   {
    "duration": 34,
    "start_time": "2024-02-03T13:37:00.848Z"
   },
   {
    "duration": 32,
    "start_time": "2024-02-03T13:37:00.884Z"
   },
   {
    "duration": 50,
    "start_time": "2024-02-03T13:37:00.917Z"
   },
   {
    "duration": 249,
    "start_time": "2024-02-03T13:37:00.968Z"
   },
   {
    "duration": 136,
    "start_time": "2024-02-03T13:37:01.219Z"
   },
   {
    "duration": 1101,
    "start_time": "2024-02-03T13:37:01.357Z"
   },
   {
    "duration": 29,
    "start_time": "2024-02-03T13:37:02.460Z"
   },
   {
    "duration": 7,
    "start_time": "2024-02-03T13:37:02.490Z"
   },
   {
    "duration": 142,
    "start_time": "2024-02-03T13:37:02.498Z"
   },
   {
    "duration": 8,
    "start_time": "2024-02-03T13:37:02.641Z"
   },
   {
    "duration": 8,
    "start_time": "2024-02-03T13:37:02.650Z"
   },
   {
    "duration": 7,
    "start_time": "2024-02-03T13:37:02.660Z"
   },
   {
    "duration": 186,
    "start_time": "2024-02-03T13:37:02.669Z"
   },
   {
    "duration": 8,
    "start_time": "2024-02-03T13:37:02.857Z"
   },
   {
    "duration": 12,
    "start_time": "2024-02-03T13:37:02.867Z"
   },
   {
    "duration": 137,
    "start_time": "2024-02-03T13:37:02.885Z"
   },
   {
    "duration": 21,
    "start_time": "2024-02-03T13:37:03.024Z"
   },
   {
    "duration": 5,
    "start_time": "2024-02-03T13:37:03.046Z"
   },
   {
    "duration": 8,
    "start_time": "2024-02-03T13:37:03.053Z"
   },
   {
    "duration": 2,
    "start_time": "2024-02-03T13:37:03.062Z"
   },
   {
    "duration": 5,
    "start_time": "2024-02-03T13:37:03.065Z"
   },
   {
    "duration": 23,
    "start_time": "2024-02-03T13:37:03.071Z"
   },
   {
    "duration": 5,
    "start_time": "2024-02-03T13:37:03.095Z"
   },
   {
    "duration": 10,
    "start_time": "2024-02-03T13:37:03.101Z"
   },
   {
    "duration": 30,
    "start_time": "2024-02-03T13:37:03.113Z"
   },
   {
    "duration": 7,
    "start_time": "2024-02-03T13:37:03.144Z"
   },
   {
    "duration": 6,
    "start_time": "2024-02-03T13:37:03.154Z"
   },
   {
    "duration": 14,
    "start_time": "2024-02-03T13:37:03.162Z"
   },
   {
    "duration": 13,
    "start_time": "2024-02-03T13:37:03.177Z"
   },
   {
    "duration": 3242,
    "start_time": "2024-02-03T13:37:03.191Z"
   },
   {
    "duration": 10,
    "start_time": "2024-02-03T13:37:06.435Z"
   },
   {
    "duration": 13,
    "start_time": "2024-02-03T13:37:06.446Z"
   },
   {
    "duration": 25,
    "start_time": "2024-02-03T13:37:06.460Z"
   },
   {
    "duration": 16,
    "start_time": "2024-02-03T13:37:06.487Z"
   },
   {
    "duration": 5,
    "start_time": "2024-02-03T13:37:06.505Z"
   },
   {
    "duration": 2,
    "start_time": "2024-02-03T13:37:06.512Z"
   },
   {
    "duration": 6,
    "start_time": "2024-02-03T13:37:06.515Z"
   },
   {
    "duration": 11,
    "start_time": "2024-02-03T13:37:06.522Z"
   },
   {
    "duration": 6,
    "start_time": "2024-02-03T13:37:06.535Z"
   },
   {
    "duration": 5,
    "start_time": "2024-02-03T13:37:06.543Z"
   },
   {
    "duration": 108,
    "start_time": "2024-02-03T13:37:06.549Z"
   },
   {
    "duration": 0,
    "start_time": "2024-02-03T13:37:06.658Z"
   },
   {
    "duration": 0,
    "start_time": "2024-02-03T13:37:06.659Z"
   },
   {
    "duration": 3,
    "start_time": "2024-02-03T13:41:34.963Z"
   },
   {
    "duration": 18,
    "start_time": "2024-02-03T13:41:37.490Z"
   },
   {
    "duration": 8,
    "start_time": "2024-02-03T13:41:42.364Z"
   },
   {
    "duration": 6,
    "start_time": "2024-02-03T13:42:40.709Z"
   },
   {
    "duration": 8,
    "start_time": "2024-02-03T13:42:47.889Z"
   },
   {
    "duration": 4,
    "start_time": "2024-02-03T13:42:53.229Z"
   },
   {
    "duration": 7,
    "start_time": "2024-02-03T13:45:46.732Z"
   },
   {
    "duration": 8,
    "start_time": "2024-02-03T13:45:58.363Z"
   },
   {
    "duration": 8,
    "start_time": "2024-02-03T13:46:48.513Z"
   },
   {
    "duration": 2,
    "start_time": "2024-02-03T13:46:56.661Z"
   },
   {
    "duration": 1823,
    "start_time": "2024-02-03T13:47:01.437Z"
   },
   {
    "duration": 1508,
    "start_time": "2024-02-03T13:47:14.246Z"
   },
   {
    "duration": 54,
    "start_time": "2024-02-03T13:47:15.757Z"
   },
   {
    "duration": 30,
    "start_time": "2024-02-03T13:47:15.813Z"
   },
   {
    "duration": 34,
    "start_time": "2024-02-03T13:47:15.846Z"
   },
   {
    "duration": 42,
    "start_time": "2024-02-03T13:47:15.882Z"
   },
   {
    "duration": 11,
    "start_time": "2024-02-03T13:47:15.926Z"
   },
   {
    "duration": 7,
    "start_time": "2024-02-03T13:47:15.938Z"
   },
   {
    "duration": 9,
    "start_time": "2024-02-03T13:47:15.947Z"
   },
   {
    "duration": 5,
    "start_time": "2024-02-03T13:47:15.958Z"
   },
   {
    "duration": 6,
    "start_time": "2024-02-03T13:47:15.964Z"
   },
   {
    "duration": 13,
    "start_time": "2024-02-03T13:47:15.971Z"
   },
   {
    "duration": 7,
    "start_time": "2024-02-03T13:47:15.986Z"
   },
   {
    "duration": 4,
    "start_time": "2024-02-03T13:47:15.995Z"
   },
   {
    "duration": 5,
    "start_time": "2024-02-03T13:47:16.032Z"
   },
   {
    "duration": 5,
    "start_time": "2024-02-03T13:47:16.039Z"
   },
   {
    "duration": 7,
    "start_time": "2024-02-03T13:47:16.045Z"
   },
   {
    "duration": 11,
    "start_time": "2024-02-03T13:47:16.054Z"
   },
   {
    "duration": 301,
    "start_time": "2024-02-03T13:47:16.066Z"
   },
   {
    "duration": 150,
    "start_time": "2024-02-03T13:47:16.368Z"
   },
   {
    "duration": 1084,
    "start_time": "2024-02-03T13:47:16.519Z"
   },
   {
    "duration": 39,
    "start_time": "2024-02-03T13:47:17.605Z"
   },
   {
    "duration": 6,
    "start_time": "2024-02-03T13:47:17.645Z"
   },
   {
    "duration": 131,
    "start_time": "2024-02-03T13:47:17.653Z"
   },
   {
    "duration": 6,
    "start_time": "2024-02-03T13:47:17.786Z"
   },
   {
    "duration": 20,
    "start_time": "2024-02-03T13:47:17.794Z"
   },
   {
    "duration": 18,
    "start_time": "2024-02-03T13:47:17.816Z"
   },
   {
    "duration": 198,
    "start_time": "2024-02-03T13:47:17.835Z"
   },
   {
    "duration": 7,
    "start_time": "2024-02-03T13:47:18.034Z"
   },
   {
    "duration": 7,
    "start_time": "2024-02-03T13:47:18.042Z"
   },
   {
    "duration": 129,
    "start_time": "2024-02-03T13:47:18.050Z"
   },
   {
    "duration": 19,
    "start_time": "2024-02-03T13:47:18.180Z"
   },
   {
    "duration": 6,
    "start_time": "2024-02-03T13:47:18.201Z"
   },
   {
    "duration": 27,
    "start_time": "2024-02-03T13:47:18.209Z"
   },
   {
    "duration": 3,
    "start_time": "2024-02-03T13:47:18.237Z"
   },
   {
    "duration": 14,
    "start_time": "2024-02-03T13:47:18.242Z"
   },
   {
    "duration": 13,
    "start_time": "2024-02-03T13:47:18.258Z"
   },
   {
    "duration": 3,
    "start_time": "2024-02-03T13:47:18.273Z"
   },
   {
    "duration": 10,
    "start_time": "2024-02-03T13:47:18.278Z"
   },
   {
    "duration": 13,
    "start_time": "2024-02-03T13:47:18.289Z"
   },
   {
    "duration": 34,
    "start_time": "2024-02-03T13:47:18.304Z"
   },
   {
    "duration": 6,
    "start_time": "2024-02-03T13:47:18.341Z"
   },
   {
    "duration": 14,
    "start_time": "2024-02-03T13:47:18.348Z"
   },
   {
    "duration": 14,
    "start_time": "2024-02-03T13:47:18.364Z"
   },
   {
    "duration": 3302,
    "start_time": "2024-02-03T13:47:18.379Z"
   },
   {
    "duration": 13,
    "start_time": "2024-02-03T13:47:21.683Z"
   },
   {
    "duration": 37,
    "start_time": "2024-02-03T13:47:21.698Z"
   },
   {
    "duration": 32,
    "start_time": "2024-02-03T13:47:21.737Z"
   },
   {
    "duration": 14,
    "start_time": "2024-02-03T13:47:21.771Z"
   },
   {
    "duration": 18,
    "start_time": "2024-02-03T13:47:21.786Z"
   },
   {
    "duration": 7,
    "start_time": "2024-02-03T13:47:21.805Z"
   },
   {
    "duration": 7,
    "start_time": "2024-02-03T13:47:21.814Z"
   },
   {
    "duration": 11,
    "start_time": "2024-02-03T13:47:21.822Z"
   },
   {
    "duration": 5,
    "start_time": "2024-02-03T13:47:21.835Z"
   },
   {
    "duration": 5,
    "start_time": "2024-02-03T13:47:21.841Z"
   },
   {
    "duration": 6,
    "start_time": "2024-02-03T13:47:21.847Z"
   },
   {
    "duration": 8,
    "start_time": "2024-02-03T13:47:21.854Z"
   },
   {
    "duration": 1924,
    "start_time": "2024-02-03T13:47:21.863Z"
   },
   {
    "duration": 1354,
    "start_time": "2024-02-03T13:53:12.878Z"
   },
   {
    "duration": 50,
    "start_time": "2024-02-03T13:53:14.234Z"
   },
   {
    "duration": 30,
    "start_time": "2024-02-03T13:53:14.286Z"
   },
   {
    "duration": 27,
    "start_time": "2024-02-03T13:53:14.317Z"
   },
   {
    "duration": 35,
    "start_time": "2024-02-03T13:53:14.346Z"
   },
   {
    "duration": 9,
    "start_time": "2024-02-03T13:53:14.382Z"
   },
   {
    "duration": 5,
    "start_time": "2024-02-03T13:53:14.392Z"
   },
   {
    "duration": 6,
    "start_time": "2024-02-03T13:53:14.399Z"
   },
   {
    "duration": 6,
    "start_time": "2024-02-03T13:53:14.406Z"
   },
   {
    "duration": 5,
    "start_time": "2024-02-03T13:53:14.413Z"
   },
   {
    "duration": 16,
    "start_time": "2024-02-03T13:53:14.419Z"
   },
   {
    "duration": 6,
    "start_time": "2024-02-03T13:53:14.437Z"
   },
   {
    "duration": 5,
    "start_time": "2024-02-03T13:53:14.444Z"
   },
   {
    "duration": 13,
    "start_time": "2024-02-03T13:53:14.452Z"
   },
   {
    "duration": 6,
    "start_time": "2024-02-03T13:53:14.466Z"
   },
   {
    "duration": 7,
    "start_time": "2024-02-03T13:53:14.473Z"
   },
   {
    "duration": 11,
    "start_time": "2024-02-03T13:53:14.481Z"
   },
   {
    "duration": 236,
    "start_time": "2024-02-03T13:53:14.493Z"
   },
   {
    "duration": 147,
    "start_time": "2024-02-03T13:53:14.731Z"
   },
   {
    "duration": 1087,
    "start_time": "2024-02-03T13:53:14.880Z"
   },
   {
    "duration": 28,
    "start_time": "2024-02-03T13:53:15.969Z"
   },
   {
    "duration": 7,
    "start_time": "2024-02-03T13:53:15.998Z"
   },
   {
    "duration": 137,
    "start_time": "2024-02-03T13:53:16.006Z"
   },
   {
    "duration": 6,
    "start_time": "2024-02-03T13:53:16.145Z"
   },
   {
    "duration": 7,
    "start_time": "2024-02-03T13:53:16.152Z"
   },
   {
    "duration": 7,
    "start_time": "2024-02-03T13:53:16.161Z"
   },
   {
    "duration": 186,
    "start_time": "2024-02-03T13:53:16.169Z"
   },
   {
    "duration": 7,
    "start_time": "2024-02-03T13:53:16.357Z"
   },
   {
    "duration": 9,
    "start_time": "2024-02-03T13:53:16.366Z"
   },
   {
    "duration": 125,
    "start_time": "2024-02-03T13:53:16.377Z"
   },
   {
    "duration": 18,
    "start_time": "2024-02-03T13:53:16.503Z"
   },
   {
    "duration": 15,
    "start_time": "2024-02-03T13:53:16.522Z"
   },
   {
    "duration": 16,
    "start_time": "2024-02-03T13:53:16.538Z"
   },
   {
    "duration": 5,
    "start_time": "2024-02-03T13:53:16.556Z"
   },
   {
    "duration": 5,
    "start_time": "2024-02-03T13:53:16.562Z"
   },
   {
    "duration": 10,
    "start_time": "2024-02-03T13:53:16.568Z"
   },
   {
    "duration": 5,
    "start_time": "2024-02-03T13:53:16.580Z"
   },
   {
    "duration": 12,
    "start_time": "2024-02-03T13:53:16.586Z"
   },
   {
    "duration": 18,
    "start_time": "2024-02-03T13:53:16.599Z"
   },
   {
    "duration": 18,
    "start_time": "2024-02-03T13:53:16.619Z"
   },
   {
    "duration": 5,
    "start_time": "2024-02-03T13:53:16.641Z"
   },
   {
    "duration": 13,
    "start_time": "2024-02-03T13:53:16.647Z"
   },
   {
    "duration": 9,
    "start_time": "2024-02-03T13:53:16.662Z"
   },
   {
    "duration": 3177,
    "start_time": "2024-02-03T13:53:16.673Z"
   },
   {
    "duration": 10,
    "start_time": "2024-02-03T13:53:19.852Z"
   },
   {
    "duration": 16,
    "start_time": "2024-02-03T13:53:19.864Z"
   },
   {
    "duration": 4,
    "start_time": "2024-02-03T13:53:19.881Z"
   },
   {
    "duration": 7,
    "start_time": "2024-02-03T13:53:19.886Z"
   },
   {
    "duration": 18,
    "start_time": "2024-02-03T13:53:19.895Z"
   },
   {
    "duration": 19,
    "start_time": "2024-02-03T13:53:19.914Z"
   },
   {
    "duration": 8,
    "start_time": "2024-02-03T13:53:19.934Z"
   },
   {
    "duration": 23,
    "start_time": "2024-02-03T13:53:19.943Z"
   },
   {
    "duration": 11,
    "start_time": "2024-02-03T13:53:19.968Z"
   },
   {
    "duration": 5,
    "start_time": "2024-02-03T13:53:19.981Z"
   },
   {
    "duration": 4,
    "start_time": "2024-02-03T13:53:19.987Z"
   },
   {
    "duration": 8,
    "start_time": "2024-02-03T13:53:19.992Z"
   },
   {
    "duration": 1927,
    "start_time": "2024-02-03T13:53:20.001Z"
   },
   {
    "duration": 371,
    "start_time": "2024-02-03T14:00:14.082Z"
   },
   {
    "duration": 1377,
    "start_time": "2024-02-03T14:04:24.441Z"
   },
   {
    "duration": 51,
    "start_time": "2024-02-03T14:04:25.819Z"
   },
   {
    "duration": 29,
    "start_time": "2024-02-03T14:04:25.871Z"
   },
   {
    "duration": 27,
    "start_time": "2024-02-03T14:04:25.902Z"
   },
   {
    "duration": 34,
    "start_time": "2024-02-03T14:04:25.931Z"
   },
   {
    "duration": 10,
    "start_time": "2024-02-03T14:04:25.967Z"
   },
   {
    "duration": 22,
    "start_time": "2024-02-03T14:04:25.978Z"
   },
   {
    "duration": 7,
    "start_time": "2024-02-03T14:04:26.001Z"
   },
   {
    "duration": 5,
    "start_time": "2024-02-03T14:04:26.009Z"
   },
   {
    "duration": 14,
    "start_time": "2024-02-03T14:04:26.016Z"
   },
   {
    "duration": 7,
    "start_time": "2024-02-03T14:04:26.031Z"
   },
   {
    "duration": 7,
    "start_time": "2024-02-03T14:04:26.039Z"
   },
   {
    "duration": 5,
    "start_time": "2024-02-03T14:04:26.047Z"
   },
   {
    "duration": 6,
    "start_time": "2024-02-03T14:04:26.053Z"
   },
   {
    "duration": 7,
    "start_time": "2024-02-03T14:04:26.060Z"
   },
   {
    "duration": 7,
    "start_time": "2024-02-03T14:04:26.068Z"
   },
   {
    "duration": 24,
    "start_time": "2024-02-03T14:04:26.077Z"
   },
   {
    "duration": 240,
    "start_time": "2024-02-03T14:04:26.102Z"
   },
   {
    "duration": 152,
    "start_time": "2024-02-03T14:04:26.343Z"
   },
   {
    "duration": 1080,
    "start_time": "2024-02-03T14:04:26.497Z"
   },
   {
    "duration": 29,
    "start_time": "2024-02-03T14:04:27.579Z"
   },
   {
    "duration": 6,
    "start_time": "2024-02-03T14:04:27.610Z"
   },
   {
    "duration": 138,
    "start_time": "2024-02-03T14:04:27.617Z"
   },
   {
    "duration": 8,
    "start_time": "2024-02-03T14:04:27.757Z"
   },
   {
    "duration": 14,
    "start_time": "2024-02-03T14:04:27.767Z"
   },
   {
    "duration": 12,
    "start_time": "2024-02-03T14:04:27.783Z"
   },
   {
    "duration": 170,
    "start_time": "2024-02-03T14:04:27.796Z"
   },
   {
    "duration": 7,
    "start_time": "2024-02-03T14:04:27.970Z"
   },
   {
    "duration": 7,
    "start_time": "2024-02-03T14:04:27.979Z"
   },
   {
    "duration": 132,
    "start_time": "2024-02-03T14:04:27.988Z"
   },
   {
    "duration": 25,
    "start_time": "2024-02-03T14:04:28.122Z"
   },
   {
    "duration": 7,
    "start_time": "2024-02-03T14:04:28.149Z"
   },
   {
    "duration": 10,
    "start_time": "2024-02-03T14:04:28.158Z"
   },
   {
    "duration": 4,
    "start_time": "2024-02-03T14:04:28.170Z"
   },
   {
    "duration": 8,
    "start_time": "2024-02-03T14:04:28.176Z"
   },
   {
    "duration": 13,
    "start_time": "2024-02-03T14:04:28.186Z"
   },
   {
    "duration": 35,
    "start_time": "2024-02-03T14:04:28.201Z"
   },
   {
    "duration": 19,
    "start_time": "2024-02-03T14:04:28.238Z"
   },
   {
    "duration": 13,
    "start_time": "2024-02-03T14:04:28.258Z"
   },
   {
    "duration": 8,
    "start_time": "2024-02-03T14:04:28.273Z"
   },
   {
    "duration": 14,
    "start_time": "2024-02-03T14:04:28.282Z"
   },
   {
    "duration": 16,
    "start_time": "2024-02-03T14:04:28.297Z"
   },
   {
    "duration": 19,
    "start_time": "2024-02-03T14:04:28.314Z"
   },
   {
    "duration": 3170,
    "start_time": "2024-02-03T14:04:28.335Z"
   },
   {
    "duration": 11,
    "start_time": "2024-02-03T14:04:31.507Z"
   },
   {
    "duration": 35,
    "start_time": "2024-02-03T14:04:31.519Z"
   },
   {
    "duration": 24,
    "start_time": "2024-02-03T14:04:31.555Z"
   },
   {
    "duration": 53,
    "start_time": "2024-02-03T14:04:31.580Z"
   },
   {
    "duration": 28,
    "start_time": "2024-02-03T14:04:31.635Z"
   },
   {
    "duration": 30,
    "start_time": "2024-02-03T14:04:31.664Z"
   },
   {
    "duration": 35,
    "start_time": "2024-02-03T14:04:31.695Z"
   },
   {
    "duration": 25,
    "start_time": "2024-02-03T14:04:31.732Z"
   },
   {
    "duration": 43,
    "start_time": "2024-02-03T14:04:31.759Z"
   },
   {
    "duration": 19,
    "start_time": "2024-02-03T14:04:31.803Z"
   },
   {
    "duration": 16,
    "start_time": "2024-02-03T14:04:31.824Z"
   },
   {
    "duration": 17,
    "start_time": "2024-02-03T14:04:31.842Z"
   },
   {
    "duration": 3403,
    "start_time": "2024-02-03T14:04:31.861Z"
   },
   {
    "duration": 16438,
    "start_time": "2024-02-03T14:04:35.266Z"
   },
   {
    "duration": 93,
    "start_time": "2024-02-03T14:08:25.205Z"
   },
   {
    "duration": 1417,
    "start_time": "2024-02-03T14:19:44.761Z"
   },
   {
    "duration": 53,
    "start_time": "2024-02-03T14:19:46.181Z"
   },
   {
    "duration": 38,
    "start_time": "2024-02-03T14:19:46.236Z"
   },
   {
    "duration": 32,
    "start_time": "2024-02-03T14:19:46.276Z"
   },
   {
    "duration": 39,
    "start_time": "2024-02-03T14:19:46.310Z"
   },
   {
    "duration": 13,
    "start_time": "2024-02-03T14:19:46.351Z"
   },
   {
    "duration": 5,
    "start_time": "2024-02-03T14:19:46.366Z"
   },
   {
    "duration": 7,
    "start_time": "2024-02-03T14:19:46.372Z"
   },
   {
    "duration": 5,
    "start_time": "2024-02-03T14:19:46.381Z"
   },
   {
    "duration": 5,
    "start_time": "2024-02-03T14:19:46.388Z"
   },
   {
    "duration": 6,
    "start_time": "2024-02-03T14:19:46.394Z"
   },
   {
    "duration": 35,
    "start_time": "2024-02-03T14:19:46.401Z"
   },
   {
    "duration": 12,
    "start_time": "2024-02-03T14:19:46.438Z"
   },
   {
    "duration": 9,
    "start_time": "2024-02-03T14:19:46.452Z"
   },
   {
    "duration": 10,
    "start_time": "2024-02-03T14:19:46.463Z"
   },
   {
    "duration": 8,
    "start_time": "2024-02-03T14:19:46.475Z"
   },
   {
    "duration": 11,
    "start_time": "2024-02-03T14:19:46.484Z"
   },
   {
    "duration": 226,
    "start_time": "2024-02-03T14:19:46.496Z"
   },
   {
    "duration": 144,
    "start_time": "2024-02-03T14:19:46.723Z"
   },
   {
    "duration": 1129,
    "start_time": "2024-02-03T14:19:46.868Z"
   },
   {
    "duration": 39,
    "start_time": "2024-02-03T14:19:47.998Z"
   },
   {
    "duration": 7,
    "start_time": "2024-02-03T14:19:48.039Z"
   },
   {
    "duration": 135,
    "start_time": "2024-02-03T14:19:48.048Z"
   },
   {
    "duration": 7,
    "start_time": "2024-02-03T14:19:48.185Z"
   },
   {
    "duration": 7,
    "start_time": "2024-02-03T14:19:48.193Z"
   },
   {
    "duration": 12,
    "start_time": "2024-02-03T14:19:48.202Z"
   },
   {
    "duration": 163,
    "start_time": "2024-02-03T14:19:48.233Z"
   },
   {
    "duration": 6,
    "start_time": "2024-02-03T14:19:48.400Z"
   },
   {
    "duration": 8,
    "start_time": "2024-02-03T14:19:48.407Z"
   },
   {
    "duration": 164,
    "start_time": "2024-02-03T14:19:48.417Z"
   },
   {
    "duration": 16,
    "start_time": "2024-02-03T14:19:48.583Z"
   },
   {
    "duration": 6,
    "start_time": "2024-02-03T14:19:48.600Z"
   },
   {
    "duration": 29,
    "start_time": "2024-02-03T14:19:48.607Z"
   },
   {
    "duration": 4,
    "start_time": "2024-02-03T14:19:48.637Z"
   },
   {
    "duration": 5,
    "start_time": "2024-02-03T14:19:48.642Z"
   },
   {
    "duration": 14,
    "start_time": "2024-02-03T14:19:48.648Z"
   },
   {
    "duration": 4,
    "start_time": "2024-02-03T14:19:48.665Z"
   },
   {
    "duration": 8,
    "start_time": "2024-02-03T14:19:48.671Z"
   },
   {
    "duration": 19,
    "start_time": "2024-02-03T14:19:48.680Z"
   },
   {
    "duration": 36,
    "start_time": "2024-02-03T14:19:48.700Z"
   },
   {
    "duration": 7,
    "start_time": "2024-02-03T14:19:48.737Z"
   },
   {
    "duration": 18,
    "start_time": "2024-02-03T14:19:48.746Z"
   },
   {
    "duration": 12,
    "start_time": "2024-02-03T14:19:48.765Z"
   },
   {
    "duration": 3295,
    "start_time": "2024-02-03T14:19:48.778Z"
   },
   {
    "duration": 12,
    "start_time": "2024-02-03T14:19:52.074Z"
   },
   {
    "duration": 9,
    "start_time": "2024-02-03T14:19:52.087Z"
   },
   {
    "duration": 11,
    "start_time": "2024-02-03T14:19:52.098Z"
   },
   {
    "duration": 24,
    "start_time": "2024-02-03T14:19:52.110Z"
   },
   {
    "duration": 9,
    "start_time": "2024-02-03T14:19:52.137Z"
   },
   {
    "duration": 15,
    "start_time": "2024-02-03T14:19:52.149Z"
   },
   {
    "duration": 28,
    "start_time": "2024-02-03T14:19:52.165Z"
   },
   {
    "duration": 8,
    "start_time": "2024-02-03T14:19:52.194Z"
   },
   {
    "duration": 10,
    "start_time": "2024-02-03T14:19:52.203Z"
   },
   {
    "duration": 10,
    "start_time": "2024-02-03T14:19:52.215Z"
   },
   {
    "duration": 45390,
    "start_time": "2024-02-03T14:19:52.226Z"
   },
   {
    "duration": 1485,
    "start_time": "2024-02-03T14:21:02.611Z"
   },
   {
    "duration": 56,
    "start_time": "2024-02-03T14:21:04.098Z"
   },
   {
    "duration": 29,
    "start_time": "2024-02-03T14:21:04.156Z"
   },
   {
    "duration": 28,
    "start_time": "2024-02-03T14:21:04.186Z"
   },
   {
    "duration": 35,
    "start_time": "2024-02-03T14:21:04.216Z"
   },
   {
    "duration": 11,
    "start_time": "2024-02-03T14:21:04.253Z"
   },
   {
    "duration": 7,
    "start_time": "2024-02-03T14:21:04.265Z"
   },
   {
    "duration": 6,
    "start_time": "2024-02-03T14:21:04.273Z"
   },
   {
    "duration": 5,
    "start_time": "2024-02-03T14:21:04.281Z"
   },
   {
    "duration": 7,
    "start_time": "2024-02-03T14:21:04.287Z"
   },
   {
    "duration": 26,
    "start_time": "2024-02-03T14:21:04.295Z"
   },
   {
    "duration": 35,
    "start_time": "2024-02-03T14:21:04.322Z"
   },
   {
    "duration": 18,
    "start_time": "2024-02-03T14:21:04.359Z"
   },
   {
    "duration": 36,
    "start_time": "2024-02-03T14:21:04.379Z"
   },
   {
    "duration": 57,
    "start_time": "2024-02-03T14:21:04.417Z"
   },
   {
    "duration": 56,
    "start_time": "2024-02-03T14:21:04.476Z"
   },
   {
    "duration": 48,
    "start_time": "2024-02-03T14:21:04.533Z"
   },
   {
    "duration": 237,
    "start_time": "2024-02-03T14:21:04.583Z"
   },
   {
    "duration": 157,
    "start_time": "2024-02-03T14:21:04.821Z"
   },
   {
    "duration": 1174,
    "start_time": "2024-02-03T14:21:04.979Z"
   },
   {
    "duration": 31,
    "start_time": "2024-02-03T14:21:06.156Z"
   },
   {
    "duration": 7,
    "start_time": "2024-02-03T14:21:06.188Z"
   },
   {
    "duration": 157,
    "start_time": "2024-02-03T14:21:06.196Z"
   },
   {
    "duration": 7,
    "start_time": "2024-02-03T14:21:06.354Z"
   },
   {
    "duration": 15,
    "start_time": "2024-02-03T14:21:06.363Z"
   },
   {
    "duration": 33,
    "start_time": "2024-02-03T14:21:06.380Z"
   },
   {
    "duration": 196,
    "start_time": "2024-02-03T14:21:06.414Z"
   },
   {
    "duration": 6,
    "start_time": "2024-02-03T14:21:06.612Z"
   },
   {
    "duration": 23,
    "start_time": "2024-02-03T14:21:06.620Z"
   },
   {
    "duration": 142,
    "start_time": "2024-02-03T14:21:06.645Z"
   },
   {
    "duration": 17,
    "start_time": "2024-02-03T14:21:06.788Z"
   },
   {
    "duration": 14,
    "start_time": "2024-02-03T14:21:06.806Z"
   },
   {
    "duration": 30,
    "start_time": "2024-02-03T14:21:06.821Z"
   },
   {
    "duration": 12,
    "start_time": "2024-02-03T14:21:06.853Z"
   },
   {
    "duration": 34,
    "start_time": "2024-02-03T14:21:06.867Z"
   },
   {
    "duration": 23,
    "start_time": "2024-02-03T14:21:06.902Z"
   },
   {
    "duration": 25,
    "start_time": "2024-02-03T14:21:06.927Z"
   },
   {
    "duration": 24,
    "start_time": "2024-02-03T14:21:06.955Z"
   },
   {
    "duration": 22,
    "start_time": "2024-02-03T14:21:06.980Z"
   },
   {
    "duration": 8,
    "start_time": "2024-02-03T14:21:07.003Z"
   },
   {
    "duration": 29,
    "start_time": "2024-02-03T14:21:07.015Z"
   },
   {
    "duration": 30,
    "start_time": "2024-02-03T14:21:07.046Z"
   },
   {
    "duration": 28,
    "start_time": "2024-02-03T14:21:07.077Z"
   },
   {
    "duration": 3539,
    "start_time": "2024-02-03T14:21:07.106Z"
   },
   {
    "duration": 20,
    "start_time": "2024-02-03T14:21:10.647Z"
   },
   {
    "duration": 7,
    "start_time": "2024-02-03T14:21:10.669Z"
   },
   {
    "duration": 7,
    "start_time": "2024-02-03T14:21:10.677Z"
   },
   {
    "duration": 6,
    "start_time": "2024-02-03T14:21:10.685Z"
   },
   {
    "duration": 24,
    "start_time": "2024-02-03T14:21:10.693Z"
   },
   {
    "duration": 4,
    "start_time": "2024-02-03T14:21:10.734Z"
   },
   {
    "duration": 7,
    "start_time": "2024-02-03T14:21:10.740Z"
   },
   {
    "duration": 4,
    "start_time": "2024-02-03T14:21:10.749Z"
   },
   {
    "duration": 4,
    "start_time": "2024-02-03T14:21:10.755Z"
   },
   {
    "duration": 5,
    "start_time": "2024-02-03T14:21:10.760Z"
   },
   {
    "duration": 16316,
    "start_time": "2024-02-03T14:21:10.766Z"
   },
   {
    "duration": 15937,
    "start_time": "2024-02-03T14:22:51.076Z"
   },
   {
    "duration": 16317,
    "start_time": "2024-02-03T14:23:11.838Z"
   },
   {
    "duration": 27,
    "start_time": "2024-02-03T14:23:54.239Z"
   },
   {
    "duration": 1389,
    "start_time": "2024-02-03T14:24:02.027Z"
   },
   {
    "duration": 52,
    "start_time": "2024-02-03T14:24:03.418Z"
   },
   {
    "duration": 30,
    "start_time": "2024-02-03T14:24:03.471Z"
   },
   {
    "duration": 28,
    "start_time": "2024-02-03T14:24:03.503Z"
   },
   {
    "duration": 46,
    "start_time": "2024-02-03T14:24:03.534Z"
   },
   {
    "duration": 9,
    "start_time": "2024-02-03T14:24:03.582Z"
   },
   {
    "duration": 39,
    "start_time": "2024-02-03T14:24:03.593Z"
   },
   {
    "duration": 50,
    "start_time": "2024-02-03T14:24:03.634Z"
   },
   {
    "duration": 47,
    "start_time": "2024-02-03T14:24:03.686Z"
   },
   {
    "duration": 39,
    "start_time": "2024-02-03T14:24:03.734Z"
   },
   {
    "duration": 25,
    "start_time": "2024-02-03T14:24:03.774Z"
   },
   {
    "duration": 36,
    "start_time": "2024-02-03T14:24:03.802Z"
   },
   {
    "duration": 20,
    "start_time": "2024-02-03T14:24:03.840Z"
   },
   {
    "duration": 26,
    "start_time": "2024-02-03T14:24:03.865Z"
   },
   {
    "duration": 24,
    "start_time": "2024-02-03T14:24:03.892Z"
   },
   {
    "duration": 18,
    "start_time": "2024-02-03T14:24:03.918Z"
   },
   {
    "duration": 31,
    "start_time": "2024-02-03T14:24:03.937Z"
   },
   {
    "duration": 220,
    "start_time": "2024-02-03T14:24:03.969Z"
   },
   {
    "duration": 144,
    "start_time": "2024-02-03T14:24:04.190Z"
   },
   {
    "duration": 1114,
    "start_time": "2024-02-03T14:24:04.336Z"
   },
   {
    "duration": 30,
    "start_time": "2024-02-03T14:24:05.451Z"
   },
   {
    "duration": 16,
    "start_time": "2024-02-03T14:24:05.483Z"
   },
   {
    "duration": 124,
    "start_time": "2024-02-03T14:24:05.501Z"
   },
   {
    "duration": 7,
    "start_time": "2024-02-03T14:24:05.627Z"
   },
   {
    "duration": 40,
    "start_time": "2024-02-03T14:24:05.635Z"
   },
   {
    "duration": 33,
    "start_time": "2024-02-03T14:24:05.677Z"
   },
   {
    "duration": 213,
    "start_time": "2024-02-03T14:24:05.711Z"
   },
   {
    "duration": 9,
    "start_time": "2024-02-03T14:24:05.926Z"
   },
   {
    "duration": 27,
    "start_time": "2024-02-03T14:24:05.936Z"
   },
   {
    "duration": 163,
    "start_time": "2024-02-03T14:24:05.964Z"
   },
   {
    "duration": 18,
    "start_time": "2024-02-03T14:24:06.133Z"
   },
   {
    "duration": 18,
    "start_time": "2024-02-03T14:24:06.152Z"
   },
   {
    "duration": 21,
    "start_time": "2024-02-03T14:24:06.171Z"
   },
   {
    "duration": 20,
    "start_time": "2024-02-03T14:24:06.193Z"
   },
   {
    "duration": 14,
    "start_time": "2024-02-03T14:24:06.215Z"
   },
   {
    "duration": 31,
    "start_time": "2024-02-03T14:24:06.230Z"
   },
   {
    "duration": 39,
    "start_time": "2024-02-03T14:24:06.263Z"
   },
   {
    "duration": 39,
    "start_time": "2024-02-03T14:24:06.304Z"
   },
   {
    "duration": 29,
    "start_time": "2024-02-03T14:24:06.344Z"
   },
   {
    "duration": 62,
    "start_time": "2024-02-03T14:24:06.374Z"
   },
   {
    "duration": 26,
    "start_time": "2024-02-03T14:24:06.440Z"
   },
   {
    "duration": 41,
    "start_time": "2024-02-03T14:24:06.467Z"
   },
   {
    "duration": 15,
    "start_time": "2024-02-03T14:24:06.510Z"
   },
   {
    "duration": 3130,
    "start_time": "2024-02-03T14:24:06.526Z"
   },
   {
    "duration": 15,
    "start_time": "2024-02-03T14:24:09.658Z"
   },
   {
    "duration": 25,
    "start_time": "2024-02-03T14:24:09.675Z"
   },
   {
    "duration": 40,
    "start_time": "2024-02-03T14:24:09.702Z"
   },
   {
    "duration": 7,
    "start_time": "2024-02-03T14:24:09.744Z"
   },
   {
    "duration": 20,
    "start_time": "2024-02-03T14:24:09.753Z"
   },
   {
    "duration": 21,
    "start_time": "2024-02-03T14:24:09.774Z"
   },
   {
    "duration": 24,
    "start_time": "2024-02-03T14:24:09.796Z"
   },
   {
    "duration": 18,
    "start_time": "2024-02-03T14:24:09.822Z"
   },
   {
    "duration": 21,
    "start_time": "2024-02-03T14:24:09.841Z"
   },
   {
    "duration": 18,
    "start_time": "2024-02-03T14:24:09.863Z"
   },
   {
    "duration": 16255,
    "start_time": "2024-02-03T14:24:09.882Z"
   },
   {
    "duration": 28,
    "start_time": "2024-02-03T14:24:26.139Z"
   },
   {
    "duration": 4704,
    "start_time": "2024-02-04T09:25:17.379Z"
   },
   {
    "duration": 86,
    "start_time": "2024-02-04T09:25:22.085Z"
   },
   {
    "duration": 64,
    "start_time": "2024-02-04T09:25:22.172Z"
   },
   {
    "duration": 89,
    "start_time": "2024-02-04T09:25:22.238Z"
   },
   {
    "duration": 62,
    "start_time": "2024-02-04T09:25:22.329Z"
   },
   {
    "duration": 12,
    "start_time": "2024-02-04T09:25:22.392Z"
   },
   {
    "duration": 28,
    "start_time": "2024-02-04T09:25:22.405Z"
   },
   {
    "duration": 27,
    "start_time": "2024-02-04T09:25:22.434Z"
   },
   {
    "duration": 28,
    "start_time": "2024-02-04T09:25:22.463Z"
   },
   {
    "duration": 17,
    "start_time": "2024-02-04T09:25:22.492Z"
   },
   {
    "duration": 26,
    "start_time": "2024-02-04T09:25:22.510Z"
   },
   {
    "duration": 16,
    "start_time": "2024-02-04T09:25:22.537Z"
   },
   {
    "duration": 35,
    "start_time": "2024-02-04T09:25:22.555Z"
   },
   {
    "duration": 18,
    "start_time": "2024-02-04T09:25:22.593Z"
   },
   {
    "duration": 24,
    "start_time": "2024-02-04T09:25:22.612Z"
   },
   {
    "duration": 28,
    "start_time": "2024-02-04T09:25:22.638Z"
   },
   {
    "duration": 17,
    "start_time": "2024-02-04T09:25:22.667Z"
   },
   {
    "duration": 239,
    "start_time": "2024-02-04T09:25:22.686Z"
   },
   {
    "duration": 140,
    "start_time": "2024-02-04T09:25:22.926Z"
   },
   {
    "duration": 1109,
    "start_time": "2024-02-04T09:25:23.068Z"
   },
   {
    "duration": 29,
    "start_time": "2024-02-04T09:25:24.178Z"
   },
   {
    "duration": 6,
    "start_time": "2024-02-04T09:25:24.209Z"
   },
   {
    "duration": 139,
    "start_time": "2024-02-04T09:25:24.216Z"
   },
   {
    "duration": 6,
    "start_time": "2024-02-04T09:25:24.356Z"
   },
   {
    "duration": 8,
    "start_time": "2024-02-04T09:25:24.363Z"
   },
   {
    "duration": 5,
    "start_time": "2024-02-04T09:25:24.373Z"
   },
   {
    "duration": 181,
    "start_time": "2024-02-04T09:25:24.379Z"
   },
   {
    "duration": 6,
    "start_time": "2024-02-04T09:25:24.562Z"
   },
   {
    "duration": 21,
    "start_time": "2024-02-04T09:25:24.569Z"
   },
   {
    "duration": 109,
    "start_time": "2024-02-04T09:25:24.591Z"
   },
   {
    "duration": 17,
    "start_time": "2024-02-04T09:25:24.702Z"
   },
   {
    "duration": 6,
    "start_time": "2024-02-04T09:25:24.732Z"
   },
   {
    "duration": 9,
    "start_time": "2024-02-04T09:25:24.739Z"
   },
   {
    "duration": 3,
    "start_time": "2024-02-04T09:25:24.750Z"
   },
   {
    "duration": 8,
    "start_time": "2024-02-04T09:25:24.754Z"
   },
   {
    "duration": 12,
    "start_time": "2024-02-04T09:25:24.763Z"
   },
   {
    "duration": 15,
    "start_time": "2024-02-04T09:25:24.776Z"
   },
   {
    "duration": 14,
    "start_time": "2024-02-04T09:25:24.793Z"
   },
   {
    "duration": 27,
    "start_time": "2024-02-04T09:25:24.808Z"
   },
   {
    "duration": 6,
    "start_time": "2024-02-04T09:25:24.837Z"
   },
   {
    "duration": 6,
    "start_time": "2024-02-04T09:25:24.846Z"
   },
   {
    "duration": 15,
    "start_time": "2024-02-04T09:25:24.854Z"
   },
   {
    "duration": 11,
    "start_time": "2024-02-04T09:25:24.870Z"
   },
   {
    "duration": 3355,
    "start_time": "2024-02-04T09:25:24.882Z"
   },
   {
    "duration": 10,
    "start_time": "2024-02-04T09:25:28.239Z"
   },
   {
    "duration": 8,
    "start_time": "2024-02-04T09:25:28.251Z"
   },
   {
    "duration": 7,
    "start_time": "2024-02-04T09:25:28.261Z"
   },
   {
    "duration": 2,
    "start_time": "2024-02-04T09:25:28.269Z"
   },
   {
    "duration": 14,
    "start_time": "2024-02-04T09:25:28.273Z"
   },
   {
    "duration": 3,
    "start_time": "2024-02-04T09:25:28.288Z"
   },
   {
    "duration": 13,
    "start_time": "2024-02-04T09:25:28.292Z"
   },
   {
    "duration": 4,
    "start_time": "2024-02-04T09:25:28.306Z"
   },
   {
    "duration": 22,
    "start_time": "2024-02-04T09:25:28.311Z"
   },
   {
    "duration": 5,
    "start_time": "2024-02-04T09:25:28.334Z"
   },
   {
    "duration": 16299,
    "start_time": "2024-02-04T09:25:28.340Z"
   },
   {
    "duration": 29,
    "start_time": "2024-02-04T09:25:44.641Z"
   },
   {
    "duration": 28,
    "start_time": "2024-02-04T09:26:06.489Z"
   },
   {
    "duration": 82,
    "start_time": "2024-02-04T09:37:30.417Z"
   },
   {
    "duration": 6,
    "start_time": "2024-02-04T09:38:36.856Z"
   },
   {
    "duration": 17087,
    "start_time": "2024-02-04T09:38:41.247Z"
   },
   {
    "duration": 26,
    "start_time": "2024-02-04T09:39:24.577Z"
   },
   {
    "duration": 16692,
    "start_time": "2024-02-04T09:40:09.613Z"
   },
   {
    "duration": 27,
    "start_time": "2024-02-04T09:40:35.399Z"
   },
   {
    "duration": 106,
    "start_time": "2024-02-04T10:44:16.676Z"
   },
   {
    "duration": 9,
    "start_time": "2024-02-04T10:57:08.934Z"
   },
   {
    "duration": 30,
    "start_time": "2024-02-04T10:57:12.799Z"
   },
   {
    "duration": 10,
    "start_time": "2024-02-04T10:59:34.229Z"
   },
   {
    "duration": 4,
    "start_time": "2024-02-04T11:11:26.212Z"
   },
   {
    "duration": 9,
    "start_time": "2024-02-04T11:17:39.517Z"
   },
   {
    "duration": 4527,
    "start_time": "2024-02-04T11:18:01.266Z"
   },
   {
    "duration": 2,
    "start_time": "2024-02-04T11:29:09.333Z"
   },
   {
    "duration": 21,
    "start_time": "2024-02-04T11:30:07.994Z"
   },
   {
    "duration": 13,
    "start_time": "2024-02-04T11:30:23.995Z"
   },
   {
    "duration": 13,
    "start_time": "2024-02-04T11:30:55.457Z"
   },
   {
    "duration": 2323,
    "start_time": "2024-02-04T11:31:18.640Z"
   },
   {
    "duration": 5,
    "start_time": "2024-02-04T11:32:36.700Z"
   },
   {
    "duration": 23,
    "start_time": "2024-02-04T11:34:03.084Z"
   },
   {
    "duration": 13,
    "start_time": "2024-02-04T11:38:32.733Z"
   },
   {
    "duration": 4629,
    "start_time": "2024-02-04T11:41:26.715Z"
   },
   {
    "duration": 50,
    "start_time": "2024-02-04T11:41:31.346Z"
   },
   {
    "duration": 28,
    "start_time": "2024-02-04T11:41:31.397Z"
   },
   {
    "duration": 47,
    "start_time": "2024-02-04T11:41:31.426Z"
   },
   {
    "duration": 55,
    "start_time": "2024-02-04T11:41:31.476Z"
   },
   {
    "duration": 14,
    "start_time": "2024-02-04T11:41:31.533Z"
   },
   {
    "duration": 98,
    "start_time": "2024-02-04T11:41:31.549Z"
   },
   {
    "duration": 70,
    "start_time": "2024-02-04T11:41:31.649Z"
   },
   {
    "duration": 50,
    "start_time": "2024-02-04T11:41:31.721Z"
   },
   {
    "duration": 38,
    "start_time": "2024-02-04T11:41:31.773Z"
   },
   {
    "duration": 49,
    "start_time": "2024-02-04T11:41:31.813Z"
   },
   {
    "duration": 64,
    "start_time": "2024-02-04T11:41:31.864Z"
   },
   {
    "duration": 38,
    "start_time": "2024-02-04T11:41:31.929Z"
   },
   {
    "duration": 38,
    "start_time": "2024-02-04T11:41:31.970Z"
   },
   {
    "duration": 38,
    "start_time": "2024-02-04T11:41:32.010Z"
   },
   {
    "duration": 55,
    "start_time": "2024-02-04T11:41:32.050Z"
   },
   {
    "duration": 73,
    "start_time": "2024-02-04T11:41:32.106Z"
   },
   {
    "duration": 248,
    "start_time": "2024-02-04T11:41:32.181Z"
   },
   {
    "duration": 147,
    "start_time": "2024-02-04T11:41:32.431Z"
   },
   {
    "duration": 1056,
    "start_time": "2024-02-04T11:41:32.580Z"
   },
   {
    "duration": 29,
    "start_time": "2024-02-04T11:41:33.637Z"
   },
   {
    "duration": 25,
    "start_time": "2024-02-04T11:41:33.667Z"
   },
   {
    "duration": 159,
    "start_time": "2024-02-04T11:41:33.694Z"
   },
   {
    "duration": 6,
    "start_time": "2024-02-04T11:41:33.855Z"
   },
   {
    "duration": 35,
    "start_time": "2024-02-04T11:41:33.862Z"
   },
   {
    "duration": 43,
    "start_time": "2024-02-04T11:41:33.898Z"
   },
   {
    "duration": 359,
    "start_time": "2024-02-04T11:41:33.943Z"
   },
   {
    "duration": 7,
    "start_time": "2024-02-04T11:41:34.304Z"
   },
   {
    "duration": 40,
    "start_time": "2024-02-04T11:41:34.313Z"
   },
   {
    "duration": 196,
    "start_time": "2024-02-04T11:41:34.355Z"
   },
   {
    "duration": 19,
    "start_time": "2024-02-04T11:41:34.553Z"
   },
   {
    "duration": 42,
    "start_time": "2024-02-04T11:41:34.574Z"
   },
   {
    "duration": 25,
    "start_time": "2024-02-04T11:41:34.618Z"
   },
   {
    "duration": 42,
    "start_time": "2024-02-04T11:41:34.645Z"
   },
   {
    "duration": 32,
    "start_time": "2024-02-04T11:41:34.689Z"
   },
   {
    "duration": 55,
    "start_time": "2024-02-04T11:41:34.722Z"
   },
   {
    "duration": 29,
    "start_time": "2024-02-04T11:41:34.779Z"
   },
   {
    "duration": 27,
    "start_time": "2024-02-04T11:41:34.810Z"
   },
   {
    "duration": 36,
    "start_time": "2024-02-04T11:41:34.838Z"
   },
   {
    "duration": 52,
    "start_time": "2024-02-04T11:41:34.875Z"
   },
   {
    "duration": 52,
    "start_time": "2024-02-04T11:41:34.930Z"
   },
   {
    "duration": 45,
    "start_time": "2024-02-04T11:41:34.983Z"
   },
   {
    "duration": 48,
    "start_time": "2024-02-04T11:41:35.029Z"
   },
   {
    "duration": 3382,
    "start_time": "2024-02-04T11:41:35.079Z"
   },
   {
    "duration": 10,
    "start_time": "2024-02-04T11:41:38.463Z"
   },
   {
    "duration": 43,
    "start_time": "2024-02-04T11:41:38.475Z"
   },
   {
    "duration": 46,
    "start_time": "2024-02-04T11:41:38.520Z"
   },
   {
    "duration": 37,
    "start_time": "2024-02-04T11:41:38.568Z"
   },
   {
    "duration": 44,
    "start_time": "2024-02-04T11:41:38.607Z"
   },
   {
    "duration": 54,
    "start_time": "2024-02-04T11:41:38.653Z"
   },
   {
    "duration": 61,
    "start_time": "2024-02-04T11:41:38.709Z"
   },
   {
    "duration": 38,
    "start_time": "2024-02-04T11:41:38.772Z"
   },
   {
    "duration": 11,
    "start_time": "2024-02-04T11:41:38.811Z"
   },
   {
    "duration": 12,
    "start_time": "2024-02-04T11:41:38.824Z"
   },
   {
    "duration": 17061,
    "start_time": "2024-02-04T11:41:38.838Z"
   },
   {
    "duration": 41,
    "start_time": "2024-02-04T11:41:55.900Z"
   },
   {
    "duration": 20,
    "start_time": "2024-02-04T11:41:55.942Z"
   },
   {
    "duration": 185,
    "start_time": "2024-02-04T11:41:55.964Z"
   },
   {
    "duration": 0,
    "start_time": "2024-02-04T11:41:56.150Z"
   },
   {
    "duration": 1,
    "start_time": "2024-02-04T11:41:56.151Z"
   },
   {
    "duration": 0,
    "start_time": "2024-02-04T11:41:56.153Z"
   },
   {
    "duration": 0,
    "start_time": "2024-02-04T11:41:56.154Z"
   },
   {
    "duration": 17,
    "start_time": "2024-02-04T11:42:26.037Z"
   },
   {
    "duration": 26,
    "start_time": "2024-02-04T11:43:09.157Z"
   },
   {
    "duration": 21,
    "start_time": "2024-02-04T11:43:19.671Z"
   },
   {
    "duration": 12,
    "start_time": "2024-02-04T11:43:39.141Z"
   },
   {
    "duration": 13,
    "start_time": "2024-02-04T11:44:08.452Z"
   },
   {
    "duration": 13,
    "start_time": "2024-02-04T11:47:55.208Z"
   },
   {
    "duration": 14,
    "start_time": "2024-02-04T11:48:03.161Z"
   },
   {
    "duration": 24,
    "start_time": "2024-02-04T11:48:44.892Z"
   },
   {
    "duration": 10,
    "start_time": "2024-02-04T11:49:04.295Z"
   },
   {
    "duration": 16700,
    "start_time": "2024-02-04T11:50:56.302Z"
   },
   {
    "duration": 28,
    "start_time": "2024-02-04T11:51:24.027Z"
   },
   {
    "duration": 3,
    "start_time": "2024-02-04T11:51:28.155Z"
   },
   {
    "duration": 5,
    "start_time": "2024-02-04T11:53:42.126Z"
   },
   {
    "duration": 24,
    "start_time": "2024-02-04T12:05:06.586Z"
   },
   {
    "duration": 12,
    "start_time": "2024-02-04T12:06:11.315Z"
   },
   {
    "duration": 32,
    "start_time": "2024-02-04T12:12:04.971Z"
   },
   {
    "duration": 23,
    "start_time": "2024-02-04T12:12:08.715Z"
   },
   {
    "duration": 12,
    "start_time": "2024-02-04T12:12:10.368Z"
   },
   {
    "duration": 95,
    "start_time": "2024-02-04T12:12:48.898Z"
   },
   {
    "duration": 424,
    "start_time": "2024-02-04T12:12:50.965Z"
   },
   {
    "duration": 4642,
    "start_time": "2024-02-04T13:00:16.270Z"
   },
   {
    "duration": 48,
    "start_time": "2024-02-04T13:00:20.914Z"
   },
   {
    "duration": 29,
    "start_time": "2024-02-04T13:00:20.964Z"
   },
   {
    "duration": 27,
    "start_time": "2024-02-04T13:00:20.995Z"
   },
   {
    "duration": 34,
    "start_time": "2024-02-04T13:00:21.025Z"
   },
   {
    "duration": 10,
    "start_time": "2024-02-04T13:00:21.061Z"
   },
   {
    "duration": 5,
    "start_time": "2024-02-04T13:00:21.072Z"
   },
   {
    "duration": 9,
    "start_time": "2024-02-04T13:00:21.079Z"
   },
   {
    "duration": 9,
    "start_time": "2024-02-04T13:00:21.089Z"
   },
   {
    "duration": 8,
    "start_time": "2024-02-04T13:00:21.100Z"
   },
   {
    "duration": 7,
    "start_time": "2024-02-04T13:00:21.110Z"
   },
   {
    "duration": 18,
    "start_time": "2024-02-04T13:00:21.118Z"
   },
   {
    "duration": 7,
    "start_time": "2024-02-04T13:00:21.138Z"
   },
   {
    "duration": 6,
    "start_time": "2024-02-04T13:00:21.147Z"
   },
   {
    "duration": 10,
    "start_time": "2024-02-04T13:00:21.154Z"
   },
   {
    "duration": 7,
    "start_time": "2024-02-04T13:00:21.166Z"
   },
   {
    "duration": 12,
    "start_time": "2024-02-04T13:00:21.175Z"
   },
   {
    "duration": 236,
    "start_time": "2024-02-04T13:00:21.189Z"
   },
   {
    "duration": 141,
    "start_time": "2024-02-04T13:00:21.426Z"
   },
   {
    "duration": 1042,
    "start_time": "2024-02-04T13:00:21.569Z"
   },
   {
    "duration": 39,
    "start_time": "2024-02-04T13:00:22.613Z"
   },
   {
    "duration": 7,
    "start_time": "2024-02-04T13:00:22.653Z"
   },
   {
    "duration": 131,
    "start_time": "2024-02-04T13:00:22.662Z"
   },
   {
    "duration": 6,
    "start_time": "2024-02-04T13:00:22.795Z"
   },
   {
    "duration": 13,
    "start_time": "2024-02-04T13:00:22.802Z"
   },
   {
    "duration": 19,
    "start_time": "2024-02-04T13:00:22.817Z"
   },
   {
    "duration": 287,
    "start_time": "2024-02-04T13:00:22.838Z"
   },
   {
    "duration": 7,
    "start_time": "2024-02-04T13:00:23.127Z"
   },
   {
    "duration": 9,
    "start_time": "2024-02-04T13:00:23.136Z"
   },
   {
    "duration": 139,
    "start_time": "2024-02-04T13:00:23.147Z"
   },
   {
    "duration": 18,
    "start_time": "2024-02-04T13:00:23.288Z"
   },
   {
    "duration": 6,
    "start_time": "2024-02-04T13:00:23.308Z"
   },
   {
    "duration": 26,
    "start_time": "2024-02-04T13:00:23.316Z"
   },
   {
    "duration": 16,
    "start_time": "2024-02-04T13:00:23.344Z"
   },
   {
    "duration": 12,
    "start_time": "2024-02-04T13:00:23.362Z"
   },
   {
    "duration": 25,
    "start_time": "2024-02-04T13:00:23.376Z"
   },
   {
    "duration": 6,
    "start_time": "2024-02-04T13:00:23.402Z"
   },
   {
    "duration": 19,
    "start_time": "2024-02-04T13:00:23.409Z"
   },
   {
    "duration": 24,
    "start_time": "2024-02-04T13:00:23.429Z"
   },
   {
    "duration": 14,
    "start_time": "2024-02-04T13:00:23.454Z"
   },
   {
    "duration": 7,
    "start_time": "2024-02-04T13:00:23.471Z"
   },
   {
    "duration": 14,
    "start_time": "2024-02-04T13:00:23.479Z"
   },
   {
    "duration": 13,
    "start_time": "2024-02-04T13:00:23.495Z"
   },
   {
    "duration": 3216,
    "start_time": "2024-02-04T13:00:23.509Z"
   },
   {
    "duration": 12,
    "start_time": "2024-02-04T13:00:26.727Z"
   },
   {
    "duration": 8,
    "start_time": "2024-02-04T13:00:26.740Z"
   },
   {
    "duration": 8,
    "start_time": "2024-02-04T13:00:26.749Z"
   },
   {
    "duration": 2,
    "start_time": "2024-02-04T13:00:26.759Z"
   },
   {
    "duration": 21,
    "start_time": "2024-02-04T13:00:26.762Z"
   },
   {
    "duration": 8,
    "start_time": "2024-02-04T13:00:26.784Z"
   },
   {
    "duration": 20,
    "start_time": "2024-02-04T13:00:26.793Z"
   },
   {
    "duration": 6,
    "start_time": "2024-02-04T13:00:26.814Z"
   },
   {
    "duration": 75,
    "start_time": "2024-02-04T13:00:26.822Z"
   },
   {
    "duration": 0,
    "start_time": "2024-02-04T13:00:26.899Z"
   },
   {
    "duration": 0,
    "start_time": "2024-02-04T13:00:26.900Z"
   },
   {
    "duration": 0,
    "start_time": "2024-02-04T13:00:26.901Z"
   },
   {
    "duration": 0,
    "start_time": "2024-02-04T13:00:26.902Z"
   },
   {
    "duration": 0,
    "start_time": "2024-02-04T13:00:26.903Z"
   },
   {
    "duration": 0,
    "start_time": "2024-02-04T13:00:26.904Z"
   },
   {
    "duration": 0,
    "start_time": "2024-02-04T13:00:26.905Z"
   },
   {
    "duration": 2,
    "start_time": "2024-02-04T13:00:45.942Z"
   },
   {
    "duration": 5,
    "start_time": "2024-02-04T13:00:48.394Z"
   },
   {
    "duration": 44499,
    "start_time": "2024-02-04T13:01:06.707Z"
   },
   {
    "duration": 28,
    "start_time": "2024-02-04T13:01:55.597Z"
   },
   {
    "duration": 4,
    "start_time": "2024-02-04T13:02:00.090Z"
   },
   {
    "duration": 33,
    "start_time": "2024-02-04T13:02:04.222Z"
   },
   {
    "duration": 116,
    "start_time": "2024-02-04T13:02:06.503Z"
   },
   {
    "duration": 6700964,
    "start_time": "2024-02-04T13:02:16.250Z"
   },
   {
    "duration": 0,
    "start_time": "2024-02-04T14:53:57.215Z"
   },
   {
    "duration": 30,
    "start_time": "2024-02-04T14:54:22.653Z"
   },
   {
    "duration": 11,
    "start_time": "2024-02-04T14:54:40.880Z"
   },
   {
    "duration": 14,
    "start_time": "2024-02-04T14:54:51.115Z"
   },
   {
    "duration": 26,
    "start_time": "2024-02-04T14:56:53.555Z"
   },
   {
    "duration": 12,
    "start_time": "2024-02-04T14:57:54.341Z"
   },
   {
    "duration": 17,
    "start_time": "2024-02-04T14:58:25.714Z"
   },
   {
    "duration": 44,
    "start_time": "2024-02-04T14:58:48.800Z"
   },
   {
    "duration": 24,
    "start_time": "2024-02-04T14:58:55.689Z"
   },
   {
    "duration": 49580,
    "start_time": "2024-02-04T14:59:11.358Z"
   },
   {
    "duration": 42233,
    "start_time": "2024-02-04T15:00:29.377Z"
   },
   {
    "duration": 11,
    "start_time": "2024-02-04T15:01:15.790Z"
   },
   {
    "duration": 47485,
    "start_time": "2024-02-04T15:01:28.251Z"
   },
   {
    "duration": 14,
    "start_time": "2024-02-04T15:10:58.341Z"
   },
   {
    "duration": 4943,
    "start_time": "2024-02-04T15:12:20.374Z"
   },
   {
    "duration": 52,
    "start_time": "2024-02-04T15:12:25.319Z"
   },
   {
    "duration": 29,
    "start_time": "2024-02-04T15:12:25.373Z"
   },
   {
    "duration": 27,
    "start_time": "2024-02-04T15:12:25.404Z"
   },
   {
    "duration": 34,
    "start_time": "2024-02-04T15:12:25.432Z"
   },
   {
    "duration": 10,
    "start_time": "2024-02-04T15:12:25.468Z"
   },
   {
    "duration": 6,
    "start_time": "2024-02-04T15:12:25.479Z"
   },
   {
    "duration": 8,
    "start_time": "2024-02-04T15:12:25.486Z"
   },
   {
    "duration": 5,
    "start_time": "2024-02-04T15:12:25.496Z"
   },
   {
    "duration": 7,
    "start_time": "2024-02-04T15:12:25.503Z"
   },
   {
    "duration": 9,
    "start_time": "2024-02-04T15:12:25.512Z"
   },
   {
    "duration": 14,
    "start_time": "2024-02-04T15:12:25.535Z"
   },
   {
    "duration": 14,
    "start_time": "2024-02-04T15:12:25.550Z"
   },
   {
    "duration": 21,
    "start_time": "2024-02-04T15:12:25.565Z"
   },
   {
    "duration": 42,
    "start_time": "2024-02-04T15:12:25.588Z"
   },
   {
    "duration": 35,
    "start_time": "2024-02-04T15:12:25.635Z"
   },
   {
    "duration": 26,
    "start_time": "2024-02-04T15:12:25.672Z"
   },
   {
    "duration": 254,
    "start_time": "2024-02-04T15:12:25.700Z"
   },
   {
    "duration": 181,
    "start_time": "2024-02-04T15:12:25.956Z"
   },
   {
    "duration": 1102,
    "start_time": "2024-02-04T15:12:26.143Z"
   },
   {
    "duration": 33,
    "start_time": "2024-02-04T15:12:27.247Z"
   },
   {
    "duration": 24,
    "start_time": "2024-02-04T15:12:27.282Z"
   },
   {
    "duration": 169,
    "start_time": "2024-02-04T15:12:27.309Z"
   },
   {
    "duration": 6,
    "start_time": "2024-02-04T15:12:27.479Z"
   },
   {
    "duration": 57,
    "start_time": "2024-02-04T15:12:27.486Z"
   },
   {
    "duration": 44,
    "start_time": "2024-02-04T15:12:27.545Z"
   },
   {
    "duration": 321,
    "start_time": "2024-02-04T15:12:27.591Z"
   },
   {
    "duration": 6,
    "start_time": "2024-02-04T15:12:27.916Z"
   },
   {
    "duration": 36,
    "start_time": "2024-02-04T15:12:27.924Z"
   },
   {
    "duration": 157,
    "start_time": "2024-02-04T15:12:27.961Z"
   },
   {
    "duration": 31,
    "start_time": "2024-02-04T15:12:28.119Z"
   },
   {
    "duration": 6,
    "start_time": "2024-02-04T15:12:28.152Z"
   },
   {
    "duration": 49,
    "start_time": "2024-02-04T15:12:28.159Z"
   },
   {
    "duration": 91,
    "start_time": "2024-02-04T15:12:28.210Z"
   },
   {
    "duration": 61,
    "start_time": "2024-02-04T15:12:28.302Z"
   },
   {
    "duration": 48,
    "start_time": "2024-02-04T15:12:28.365Z"
   },
   {
    "duration": 50,
    "start_time": "2024-02-04T15:12:28.414Z"
   },
   {
    "duration": 51,
    "start_time": "2024-02-04T15:12:28.465Z"
   },
   {
    "duration": 48,
    "start_time": "2024-02-04T15:12:28.517Z"
   },
   {
    "duration": 58,
    "start_time": "2024-02-04T15:12:28.566Z"
   },
   {
    "duration": 45,
    "start_time": "2024-02-04T15:12:28.626Z"
   },
   {
    "duration": 55,
    "start_time": "2024-02-04T15:12:28.673Z"
   },
   {
    "duration": 38,
    "start_time": "2024-02-04T15:12:28.729Z"
   },
   {
    "duration": 3640,
    "start_time": "2024-02-04T15:12:28.769Z"
   },
   {
    "duration": 11,
    "start_time": "2024-02-04T15:12:32.411Z"
   },
   {
    "duration": 30,
    "start_time": "2024-02-04T15:12:32.423Z"
   },
   {
    "duration": 11,
    "start_time": "2024-02-04T15:12:32.456Z"
   },
   {
    "duration": 17,
    "start_time": "2024-02-04T15:12:32.468Z"
   },
   {
    "duration": 19,
    "start_time": "2024-02-04T15:12:32.486Z"
   },
   {
    "duration": 30,
    "start_time": "2024-02-04T15:12:32.507Z"
   },
   {
    "duration": 22,
    "start_time": "2024-02-04T15:12:32.539Z"
   },
   {
    "duration": 5,
    "start_time": "2024-02-04T15:12:32.563Z"
   },
   {
    "duration": 22,
    "start_time": "2024-02-04T15:12:32.570Z"
   },
   {
    "duration": 7,
    "start_time": "2024-02-04T15:12:32.594Z"
   },
   {
    "duration": 81864,
    "start_time": "2024-02-04T15:12:32.602Z"
   },
   {
    "duration": 27,
    "start_time": "2024-02-04T15:13:54.468Z"
   },
   {
    "duration": 6,
    "start_time": "2024-02-04T15:13:54.496Z"
   },
   {
    "duration": 52,
    "start_time": "2024-02-04T15:13:54.503Z"
   },
   {
    "duration": 108,
    "start_time": "2024-02-04T15:13:54.557Z"
   },
   {
    "duration": 21,
    "start_time": "2024-02-04T15:13:54.667Z"
   },
   {
    "duration": 0,
    "start_time": "2024-02-04T15:14:36.251Z"
   },
   {
    "duration": 0,
    "start_time": "2024-02-04T15:14:36.253Z"
   },
   {
    "duration": 0,
    "start_time": "2024-02-04T15:14:36.257Z"
   },
   {
    "duration": 2431,
    "start_time": "2024-02-04T15:14:49.490Z"
   },
   {
    "duration": 54,
    "start_time": "2024-02-04T15:14:51.922Z"
   },
   {
    "duration": 28,
    "start_time": "2024-02-04T15:14:51.977Z"
   },
   {
    "duration": 27,
    "start_time": "2024-02-04T15:14:52.007Z"
   },
   {
    "duration": 35,
    "start_time": "2024-02-04T15:14:52.037Z"
   },
   {
    "duration": 9,
    "start_time": "2024-02-04T15:14:52.073Z"
   },
   {
    "duration": 15,
    "start_time": "2024-02-04T15:14:52.083Z"
   },
   {
    "duration": 10,
    "start_time": "2024-02-04T15:14:52.099Z"
   },
   {
    "duration": 5,
    "start_time": "2024-02-04T15:14:52.110Z"
   },
   {
    "duration": 13,
    "start_time": "2024-02-04T15:14:52.116Z"
   },
   {
    "duration": 29,
    "start_time": "2024-02-04T15:14:52.130Z"
   },
   {
    "duration": 7,
    "start_time": "2024-02-04T15:14:52.161Z"
   },
   {
    "duration": 5,
    "start_time": "2024-02-04T15:14:52.169Z"
   },
   {
    "duration": 4,
    "start_time": "2024-02-04T15:14:52.176Z"
   },
   {
    "duration": 12,
    "start_time": "2024-02-04T15:14:52.182Z"
   },
   {
    "duration": 9,
    "start_time": "2024-02-04T15:14:52.196Z"
   },
   {
    "duration": 15,
    "start_time": "2024-02-04T15:14:52.206Z"
   },
   {
    "duration": 243,
    "start_time": "2024-02-04T15:14:52.222Z"
   },
   {
    "duration": 157,
    "start_time": "2024-02-04T15:14:52.466Z"
   },
   {
    "duration": 1158,
    "start_time": "2024-02-04T15:14:52.625Z"
   },
   {
    "duration": 30,
    "start_time": "2024-02-04T15:14:53.785Z"
   },
   {
    "duration": 24,
    "start_time": "2024-02-04T15:14:53.816Z"
   },
   {
    "duration": 138,
    "start_time": "2024-02-04T15:14:53.845Z"
   },
   {
    "duration": 6,
    "start_time": "2024-02-04T15:14:53.984Z"
   },
   {
    "duration": 8,
    "start_time": "2024-02-04T15:14:53.991Z"
   },
   {
    "duration": 6,
    "start_time": "2024-02-04T15:14:54.000Z"
   },
   {
    "duration": 331,
    "start_time": "2024-02-04T15:14:54.008Z"
   },
   {
    "duration": 11,
    "start_time": "2024-02-04T15:14:54.341Z"
   },
   {
    "duration": 9,
    "start_time": "2024-02-04T15:14:54.355Z"
   },
   {
    "duration": 157,
    "start_time": "2024-02-04T15:14:54.366Z"
   },
   {
    "duration": 34,
    "start_time": "2024-02-04T15:14:54.524Z"
   },
   {
    "duration": 7,
    "start_time": "2024-02-04T15:14:54.559Z"
   },
   {
    "duration": 10,
    "start_time": "2024-02-04T15:14:54.568Z"
   },
   {
    "duration": 11,
    "start_time": "2024-02-04T15:14:54.579Z"
   },
   {
    "duration": 6,
    "start_time": "2024-02-04T15:14:54.591Z"
   },
   {
    "duration": 14,
    "start_time": "2024-02-04T15:14:54.598Z"
   },
   {
    "duration": 22,
    "start_time": "2024-02-04T15:14:54.613Z"
   },
   {
    "duration": 13,
    "start_time": "2024-02-04T15:14:54.636Z"
   },
   {
    "duration": 14,
    "start_time": "2024-02-04T15:14:54.650Z"
   },
   {
    "duration": 8,
    "start_time": "2024-02-04T15:14:54.665Z"
   },
   {
    "duration": 8,
    "start_time": "2024-02-04T15:14:54.677Z"
   },
   {
    "duration": 16,
    "start_time": "2024-02-04T15:14:54.686Z"
   },
   {
    "duration": 14,
    "start_time": "2024-02-04T15:14:54.733Z"
   },
   {
    "duration": 3410,
    "start_time": "2024-02-04T15:14:54.748Z"
   },
   {
    "duration": 11,
    "start_time": "2024-02-04T15:14:58.160Z"
   },
   {
    "duration": 8,
    "start_time": "2024-02-04T15:14:58.172Z"
   },
   {
    "duration": 6,
    "start_time": "2024-02-04T15:14:58.181Z"
   },
   {
    "duration": 6,
    "start_time": "2024-02-04T15:14:58.188Z"
   },
   {
    "duration": 6,
    "start_time": "2024-02-04T15:14:58.196Z"
   },
   {
    "duration": 3,
    "start_time": "2024-02-04T15:14:58.204Z"
   },
   {
    "duration": 11,
    "start_time": "2024-02-04T15:14:58.209Z"
   },
   {
    "duration": 6,
    "start_time": "2024-02-04T15:14:58.221Z"
   },
   {
    "duration": 5,
    "start_time": "2024-02-04T15:14:58.237Z"
   },
   {
    "duration": 8,
    "start_time": "2024-02-04T15:14:58.244Z"
   },
   {
    "duration": 81892,
    "start_time": "2024-02-04T15:14:58.254Z"
   },
   {
    "duration": 28,
    "start_time": "2024-02-04T15:16:20.147Z"
   },
   {
    "duration": 23,
    "start_time": "2024-02-04T15:16:20.176Z"
   },
   {
    "duration": 48,
    "start_time": "2024-02-04T15:16:20.201Z"
   },
   {
    "duration": 94,
    "start_time": "2024-02-04T15:16:20.251Z"
   },
   {
    "duration": 26,
    "start_time": "2024-02-04T15:16:20.347Z"
   },
   {
    "duration": 2268,
    "start_time": "2024-02-04T15:18:20.085Z"
   },
   {
    "duration": 49,
    "start_time": "2024-02-04T15:18:22.355Z"
   },
   {
    "duration": 27,
    "start_time": "2024-02-04T15:18:22.405Z"
   },
   {
    "duration": 31,
    "start_time": "2024-02-04T15:18:22.434Z"
   },
   {
    "duration": 35,
    "start_time": "2024-02-04T15:18:22.466Z"
   },
   {
    "duration": 9,
    "start_time": "2024-02-04T15:18:22.502Z"
   },
   {
    "duration": 34,
    "start_time": "2024-02-04T15:18:22.513Z"
   },
   {
    "duration": 26,
    "start_time": "2024-02-04T15:18:22.549Z"
   },
   {
    "duration": 37,
    "start_time": "2024-02-04T15:18:22.576Z"
   },
   {
    "duration": 28,
    "start_time": "2024-02-04T15:18:22.615Z"
   },
   {
    "duration": 25,
    "start_time": "2024-02-04T15:18:22.645Z"
   },
   {
    "duration": 42,
    "start_time": "2024-02-04T15:18:22.672Z"
   },
   {
    "duration": 46,
    "start_time": "2024-02-04T15:18:22.716Z"
   },
   {
    "duration": 23,
    "start_time": "2024-02-04T15:18:22.764Z"
   },
   {
    "duration": 23,
    "start_time": "2024-02-04T15:18:22.788Z"
   },
   {
    "duration": 36,
    "start_time": "2024-02-04T15:18:22.813Z"
   },
   {
    "duration": 45,
    "start_time": "2024-02-04T15:18:22.850Z"
   },
   {
    "duration": 264,
    "start_time": "2024-02-04T15:18:22.897Z"
   },
   {
    "duration": 143,
    "start_time": "2024-02-04T15:18:23.162Z"
   },
   {
    "duration": 1085,
    "start_time": "2024-02-04T15:18:23.306Z"
   },
   {
    "duration": 52,
    "start_time": "2024-02-04T15:18:24.393Z"
   },
   {
    "duration": 7,
    "start_time": "2024-02-04T15:18:24.448Z"
   },
   {
    "duration": 130,
    "start_time": "2024-02-04T15:18:24.456Z"
   },
   {
    "duration": 7,
    "start_time": "2024-02-04T15:18:24.587Z"
   },
   {
    "duration": 8,
    "start_time": "2024-02-04T15:18:24.595Z"
   },
   {
    "duration": 7,
    "start_time": "2024-02-04T15:18:24.604Z"
   },
   {
    "duration": 295,
    "start_time": "2024-02-04T15:18:24.612Z"
   },
   {
    "duration": 7,
    "start_time": "2024-02-04T15:18:24.910Z"
   },
   {
    "duration": 22,
    "start_time": "2024-02-04T15:18:24.918Z"
   },
   {
    "duration": 115,
    "start_time": "2024-02-04T15:18:24.941Z"
   },
   {
    "duration": 17,
    "start_time": "2024-02-04T15:18:25.058Z"
   },
   {
    "duration": 6,
    "start_time": "2024-02-04T15:18:25.077Z"
   },
   {
    "duration": 10,
    "start_time": "2024-02-04T15:18:25.085Z"
   },
   {
    "duration": 3,
    "start_time": "2024-02-04T15:18:25.096Z"
   },
   {
    "duration": 38,
    "start_time": "2024-02-04T15:18:25.101Z"
   },
   {
    "duration": 11,
    "start_time": "2024-02-04T15:18:25.146Z"
   },
   {
    "duration": 5,
    "start_time": "2024-02-04T15:18:25.158Z"
   },
   {
    "duration": 8,
    "start_time": "2024-02-04T15:18:25.164Z"
   },
   {
    "duration": 12,
    "start_time": "2024-02-04T15:18:25.173Z"
   },
   {
    "duration": 6,
    "start_time": "2024-02-04T15:18:25.186Z"
   },
   {
    "duration": 5,
    "start_time": "2024-02-04T15:18:25.193Z"
   },
   {
    "duration": 13,
    "start_time": "2024-02-04T15:18:25.200Z"
   },
   {
    "duration": 17,
    "start_time": "2024-02-04T15:18:25.233Z"
   },
   {
    "duration": 3225,
    "start_time": "2024-02-04T15:18:25.252Z"
   },
   {
    "duration": 14,
    "start_time": "2024-02-04T15:18:28.479Z"
   },
   {
    "duration": 27,
    "start_time": "2024-02-04T15:18:28.495Z"
   },
   {
    "duration": 7,
    "start_time": "2024-02-04T15:18:28.524Z"
   },
   {
    "duration": 16,
    "start_time": "2024-02-04T15:18:28.532Z"
   },
   {
    "duration": 5,
    "start_time": "2024-02-04T15:18:28.550Z"
   },
   {
    "duration": 3,
    "start_time": "2024-02-04T15:18:28.557Z"
   },
   {
    "duration": 5,
    "start_time": "2024-02-04T15:18:28.561Z"
   },
   {
    "duration": 4,
    "start_time": "2024-02-04T15:18:28.568Z"
   },
   {
    "duration": 6,
    "start_time": "2024-02-04T15:18:28.573Z"
   },
   {
    "duration": 4,
    "start_time": "2024-02-04T15:18:28.580Z"
   },
   {
    "duration": 69894,
    "start_time": "2024-02-04T15:18:28.586Z"
   },
   {
    "duration": 28,
    "start_time": "2024-02-04T15:19:38.482Z"
   },
   {
    "duration": 5,
    "start_time": "2024-02-04T15:19:38.511Z"
   },
   {
    "duration": 48,
    "start_time": "2024-02-04T15:19:38.517Z"
   },
   {
    "duration": 110,
    "start_time": "2024-02-04T15:19:38.567Z"
   },
   {
    "duration": 21,
    "start_time": "2024-02-04T15:19:38.678Z"
   },
   {
    "duration": 252350,
    "start_time": "2024-02-04T15:19:38.701Z"
   },
   {
    "duration": 0,
    "start_time": "2024-02-04T15:23:51.053Z"
   },
   {
    "duration": 0,
    "start_time": "2024-02-04T15:23:51.054Z"
   },
   {
    "duration": 0,
    "start_time": "2024-02-04T15:23:51.056Z"
   },
   {
    "duration": 2328,
    "start_time": "2024-02-04T15:23:57.920Z"
   },
   {
    "duration": 49,
    "start_time": "2024-02-04T15:24:00.249Z"
   },
   {
    "duration": 28,
    "start_time": "2024-02-04T15:24:00.302Z"
   },
   {
    "duration": 34,
    "start_time": "2024-02-04T15:24:00.332Z"
   },
   {
    "duration": 36,
    "start_time": "2024-02-04T15:24:00.367Z"
   },
   {
    "duration": 8,
    "start_time": "2024-02-04T15:24:00.405Z"
   },
   {
    "duration": 48,
    "start_time": "2024-02-04T15:24:00.415Z"
   },
   {
    "duration": 40,
    "start_time": "2024-02-04T15:24:00.465Z"
   },
   {
    "duration": 43,
    "start_time": "2024-02-04T15:24:00.507Z"
   },
   {
    "duration": 57,
    "start_time": "2024-02-04T15:24:00.552Z"
   },
   {
    "duration": 43,
    "start_time": "2024-02-04T15:24:00.610Z"
   },
   {
    "duration": 35,
    "start_time": "2024-02-04T15:24:00.654Z"
   },
   {
    "duration": 37,
    "start_time": "2024-02-04T15:24:00.691Z"
   },
   {
    "duration": 62,
    "start_time": "2024-02-04T15:24:00.730Z"
   },
   {
    "duration": 73,
    "start_time": "2024-02-04T15:24:00.794Z"
   },
   {
    "duration": 42,
    "start_time": "2024-02-04T15:24:00.869Z"
   },
   {
    "duration": 53,
    "start_time": "2024-02-04T15:24:00.913Z"
   },
   {
    "duration": 257,
    "start_time": "2024-02-04T15:24:00.967Z"
   },
   {
    "duration": 141,
    "start_time": "2024-02-04T15:24:01.226Z"
   },
   {
    "duration": 1105,
    "start_time": "2024-02-04T15:24:01.368Z"
   },
   {
    "duration": 30,
    "start_time": "2024-02-04T15:24:02.475Z"
   },
   {
    "duration": 7,
    "start_time": "2024-02-04T15:24:02.506Z"
   },
   {
    "duration": 156,
    "start_time": "2024-02-04T15:24:02.514Z"
   },
   {
    "duration": 8,
    "start_time": "2024-02-04T15:24:02.672Z"
   },
   {
    "duration": 23,
    "start_time": "2024-02-04T15:24:02.682Z"
   },
   {
    "duration": 10,
    "start_time": "2024-02-04T15:24:02.707Z"
   },
   {
    "duration": 329,
    "start_time": "2024-02-04T15:24:02.721Z"
   },
   {
    "duration": 7,
    "start_time": "2024-02-04T15:24:03.052Z"
   },
   {
    "duration": 14,
    "start_time": "2024-02-04T15:24:03.061Z"
   },
   {
    "duration": 122,
    "start_time": "2024-02-04T15:24:03.076Z"
   },
   {
    "duration": 17,
    "start_time": "2024-02-04T15:24:03.201Z"
   },
   {
    "duration": 20,
    "start_time": "2024-02-04T15:24:03.219Z"
   },
   {
    "duration": 10,
    "start_time": "2024-02-04T15:24:03.240Z"
   },
   {
    "duration": 12,
    "start_time": "2024-02-04T15:24:03.251Z"
   },
   {
    "duration": 7,
    "start_time": "2024-02-04T15:24:03.265Z"
   },
   {
    "duration": 25,
    "start_time": "2024-02-04T15:24:03.274Z"
   },
   {
    "duration": 3,
    "start_time": "2024-02-04T15:24:03.301Z"
   },
   {
    "duration": 10,
    "start_time": "2024-02-04T15:24:03.305Z"
   },
   {
    "duration": 21,
    "start_time": "2024-02-04T15:24:03.316Z"
   },
   {
    "duration": 11,
    "start_time": "2024-02-04T15:24:03.338Z"
   },
   {
    "duration": 11,
    "start_time": "2024-02-04T15:24:03.351Z"
   },
   {
    "duration": 18,
    "start_time": "2024-02-04T15:24:03.364Z"
   },
   {
    "duration": 19,
    "start_time": "2024-02-04T15:24:03.384Z"
   },
   {
    "duration": 3280,
    "start_time": "2024-02-04T15:24:03.405Z"
   },
   {
    "duration": 11,
    "start_time": "2024-02-04T15:24:06.686Z"
   },
   {
    "duration": 51,
    "start_time": "2024-02-04T15:24:06.698Z"
   },
   {
    "duration": 71,
    "start_time": "2024-02-04T15:24:06.751Z"
   },
   {
    "duration": 26,
    "start_time": "2024-02-04T15:24:06.824Z"
   },
   {
    "duration": 23,
    "start_time": "2024-02-04T15:24:06.851Z"
   },
   {
    "duration": 16,
    "start_time": "2024-02-04T15:24:06.875Z"
   },
   {
    "duration": 26,
    "start_time": "2024-02-04T15:24:06.892Z"
   },
   {
    "duration": 26,
    "start_time": "2024-02-04T15:24:06.920Z"
   },
   {
    "duration": 24,
    "start_time": "2024-02-04T15:24:06.947Z"
   },
   {
    "duration": 31,
    "start_time": "2024-02-04T15:24:06.972Z"
   },
   {
    "duration": 72175,
    "start_time": "2024-02-04T15:24:07.007Z"
   },
   {
    "duration": 28,
    "start_time": "2024-02-04T15:25:19.184Z"
   },
   {
    "duration": 5,
    "start_time": "2024-02-04T15:25:19.213Z"
   },
   {
    "duration": 58,
    "start_time": "2024-02-04T15:25:19.233Z"
   },
   {
    "duration": 19,
    "start_time": "2024-02-04T15:25:19.292Z"
   },
   {
    "duration": 180,
    "start_time": "2024-02-04T15:25:19.312Z"
   },
   {
    "duration": 0,
    "start_time": "2024-02-04T15:25:19.493Z"
   },
   {
    "duration": 0,
    "start_time": "2024-02-04T15:25:19.494Z"
   },
   {
    "duration": 11,
    "start_time": "2024-02-04T15:26:10.486Z"
   },
   {
    "duration": 77,
    "start_time": "2024-02-04T15:26:16.344Z"
   },
   {
    "duration": 13,
    "start_time": "2024-02-04T15:26:20.970Z"
   },
   {
    "duration": 2359,
    "start_time": "2024-02-04T15:27:08.017Z"
   },
   {
    "duration": 47,
    "start_time": "2024-02-04T15:27:10.378Z"
   },
   {
    "duration": 32,
    "start_time": "2024-02-04T15:27:10.426Z"
   },
   {
    "duration": 27,
    "start_time": "2024-02-04T15:27:10.460Z"
   },
   {
    "duration": 34,
    "start_time": "2024-02-04T15:27:10.488Z"
   },
   {
    "duration": 9,
    "start_time": "2024-02-04T15:27:10.523Z"
   },
   {
    "duration": 10,
    "start_time": "2024-02-04T15:27:10.534Z"
   },
   {
    "duration": 9,
    "start_time": "2024-02-04T15:27:10.546Z"
   },
   {
    "duration": 9,
    "start_time": "2024-02-04T15:27:10.557Z"
   },
   {
    "duration": 5,
    "start_time": "2024-02-04T15:27:10.568Z"
   },
   {
    "duration": 7,
    "start_time": "2024-02-04T15:27:10.574Z"
   },
   {
    "duration": 14,
    "start_time": "2024-02-04T15:27:10.582Z"
   },
   {
    "duration": 14,
    "start_time": "2024-02-04T15:27:10.597Z"
   },
   {
    "duration": 22,
    "start_time": "2024-02-04T15:27:10.613Z"
   },
   {
    "duration": 9,
    "start_time": "2024-02-04T15:27:10.639Z"
   },
   {
    "duration": 18,
    "start_time": "2024-02-04T15:27:10.650Z"
   },
   {
    "duration": 10,
    "start_time": "2024-02-04T15:27:10.670Z"
   },
   {
    "duration": 242,
    "start_time": "2024-02-04T15:27:10.682Z"
   },
   {
    "duration": 152,
    "start_time": "2024-02-04T15:27:10.926Z"
   },
   {
    "duration": 1190,
    "start_time": "2024-02-04T15:27:11.080Z"
   },
   {
    "duration": 30,
    "start_time": "2024-02-04T15:27:12.272Z"
   },
   {
    "duration": 6,
    "start_time": "2024-02-04T15:27:12.303Z"
   },
   {
    "duration": 161,
    "start_time": "2024-02-04T15:27:12.311Z"
   },
   {
    "duration": 7,
    "start_time": "2024-02-04T15:27:12.474Z"
   },
   {
    "duration": 7,
    "start_time": "2024-02-04T15:27:12.482Z"
   },
   {
    "duration": 6,
    "start_time": "2024-02-04T15:27:12.491Z"
   },
   {
    "duration": 347,
    "start_time": "2024-02-04T15:27:12.499Z"
   },
   {
    "duration": 11,
    "start_time": "2024-02-04T15:27:12.851Z"
   },
   {
    "duration": 16,
    "start_time": "2024-02-04T15:27:12.864Z"
   },
   {
    "duration": 156,
    "start_time": "2024-02-04T15:27:12.881Z"
   },
   {
    "duration": 28,
    "start_time": "2024-02-04T15:27:13.039Z"
   },
   {
    "duration": 6,
    "start_time": "2024-02-04T15:27:13.069Z"
   },
   {
    "duration": 14,
    "start_time": "2024-02-04T15:27:13.077Z"
   },
   {
    "duration": 6,
    "start_time": "2024-02-04T15:27:13.093Z"
   },
   {
    "duration": 4,
    "start_time": "2024-02-04T15:27:13.101Z"
   },
   {
    "duration": 44,
    "start_time": "2024-02-04T15:27:13.106Z"
   },
   {
    "duration": 5,
    "start_time": "2024-02-04T15:27:13.151Z"
   },
   {
    "duration": 13,
    "start_time": "2024-02-04T15:27:13.158Z"
   },
   {
    "duration": 12,
    "start_time": "2024-02-04T15:27:13.172Z"
   },
   {
    "duration": 6,
    "start_time": "2024-02-04T15:27:13.185Z"
   },
   {
    "duration": 5,
    "start_time": "2024-02-04T15:27:13.193Z"
   },
   {
    "duration": 14,
    "start_time": "2024-02-04T15:27:13.200Z"
   },
   {
    "duration": 29,
    "start_time": "2024-02-04T15:27:13.215Z"
   },
   {
    "duration": 3437,
    "start_time": "2024-02-04T15:27:13.245Z"
   },
   {
    "duration": 10,
    "start_time": "2024-02-04T15:27:16.684Z"
   },
   {
    "duration": 6,
    "start_time": "2024-02-04T15:27:16.696Z"
   },
   {
    "duration": 6,
    "start_time": "2024-02-04T15:27:16.703Z"
   },
   {
    "duration": 3,
    "start_time": "2024-02-04T15:27:16.710Z"
   },
   {
    "duration": 10,
    "start_time": "2024-02-04T15:27:16.714Z"
   },
   {
    "duration": 3,
    "start_time": "2024-02-04T15:27:16.734Z"
   },
   {
    "duration": 7,
    "start_time": "2024-02-04T15:27:16.739Z"
   },
   {
    "duration": 7,
    "start_time": "2024-02-04T15:27:16.747Z"
   },
   {
    "duration": 4,
    "start_time": "2024-02-04T15:27:16.756Z"
   },
   {
    "duration": 5,
    "start_time": "2024-02-04T15:27:16.762Z"
   },
   {
    "duration": 75504,
    "start_time": "2024-02-04T15:27:16.768Z"
   },
   {
    "duration": 28,
    "start_time": "2024-02-04T15:28:32.273Z"
   },
   {
    "duration": 22,
    "start_time": "2024-02-04T15:28:32.302Z"
   },
   {
    "duration": 53,
    "start_time": "2024-02-04T15:28:32.325Z"
   },
   {
    "duration": 74,
    "start_time": "2024-02-04T15:28:32.379Z"
   },
   {
    "duration": 10,
    "start_time": "2024-02-04T15:28:32.454Z"
   },
   {
    "duration": 17,
    "start_time": "2024-02-04T15:28:32.466Z"
   },
   {
    "duration": 4,
    "start_time": "2024-02-04T15:30:31.201Z"
   },
   {
    "duration": 37,
    "start_time": "2024-02-04T15:30:33.610Z"
   },
   {
    "duration": 79,
    "start_time": "2024-02-04T15:30:36.947Z"
   },
   {
    "duration": 18,
    "start_time": "2024-02-04T15:30:39.485Z"
   },
   {
    "duration": 159,
    "start_time": "2024-02-04T15:31:40.922Z"
   },
   {
    "duration": 10,
    "start_time": "2024-02-04T15:31:48.371Z"
   },
   {
    "duration": 14,
    "start_time": "2024-02-04T15:31:56.140Z"
   },
   {
    "duration": 11,
    "start_time": "2024-02-04T15:32:18.918Z"
   },
   {
    "duration": 2332,
    "start_time": "2024-02-04T15:33:01.603Z"
   },
   {
    "duration": 56,
    "start_time": "2024-02-04T15:33:03.937Z"
   },
   {
    "duration": 30,
    "start_time": "2024-02-04T15:33:03.995Z"
   },
   {
    "duration": 30,
    "start_time": "2024-02-04T15:33:04.027Z"
   },
   {
    "duration": 83,
    "start_time": "2024-02-04T15:33:04.060Z"
   },
   {
    "duration": 10,
    "start_time": "2024-02-04T15:33:04.145Z"
   },
   {
    "duration": 8,
    "start_time": "2024-02-04T15:33:04.157Z"
   },
   {
    "duration": 8,
    "start_time": "2024-02-04T15:33:04.167Z"
   },
   {
    "duration": 11,
    "start_time": "2024-02-04T15:33:04.176Z"
   },
   {
    "duration": 6,
    "start_time": "2024-02-04T15:33:04.188Z"
   },
   {
    "duration": 14,
    "start_time": "2024-02-04T15:33:04.196Z"
   },
   {
    "duration": 28,
    "start_time": "2024-02-04T15:33:04.211Z"
   },
   {
    "duration": 7,
    "start_time": "2024-02-04T15:33:04.245Z"
   },
   {
    "duration": 4,
    "start_time": "2024-02-04T15:33:04.256Z"
   },
   {
    "duration": 8,
    "start_time": "2024-02-04T15:33:04.262Z"
   },
   {
    "duration": 8,
    "start_time": "2024-02-04T15:33:04.271Z"
   },
   {
    "duration": 15,
    "start_time": "2024-02-04T15:33:04.280Z"
   },
   {
    "duration": 246,
    "start_time": "2024-02-04T15:33:04.297Z"
   },
   {
    "duration": 138,
    "start_time": "2024-02-04T15:33:04.544Z"
   },
   {
    "duration": 1107,
    "start_time": "2024-02-04T15:33:04.684Z"
   },
   {
    "duration": 54,
    "start_time": "2024-02-04T15:33:05.793Z"
   },
   {
    "duration": 8,
    "start_time": "2024-02-04T15:33:05.854Z"
   },
   {
    "duration": 130,
    "start_time": "2024-02-04T15:33:05.863Z"
   },
   {
    "duration": 6,
    "start_time": "2024-02-04T15:33:05.994Z"
   },
   {
    "duration": 16,
    "start_time": "2024-02-04T15:33:06.002Z"
   },
   {
    "duration": 26,
    "start_time": "2024-02-04T15:33:06.020Z"
   },
   {
    "duration": 290,
    "start_time": "2024-02-04T15:33:06.048Z"
   },
   {
    "duration": 6,
    "start_time": "2024-02-04T15:33:06.347Z"
   },
   {
    "duration": 7,
    "start_time": "2024-02-04T15:33:06.355Z"
   },
   {
    "duration": 133,
    "start_time": "2024-02-04T15:33:06.363Z"
   },
   {
    "duration": 17,
    "start_time": "2024-02-04T15:33:06.498Z"
   },
   {
    "duration": 23,
    "start_time": "2024-02-04T15:33:06.516Z"
   },
   {
    "duration": 12,
    "start_time": "2024-02-04T15:33:06.541Z"
   },
   {
    "duration": 7,
    "start_time": "2024-02-04T15:33:06.554Z"
   },
   {
    "duration": 6,
    "start_time": "2024-02-04T15:33:06.563Z"
   },
   {
    "duration": 11,
    "start_time": "2024-02-04T15:33:06.570Z"
   },
   {
    "duration": 5,
    "start_time": "2024-02-04T15:33:06.582Z"
   },
   {
    "duration": 8,
    "start_time": "2024-02-04T15:33:06.588Z"
   },
   {
    "duration": 12,
    "start_time": "2024-02-04T15:33:06.597Z"
   },
   {
    "duration": 11,
    "start_time": "2024-02-04T15:33:06.632Z"
   },
   {
    "duration": 8,
    "start_time": "2024-02-04T15:33:06.651Z"
   },
   {
    "duration": 14,
    "start_time": "2024-02-04T15:33:06.661Z"
   },
   {
    "duration": 10,
    "start_time": "2024-02-04T15:33:06.677Z"
   },
   {
    "duration": 3305,
    "start_time": "2024-02-04T15:33:06.688Z"
   },
   {
    "duration": 12,
    "start_time": "2024-02-04T15:33:09.995Z"
   },
   {
    "duration": 15,
    "start_time": "2024-02-04T15:33:10.008Z"
   },
   {
    "duration": 26,
    "start_time": "2024-02-04T15:33:10.024Z"
   },
   {
    "duration": 7,
    "start_time": "2024-02-04T15:33:10.052Z"
   },
   {
    "duration": 7,
    "start_time": "2024-02-04T15:33:10.061Z"
   },
   {
    "duration": 11,
    "start_time": "2024-02-04T15:33:10.070Z"
   },
   {
    "duration": 43,
    "start_time": "2024-02-04T15:33:10.082Z"
   },
   {
    "duration": 17,
    "start_time": "2024-02-04T15:33:10.126Z"
   },
   {
    "duration": 11,
    "start_time": "2024-02-04T15:33:10.148Z"
   },
   {
    "duration": 21,
    "start_time": "2024-02-04T15:33:10.161Z"
   },
   {
    "duration": 71057,
    "start_time": "2024-02-04T15:33:10.183Z"
   },
   {
    "duration": 29,
    "start_time": "2024-02-04T15:34:21.246Z"
   },
   {
    "duration": 5,
    "start_time": "2024-02-04T15:34:21.277Z"
   },
   {
    "duration": 5,
    "start_time": "2024-02-04T15:34:21.283Z"
   },
   {
    "duration": 59,
    "start_time": "2024-02-04T15:34:21.289Z"
   },
   {
    "duration": 90,
    "start_time": "2024-02-04T15:34:21.350Z"
   },
   {
    "duration": 22,
    "start_time": "2024-02-04T15:34:21.443Z"
   },
   {
    "duration": 300772,
    "start_time": "2024-02-04T15:34:21.466Z"
   },
   {
    "duration": 0,
    "start_time": "2024-02-04T15:39:22.240Z"
   },
   {
    "duration": 9,
    "start_time": "2024-02-04T15:40:23.317Z"
   },
   {
    "duration": 14,
    "start_time": "2024-02-04T15:49:09.065Z"
   },
   {
    "duration": 15,
    "start_time": "2024-02-04T15:49:28.660Z"
   },
   {
    "duration": 12,
    "start_time": "2024-02-04T15:49:47.555Z"
   },
   {
    "duration": 8,
    "start_time": "2024-02-04T15:50:31.790Z"
   },
   {
    "duration": 14,
    "start_time": "2024-02-04T15:51:24.626Z"
   },
   {
    "duration": 10,
    "start_time": "2024-02-04T15:51:39.973Z"
   },
   {
    "duration": 10,
    "start_time": "2024-02-04T15:51:42.537Z"
   },
   {
    "duration": 10,
    "start_time": "2024-02-04T15:51:49.196Z"
   },
   {
    "duration": 8,
    "start_time": "2024-02-04T15:51:58.366Z"
   },
   {
    "duration": 9,
    "start_time": "2024-02-04T15:52:03.203Z"
   },
   {
    "duration": 12,
    "start_time": "2024-02-04T15:52:18.464Z"
   },
   {
    "duration": 9,
    "start_time": "2024-02-04T15:52:22.101Z"
   },
   {
    "duration": 13,
    "start_time": "2024-02-04T15:52:40.183Z"
   },
   {
    "duration": 13,
    "start_time": "2024-02-04T15:52:44.142Z"
   },
   {
    "duration": 10,
    "start_time": "2024-02-04T15:52:47.684Z"
   },
   {
    "duration": 9,
    "start_time": "2024-02-04T15:54:08.847Z"
   },
   {
    "duration": 9,
    "start_time": "2024-02-04T15:58:24.501Z"
   },
   {
    "duration": 1162,
    "start_time": "2024-02-04T15:58:29.710Z"
   },
   {
    "duration": 1166,
    "start_time": "2024-02-04T15:58:57.009Z"
   },
   {
    "duration": 1279,
    "start_time": "2024-02-04T16:00:28.040Z"
   },
   {
    "duration": 1213,
    "start_time": "2024-02-04T16:00:59.630Z"
   },
   {
    "duration": 13,
    "start_time": "2024-02-04T16:01:22.170Z"
   },
   {
    "duration": 12,
    "start_time": "2024-02-04T16:02:27.117Z"
   },
   {
    "duration": 2363,
    "start_time": "2024-02-04T16:02:33.101Z"
   },
   {
    "duration": 47,
    "start_time": "2024-02-04T16:02:35.466Z"
   },
   {
    "duration": 34,
    "start_time": "2024-02-04T16:02:35.514Z"
   },
   {
    "duration": 27,
    "start_time": "2024-02-04T16:02:35.549Z"
   },
   {
    "duration": 35,
    "start_time": "2024-02-04T16:02:35.579Z"
   },
   {
    "duration": 10,
    "start_time": "2024-02-04T16:02:35.615Z"
   },
   {
    "duration": 29,
    "start_time": "2024-02-04T16:02:35.627Z"
   },
   {
    "duration": 35,
    "start_time": "2024-02-04T16:02:35.657Z"
   },
   {
    "duration": 9,
    "start_time": "2024-02-04T16:02:35.693Z"
   },
   {
    "duration": 24,
    "start_time": "2024-02-04T16:02:35.704Z"
   },
   {
    "duration": 36,
    "start_time": "2024-02-04T16:02:35.730Z"
   },
   {
    "duration": 25,
    "start_time": "2024-02-04T16:02:35.768Z"
   },
   {
    "duration": 43,
    "start_time": "2024-02-04T16:02:35.795Z"
   },
   {
    "duration": 35,
    "start_time": "2024-02-04T16:02:35.844Z"
   },
   {
    "duration": 46,
    "start_time": "2024-02-04T16:02:35.881Z"
   },
   {
    "duration": 45,
    "start_time": "2024-02-04T16:02:35.929Z"
   },
   {
    "duration": 31,
    "start_time": "2024-02-04T16:02:35.975Z"
   },
   {
    "duration": 252,
    "start_time": "2024-02-04T16:02:36.007Z"
   },
   {
    "duration": 158,
    "start_time": "2024-02-04T16:02:36.261Z"
   },
   {
    "duration": 1079,
    "start_time": "2024-02-04T16:02:36.421Z"
   },
   {
    "duration": 49,
    "start_time": "2024-02-04T16:02:37.501Z"
   },
   {
    "duration": 9,
    "start_time": "2024-02-04T16:02:37.552Z"
   },
   {
    "duration": 163,
    "start_time": "2024-02-04T16:02:37.562Z"
   },
   {
    "duration": 21,
    "start_time": "2024-02-04T16:02:37.727Z"
   },
   {
    "duration": 14,
    "start_time": "2024-02-04T16:02:37.750Z"
   },
   {
    "duration": 35,
    "start_time": "2024-02-04T16:02:37.766Z"
   },
   {
    "duration": 297,
    "start_time": "2024-02-04T16:02:37.803Z"
   },
   {
    "duration": 7,
    "start_time": "2024-02-04T16:02:38.101Z"
   },
   {
    "duration": 16,
    "start_time": "2024-02-04T16:02:38.109Z"
   },
   {
    "duration": 144,
    "start_time": "2024-02-04T16:02:38.126Z"
   },
   {
    "duration": 18,
    "start_time": "2024-02-04T16:02:38.272Z"
   },
   {
    "duration": 6,
    "start_time": "2024-02-04T16:02:38.292Z"
   },
   {
    "duration": 27,
    "start_time": "2024-02-04T16:02:38.300Z"
   },
   {
    "duration": 9,
    "start_time": "2024-02-04T16:02:38.328Z"
   },
   {
    "duration": 17,
    "start_time": "2024-02-04T16:02:38.343Z"
   },
   {
    "duration": 27,
    "start_time": "2024-02-04T16:02:38.362Z"
   },
   {
    "duration": 20,
    "start_time": "2024-02-04T16:02:38.391Z"
   },
   {
    "duration": 37,
    "start_time": "2024-02-04T16:02:38.412Z"
   },
   {
    "duration": 22,
    "start_time": "2024-02-04T16:02:38.451Z"
   },
   {
    "duration": 28,
    "start_time": "2024-02-04T16:02:38.474Z"
   },
   {
    "duration": 25,
    "start_time": "2024-02-04T16:02:38.505Z"
   },
   {
    "duration": 23,
    "start_time": "2024-02-04T16:02:38.532Z"
   },
   {
    "duration": 36,
    "start_time": "2024-02-04T16:02:38.556Z"
   },
   {
    "duration": 3336,
    "start_time": "2024-02-04T16:02:38.593Z"
   },
   {
    "duration": 20,
    "start_time": "2024-02-04T16:02:41.931Z"
   },
   {
    "duration": 7,
    "start_time": "2024-02-04T16:02:41.952Z"
   },
   {
    "duration": 6,
    "start_time": "2024-02-04T16:02:41.961Z"
   },
   {
    "duration": 4,
    "start_time": "2024-02-04T16:02:41.969Z"
   },
   {
    "duration": 7,
    "start_time": "2024-02-04T16:02:41.974Z"
   },
   {
    "duration": 3,
    "start_time": "2024-02-04T16:02:41.982Z"
   },
   {
    "duration": 7,
    "start_time": "2024-02-04T16:02:41.987Z"
   },
   {
    "duration": 6,
    "start_time": "2024-02-04T16:02:41.996Z"
   },
   {
    "duration": 4,
    "start_time": "2024-02-04T16:02:42.003Z"
   },
   {
    "duration": 28,
    "start_time": "2024-02-04T16:02:42.008Z"
   },
   {
    "duration": 70386,
    "start_time": "2024-02-04T16:02:42.037Z"
   },
   {
    "duration": 39,
    "start_time": "2024-02-04T16:03:52.424Z"
   },
   {
    "duration": 4,
    "start_time": "2024-02-04T16:03:52.465Z"
   },
   {
    "duration": 4,
    "start_time": "2024-02-04T16:03:52.470Z"
   },
   {
    "duration": 34,
    "start_time": "2024-02-04T16:03:52.475Z"
   },
   {
    "duration": 104,
    "start_time": "2024-02-04T16:03:52.510Z"
   },
   {
    "duration": 39,
    "start_time": "2024-02-04T16:03:52.615Z"
   },
   {
    "duration": 71492,
    "start_time": "2024-02-04T16:03:52.655Z"
   },
   {
    "duration": 0,
    "start_time": "2024-02-04T16:05:04.152Z"
   },
   {
    "duration": 0,
    "start_time": "2024-02-04T16:05:04.154Z"
   },
   {
    "duration": 0,
    "start_time": "2024-02-04T16:05:04.155Z"
   },
   {
    "duration": 0,
    "start_time": "2024-02-04T16:05:04.158Z"
   },
   {
    "duration": 0,
    "start_time": "2024-02-04T16:05:04.159Z"
   },
   {
    "duration": 0,
    "start_time": "2024-02-04T16:05:04.163Z"
   },
   {
    "duration": 8,
    "start_time": "2024-02-04T16:05:22.003Z"
   },
   {
    "duration": 16,
    "start_time": "2024-02-04T16:05:23.854Z"
   },
   {
    "duration": 5,
    "start_time": "2024-02-04T16:05:27.792Z"
   },
   {
    "duration": 17,
    "start_time": "2024-02-04T16:05:35.093Z"
   },
   {
    "duration": 7,
    "start_time": "2024-02-04T16:06:18.082Z"
   },
   {
    "duration": 7,
    "start_time": "2024-02-04T16:06:42.609Z"
   },
   {
    "duration": 12,
    "start_time": "2024-02-04T16:11:29.707Z"
   },
   {
    "duration": 11,
    "start_time": "2024-02-04T16:11:55.784Z"
   },
   {
    "duration": 96,
    "start_time": "2024-02-04T16:12:15.705Z"
   },
   {
    "duration": 89,
    "start_time": "2024-02-04T16:12:25.289Z"
   },
   {
    "duration": 116,
    "start_time": "2024-02-04T16:13:50.966Z"
   },
   {
    "duration": 132,
    "start_time": "2024-02-04T16:14:05.838Z"
   },
   {
    "duration": 1539,
    "start_time": "2024-02-04T16:16:46.218Z"
   },
   {
    "duration": 148,
    "start_time": "2024-02-04T16:17:04.537Z"
   },
   {
    "duration": 52,
    "start_time": "2024-02-04T16:17:27.897Z"
   },
   {
    "duration": 10,
    "start_time": "2024-02-04T16:17:36.003Z"
   },
   {
    "duration": 16,
    "start_time": "2024-02-04T16:24:26.530Z"
   },
   {
    "duration": 12,
    "start_time": "2024-02-04T16:24:33.857Z"
   },
   {
    "duration": 5,
    "start_time": "2024-02-04T16:25:29.416Z"
   },
   {
    "duration": 17,
    "start_time": "2024-02-04T16:26:11.153Z"
   },
   {
    "duration": 13,
    "start_time": "2024-02-04T16:27:05.607Z"
   },
   {
    "duration": 9,
    "start_time": "2024-02-04T16:27:15.358Z"
   },
   {
    "duration": 5,
    "start_time": "2024-02-04T16:27:19.997Z"
   },
   {
    "duration": 5,
    "start_time": "2024-02-04T16:27:30.213Z"
   },
   {
    "duration": 177,
    "start_time": "2024-02-04T16:27:32.702Z"
   },
   {
    "duration": 357,
    "start_time": "2024-02-04T16:27:59.318Z"
   },
   {
    "duration": 275,
    "start_time": "2024-02-04T16:31:49.492Z"
   },
   {
    "duration": 102,
    "start_time": "2024-02-04T16:39:22.854Z"
   },
   {
    "duration": 3,
    "start_time": "2024-02-04T16:39:40.818Z"
   },
   {
    "duration": 6,
    "start_time": "2024-02-04T16:39:42.916Z"
   },
   {
    "duration": 21,
    "start_time": "2024-02-04T16:40:06.051Z"
   },
   {
    "duration": 5,
    "start_time": "2024-02-04T16:46:35.449Z"
   },
   {
    "duration": 12,
    "start_time": "2024-02-04T16:46:58.703Z"
   },
   {
    "duration": 5,
    "start_time": "2024-02-04T16:47:04.172Z"
   },
   {
    "duration": 11,
    "start_time": "2024-02-04T16:47:30.280Z"
   },
   {
    "duration": 5,
    "start_time": "2024-02-04T16:47:32.484Z"
   },
   {
    "duration": 13,
    "start_time": "2024-02-04T16:47:43.098Z"
   },
   {
    "duration": 8,
    "start_time": "2024-02-04T16:48:13.234Z"
   },
   {
    "duration": 21,
    "start_time": "2024-02-04T16:48:15.204Z"
   },
   {
    "duration": 11,
    "start_time": "2024-02-04T16:48:45.158Z"
   },
   {
    "duration": 5,
    "start_time": "2024-02-04T16:48:50.485Z"
   },
   {
    "duration": 254,
    "start_time": "2024-02-04T16:50:28.406Z"
   },
   {
    "duration": 265,
    "start_time": "2024-02-04T16:51:03.113Z"
   },
   {
    "duration": 249,
    "start_time": "2024-02-04T16:51:33.231Z"
   },
   {
    "duration": 386,
    "start_time": "2024-02-04T16:52:15.232Z"
   },
   {
    "duration": 112,
    "start_time": "2024-02-04T16:55:09.274Z"
   },
   {
    "duration": 7,
    "start_time": "2024-02-04T16:57:01.495Z"
   },
   {
    "duration": 118,
    "start_time": "2024-02-04T16:58:26.944Z"
   },
   {
    "duration": 8,
    "start_time": "2024-02-04T16:59:00.047Z"
   },
   {
    "duration": 7,
    "start_time": "2024-02-04T17:00:19.574Z"
   },
   {
    "duration": 264,
    "start_time": "2024-02-04T17:00:21.824Z"
   },
   {
    "duration": 5,
    "start_time": "2024-02-04T17:00:28.602Z"
   },
   {
    "duration": 106,
    "start_time": "2024-02-04T17:01:08.288Z"
   },
   {
    "duration": 7,
    "start_time": "2024-02-04T17:02:02.151Z"
   },
   {
    "duration": 125,
    "start_time": "2024-02-04T17:02:09.890Z"
   },
   {
    "duration": 8,
    "start_time": "2024-02-04T17:02:13.902Z"
   },
   {
    "duration": 3,
    "start_time": "2024-02-04T17:03:39.100Z"
   },
   {
    "duration": 4,
    "start_time": "2024-02-04T17:03:43.148Z"
   },
   {
    "duration": 22,
    "start_time": "2024-02-04T17:03:46.201Z"
   },
   {
    "duration": 6,
    "start_time": "2024-02-04T17:04:12.731Z"
   },
   {
    "duration": 258,
    "start_time": "2024-02-04T17:04:14.890Z"
   },
   {
    "duration": 5,
    "start_time": "2024-02-04T17:04:20.517Z"
   },
   {
    "duration": 116,
    "start_time": "2024-02-04T17:04:27.830Z"
   },
   {
    "duration": 7,
    "start_time": "2024-02-04T17:04:31.684Z"
   },
   {
    "duration": 145,
    "start_time": "2024-02-04T17:04:33.747Z"
   },
   {
    "duration": 7,
    "start_time": "2024-02-04T17:04:38.128Z"
   },
   {
    "duration": 3,
    "start_time": "2024-02-04T17:05:46.302Z"
   },
   {
    "duration": 4,
    "start_time": "2024-02-04T17:05:51.239Z"
   },
   {
    "duration": 22,
    "start_time": "2024-02-04T17:05:52.831Z"
   },
   {
    "duration": 6,
    "start_time": "2024-02-04T17:06:03.861Z"
   },
   {
    "duration": 247,
    "start_time": "2024-02-04T17:06:06.654Z"
   },
   {
    "duration": 5,
    "start_time": "2024-02-04T17:06:11.473Z"
   },
   {
    "duration": 20,
    "start_time": "2024-02-04T17:06:52.907Z"
   },
   {
    "duration": 5,
    "start_time": "2024-02-04T17:06:59.248Z"
   },
   {
    "duration": 5,
    "start_time": "2024-02-04T17:07:04.062Z"
   },
   {
    "duration": 258,
    "start_time": "2024-02-04T17:08:36.545Z"
   },
   {
    "duration": 123,
    "start_time": "2024-02-04T17:08:39.773Z"
   },
   {
    "duration": 134,
    "start_time": "2024-02-04T17:09:04.150Z"
   },
   {
    "duration": 124,
    "start_time": "2024-02-04T17:09:13.872Z"
   },
   {
    "duration": 119,
    "start_time": "2024-02-04T17:09:18.855Z"
   },
   {
    "duration": 123,
    "start_time": "2024-02-04T17:09:30.938Z"
   },
   {
    "duration": 7,
    "start_time": "2024-02-04T17:09:33.691Z"
   },
   {
    "duration": 2,
    "start_time": "2024-02-04T17:10:53.665Z"
   },
   {
    "duration": 4,
    "start_time": "2024-02-04T17:10:55.561Z"
   },
   {
    "duration": 22,
    "start_time": "2024-02-04T17:10:57.503Z"
   },
   {
    "duration": 8,
    "start_time": "2024-02-04T17:11:11.282Z"
   },
   {
    "duration": 264,
    "start_time": "2024-02-04T17:11:13.219Z"
   },
   {
    "duration": 5,
    "start_time": "2024-02-04T17:11:15.651Z"
   },
   {
    "duration": 113,
    "start_time": "2024-02-04T17:11:18.512Z"
   },
   {
    "duration": 8,
    "start_time": "2024-02-04T17:11:21.194Z"
   },
   {
    "duration": 2365,
    "start_time": "2024-02-04T17:18:01.011Z"
   },
   {
    "duration": 48,
    "start_time": "2024-02-04T17:18:03.378Z"
   },
   {
    "duration": 33,
    "start_time": "2024-02-04T17:18:03.427Z"
   },
   {
    "duration": 25,
    "start_time": "2024-02-04T17:18:03.461Z"
   },
   {
    "duration": 35,
    "start_time": "2024-02-04T17:18:03.488Z"
   },
   {
    "duration": 11,
    "start_time": "2024-02-04T17:18:03.525Z"
   },
   {
    "duration": 30,
    "start_time": "2024-02-04T17:18:03.540Z"
   },
   {
    "duration": 10,
    "start_time": "2024-02-04T17:18:03.572Z"
   },
   {
    "duration": 21,
    "start_time": "2024-02-04T17:18:03.583Z"
   },
   {
    "duration": 6,
    "start_time": "2024-02-04T17:18:03.605Z"
   },
   {
    "duration": 31,
    "start_time": "2024-02-04T17:18:03.613Z"
   },
   {
    "duration": 7,
    "start_time": "2024-02-04T17:18:03.646Z"
   },
   {
    "duration": 6,
    "start_time": "2024-02-04T17:18:03.655Z"
   },
   {
    "duration": 7,
    "start_time": "2024-02-04T17:18:03.664Z"
   },
   {
    "duration": 17,
    "start_time": "2024-02-04T17:18:03.672Z"
   },
   {
    "duration": 10,
    "start_time": "2024-02-04T17:18:03.690Z"
   },
   {
    "duration": 11,
    "start_time": "2024-02-04T17:18:03.702Z"
   },
   {
    "duration": 231,
    "start_time": "2024-02-04T17:18:03.715Z"
   },
   {
    "duration": 143,
    "start_time": "2024-02-04T17:18:03.947Z"
   },
   {
    "duration": 1060,
    "start_time": "2024-02-04T17:18:04.092Z"
   },
   {
    "duration": 30,
    "start_time": "2024-02-04T17:18:05.154Z"
   },
   {
    "duration": 6,
    "start_time": "2024-02-04T17:18:05.185Z"
   },
   {
    "duration": 146,
    "start_time": "2024-02-04T17:18:05.193Z"
   },
   {
    "duration": 7,
    "start_time": "2024-02-04T17:18:05.342Z"
   },
   {
    "duration": 11,
    "start_time": "2024-02-04T17:18:05.351Z"
   },
   {
    "duration": 21,
    "start_time": "2024-02-04T17:18:05.364Z"
   },
   {
    "duration": 295,
    "start_time": "2024-02-04T17:18:05.386Z"
   },
   {
    "duration": 7,
    "start_time": "2024-02-04T17:18:05.682Z"
   },
   {
    "duration": 11,
    "start_time": "2024-02-04T17:18:05.690Z"
   },
   {
    "duration": 147,
    "start_time": "2024-02-04T17:18:05.703Z"
   },
   {
    "duration": 17,
    "start_time": "2024-02-04T17:18:05.852Z"
   },
   {
    "duration": 6,
    "start_time": "2024-02-04T17:18:05.870Z"
   },
   {
    "duration": 12,
    "start_time": "2024-02-04T17:18:05.877Z"
   },
   {
    "duration": 3,
    "start_time": "2024-02-04T17:18:05.890Z"
   },
   {
    "duration": 3,
    "start_time": "2024-02-04T17:18:05.895Z"
   },
   {
    "duration": 11,
    "start_time": "2024-02-04T17:18:05.900Z"
   },
   {
    "duration": 13,
    "start_time": "2024-02-04T17:18:05.933Z"
   },
   {
    "duration": 9,
    "start_time": "2024-02-04T17:18:05.948Z"
   },
   {
    "duration": 12,
    "start_time": "2024-02-04T17:18:05.959Z"
   },
   {
    "duration": 6,
    "start_time": "2024-02-04T17:18:05.972Z"
   },
   {
    "duration": 9,
    "start_time": "2024-02-04T17:18:05.982Z"
   },
   {
    "duration": 14,
    "start_time": "2024-02-04T17:18:05.992Z"
   },
   {
    "duration": 36,
    "start_time": "2024-02-04T17:18:06.007Z"
   },
   {
    "duration": 3249,
    "start_time": "2024-02-04T17:18:06.044Z"
   },
   {
    "duration": 11,
    "start_time": "2024-02-04T17:18:09.295Z"
   },
   {
    "duration": 7,
    "start_time": "2024-02-04T17:18:09.308Z"
   },
   {
    "duration": 6,
    "start_time": "2024-02-04T17:18:09.316Z"
   },
   {
    "duration": 7,
    "start_time": "2024-02-04T17:18:09.323Z"
   },
   {
    "duration": 8,
    "start_time": "2024-02-04T17:18:09.331Z"
   },
   {
    "duration": 7,
    "start_time": "2024-02-04T17:18:09.340Z"
   },
   {
    "duration": 6,
    "start_time": "2024-02-04T17:18:09.348Z"
   },
   {
    "duration": 5,
    "start_time": "2024-02-04T17:18:09.355Z"
   },
   {
    "duration": 4,
    "start_time": "2024-02-04T17:18:09.361Z"
   },
   {
    "duration": 5,
    "start_time": "2024-02-04T17:18:09.366Z"
   },
   {
    "duration": 70392,
    "start_time": "2024-02-04T17:18:09.372Z"
   },
   {
    "duration": 30,
    "start_time": "2024-02-04T17:19:19.766Z"
   },
   {
    "duration": 6,
    "start_time": "2024-02-04T17:19:19.797Z"
   },
   {
    "duration": 29,
    "start_time": "2024-02-04T17:19:19.804Z"
   },
   {
    "duration": 35,
    "start_time": "2024-02-04T17:19:19.838Z"
   },
   {
    "duration": 93,
    "start_time": "2024-02-04T17:19:19.875Z"
   },
   {
    "duration": 8,
    "start_time": "2024-02-04T17:19:19.969Z"
   },
   {
    "duration": 5,
    "start_time": "2024-02-04T17:19:19.978Z"
   },
   {
    "duration": 24,
    "start_time": "2024-02-04T17:19:19.984Z"
   },
   {
    "duration": 9,
    "start_time": "2024-02-04T17:19:20.009Z"
   },
   {
    "duration": 103,
    "start_time": "2024-02-04T17:19:20.019Z"
   },
   {
    "duration": 134,
    "start_time": "2024-02-04T17:19:20.124Z"
   },
   {
    "duration": 129,
    "start_time": "2024-02-04T17:19:20.260Z"
   },
   {
    "duration": 11,
    "start_time": "2024-02-04T17:19:20.390Z"
   },
   {
    "duration": 4,
    "start_time": "2024-02-04T17:19:20.402Z"
   },
   {
    "duration": 278,
    "start_time": "2024-02-04T17:19:20.408Z"
   },
   {
    "duration": 2,
    "start_time": "2024-02-04T17:19:20.688Z"
   },
   {
    "duration": 7,
    "start_time": "2024-02-04T17:19:20.692Z"
   },
   {
    "duration": 44,
    "start_time": "2024-02-04T17:19:20.700Z"
   },
   {
    "duration": 7,
    "start_time": "2024-02-04T17:19:20.748Z"
   },
   {
    "duration": 385,
    "start_time": "2024-02-04T17:19:20.756Z"
   },
   {
    "duration": 11,
    "start_time": "2024-02-04T17:19:21.143Z"
   },
   {
    "duration": 166,
    "start_time": "2024-02-04T17:19:21.155Z"
   },
   {
    "duration": 8,
    "start_time": "2024-02-04T17:19:21.322Z"
   },
   {
    "duration": 4,
    "start_time": "2024-02-04T17:26:33.513Z"
   },
   {
    "duration": 5,
    "start_time": "2024-02-04T17:26:35.671Z"
   },
   {
    "duration": 5,
    "start_time": "2024-02-04T17:26:37.946Z"
   },
   {
    "duration": 5,
    "start_time": "2024-02-04T17:26:56.448Z"
   },
   {
    "duration": 272,
    "start_time": "2024-02-04T17:27:00.790Z"
   },
   {
    "duration": 5,
    "start_time": "2024-02-04T17:27:04.351Z"
   },
   {
    "duration": 3,
    "start_time": "2024-02-04T17:28:15.800Z"
   },
   {
    "duration": 4,
    "start_time": "2024-02-04T17:28:18.325Z"
   },
   {
    "duration": 6,
    "start_time": "2024-02-04T17:28:26.671Z"
   },
   {
    "duration": 5,
    "start_time": "2024-02-04T17:28:39.890Z"
   },
   {
    "duration": 279,
    "start_time": "2024-02-04T17:28:42.491Z"
   },
   {
    "duration": 6,
    "start_time": "2024-02-04T17:28:44.957Z"
   },
   {
    "duration": 102,
    "start_time": "2024-02-04T17:28:53.594Z"
   },
   {
    "duration": 2377,
    "start_time": "2024-02-04T17:31:07.830Z"
   },
   {
    "duration": 53,
    "start_time": "2024-02-04T17:31:10.208Z"
   },
   {
    "duration": 27,
    "start_time": "2024-02-04T17:31:10.263Z"
   },
   {
    "duration": 31,
    "start_time": "2024-02-04T17:31:10.292Z"
   },
   {
    "duration": 40,
    "start_time": "2024-02-04T17:31:10.325Z"
   },
   {
    "duration": 8,
    "start_time": "2024-02-04T17:31:10.367Z"
   },
   {
    "duration": 14,
    "start_time": "2024-02-04T17:31:10.377Z"
   },
   {
    "duration": 8,
    "start_time": "2024-02-04T17:31:10.392Z"
   },
   {
    "duration": 7,
    "start_time": "2024-02-04T17:31:10.401Z"
   },
   {
    "duration": 15,
    "start_time": "2024-02-04T17:31:10.410Z"
   },
   {
    "duration": 7,
    "start_time": "2024-02-04T17:31:10.427Z"
   },
   {
    "duration": 17,
    "start_time": "2024-02-04T17:31:10.435Z"
   },
   {
    "duration": 5,
    "start_time": "2024-02-04T17:31:10.453Z"
   },
   {
    "duration": 23,
    "start_time": "2024-02-04T17:31:10.459Z"
   },
   {
    "duration": 5,
    "start_time": "2024-02-04T17:31:10.484Z"
   },
   {
    "duration": 8,
    "start_time": "2024-02-04T17:31:10.491Z"
   },
   {
    "duration": 14,
    "start_time": "2024-02-04T17:31:10.500Z"
   },
   {
    "duration": 236,
    "start_time": "2024-02-04T17:31:10.515Z"
   },
   {
    "duration": 169,
    "start_time": "2024-02-04T17:31:10.753Z"
   },
   {
    "duration": 1191,
    "start_time": "2024-02-04T17:31:10.923Z"
   },
   {
    "duration": 39,
    "start_time": "2024-02-04T17:31:12.115Z"
   },
   {
    "duration": 7,
    "start_time": "2024-02-04T17:31:12.155Z"
   },
   {
    "duration": 139,
    "start_time": "2024-02-04T17:31:12.163Z"
   },
   {
    "duration": 7,
    "start_time": "2024-02-04T17:31:12.303Z"
   },
   {
    "duration": 14,
    "start_time": "2024-02-04T17:31:12.311Z"
   },
   {
    "duration": 23,
    "start_time": "2024-02-04T17:31:12.326Z"
   },
   {
    "duration": 279,
    "start_time": "2024-02-04T17:31:12.351Z"
   },
   {
    "duration": 12,
    "start_time": "2024-02-04T17:31:12.635Z"
   },
   {
    "duration": 10,
    "start_time": "2024-02-04T17:31:12.648Z"
   },
   {
    "duration": 150,
    "start_time": "2024-02-04T17:31:12.660Z"
   },
   {
    "duration": 23,
    "start_time": "2024-02-04T17:31:12.812Z"
   },
   {
    "duration": 15,
    "start_time": "2024-02-04T17:31:12.837Z"
   },
   {
    "duration": 10,
    "start_time": "2024-02-04T17:31:12.853Z"
   },
   {
    "duration": 9,
    "start_time": "2024-02-04T17:31:12.865Z"
   },
   {
    "duration": 5,
    "start_time": "2024-02-04T17:31:12.875Z"
   },
   {
    "duration": 11,
    "start_time": "2024-02-04T17:31:12.882Z"
   },
   {
    "duration": 6,
    "start_time": "2024-02-04T17:31:12.894Z"
   },
   {
    "duration": 11,
    "start_time": "2024-02-04T17:31:12.902Z"
   },
   {
    "duration": 34,
    "start_time": "2024-02-04T17:31:12.914Z"
   },
   {
    "duration": 7,
    "start_time": "2024-02-04T17:31:12.949Z"
   },
   {
    "duration": 6,
    "start_time": "2024-02-04T17:31:12.957Z"
   },
   {
    "duration": 14,
    "start_time": "2024-02-04T17:31:12.965Z"
   },
   {
    "duration": 11,
    "start_time": "2024-02-04T17:31:12.980Z"
   },
   {
    "duration": 3300,
    "start_time": "2024-02-04T17:31:12.993Z"
   },
   {
    "duration": 11,
    "start_time": "2024-02-04T17:31:16.295Z"
   },
   {
    "duration": 18,
    "start_time": "2024-02-04T17:31:16.308Z"
   },
   {
    "duration": 25,
    "start_time": "2024-02-04T17:31:16.327Z"
   },
   {
    "duration": 52,
    "start_time": "2024-02-04T17:31:16.353Z"
   },
   {
    "duration": 24,
    "start_time": "2024-02-04T17:31:16.407Z"
   },
   {
    "duration": 39,
    "start_time": "2024-02-04T17:31:16.433Z"
   },
   {
    "duration": 55,
    "start_time": "2024-02-04T17:31:16.474Z"
   },
   {
    "duration": 32,
    "start_time": "2024-02-04T17:31:16.531Z"
   },
   {
    "duration": 28,
    "start_time": "2024-02-04T17:31:16.565Z"
   },
   {
    "duration": 61,
    "start_time": "2024-02-04T17:31:16.594Z"
   },
   {
    "duration": 41325,
    "start_time": "2024-02-04T17:31:16.657Z"
   },
   {
    "duration": 28,
    "start_time": "2024-02-04T17:31:57.984Z"
   },
   {
    "duration": 10,
    "start_time": "2024-02-04T17:31:58.013Z"
   },
   {
    "duration": 15,
    "start_time": "2024-02-04T17:31:58.033Z"
   },
   {
    "duration": 34,
    "start_time": "2024-02-04T17:31:58.049Z"
   },
   {
    "duration": 107,
    "start_time": "2024-02-04T17:31:58.084Z"
   },
   {
    "duration": 22,
    "start_time": "2024-02-04T17:31:58.193Z"
   },
   {
    "duration": 37879975,
    "start_time": "2024-02-04T17:31:58.217Z"
   },
   {
    "duration": 0,
    "start_time": "2024-02-05T04:03:18.194Z"
   },
   {
    "duration": 0,
    "start_time": "2024-02-05T04:03:18.195Z"
   },
   {
    "duration": 0,
    "start_time": "2024-02-05T04:03:18.197Z"
   },
   {
    "duration": 0,
    "start_time": "2024-02-05T04:03:18.198Z"
   },
   {
    "duration": 0,
    "start_time": "2024-02-05T04:03:18.199Z"
   },
   {
    "duration": 0,
    "start_time": "2024-02-05T04:03:18.200Z"
   },
   {
    "duration": 0,
    "start_time": "2024-02-05T04:03:18.201Z"
   },
   {
    "duration": 0,
    "start_time": "2024-02-05T04:03:18.202Z"
   },
   {
    "duration": 0,
    "start_time": "2024-02-05T04:03:18.204Z"
   },
   {
    "duration": 0,
    "start_time": "2024-02-05T04:03:18.205Z"
   },
   {
    "duration": 0,
    "start_time": "2024-02-05T04:03:18.206Z"
   },
   {
    "duration": 0,
    "start_time": "2024-02-05T04:03:18.207Z"
   },
   {
    "duration": 0,
    "start_time": "2024-02-05T04:03:18.208Z"
   },
   {
    "duration": 0,
    "start_time": "2024-02-05T04:03:18.233Z"
   },
   {
    "duration": 0,
    "start_time": "2024-02-05T04:03:18.234Z"
   },
   {
    "duration": 0,
    "start_time": "2024-02-05T04:03:18.235Z"
   },
   {
    "duration": 0,
    "start_time": "2024-02-05T04:03:18.236Z"
   },
   {
    "duration": 4716,
    "start_time": "2024-02-06T17:53:19.806Z"
   },
   {
    "duration": 0,
    "start_time": "2024-02-06T17:53:24.527Z"
   },
   {
    "duration": 0,
    "start_time": "2024-02-06T17:53:24.528Z"
   },
   {
    "duration": 0,
    "start_time": "2024-02-06T17:53:24.529Z"
   },
   {
    "duration": 0,
    "start_time": "2024-02-06T17:53:24.531Z"
   },
   {
    "duration": 0,
    "start_time": "2024-02-06T17:53:24.532Z"
   },
   {
    "duration": 0,
    "start_time": "2024-02-06T17:53:24.534Z"
   },
   {
    "duration": 0,
    "start_time": "2024-02-06T17:53:24.535Z"
   },
   {
    "duration": 0,
    "start_time": "2024-02-06T17:53:24.536Z"
   },
   {
    "duration": 0,
    "start_time": "2024-02-06T17:53:24.538Z"
   },
   {
    "duration": 0,
    "start_time": "2024-02-06T17:53:24.539Z"
   },
   {
    "duration": 0,
    "start_time": "2024-02-06T17:53:24.541Z"
   },
   {
    "duration": 0,
    "start_time": "2024-02-06T17:53:24.542Z"
   },
   {
    "duration": 0,
    "start_time": "2024-02-06T17:53:24.543Z"
   },
   {
    "duration": 1,
    "start_time": "2024-02-06T17:53:24.565Z"
   },
   {
    "duration": 0,
    "start_time": "2024-02-06T17:53:24.567Z"
   },
   {
    "duration": 0,
    "start_time": "2024-02-06T17:53:24.568Z"
   },
   {
    "duration": 0,
    "start_time": "2024-02-06T17:53:24.570Z"
   },
   {
    "duration": 0,
    "start_time": "2024-02-06T17:53:24.572Z"
   },
   {
    "duration": 0,
    "start_time": "2024-02-06T17:53:24.573Z"
   },
   {
    "duration": 0,
    "start_time": "2024-02-06T17:53:24.574Z"
   },
   {
    "duration": 0,
    "start_time": "2024-02-06T17:53:24.575Z"
   },
   {
    "duration": 0,
    "start_time": "2024-02-06T17:53:24.577Z"
   },
   {
    "duration": 0,
    "start_time": "2024-02-06T17:53:24.578Z"
   },
   {
    "duration": 0,
    "start_time": "2024-02-06T17:53:24.580Z"
   },
   {
    "duration": 0,
    "start_time": "2024-02-06T17:53:24.581Z"
   },
   {
    "duration": 0,
    "start_time": "2024-02-06T17:53:24.582Z"
   },
   {
    "duration": 0,
    "start_time": "2024-02-06T17:53:24.583Z"
   },
   {
    "duration": 0,
    "start_time": "2024-02-06T17:53:24.585Z"
   },
   {
    "duration": 0,
    "start_time": "2024-02-06T17:53:24.586Z"
   },
   {
    "duration": 0,
    "start_time": "2024-02-06T17:53:24.587Z"
   },
   {
    "duration": 0,
    "start_time": "2024-02-06T17:53:24.588Z"
   },
   {
    "duration": 0,
    "start_time": "2024-02-06T17:53:24.589Z"
   },
   {
    "duration": 0,
    "start_time": "2024-02-06T17:53:24.590Z"
   },
   {
    "duration": 0,
    "start_time": "2024-02-06T17:53:24.591Z"
   },
   {
    "duration": 0,
    "start_time": "2024-02-06T17:53:24.592Z"
   },
   {
    "duration": 0,
    "start_time": "2024-02-06T17:53:24.593Z"
   },
   {
    "duration": 0,
    "start_time": "2024-02-06T17:53:24.594Z"
   },
   {
    "duration": 0,
    "start_time": "2024-02-06T17:53:24.595Z"
   },
   {
    "duration": 0,
    "start_time": "2024-02-06T17:53:24.595Z"
   },
   {
    "duration": 0,
    "start_time": "2024-02-06T17:53:24.597Z"
   },
   {
    "duration": 0,
    "start_time": "2024-02-06T17:53:24.598Z"
   },
   {
    "duration": 0,
    "start_time": "2024-02-06T17:53:24.599Z"
   },
   {
    "duration": 0,
    "start_time": "2024-02-06T17:53:24.599Z"
   },
   {
    "duration": 0,
    "start_time": "2024-02-06T17:53:24.600Z"
   },
   {
    "duration": 0,
    "start_time": "2024-02-06T17:53:24.601Z"
   },
   {
    "duration": 0,
    "start_time": "2024-02-06T17:53:24.602Z"
   },
   {
    "duration": 1,
    "start_time": "2024-02-06T17:53:24.665Z"
   },
   {
    "duration": 0,
    "start_time": "2024-02-06T17:53:24.667Z"
   },
   {
    "duration": 0,
    "start_time": "2024-02-06T17:53:24.668Z"
   },
   {
    "duration": 0,
    "start_time": "2024-02-06T17:53:24.669Z"
   },
   {
    "duration": 0,
    "start_time": "2024-02-06T17:53:24.670Z"
   },
   {
    "duration": 0,
    "start_time": "2024-02-06T17:53:24.671Z"
   },
   {
    "duration": 0,
    "start_time": "2024-02-06T17:53:24.672Z"
   },
   {
    "duration": 0,
    "start_time": "2024-02-06T17:53:24.673Z"
   },
   {
    "duration": 0,
    "start_time": "2024-02-06T17:53:24.674Z"
   },
   {
    "duration": 0,
    "start_time": "2024-02-06T17:53:24.675Z"
   },
   {
    "duration": 0,
    "start_time": "2024-02-06T17:53:24.676Z"
   },
   {
    "duration": 0,
    "start_time": "2024-02-06T17:53:24.677Z"
   },
   {
    "duration": 0,
    "start_time": "2024-02-06T17:53:24.678Z"
   },
   {
    "duration": 0,
    "start_time": "2024-02-06T17:53:24.679Z"
   },
   {
    "duration": 0,
    "start_time": "2024-02-06T17:53:24.680Z"
   },
   {
    "duration": 0,
    "start_time": "2024-02-06T17:53:24.682Z"
   },
   {
    "duration": 0,
    "start_time": "2024-02-06T17:53:24.683Z"
   },
   {
    "duration": 0,
    "start_time": "2024-02-06T17:53:24.684Z"
   },
   {
    "duration": 0,
    "start_time": "2024-02-06T17:53:24.685Z"
   },
   {
    "duration": 0,
    "start_time": "2024-02-06T17:53:24.686Z"
   },
   {
    "duration": 0,
    "start_time": "2024-02-06T17:53:24.687Z"
   },
   {
    "duration": 0,
    "start_time": "2024-02-06T17:53:24.688Z"
   },
   {
    "duration": 0,
    "start_time": "2024-02-06T17:53:24.689Z"
   },
   {
    "duration": 0,
    "start_time": "2024-02-06T17:53:24.690Z"
   },
   {
    "duration": 0,
    "start_time": "2024-02-06T17:53:24.692Z"
   },
   {
    "duration": 0,
    "start_time": "2024-02-06T17:53:24.692Z"
   },
   {
    "duration": 0,
    "start_time": "2024-02-06T17:53:24.693Z"
   },
   {
    "duration": 0,
    "start_time": "2024-02-06T17:53:24.694Z"
   },
   {
    "duration": 0,
    "start_time": "2024-02-06T17:53:24.695Z"
   },
   {
    "duration": 0,
    "start_time": "2024-02-06T17:53:24.696Z"
   },
   {
    "duration": 1,
    "start_time": "2024-02-06T17:53:24.697Z"
   },
   {
    "duration": 0,
    "start_time": "2024-02-06T17:53:24.698Z"
   },
   {
    "duration": 0,
    "start_time": "2024-02-06T17:53:24.700Z"
   },
   {
    "duration": 4896,
    "start_time": "2024-02-06T17:54:27.837Z"
   },
   {
    "duration": 4605,
    "start_time": "2024-02-06T17:54:39.475Z"
   },
   {
    "duration": 84,
    "start_time": "2024-02-06T17:54:44.081Z"
   },
   {
    "duration": 62,
    "start_time": "2024-02-06T17:54:44.166Z"
   },
   {
    "duration": 95,
    "start_time": "2024-02-06T17:54:44.229Z"
   },
   {
    "duration": 64,
    "start_time": "2024-02-06T17:54:44.326Z"
   },
   {
    "duration": 10,
    "start_time": "2024-02-06T17:54:44.392Z"
   },
   {
    "duration": 7,
    "start_time": "2024-02-06T17:54:44.404Z"
   },
   {
    "duration": 9,
    "start_time": "2024-02-06T17:54:44.412Z"
   },
   {
    "duration": 5,
    "start_time": "2024-02-06T17:54:44.422Z"
   },
   {
    "duration": 10,
    "start_time": "2024-02-06T17:54:44.428Z"
   },
   {
    "duration": 8,
    "start_time": "2024-02-06T17:54:44.439Z"
   },
   {
    "duration": 7,
    "start_time": "2024-02-06T17:54:44.448Z"
   },
   {
    "duration": 5,
    "start_time": "2024-02-06T17:54:44.464Z"
   },
   {
    "duration": 5,
    "start_time": "2024-02-06T17:54:44.472Z"
   },
   {
    "duration": 7,
    "start_time": "2024-02-06T17:54:44.478Z"
   },
   {
    "duration": 10,
    "start_time": "2024-02-06T17:54:44.487Z"
   },
   {
    "duration": 11,
    "start_time": "2024-02-06T17:54:44.499Z"
   },
   {
    "duration": 244,
    "start_time": "2024-02-06T17:54:44.511Z"
   },
   {
    "duration": 142,
    "start_time": "2024-02-06T17:54:44.757Z"
   },
   {
    "duration": 1025,
    "start_time": "2024-02-06T17:54:44.900Z"
   },
   {
    "duration": 38,
    "start_time": "2024-02-06T17:54:45.927Z"
   },
   {
    "duration": 7,
    "start_time": "2024-02-06T17:54:45.966Z"
   },
   {
    "duration": 132,
    "start_time": "2024-02-06T17:54:45.974Z"
   },
   {
    "duration": 7,
    "start_time": "2024-02-06T17:54:46.108Z"
   },
   {
    "duration": 6,
    "start_time": "2024-02-06T17:54:46.117Z"
   },
   {
    "duration": 7,
    "start_time": "2024-02-06T17:54:46.124Z"
   },
   {
    "duration": 278,
    "start_time": "2024-02-06T17:54:46.133Z"
   },
   {
    "duration": 6,
    "start_time": "2024-02-06T17:54:46.413Z"
   },
   {
    "duration": 7,
    "start_time": "2024-02-06T17:54:46.421Z"
   },
   {
    "duration": 122,
    "start_time": "2024-02-06T17:54:46.430Z"
   },
   {
    "duration": 23,
    "start_time": "2024-02-06T17:54:46.554Z"
   },
   {
    "duration": 6,
    "start_time": "2024-02-06T17:54:46.579Z"
   },
   {
    "duration": 9,
    "start_time": "2024-02-06T17:54:46.586Z"
   },
   {
    "duration": 4,
    "start_time": "2024-02-06T17:54:46.596Z"
   },
   {
    "duration": 5,
    "start_time": "2024-02-06T17:54:46.601Z"
   },
   {
    "duration": 20,
    "start_time": "2024-02-06T17:54:46.607Z"
   },
   {
    "duration": 4,
    "start_time": "2024-02-06T17:54:46.628Z"
   },
   {
    "duration": 14,
    "start_time": "2024-02-06T17:54:46.633Z"
   },
   {
    "duration": 15,
    "start_time": "2024-02-06T17:54:46.665Z"
   },
   {
    "duration": 8,
    "start_time": "2024-02-06T17:54:46.681Z"
   },
   {
    "duration": 5,
    "start_time": "2024-02-06T17:54:46.694Z"
   },
   {
    "duration": 14,
    "start_time": "2024-02-06T17:54:46.701Z"
   },
   {
    "duration": 11,
    "start_time": "2024-02-06T17:54:46.717Z"
   },
   {
    "duration": 3335,
    "start_time": "2024-02-06T17:54:46.729Z"
   },
   {
    "duration": 12,
    "start_time": "2024-02-06T17:54:50.065Z"
   },
   {
    "duration": 13,
    "start_time": "2024-02-06T17:54:50.079Z"
   },
   {
    "duration": 14,
    "start_time": "2024-02-06T17:54:50.093Z"
   },
   {
    "duration": 5,
    "start_time": "2024-02-06T17:54:50.108Z"
   },
   {
    "duration": 13,
    "start_time": "2024-02-06T17:54:50.115Z"
   },
   {
    "duration": 4,
    "start_time": "2024-02-06T17:54:50.129Z"
   },
   {
    "duration": 8,
    "start_time": "2024-02-06T17:54:50.134Z"
   },
   {
    "duration": 13,
    "start_time": "2024-02-06T17:54:50.143Z"
   },
   {
    "duration": 10,
    "start_time": "2024-02-06T17:54:50.158Z"
   },
   {
    "duration": 5,
    "start_time": "2024-02-06T17:54:50.170Z"
   },
   {
    "duration": 39750,
    "start_time": "2024-02-06T17:54:50.176Z"
   },
   {
    "duration": 37,
    "start_time": "2024-02-06T17:55:29.928Z"
   },
   {
    "duration": 4,
    "start_time": "2024-02-06T17:55:29.967Z"
   },
   {
    "duration": 6,
    "start_time": "2024-02-06T17:55:29.972Z"
   },
   {
    "duration": 38,
    "start_time": "2024-02-06T17:55:29.980Z"
   },
   {
    "duration": 125,
    "start_time": "2024-02-06T17:55:30.019Z"
   },
   {
    "duration": 23,
    "start_time": "2024-02-06T17:55:30.146Z"
   },
   {
    "duration": 34375,
    "start_time": "2024-02-06T17:55:30.170Z"
   },
   {
    "duration": 0,
    "start_time": "2024-02-06T17:56:04.547Z"
   },
   {
    "duration": 0,
    "start_time": "2024-02-06T17:56:04.548Z"
   },
   {
    "duration": 0,
    "start_time": "2024-02-06T17:56:04.548Z"
   },
   {
    "duration": 0,
    "start_time": "2024-02-06T17:56:04.549Z"
   },
   {
    "duration": 0,
    "start_time": "2024-02-06T17:56:04.550Z"
   },
   {
    "duration": 0,
    "start_time": "2024-02-06T17:56:04.564Z"
   },
   {
    "duration": 0,
    "start_time": "2024-02-06T17:56:04.565Z"
   },
   {
    "duration": 0,
    "start_time": "2024-02-06T17:56:04.566Z"
   },
   {
    "duration": 0,
    "start_time": "2024-02-06T17:56:04.567Z"
   },
   {
    "duration": 0,
    "start_time": "2024-02-06T17:56:04.568Z"
   },
   {
    "duration": 0,
    "start_time": "2024-02-06T17:56:04.569Z"
   },
   {
    "duration": 0,
    "start_time": "2024-02-06T17:56:04.571Z"
   },
   {
    "duration": 0,
    "start_time": "2024-02-06T17:56:04.572Z"
   },
   {
    "duration": 0,
    "start_time": "2024-02-06T17:56:04.573Z"
   },
   {
    "duration": 0,
    "start_time": "2024-02-06T17:56:04.574Z"
   },
   {
    "duration": 0,
    "start_time": "2024-02-06T17:56:04.575Z"
   },
   {
    "duration": 0,
    "start_time": "2024-02-06T17:56:04.576Z"
   },
   {
    "duration": 0,
    "start_time": "2024-02-06T17:56:04.577Z"
   },
   {
    "duration": 4644,
    "start_time": "2024-02-06T17:56:16.301Z"
   },
   {
    "duration": 49,
    "start_time": "2024-02-06T17:56:20.947Z"
   },
   {
    "duration": 27,
    "start_time": "2024-02-06T17:56:20.997Z"
   },
   {
    "duration": 26,
    "start_time": "2024-02-06T17:56:21.026Z"
   },
   {
    "duration": 34,
    "start_time": "2024-02-06T17:56:21.054Z"
   },
   {
    "duration": 10,
    "start_time": "2024-02-06T17:56:21.089Z"
   },
   {
    "duration": 9,
    "start_time": "2024-02-06T17:56:21.101Z"
   },
   {
    "duration": 9,
    "start_time": "2024-02-06T17:56:21.111Z"
   },
   {
    "duration": 5,
    "start_time": "2024-02-06T17:56:21.121Z"
   },
   {
    "duration": 9,
    "start_time": "2024-02-06T17:56:21.127Z"
   },
   {
    "duration": 8,
    "start_time": "2024-02-06T17:56:21.137Z"
   },
   {
    "duration": 7,
    "start_time": "2024-02-06T17:56:21.146Z"
   },
   {
    "duration": 5,
    "start_time": "2024-02-06T17:56:21.165Z"
   },
   {
    "duration": 5,
    "start_time": "2024-02-06T17:56:21.173Z"
   },
   {
    "duration": 7,
    "start_time": "2024-02-06T17:56:21.179Z"
   },
   {
    "duration": 8,
    "start_time": "2024-02-06T17:56:21.187Z"
   },
   {
    "duration": 15,
    "start_time": "2024-02-06T17:56:21.196Z"
   },
   {
    "duration": 245,
    "start_time": "2024-02-06T17:56:21.212Z"
   },
   {
    "duration": 140,
    "start_time": "2024-02-06T17:56:21.464Z"
   },
   {
    "duration": 1088,
    "start_time": "2024-02-06T17:56:21.605Z"
   },
   {
    "duration": 31,
    "start_time": "2024-02-06T17:56:22.695Z"
   },
   {
    "duration": 6,
    "start_time": "2024-02-06T17:56:22.728Z"
   },
   {
    "duration": 146,
    "start_time": "2024-02-06T17:56:22.736Z"
   },
   {
    "duration": 6,
    "start_time": "2024-02-06T17:56:22.884Z"
   },
   {
    "duration": 13,
    "start_time": "2024-02-06T17:56:22.891Z"
   },
   {
    "duration": 7,
    "start_time": "2024-02-06T17:56:22.905Z"
   },
   {
    "duration": 294,
    "start_time": "2024-02-06T17:56:22.914Z"
   },
   {
    "duration": 7,
    "start_time": "2024-02-06T17:56:23.209Z"
   },
   {
    "duration": 8,
    "start_time": "2024-02-06T17:56:23.218Z"
   },
   {
    "duration": 144,
    "start_time": "2024-02-06T17:56:23.227Z"
   },
   {
    "duration": 17,
    "start_time": "2024-02-06T17:56:23.372Z"
   },
   {
    "duration": 5,
    "start_time": "2024-02-06T17:56:23.391Z"
   },
   {
    "duration": 11,
    "start_time": "2024-02-06T17:56:23.397Z"
   },
   {
    "duration": 4,
    "start_time": "2024-02-06T17:56:23.409Z"
   },
   {
    "duration": 7,
    "start_time": "2024-02-06T17:56:23.415Z"
   },
   {
    "duration": 14,
    "start_time": "2024-02-06T17:56:23.423Z"
   },
   {
    "duration": 27,
    "start_time": "2024-02-06T17:56:23.438Z"
   },
   {
    "duration": 8,
    "start_time": "2024-02-06T17:56:23.466Z"
   },
   {
    "duration": 14,
    "start_time": "2024-02-06T17:56:23.475Z"
   },
   {
    "duration": 6,
    "start_time": "2024-02-06T17:56:23.490Z"
   },
   {
    "duration": 6,
    "start_time": "2024-02-06T17:56:23.500Z"
   },
   {
    "duration": 14,
    "start_time": "2024-02-06T17:56:23.507Z"
   },
   {
    "duration": 14,
    "start_time": "2024-02-06T17:56:23.522Z"
   },
   {
    "duration": 3123,
    "start_time": "2024-02-06T17:56:23.537Z"
   },
   {
    "duration": 11,
    "start_time": "2024-02-06T17:56:26.661Z"
   },
   {
    "duration": 8,
    "start_time": "2024-02-06T17:56:26.673Z"
   },
   {
    "duration": 14,
    "start_time": "2024-02-06T17:56:26.682Z"
   },
   {
    "duration": 4,
    "start_time": "2024-02-06T17:56:26.697Z"
   },
   {
    "duration": 7,
    "start_time": "2024-02-06T17:56:26.702Z"
   },
   {
    "duration": 15,
    "start_time": "2024-02-06T17:56:26.711Z"
   },
   {
    "duration": 26,
    "start_time": "2024-02-06T17:56:26.727Z"
   },
   {
    "duration": 5,
    "start_time": "2024-02-06T17:56:26.754Z"
   },
   {
    "duration": 6,
    "start_time": "2024-02-06T17:56:26.760Z"
   },
   {
    "duration": 5,
    "start_time": "2024-02-06T17:56:26.768Z"
   },
   {
    "duration": 39721,
    "start_time": "2024-02-06T17:56:26.775Z"
   },
   {
    "duration": 28,
    "start_time": "2024-02-06T17:57:06.497Z"
   },
   {
    "duration": 5,
    "start_time": "2024-02-06T17:57:06.527Z"
   },
   {
    "duration": 3,
    "start_time": "2024-02-06T17:57:06.534Z"
   },
   {
    "duration": 52,
    "start_time": "2024-02-06T17:57:06.539Z"
   },
   {
    "duration": 101,
    "start_time": "2024-02-06T17:57:06.592Z"
   },
   {
    "duration": 20,
    "start_time": "2024-02-06T17:57:06.695Z"
   },
   {
    "duration": 8,
    "start_time": "2024-02-06T17:57:06.716Z"
   },
   {
    "duration": 6,
    "start_time": "2024-02-06T17:57:06.726Z"
   },
   {
    "duration": 38,
    "start_time": "2024-02-06T17:57:06.733Z"
   },
   {
    "duration": 10,
    "start_time": "2024-02-06T17:57:06.772Z"
   },
   {
    "duration": 96,
    "start_time": "2024-02-06T17:57:06.783Z"
   },
   {
    "duration": 130,
    "start_time": "2024-02-06T17:57:06.881Z"
   },
   {
    "duration": 141,
    "start_time": "2024-02-06T17:57:07.013Z"
   },
   {
    "duration": 12,
    "start_time": "2024-02-06T17:57:07.156Z"
   },
   {
    "duration": 9,
    "start_time": "2024-02-06T17:57:07.170Z"
   },
   {
    "duration": 285,
    "start_time": "2024-02-06T17:57:07.180Z"
   },
   {
    "duration": 2,
    "start_time": "2024-02-06T17:57:07.467Z"
   },
   {
    "duration": 6,
    "start_time": "2024-02-06T17:57:07.471Z"
   },
   {
    "duration": 8,
    "start_time": "2024-02-06T17:57:07.478Z"
   },
   {
    "duration": 406,
    "start_time": "2024-02-06T17:57:07.487Z"
   },
   {
    "duration": 5,
    "start_time": "2024-02-06T17:57:07.894Z"
   },
   {
    "duration": 110,
    "start_time": "2024-02-06T17:57:07.901Z"
   },
   {
    "duration": 7,
    "start_time": "2024-02-06T17:57:08.012Z"
   },
   {
    "duration": 19,
    "start_time": "2024-02-06T17:59:51.161Z"
   },
   {
    "duration": 162,
    "start_time": "2024-02-06T18:00:11.460Z"
   },
   {
    "duration": 15,
    "start_time": "2024-02-06T18:09:17.099Z"
   },
   {
    "duration": 10,
    "start_time": "2024-02-06T18:09:26.557Z"
   },
   {
    "duration": 13,
    "start_time": "2024-02-06T18:12:56.450Z"
   },
   {
    "duration": 13,
    "start_time": "2024-02-06T18:15:49.071Z"
   },
   {
    "duration": 13,
    "start_time": "2024-02-06T18:16:31.358Z"
   },
   {
    "duration": 12,
    "start_time": "2024-02-06T18:16:36.096Z"
   },
   {
    "duration": 12,
    "start_time": "2024-02-06T18:20:25.230Z"
   },
   {
    "duration": 7,
    "start_time": "2024-02-06T18:21:05.362Z"
   },
   {
    "duration": 9,
    "start_time": "2024-02-06T18:25:34.738Z"
   },
   {
    "duration": 7,
    "start_time": "2024-02-06T18:26:22.065Z"
   },
   {
    "duration": 7,
    "start_time": "2024-02-06T18:27:35.615Z"
   },
   {
    "duration": 7,
    "start_time": "2024-02-06T18:28:02.464Z"
   },
   {
    "duration": 10,
    "start_time": "2024-02-06T18:30:30.760Z"
   },
   {
    "duration": 15,
    "start_time": "2024-02-06T18:30:37.979Z"
   },
   {
    "duration": 23,
    "start_time": "2024-02-06T18:31:11.144Z"
   },
   {
    "duration": 8,
    "start_time": "2024-02-06T18:31:20.537Z"
   },
   {
    "duration": 18,
    "start_time": "2024-02-06T18:31:30.206Z"
   },
   {
    "duration": 18,
    "start_time": "2024-02-06T18:32:07.516Z"
   },
   {
    "duration": 2,
    "start_time": "2024-02-06T18:34:43.426Z"
   },
   {
    "duration": 17,
    "start_time": "2024-02-06T18:34:46.827Z"
   },
   {
    "duration": 15,
    "start_time": "2024-02-06T18:36:19.568Z"
   },
   {
    "duration": 10,
    "start_time": "2024-02-06T18:36:31.633Z"
   },
   {
    "duration": 4,
    "start_time": "2024-02-06T18:36:37.996Z"
   },
   {
    "duration": 11,
    "start_time": "2024-02-06T18:36:49.951Z"
   },
   {
    "duration": 5,
    "start_time": "2024-02-06T18:37:05.115Z"
   },
   {
    "duration": 4,
    "start_time": "2024-02-06T18:37:47.920Z"
   },
   {
    "duration": 27,
    "start_time": "2024-02-06T18:37:50.062Z"
   },
   {
    "duration": 3,
    "start_time": "2024-02-06T18:41:59.058Z"
   },
   {
    "duration": 4,
    "start_time": "2024-02-06T18:42:10.576Z"
   },
   {
    "duration": 16,
    "start_time": "2024-02-06T18:42:33.355Z"
   },
   {
    "duration": 3,
    "start_time": "2024-02-06T18:42:53.123Z"
   },
   {
    "duration": 15,
    "start_time": "2024-02-06T18:42:58.017Z"
   },
   {
    "duration": 14,
    "start_time": "2024-02-06T18:44:16.191Z"
   },
   {
    "duration": 23,
    "start_time": "2024-02-06T18:44:25.486Z"
   },
   {
    "duration": 94,
    "start_time": "2024-02-06T18:44:39.639Z"
   },
   {
    "duration": 20,
    "start_time": "2024-02-06T18:45:46.092Z"
   },
   {
    "duration": 11,
    "start_time": "2024-02-06T18:48:31.411Z"
   },
   {
    "duration": 12,
    "start_time": "2024-02-06T18:48:51.945Z"
   },
   {
    "duration": 10,
    "start_time": "2024-02-06T18:50:36.736Z"
   },
   {
    "duration": 91,
    "start_time": "2024-02-06T18:50:41.591Z"
   },
   {
    "duration": 10,
    "start_time": "2024-02-06T18:51:00.648Z"
   },
   {
    "duration": 4,
    "start_time": "2024-02-06T18:51:49.685Z"
   },
   {
    "duration": 21,
    "start_time": "2024-02-06T18:52:16.511Z"
   },
   {
    "duration": 10,
    "start_time": "2024-02-06T18:52:57.639Z"
   },
   {
    "duration": 96,
    "start_time": "2024-02-06T19:06:23.662Z"
   },
   {
    "duration": 4,
    "start_time": "2024-02-06T19:06:26.625Z"
   },
   {
    "duration": 9,
    "start_time": "2024-02-06T19:06:33.082Z"
   },
   {
    "duration": 12,
    "start_time": "2024-02-06T19:07:32.446Z"
   },
   {
    "duration": 13,
    "start_time": "2024-02-06T19:09:23.436Z"
   },
   {
    "duration": 10,
    "start_time": "2024-02-06T19:12:30.047Z"
   },
   {
    "duration": 9,
    "start_time": "2024-02-06T19:12:38.480Z"
   },
   {
    "duration": 20,
    "start_time": "2024-02-06T19:12:53.384Z"
   },
   {
    "duration": 193642,
    "start_time": "2024-02-06T19:15:44.024Z"
   },
   {
    "duration": 11,
    "start_time": "2024-02-06T19:22:55.991Z"
   },
   {
    "duration": 12,
    "start_time": "2024-02-06T19:24:22.560Z"
   },
   {
    "duration": 116289,
    "start_time": "2024-02-06T19:26:58.885Z"
   },
   {
    "duration": 14,
    "start_time": "2024-02-06T19:29:07.888Z"
   },
   {
    "duration": 12,
    "start_time": "2024-02-06T19:29:17.543Z"
   },
   {
    "duration": 14,
    "start_time": "2024-02-06T19:29:34.447Z"
   },
   {
    "duration": 21,
    "start_time": "2024-02-06T19:30:23.938Z"
   },
   {
    "duration": 76881,
    "start_time": "2024-02-06T19:30:28.192Z"
   },
   {
    "duration": 16,
    "start_time": "2024-02-06T19:31:47.206Z"
   },
   {
    "duration": 4,
    "start_time": "2024-02-06T19:31:54.184Z"
   },
   {
    "duration": 11,
    "start_time": "2024-02-06T19:32:17.917Z"
   },
   {
    "duration": 12,
    "start_time": "2024-02-06T19:33:44.157Z"
   },
   {
    "duration": 120,
    "start_time": "2024-02-06T19:34:06.280Z"
   },
   {
    "duration": 3,
    "start_time": "2024-02-06T19:34:08.236Z"
   },
   {
    "duration": 8,
    "start_time": "2024-02-06T19:34:10.156Z"
   },
   {
    "duration": 4,
    "start_time": "2024-02-06T19:34:15.080Z"
   },
   {
    "duration": 606,
    "start_time": "2024-02-06T19:34:17.515Z"
   },
   {
    "duration": 481,
    "start_time": "2024-02-06T19:34:23.703Z"
   },
   {
    "duration": 34,
    "start_time": "2024-02-06T19:36:39.205Z"
   },
   {
    "duration": 808,
    "start_time": "2024-02-06T19:36:41.763Z"
   },
   {
    "duration": 474,
    "start_time": "2024-02-06T19:36:45.169Z"
   },
   {
    "duration": 38,
    "start_time": "2024-02-06T19:39:57.921Z"
   },
   {
    "duration": 840,
    "start_time": "2024-02-06T19:40:00.065Z"
   },
   {
    "duration": 685,
    "start_time": "2024-02-06T19:40:36.661Z"
   },
   {
    "duration": 542,
    "start_time": "2024-02-06T19:40:40.187Z"
   },
   {
    "duration": 4,
    "start_time": "2024-02-06T19:41:03.305Z"
   },
   {
    "duration": 6,
    "start_time": "2024-02-06T19:44:56.116Z"
   },
   {
    "duration": 22627,
    "start_time": "2024-02-07T17:47:46.396Z"
   },
   {
    "duration": 141,
    "start_time": "2024-02-07T17:48:09.026Z"
   },
   {
    "duration": 96,
    "start_time": "2024-02-07T17:48:09.168Z"
   },
   {
    "duration": 67,
    "start_time": "2024-02-07T17:48:09.267Z"
   },
   {
    "duration": 74,
    "start_time": "2024-02-07T17:48:09.335Z"
   },
   {
    "duration": 12,
    "start_time": "2024-02-07T17:48:09.410Z"
   },
   {
    "duration": 8,
    "start_time": "2024-02-07T17:48:09.423Z"
   },
   {
    "duration": 9,
    "start_time": "2024-02-07T17:48:09.433Z"
   },
   {
    "duration": 6,
    "start_time": "2024-02-07T17:48:09.443Z"
   },
   {
    "duration": 6,
    "start_time": "2024-02-07T17:48:09.451Z"
   },
   {
    "duration": 22,
    "start_time": "2024-02-07T17:48:09.459Z"
   },
   {
    "duration": 10,
    "start_time": "2024-02-07T17:48:09.482Z"
   },
   {
    "duration": 6,
    "start_time": "2024-02-07T17:48:09.493Z"
   },
   {
    "duration": 7,
    "start_time": "2024-02-07T17:48:09.501Z"
   },
   {
    "duration": 21,
    "start_time": "2024-02-07T17:48:09.509Z"
   },
   {
    "duration": 28,
    "start_time": "2024-02-07T17:48:09.531Z"
   },
   {
    "duration": 14,
    "start_time": "2024-02-07T17:48:09.560Z"
   },
   {
    "duration": 255,
    "start_time": "2024-02-07T17:48:09.576Z"
   },
   {
    "duration": 171,
    "start_time": "2024-02-07T17:48:09.833Z"
   },
   {
    "duration": 1246,
    "start_time": "2024-02-07T17:48:10.006Z"
   },
   {
    "duration": 40,
    "start_time": "2024-02-07T17:48:11.254Z"
   },
   {
    "duration": 7,
    "start_time": "2024-02-07T17:48:11.296Z"
   },
   {
    "duration": 154,
    "start_time": "2024-02-07T17:48:11.305Z"
   },
   {
    "duration": 7,
    "start_time": "2024-02-07T17:48:11.460Z"
   },
   {
    "duration": 17,
    "start_time": "2024-02-07T17:48:11.469Z"
   },
   {
    "duration": 8,
    "start_time": "2024-02-07T17:48:11.487Z"
   },
   {
    "duration": 317,
    "start_time": "2024-02-07T17:48:11.497Z"
   },
   {
    "duration": 7,
    "start_time": "2024-02-07T17:48:11.818Z"
   },
   {
    "duration": 15,
    "start_time": "2024-02-07T17:48:11.827Z"
   },
   {
    "duration": 149,
    "start_time": "2024-02-07T17:48:11.843Z"
   },
   {
    "duration": 19,
    "start_time": "2024-02-07T17:48:11.994Z"
   },
   {
    "duration": 8,
    "start_time": "2024-02-07T17:48:12.015Z"
   },
   {
    "duration": 22,
    "start_time": "2024-02-07T17:48:12.024Z"
   },
   {
    "duration": 3,
    "start_time": "2024-02-07T17:48:12.047Z"
   },
   {
    "duration": 29,
    "start_time": "2024-02-07T17:48:12.052Z"
   },
   {
    "duration": 12,
    "start_time": "2024-02-07T17:48:12.083Z"
   },
   {
    "duration": 6,
    "start_time": "2024-02-07T17:48:12.097Z"
   },
   {
    "duration": 15,
    "start_time": "2024-02-07T17:48:12.104Z"
   },
   {
    "duration": 49,
    "start_time": "2024-02-07T17:48:12.120Z"
   },
   {
    "duration": 22,
    "start_time": "2024-02-07T17:48:12.171Z"
   },
   {
    "duration": 22,
    "start_time": "2024-02-07T17:48:12.194Z"
   },
   {
    "duration": 20,
    "start_time": "2024-02-07T17:48:12.218Z"
   },
   {
    "duration": 15,
    "start_time": "2024-02-07T17:48:12.240Z"
   },
   {
    "duration": 3677,
    "start_time": "2024-02-07T17:48:12.257Z"
   },
   {
    "duration": 17,
    "start_time": "2024-02-07T17:48:15.936Z"
   },
   {
    "duration": 12,
    "start_time": "2024-02-07T17:48:15.955Z"
   },
   {
    "duration": 8,
    "start_time": "2024-02-07T17:48:15.969Z"
   },
   {
    "duration": 4,
    "start_time": "2024-02-07T17:48:15.979Z"
   },
   {
    "duration": 7,
    "start_time": "2024-02-07T17:48:15.985Z"
   },
   {
    "duration": 9,
    "start_time": "2024-02-07T17:48:15.994Z"
   },
   {
    "duration": 13,
    "start_time": "2024-02-07T17:48:16.005Z"
   },
   {
    "duration": 4,
    "start_time": "2024-02-07T17:48:16.020Z"
   },
   {
    "duration": 14,
    "start_time": "2024-02-07T17:48:16.025Z"
   },
   {
    "duration": 5,
    "start_time": "2024-02-07T17:48:16.041Z"
   },
   {
    "duration": 43324,
    "start_time": "2024-02-07T17:48:16.048Z"
   },
   {
    "duration": 44,
    "start_time": "2024-02-07T17:48:59.373Z"
   },
   {
    "duration": 6,
    "start_time": "2024-02-07T17:48:59.420Z"
   },
   {
    "duration": 10,
    "start_time": "2024-02-07T17:48:59.427Z"
   },
   {
    "duration": 7,
    "start_time": "2024-02-07T17:48:59.439Z"
   },
   {
    "duration": 34,
    "start_time": "2024-02-07T17:48:59.448Z"
   },
   {
    "duration": 8,
    "start_time": "2024-02-07T17:48:59.484Z"
   },
   {
    "duration": 22,
    "start_time": "2024-02-07T17:48:59.494Z"
   },
   {
    "duration": 17,
    "start_time": "2024-02-07T17:48:59.517Z"
   },
   {
    "duration": 92,
    "start_time": "2024-02-07T17:48:59.535Z"
   },
   {
    "duration": 0,
    "start_time": "2024-02-07T17:48:59.629Z"
   },
   {
    "duration": 0,
    "start_time": "2024-02-07T17:48:59.631Z"
   },
   {
    "duration": 0,
    "start_time": "2024-02-07T17:48:59.632Z"
   },
   {
    "duration": 0,
    "start_time": "2024-02-07T17:48:59.633Z"
   },
   {
    "duration": 0,
    "start_time": "2024-02-07T17:48:59.634Z"
   },
   {
    "duration": 0,
    "start_time": "2024-02-07T17:48:59.635Z"
   },
   {
    "duration": 0,
    "start_time": "2024-02-07T17:48:59.636Z"
   },
   {
    "duration": 0,
    "start_time": "2024-02-07T17:48:59.638Z"
   },
   {
    "duration": 0,
    "start_time": "2024-02-07T17:48:59.639Z"
   },
   {
    "duration": 0,
    "start_time": "2024-02-07T17:48:59.640Z"
   },
   {
    "duration": 0,
    "start_time": "2024-02-07T17:48:59.641Z"
   },
   {
    "duration": 0,
    "start_time": "2024-02-07T17:48:59.642Z"
   },
   {
    "duration": 0,
    "start_time": "2024-02-07T17:48:59.643Z"
   },
   {
    "duration": 0,
    "start_time": "2024-02-07T17:48:59.644Z"
   },
   {
    "duration": 0,
    "start_time": "2024-02-07T17:48:59.645Z"
   },
   {
    "duration": 0,
    "start_time": "2024-02-07T17:48:59.646Z"
   },
   {
    "duration": 0,
    "start_time": "2024-02-07T17:48:59.647Z"
   },
   {
    "duration": 0,
    "start_time": "2024-02-07T17:48:59.648Z"
   },
   {
    "duration": 0,
    "start_time": "2024-02-07T17:48:59.649Z"
   },
   {
    "duration": 0,
    "start_time": "2024-02-07T17:48:59.650Z"
   },
   {
    "duration": 0,
    "start_time": "2024-02-07T17:48:59.651Z"
   },
   {
    "duration": 1,
    "start_time": "2024-02-07T17:48:59.652Z"
   },
   {
    "duration": 0,
    "start_time": "2024-02-07T17:48:59.654Z"
   },
   {
    "duration": 0,
    "start_time": "2024-02-07T17:48:59.655Z"
   },
   {
    "duration": 0,
    "start_time": "2024-02-07T17:48:59.656Z"
   },
   {
    "duration": 0,
    "start_time": "2024-02-07T17:48:59.657Z"
   },
   {
    "duration": 0,
    "start_time": "2024-02-07T17:48:59.658Z"
   },
   {
    "duration": 0,
    "start_time": "2024-02-07T17:48:59.659Z"
   },
   {
    "duration": 0,
    "start_time": "2024-02-07T17:48:59.660Z"
   },
   {
    "duration": 184,
    "start_time": "2024-02-07T17:57:56.223Z"
   },
   {
    "duration": 5132,
    "start_time": "2024-02-07T17:58:14.144Z"
   },
   {
    "duration": 51,
    "start_time": "2024-02-07T17:58:19.278Z"
   },
   {
    "duration": 31,
    "start_time": "2024-02-07T17:58:19.331Z"
   },
   {
    "duration": 30,
    "start_time": "2024-02-07T17:58:19.363Z"
   },
   {
    "duration": 44,
    "start_time": "2024-02-07T17:58:19.396Z"
   },
   {
    "duration": 13,
    "start_time": "2024-02-07T17:58:19.442Z"
   },
   {
    "duration": 5,
    "start_time": "2024-02-07T17:58:19.457Z"
   },
   {
    "duration": 18,
    "start_time": "2024-02-07T17:58:19.464Z"
   },
   {
    "duration": 6,
    "start_time": "2024-02-07T17:58:19.484Z"
   },
   {
    "duration": 7,
    "start_time": "2024-02-07T17:58:19.492Z"
   },
   {
    "duration": 7,
    "start_time": "2024-02-07T17:58:19.501Z"
   },
   {
    "duration": 8,
    "start_time": "2024-02-07T17:58:19.510Z"
   },
   {
    "duration": 7,
    "start_time": "2024-02-07T17:58:19.519Z"
   },
   {
    "duration": 5,
    "start_time": "2024-02-07T17:58:19.529Z"
   },
   {
    "duration": 45,
    "start_time": "2024-02-07T17:58:19.536Z"
   },
   {
    "duration": 9,
    "start_time": "2024-02-07T17:58:19.583Z"
   },
   {
    "duration": 29,
    "start_time": "2024-02-07T17:58:19.594Z"
   },
   {
    "duration": 243,
    "start_time": "2024-02-07T17:58:19.625Z"
   },
   {
    "duration": 160,
    "start_time": "2024-02-07T17:58:19.870Z"
   },
   {
    "duration": 1288,
    "start_time": "2024-02-07T17:58:20.032Z"
   },
   {
    "duration": 34,
    "start_time": "2024-02-07T17:58:21.322Z"
   },
   {
    "duration": 8,
    "start_time": "2024-02-07T17:58:21.357Z"
   },
   {
    "duration": 294,
    "start_time": "2024-02-07T17:58:21.367Z"
   },
   {
    "duration": 7,
    "start_time": "2024-02-07T17:58:21.663Z"
   },
   {
    "duration": 16,
    "start_time": "2024-02-07T17:58:21.671Z"
   },
   {
    "duration": 8,
    "start_time": "2024-02-07T17:58:21.689Z"
   },
   {
    "duration": 210,
    "start_time": "2024-02-07T17:58:21.698Z"
   },
   {
    "duration": 8,
    "start_time": "2024-02-07T17:58:21.909Z"
   },
   {
    "duration": 8,
    "start_time": "2024-02-07T17:58:21.918Z"
   },
   {
    "duration": 156,
    "start_time": "2024-02-07T17:58:21.927Z"
   },
   {
    "duration": 32,
    "start_time": "2024-02-07T17:58:22.085Z"
   },
   {
    "duration": 10,
    "start_time": "2024-02-07T17:58:22.119Z"
   },
   {
    "duration": 15,
    "start_time": "2024-02-07T17:58:22.131Z"
   },
   {
    "duration": 32,
    "start_time": "2024-02-07T17:58:22.148Z"
   },
   {
    "duration": 5,
    "start_time": "2024-02-07T17:58:22.182Z"
   },
   {
    "duration": 13,
    "start_time": "2024-02-07T17:58:22.188Z"
   },
   {
    "duration": 7,
    "start_time": "2024-02-07T17:58:22.203Z"
   },
   {
    "duration": 21,
    "start_time": "2024-02-07T17:58:22.211Z"
   },
   {
    "duration": 16,
    "start_time": "2024-02-07T17:58:22.234Z"
   },
   {
    "duration": 27,
    "start_time": "2024-02-07T17:58:22.253Z"
   },
   {
    "duration": 9,
    "start_time": "2024-02-07T17:58:22.286Z"
   },
   {
    "duration": 21,
    "start_time": "2024-02-07T17:58:22.296Z"
   },
   {
    "duration": 16,
    "start_time": "2024-02-07T17:58:22.318Z"
   },
   {
    "duration": 3613,
    "start_time": "2024-02-07T17:58:22.336Z"
   },
   {
    "duration": 11,
    "start_time": "2024-02-07T17:58:25.951Z"
   },
   {
    "duration": 11,
    "start_time": "2024-02-07T17:58:25.963Z"
   },
   {
    "duration": 6,
    "start_time": "2024-02-07T17:58:25.975Z"
   },
   {
    "duration": 2,
    "start_time": "2024-02-07T17:58:25.983Z"
   },
   {
    "duration": 9,
    "start_time": "2024-02-07T17:58:25.987Z"
   },
   {
    "duration": 12,
    "start_time": "2024-02-07T17:58:25.997Z"
   },
   {
    "duration": 5,
    "start_time": "2024-02-07T17:58:26.010Z"
   },
   {
    "duration": 10,
    "start_time": "2024-02-07T17:58:26.016Z"
   },
   {
    "duration": 5,
    "start_time": "2024-02-07T17:58:26.027Z"
   },
   {
    "duration": 6,
    "start_time": "2024-02-07T17:58:26.033Z"
   },
   {
    "duration": 43070,
    "start_time": "2024-02-07T17:58:26.040Z"
   },
   {
    "duration": 32,
    "start_time": "2024-02-07T17:59:09.111Z"
   },
   {
    "duration": 5,
    "start_time": "2024-02-07T17:59:09.144Z"
   },
   {
    "duration": 31,
    "start_time": "2024-02-07T17:59:09.150Z"
   },
   {
    "duration": 5,
    "start_time": "2024-02-07T17:59:09.183Z"
   },
   {
    "duration": 12,
    "start_time": "2024-02-07T17:59:09.190Z"
   },
   {
    "duration": 10,
    "start_time": "2024-02-07T17:59:09.203Z"
   },
   {
    "duration": 26,
    "start_time": "2024-02-07T17:59:09.214Z"
   },
   {
    "duration": 18,
    "start_time": "2024-02-07T17:59:09.242Z"
   },
   {
    "duration": 91,
    "start_time": "2024-02-07T17:59:09.261Z"
   },
   {
    "duration": 0,
    "start_time": "2024-02-07T17:59:09.353Z"
   },
   {
    "duration": 0,
    "start_time": "2024-02-07T17:59:09.354Z"
   },
   {
    "duration": 0,
    "start_time": "2024-02-07T17:59:09.355Z"
   },
   {
    "duration": 0,
    "start_time": "2024-02-07T17:59:09.356Z"
   },
   {
    "duration": 0,
    "start_time": "2024-02-07T17:59:09.357Z"
   },
   {
    "duration": 0,
    "start_time": "2024-02-07T17:59:09.358Z"
   },
   {
    "duration": 0,
    "start_time": "2024-02-07T17:59:09.359Z"
   },
   {
    "duration": 0,
    "start_time": "2024-02-07T17:59:09.360Z"
   },
   {
    "duration": 0,
    "start_time": "2024-02-07T17:59:09.361Z"
   },
   {
    "duration": 0,
    "start_time": "2024-02-07T17:59:09.362Z"
   },
   {
    "duration": 0,
    "start_time": "2024-02-07T17:59:09.363Z"
   },
   {
    "duration": 0,
    "start_time": "2024-02-07T17:59:09.364Z"
   },
   {
    "duration": 0,
    "start_time": "2024-02-07T17:59:09.365Z"
   },
   {
    "duration": 0,
    "start_time": "2024-02-07T17:59:09.365Z"
   },
   {
    "duration": 0,
    "start_time": "2024-02-07T17:59:09.367Z"
   },
   {
    "duration": 0,
    "start_time": "2024-02-07T17:59:09.367Z"
   },
   {
    "duration": 0,
    "start_time": "2024-02-07T17:59:09.368Z"
   },
   {
    "duration": 0,
    "start_time": "2024-02-07T17:59:09.370Z"
   },
   {
    "duration": 0,
    "start_time": "2024-02-07T17:59:09.370Z"
   },
   {
    "duration": 0,
    "start_time": "2024-02-07T17:59:09.371Z"
   },
   {
    "duration": 0,
    "start_time": "2024-02-07T17:59:09.372Z"
   },
   {
    "duration": 0,
    "start_time": "2024-02-07T17:59:09.373Z"
   },
   {
    "duration": 0,
    "start_time": "2024-02-07T17:59:09.374Z"
   },
   {
    "duration": 0,
    "start_time": "2024-02-07T17:59:09.376Z"
   },
   {
    "duration": 0,
    "start_time": "2024-02-07T17:59:09.377Z"
   },
   {
    "duration": 0,
    "start_time": "2024-02-07T17:59:09.378Z"
   },
   {
    "duration": 0,
    "start_time": "2024-02-07T17:59:09.379Z"
   },
   {
    "duration": 0,
    "start_time": "2024-02-07T17:59:09.380Z"
   },
   {
    "duration": 0,
    "start_time": "2024-02-07T17:59:09.381Z"
   },
   {
    "duration": 151,
    "start_time": "2024-02-07T18:10:34.965Z"
   },
   {
    "duration": 108,
    "start_time": "2024-02-07T18:15:14.024Z"
   },
   {
    "duration": 5158,
    "start_time": "2024-02-07T18:21:29.609Z"
   },
   {
    "duration": 53,
    "start_time": "2024-02-07T18:21:34.769Z"
   },
   {
    "duration": 30,
    "start_time": "2024-02-07T18:21:34.827Z"
   },
   {
    "duration": 29,
    "start_time": "2024-02-07T18:21:34.859Z"
   },
   {
    "duration": 37,
    "start_time": "2024-02-07T18:21:34.889Z"
   },
   {
    "duration": 10,
    "start_time": "2024-02-07T18:21:34.928Z"
   },
   {
    "duration": 4,
    "start_time": "2024-02-07T18:21:34.940Z"
   },
   {
    "duration": 13,
    "start_time": "2024-02-07T18:21:34.946Z"
   },
   {
    "duration": 6,
    "start_time": "2024-02-07T18:21:34.961Z"
   },
   {
    "duration": 16,
    "start_time": "2024-02-07T18:21:34.968Z"
   },
   {
    "duration": 13,
    "start_time": "2024-02-07T18:21:34.985Z"
   },
   {
    "duration": 9,
    "start_time": "2024-02-07T18:21:35.000Z"
   },
   {
    "duration": 5,
    "start_time": "2024-02-07T18:21:35.011Z"
   },
   {
    "duration": 24,
    "start_time": "2024-02-07T18:21:35.018Z"
   },
   {
    "duration": 9,
    "start_time": "2024-02-07T18:21:35.044Z"
   },
   {
    "duration": 8,
    "start_time": "2024-02-07T18:21:35.054Z"
   },
   {
    "duration": 27,
    "start_time": "2024-02-07T18:21:35.063Z"
   },
   {
    "duration": 253,
    "start_time": "2024-02-07T18:21:35.092Z"
   },
   {
    "duration": 153,
    "start_time": "2024-02-07T18:21:35.347Z"
   },
   {
    "duration": 1295,
    "start_time": "2024-02-07T18:21:35.501Z"
   },
   {
    "duration": 33,
    "start_time": "2024-02-07T18:21:36.798Z"
   },
   {
    "duration": 7,
    "start_time": "2024-02-07T18:21:36.833Z"
   },
   {
    "duration": 287,
    "start_time": "2024-02-07T18:21:36.842Z"
   },
   {
    "duration": 7,
    "start_time": "2024-02-07T18:21:37.131Z"
   },
   {
    "duration": 11,
    "start_time": "2024-02-07T18:21:37.139Z"
   },
   {
    "duration": 7,
    "start_time": "2024-02-07T18:21:37.152Z"
   },
   {
    "duration": 196,
    "start_time": "2024-02-07T18:21:37.179Z"
   },
   {
    "duration": 7,
    "start_time": "2024-02-07T18:21:37.376Z"
   },
   {
    "duration": 9,
    "start_time": "2024-02-07T18:21:37.384Z"
   },
   {
    "duration": 200,
    "start_time": "2024-02-07T18:21:37.395Z"
   },
   {
    "duration": 19,
    "start_time": "2024-02-07T18:21:37.596Z"
   },
   {
    "duration": 6,
    "start_time": "2024-02-07T18:21:37.617Z"
   },
   {
    "duration": 15,
    "start_time": "2024-02-07T18:21:37.624Z"
   },
   {
    "duration": 10,
    "start_time": "2024-02-07T18:21:37.640Z"
   },
   {
    "duration": 8,
    "start_time": "2024-02-07T18:21:37.652Z"
   },
   {
    "duration": 19,
    "start_time": "2024-02-07T18:21:37.661Z"
   },
   {
    "duration": 10,
    "start_time": "2024-02-07T18:21:37.682Z"
   },
   {
    "duration": 14,
    "start_time": "2024-02-07T18:21:37.694Z"
   },
   {
    "duration": 11,
    "start_time": "2024-02-07T18:21:37.710Z"
   },
   {
    "duration": 6,
    "start_time": "2024-02-07T18:21:37.723Z"
   },
   {
    "duration": 17,
    "start_time": "2024-02-07T18:21:37.731Z"
   },
   {
    "duration": 38,
    "start_time": "2024-02-07T18:21:37.749Z"
   },
   {
    "duration": 3501,
    "start_time": "2024-02-07T18:21:37.789Z"
   },
   {
    "duration": 15,
    "start_time": "2024-02-07T18:21:41.292Z"
   },
   {
    "duration": 9,
    "start_time": "2024-02-07T18:21:41.308Z"
   },
   {
    "duration": 7,
    "start_time": "2024-02-07T18:21:41.319Z"
   },
   {
    "duration": 3,
    "start_time": "2024-02-07T18:21:41.328Z"
   },
   {
    "duration": 6,
    "start_time": "2024-02-07T18:21:41.333Z"
   },
   {
    "duration": 6,
    "start_time": "2024-02-07T18:21:41.341Z"
   },
   {
    "duration": 11,
    "start_time": "2024-02-07T18:21:41.381Z"
   },
   {
    "duration": 9,
    "start_time": "2024-02-07T18:21:41.393Z"
   },
   {
    "duration": 8,
    "start_time": "2024-02-07T18:21:41.403Z"
   },
   {
    "duration": 10,
    "start_time": "2024-02-07T18:21:41.413Z"
   },
   {
    "duration": 43286,
    "start_time": "2024-02-07T18:21:41.425Z"
   },
   {
    "duration": 32,
    "start_time": "2024-02-07T18:22:24.713Z"
   },
   {
    "duration": 7,
    "start_time": "2024-02-07T18:22:24.747Z"
   },
   {
    "duration": 32,
    "start_time": "2024-02-07T18:22:24.755Z"
   },
   {
    "duration": 5,
    "start_time": "2024-02-07T18:22:24.789Z"
   },
   {
    "duration": 16,
    "start_time": "2024-02-07T18:22:24.795Z"
   },
   {
    "duration": 14,
    "start_time": "2024-02-07T18:22:24.812Z"
   },
   {
    "duration": 24,
    "start_time": "2024-02-07T18:22:24.827Z"
   },
   {
    "duration": 27,
    "start_time": "2024-02-07T18:22:24.853Z"
   },
   {
    "duration": 20,
    "start_time": "2024-02-07T18:22:24.882Z"
   },
   {
    "duration": 4,
    "start_time": "2024-02-07T18:22:24.903Z"
   },
   {
    "duration": 16,
    "start_time": "2024-02-07T18:22:24.909Z"
   },
   {
    "duration": 23,
    "start_time": "2024-02-07T18:22:24.926Z"
   },
   {
    "duration": 41,
    "start_time": "2024-02-07T18:22:24.951Z"
   },
   {
    "duration": 87,
    "start_time": "2024-02-07T18:22:24.994Z"
   },
   {
    "duration": 7,
    "start_time": "2024-02-07T18:22:25.082Z"
   },
   {
    "duration": 3,
    "start_time": "2024-02-07T18:22:25.091Z"
   },
   {
    "duration": 47,
    "start_time": "2024-02-07T18:22:25.095Z"
   },
   {
    "duration": 3,
    "start_time": "2024-02-07T18:22:25.144Z"
   },
   {
    "duration": 931,
    "start_time": "2024-02-07T18:22:25.149Z"
   },
   {
    "duration": 590,
    "start_time": "2024-02-07T18:22:26.081Z"
   },
   {
    "duration": 8,
    "start_time": "2024-02-07T18:22:26.679Z"
   },
   {
    "duration": 25,
    "start_time": "2024-02-07T18:22:26.688Z"
   },
   {
    "duration": 38,
    "start_time": "2024-02-07T18:22:26.714Z"
   },
   {
    "duration": 8,
    "start_time": "2024-02-07T18:22:26.753Z"
   },
   {
    "duration": 102,
    "start_time": "2024-02-07T18:22:26.763Z"
   },
   {
    "duration": 161,
    "start_time": "2024-02-07T18:22:26.867Z"
   },
   {
    "duration": 289,
    "start_time": "2024-02-07T18:22:27.033Z"
   },
   {
    "duration": 10,
    "start_time": "2024-02-07T18:22:27.324Z"
   },
   {
    "duration": 5,
    "start_time": "2024-02-07T18:22:27.336Z"
   },
   {
    "duration": 302,
    "start_time": "2024-02-07T18:22:27.343Z"
   },
   {
    "duration": 3,
    "start_time": "2024-02-07T18:22:27.647Z"
   },
   {
    "duration": 8,
    "start_time": "2024-02-07T18:22:27.651Z"
   },
   {
    "duration": 19,
    "start_time": "2024-02-07T18:22:27.661Z"
   },
   {
    "duration": 289,
    "start_time": "2024-02-07T18:22:27.682Z"
   },
   {
    "duration": 9,
    "start_time": "2024-02-07T18:22:27.972Z"
   },
   {
    "duration": 118,
    "start_time": "2024-02-07T18:22:27.983Z"
   },
   {
    "duration": 8,
    "start_time": "2024-02-07T18:22:28.102Z"
   },
   {
    "duration": 1501,
    "start_time": "2024-02-07T18:41:04.594Z"
   },
   {
    "duration": 1366,
    "start_time": "2024-02-07T18:41:22.263Z"
   },
   {
    "duration": 135,
    "start_time": "2024-02-07T18:41:57.801Z"
   },
   {
    "duration": 1325,
    "start_time": "2024-02-07T18:42:57.810Z"
   },
   {
    "duration": 132,
    "start_time": "2024-02-07T18:43:25.798Z"
   },
   {
    "duration": 138,
    "start_time": "2024-02-07T18:43:31.474Z"
   },
   {
    "duration": 155,
    "start_time": "2024-02-07T18:44:12.804Z"
   },
   {
    "duration": 158,
    "start_time": "2024-02-07T18:49:37.106Z"
   },
   {
    "duration": 5152,
    "start_time": "2024-02-07T19:09:07.717Z"
   },
   {
    "duration": 51,
    "start_time": "2024-02-07T19:09:12.871Z"
   },
   {
    "duration": 30,
    "start_time": "2024-02-07T19:09:12.924Z"
   },
   {
    "duration": 29,
    "start_time": "2024-02-07T19:09:12.956Z"
   },
   {
    "duration": 38,
    "start_time": "2024-02-07T19:09:12.987Z"
   },
   {
    "duration": 11,
    "start_time": "2024-02-07T19:09:13.027Z"
   },
   {
    "duration": 6,
    "start_time": "2024-02-07T19:09:13.040Z"
   },
   {
    "duration": 11,
    "start_time": "2024-02-07T19:09:13.047Z"
   },
   {
    "duration": 6,
    "start_time": "2024-02-07T19:09:13.059Z"
   },
   {
    "duration": 15,
    "start_time": "2024-02-07T19:09:13.066Z"
   },
   {
    "duration": 12,
    "start_time": "2024-02-07T19:09:13.083Z"
   },
   {
    "duration": 17,
    "start_time": "2024-02-07T19:09:13.096Z"
   },
   {
    "duration": 6,
    "start_time": "2024-02-07T19:09:13.115Z"
   },
   {
    "duration": 6,
    "start_time": "2024-02-07T19:09:13.124Z"
   },
   {
    "duration": 8,
    "start_time": "2024-02-07T19:09:13.131Z"
   },
   {
    "duration": 8,
    "start_time": "2024-02-07T19:09:13.141Z"
   },
   {
    "duration": 37,
    "start_time": "2024-02-07T19:09:13.150Z"
   },
   {
    "duration": 270,
    "start_time": "2024-02-07T19:09:13.189Z"
   },
   {
    "duration": 154,
    "start_time": "2024-02-07T19:09:13.461Z"
   },
   {
    "duration": 1271,
    "start_time": "2024-02-07T19:09:13.617Z"
   },
   {
    "duration": 33,
    "start_time": "2024-02-07T19:09:14.889Z"
   },
   {
    "duration": 8,
    "start_time": "2024-02-07T19:09:14.923Z"
   },
   {
    "duration": 289,
    "start_time": "2024-02-07T19:09:14.932Z"
   },
   {
    "duration": 6,
    "start_time": "2024-02-07T19:09:15.223Z"
   },
   {
    "duration": 35,
    "start_time": "2024-02-07T19:09:15.230Z"
   },
   {
    "duration": 38,
    "start_time": "2024-02-07T19:09:15.267Z"
   },
   {
    "duration": 188,
    "start_time": "2024-02-07T19:09:15.307Z"
   },
   {
    "duration": 7,
    "start_time": "2024-02-07T19:09:15.497Z"
   },
   {
    "duration": 9,
    "start_time": "2024-02-07T19:09:15.506Z"
   },
   {
    "duration": 168,
    "start_time": "2024-02-07T19:09:15.517Z"
   },
   {
    "duration": 20,
    "start_time": "2024-02-07T19:09:15.686Z"
   },
   {
    "duration": 7,
    "start_time": "2024-02-07T19:09:15.707Z"
   },
   {
    "duration": 12,
    "start_time": "2024-02-07T19:09:15.715Z"
   },
   {
    "duration": 3,
    "start_time": "2024-02-07T19:09:15.729Z"
   },
   {
    "duration": 6,
    "start_time": "2024-02-07T19:09:15.733Z"
   },
   {
    "duration": 6,
    "start_time": "2024-02-07T19:09:15.740Z"
   },
   {
    "duration": 39,
    "start_time": "2024-02-07T19:09:15.747Z"
   },
   {
    "duration": 15,
    "start_time": "2024-02-07T19:09:15.787Z"
   },
   {
    "duration": 7,
    "start_time": "2024-02-07T19:09:15.803Z"
   },
   {
    "duration": 10,
    "start_time": "2024-02-07T19:09:15.812Z"
   },
   {
    "duration": 51,
    "start_time": "2024-02-07T19:09:15.829Z"
   },
   {
    "duration": 18,
    "start_time": "2024-02-07T19:09:15.882Z"
   },
   {
    "duration": 3643,
    "start_time": "2024-02-07T19:09:15.903Z"
   },
   {
    "duration": 13,
    "start_time": "2024-02-07T19:09:19.547Z"
   },
   {
    "duration": 8,
    "start_time": "2024-02-07T19:09:19.561Z"
   },
   {
    "duration": 9,
    "start_time": "2024-02-07T19:09:19.570Z"
   },
   {
    "duration": 19,
    "start_time": "2024-02-07T19:09:19.581Z"
   },
   {
    "duration": 10,
    "start_time": "2024-02-07T19:09:19.602Z"
   },
   {
    "duration": 20,
    "start_time": "2024-02-07T19:09:19.614Z"
   },
   {
    "duration": 10,
    "start_time": "2024-02-07T19:09:19.636Z"
   },
   {
    "duration": 9,
    "start_time": "2024-02-07T19:09:19.648Z"
   },
   {
    "duration": 33,
    "start_time": "2024-02-07T19:09:19.659Z"
   },
   {
    "duration": 8,
    "start_time": "2024-02-07T19:09:19.694Z"
   },
   {
    "duration": 43255,
    "start_time": "2024-02-07T19:09:19.703Z"
   },
   {
    "duration": 42,
    "start_time": "2024-02-07T19:10:02.960Z"
   },
   {
    "duration": 36,
    "start_time": "2024-02-07T19:10:03.003Z"
   },
   {
    "duration": 15,
    "start_time": "2024-02-07T19:10:03.040Z"
   },
   {
    "duration": 20,
    "start_time": "2024-02-07T19:10:03.057Z"
   },
   {
    "duration": 9,
    "start_time": "2024-02-07T19:10:03.079Z"
   },
   {
    "duration": 34,
    "start_time": "2024-02-07T19:10:03.090Z"
   },
   {
    "duration": 44,
    "start_time": "2024-02-07T19:10:03.126Z"
   },
   {
    "duration": 26,
    "start_time": "2024-02-07T19:10:03.172Z"
   },
   {
    "duration": 39,
    "start_time": "2024-02-07T19:10:03.199Z"
   },
   {
    "duration": 19,
    "start_time": "2024-02-07T19:10:03.240Z"
   },
   {
    "duration": 14,
    "start_time": "2024-02-07T19:10:03.260Z"
   },
   {
    "duration": 30,
    "start_time": "2024-02-07T19:10:03.276Z"
   },
   {
    "duration": 26,
    "start_time": "2024-02-07T19:10:03.308Z"
   },
   {
    "duration": 93,
    "start_time": "2024-02-07T19:10:03.336Z"
   },
   {
    "duration": 7,
    "start_time": "2024-02-07T19:10:03.430Z"
   },
   {
    "duration": 31,
    "start_time": "2024-02-07T19:10:03.438Z"
   },
   {
    "duration": 53,
    "start_time": "2024-02-07T19:10:03.471Z"
   },
   {
    "duration": 13,
    "start_time": "2024-02-07T19:10:03.526Z"
   },
   {
    "duration": 913,
    "start_time": "2024-02-07T19:10:03.540Z"
   },
   {
    "duration": 607,
    "start_time": "2024-02-07T19:10:04.454Z"
   },
   {
    "duration": 17,
    "start_time": "2024-02-07T19:10:05.063Z"
   },
   {
    "duration": 5,
    "start_time": "2024-02-07T19:10:05.082Z"
   },
   {
    "duration": 26,
    "start_time": "2024-02-07T19:10:05.088Z"
   },
   {
    "duration": 18,
    "start_time": "2024-02-07T19:10:05.115Z"
   },
   {
    "duration": 107,
    "start_time": "2024-02-07T19:10:05.135Z"
   },
   {
    "duration": 148,
    "start_time": "2024-02-07T19:10:05.244Z"
   },
   {
    "duration": 287,
    "start_time": "2024-02-07T19:10:05.394Z"
   },
   {
    "duration": 11,
    "start_time": "2024-02-07T19:10:05.683Z"
   },
   {
    "duration": 5,
    "start_time": "2024-02-07T19:10:05.695Z"
   },
   {
    "duration": 302,
    "start_time": "2024-02-07T19:10:05.702Z"
   },
   {
    "duration": 3,
    "start_time": "2024-02-07T19:10:06.006Z"
   },
   {
    "duration": 9,
    "start_time": "2024-02-07T19:10:06.010Z"
   },
   {
    "duration": 13,
    "start_time": "2024-02-07T19:10:06.021Z"
   },
   {
    "duration": 285,
    "start_time": "2024-02-07T19:10:06.035Z"
   },
   {
    "duration": 136,
    "start_time": "2024-02-07T19:10:06.322Z"
   },
   {
    "duration": 148,
    "start_time": "2024-02-07T19:10:06.460Z"
   },
   {
    "duration": 141,
    "start_time": "2024-02-07T19:10:06.610Z"
   },
   {
    "duration": 8,
    "start_time": "2024-02-07T19:10:06.752Z"
   },
   {
    "duration": 174,
    "start_time": "2024-02-07T19:10:06.762Z"
   },
   {
    "duration": 7857,
    "start_time": "2024-02-08T09:24:56.388Z"
   },
   {
    "duration": 85,
    "start_time": "2024-02-08T09:25:04.246Z"
   },
   {
    "duration": 63,
    "start_time": "2024-02-08T09:25:04.332Z"
   },
   {
    "duration": 94,
    "start_time": "2024-02-08T09:25:04.397Z"
   },
   {
    "duration": 62,
    "start_time": "2024-02-08T09:25:04.492Z"
   },
   {
    "duration": 7,
    "start_time": "2024-02-08T09:25:04.556Z"
   },
   {
    "duration": 16,
    "start_time": "2024-02-08T09:25:04.564Z"
   },
   {
    "duration": 37,
    "start_time": "2024-02-08T09:25:04.581Z"
   },
   {
    "duration": 16,
    "start_time": "2024-02-08T09:25:04.620Z"
   },
   {
    "duration": 30,
    "start_time": "2024-02-08T09:25:04.638Z"
   },
   {
    "duration": 24,
    "start_time": "2024-02-08T09:25:04.669Z"
   },
   {
    "duration": 21,
    "start_time": "2024-02-08T09:25:04.694Z"
   },
   {
    "duration": 12,
    "start_time": "2024-02-08T09:25:04.717Z"
   },
   {
    "duration": 36,
    "start_time": "2024-02-08T09:25:04.730Z"
   },
   {
    "duration": 39,
    "start_time": "2024-02-08T09:25:04.767Z"
   },
   {
    "duration": 34,
    "start_time": "2024-02-08T09:25:04.807Z"
   },
   {
    "duration": 25,
    "start_time": "2024-02-08T09:25:04.843Z"
   },
   {
    "duration": 206,
    "start_time": "2024-02-08T09:25:04.869Z"
   },
   {
    "duration": 138,
    "start_time": "2024-02-08T09:25:05.076Z"
   },
   {
    "duration": 1130,
    "start_time": "2024-02-08T09:25:05.216Z"
   },
   {
    "duration": 29,
    "start_time": "2024-02-08T09:25:06.348Z"
   },
   {
    "duration": 27,
    "start_time": "2024-02-08T09:25:06.379Z"
   },
   {
    "duration": 246,
    "start_time": "2024-02-08T09:25:06.407Z"
   },
   {
    "duration": 7,
    "start_time": "2024-02-08T09:25:06.655Z"
   },
   {
    "duration": 44,
    "start_time": "2024-02-08T09:25:06.663Z"
   },
   {
    "duration": 106,
    "start_time": "2024-02-08T09:25:06.709Z"
   },
   {
    "duration": 194,
    "start_time": "2024-02-08T09:25:06.816Z"
   },
   {
    "duration": 213,
    "start_time": "2024-02-08T09:25:07.013Z"
   },
   {
    "duration": 5999,
    "start_time": "2024-02-08T10:05:06.396Z"
   },
   {
    "duration": 49,
    "start_time": "2024-02-08T10:05:12.397Z"
   },
   {
    "duration": 28,
    "start_time": "2024-02-08T10:05:12.447Z"
   },
   {
    "duration": 26,
    "start_time": "2024-02-08T10:05:12.477Z"
   },
   {
    "duration": 34,
    "start_time": "2024-02-08T10:05:12.504Z"
   },
   {
    "duration": 9,
    "start_time": "2024-02-08T10:05:12.539Z"
   },
   {
    "duration": 29,
    "start_time": "2024-02-08T10:05:12.550Z"
   },
   {
    "duration": 20,
    "start_time": "2024-02-08T10:05:12.581Z"
   },
   {
    "duration": 24,
    "start_time": "2024-02-08T10:05:12.602Z"
   },
   {
    "duration": 6,
    "start_time": "2024-02-08T10:05:12.628Z"
   },
   {
    "duration": 30,
    "start_time": "2024-02-08T10:05:12.635Z"
   },
   {
    "duration": 33,
    "start_time": "2024-02-08T10:05:12.666Z"
   },
   {
    "duration": 23,
    "start_time": "2024-02-08T10:05:12.700Z"
   },
   {
    "duration": 33,
    "start_time": "2024-02-08T10:05:12.725Z"
   },
   {
    "duration": 35,
    "start_time": "2024-02-08T10:05:12.759Z"
   },
   {
    "duration": 29,
    "start_time": "2024-02-08T10:05:12.795Z"
   },
   {
    "duration": 16,
    "start_time": "2024-02-08T10:05:12.826Z"
   },
   {
    "duration": 238,
    "start_time": "2024-02-08T10:05:12.844Z"
   },
   {
    "duration": 137,
    "start_time": "2024-02-08T10:05:13.083Z"
   },
   {
    "duration": 1051,
    "start_time": "2024-02-08T10:05:13.222Z"
   },
   {
    "duration": 29,
    "start_time": "2024-02-08T10:05:14.274Z"
   },
   {
    "duration": 9,
    "start_time": "2024-02-08T10:05:14.304Z"
   },
   {
    "duration": 240,
    "start_time": "2024-02-08T10:05:14.314Z"
   },
   {
    "duration": 5,
    "start_time": "2024-02-08T10:05:14.555Z"
   },
   {
    "duration": 82,
    "start_time": "2024-02-08T10:05:14.561Z"
   },
   {
    "duration": 32,
    "start_time": "2024-02-08T10:05:14.645Z"
   },
   {
    "duration": 189,
    "start_time": "2024-02-08T10:05:14.679Z"
   },
   {
    "duration": 6,
    "start_time": "2024-02-08T10:05:14.872Z"
   },
   {
    "duration": 47,
    "start_time": "2024-02-08T10:05:14.879Z"
   },
   {
    "duration": 146,
    "start_time": "2024-02-08T10:05:14.928Z"
   },
   {
    "duration": 17,
    "start_time": "2024-02-08T10:05:15.075Z"
   },
   {
    "duration": 85,
    "start_time": "2024-02-08T10:05:15.093Z"
   },
   {
    "duration": 63,
    "start_time": "2024-02-08T10:05:15.180Z"
   },
   {
    "duration": 26,
    "start_time": "2024-02-08T10:05:15.245Z"
   },
   {
    "duration": 63,
    "start_time": "2024-02-08T10:05:15.272Z"
   },
   {
    "duration": 38,
    "start_time": "2024-02-08T10:05:15.337Z"
   },
   {
    "duration": 33,
    "start_time": "2024-02-08T10:05:15.377Z"
   },
   {
    "duration": 26,
    "start_time": "2024-02-08T10:05:15.411Z"
   },
   {
    "duration": 26,
    "start_time": "2024-02-08T10:05:15.438Z"
   },
   {
    "duration": 37,
    "start_time": "2024-02-08T10:05:15.465Z"
   },
   {
    "duration": 27,
    "start_time": "2024-02-08T10:05:15.504Z"
   },
   {
    "duration": 99,
    "start_time": "2024-02-08T10:05:15.532Z"
   },
   {
    "duration": 3114,
    "start_time": "2024-02-08T10:05:15.632Z"
   },
   {
    "duration": 14,
    "start_time": "2024-02-08T10:05:18.748Z"
   },
   {
    "duration": 12,
    "start_time": "2024-02-08T10:05:18.763Z"
   },
   {
    "duration": 6,
    "start_time": "2024-02-08T10:05:18.776Z"
   },
   {
    "duration": 3,
    "start_time": "2024-02-08T10:05:18.783Z"
   },
   {
    "duration": 9,
    "start_time": "2024-02-08T10:05:18.787Z"
   },
   {
    "duration": 6,
    "start_time": "2024-02-08T10:05:18.797Z"
   },
   {
    "duration": 8,
    "start_time": "2024-02-08T10:05:18.804Z"
   },
   {
    "duration": 7,
    "start_time": "2024-02-08T10:05:18.813Z"
   },
   {
    "duration": 2,
    "start_time": "2024-02-08T10:05:18.845Z"
   },
   {
    "duration": 14,
    "start_time": "2024-02-08T10:05:18.849Z"
   },
   {
    "duration": 38181,
    "start_time": "2024-02-08T10:05:18.865Z"
   },
   {
    "duration": 41,
    "start_time": "2024-02-08T10:05:57.048Z"
   },
   {
    "duration": 4,
    "start_time": "2024-02-08T10:05:57.090Z"
   },
   {
    "duration": 14,
    "start_time": "2024-02-08T10:05:57.096Z"
   },
   {
    "duration": 26,
    "start_time": "2024-02-08T10:05:57.111Z"
   },
   {
    "duration": 12,
    "start_time": "2024-02-08T10:05:57.138Z"
   },
   {
    "duration": 6,
    "start_time": "2024-02-08T10:05:57.151Z"
   },
   {
    "duration": 19,
    "start_time": "2024-02-08T10:05:57.159Z"
   },
   {
    "duration": 16,
    "start_time": "2024-02-08T10:05:57.179Z"
   },
   {
    "duration": 24,
    "start_time": "2024-02-08T10:05:57.196Z"
   },
   {
    "duration": 25,
    "start_time": "2024-02-08T10:05:57.222Z"
   },
   {
    "duration": 19,
    "start_time": "2024-02-08T10:05:57.249Z"
   },
   {
    "duration": 22,
    "start_time": "2024-02-08T10:05:57.270Z"
   },
   {
    "duration": 27,
    "start_time": "2024-02-08T10:05:57.293Z"
   },
   {
    "duration": 89,
    "start_time": "2024-02-08T10:05:57.322Z"
   },
   {
    "duration": 6,
    "start_time": "2024-02-08T10:05:57.413Z"
   },
   {
    "duration": 5,
    "start_time": "2024-02-08T10:05:57.420Z"
   },
   {
    "duration": 36,
    "start_time": "2024-02-08T10:05:57.426Z"
   },
   {
    "duration": 4,
    "start_time": "2024-02-08T10:05:57.463Z"
   },
   {
    "duration": 850,
    "start_time": "2024-02-08T10:05:57.468Z"
   },
   {
    "duration": 543,
    "start_time": "2024-02-08T10:05:58.319Z"
   },
   {
    "duration": 7,
    "start_time": "2024-02-08T10:05:58.864Z"
   },
   {
    "duration": 4,
    "start_time": "2024-02-08T10:05:58.872Z"
   },
   {
    "duration": 19,
    "start_time": "2024-02-08T10:05:58.878Z"
   },
   {
    "duration": 10,
    "start_time": "2024-02-08T10:05:58.898Z"
   },
   {
    "duration": 105,
    "start_time": "2024-02-08T10:05:58.910Z"
   },
   {
    "duration": 121,
    "start_time": "2024-02-08T10:05:59.016Z"
   },
   {
    "duration": 253,
    "start_time": "2024-02-08T10:05:59.138Z"
   },
   {
    "duration": 10,
    "start_time": "2024-02-08T10:05:59.396Z"
   },
   {
    "duration": 26,
    "start_time": "2024-02-08T10:05:59.407Z"
   },
   {
    "duration": 269,
    "start_time": "2024-02-08T10:05:59.435Z"
   },
   {
    "duration": 3,
    "start_time": "2024-02-08T10:05:59.706Z"
   },
   {
    "duration": 23,
    "start_time": "2024-02-08T10:05:59.711Z"
   },
   {
    "duration": 7,
    "start_time": "2024-02-08T10:05:59.736Z"
   },
   {
    "duration": 246,
    "start_time": "2024-02-08T10:05:59.744Z"
   },
   {
    "duration": 119,
    "start_time": "2024-02-08T10:05:59.991Z"
   },
   {
    "duration": 122,
    "start_time": "2024-02-08T10:06:00.112Z"
   },
   {
    "duration": 123,
    "start_time": "2024-02-08T10:06:00.236Z"
   },
   {
    "duration": 7,
    "start_time": "2024-02-08T10:06:00.361Z"
   },
   {
    "duration": 349,
    "start_time": "2024-02-08T10:06:00.370Z"
   },
   {
    "duration": 9589,
    "start_time": "2024-02-10T12:08:46.562Z"
   },
   {
    "duration": 89,
    "start_time": "2024-02-10T12:08:56.153Z"
   },
   {
    "duration": 66,
    "start_time": "2024-02-10T12:08:56.243Z"
   },
   {
    "duration": 95,
    "start_time": "2024-02-10T12:08:56.312Z"
   },
   {
    "duration": 65,
    "start_time": "2024-02-10T12:08:56.408Z"
   },
   {
    "duration": 11,
    "start_time": "2024-02-10T12:08:56.474Z"
   },
   {
    "duration": 6,
    "start_time": "2024-02-10T12:08:56.486Z"
   },
   {
    "duration": 7,
    "start_time": "2024-02-10T12:08:56.493Z"
   },
   {
    "duration": 5,
    "start_time": "2024-02-10T12:08:56.501Z"
   },
   {
    "duration": 5,
    "start_time": "2024-02-10T12:08:56.509Z"
   },
   {
    "duration": 5,
    "start_time": "2024-02-10T12:08:56.516Z"
   },
   {
    "duration": 7,
    "start_time": "2024-02-10T12:08:56.522Z"
   },
   {
    "duration": 5,
    "start_time": "2024-02-10T12:08:56.530Z"
   },
   {
    "duration": 5,
    "start_time": "2024-02-10T12:08:56.536Z"
   },
   {
    "duration": 5,
    "start_time": "2024-02-10T12:08:56.542Z"
   },
   {
    "duration": 6,
    "start_time": "2024-02-10T12:08:56.549Z"
   },
   {
    "duration": 11,
    "start_time": "2024-02-10T12:08:56.557Z"
   },
   {
    "duration": 266,
    "start_time": "2024-02-10T12:08:56.569Z"
   },
   {
    "duration": 149,
    "start_time": "2024-02-10T12:08:56.837Z"
   },
   {
    "duration": 1243,
    "start_time": "2024-02-10T12:08:56.988Z"
   },
   {
    "duration": 32,
    "start_time": "2024-02-10T12:08:58.232Z"
   },
   {
    "duration": 8,
    "start_time": "2024-02-10T12:08:58.265Z"
   },
   {
    "duration": 269,
    "start_time": "2024-02-10T12:08:58.274Z"
   },
   {
    "duration": 7,
    "start_time": "2024-02-10T12:08:58.544Z"
   },
   {
    "duration": 18,
    "start_time": "2024-02-10T12:08:58.553Z"
   },
   {
    "duration": 11,
    "start_time": "2024-02-10T12:08:58.572Z"
   },
   {
    "duration": 172,
    "start_time": "2024-02-10T12:08:58.585Z"
   },
   {
    "duration": 6,
    "start_time": "2024-02-10T12:08:58.761Z"
   },
   {
    "duration": 6,
    "start_time": "2024-02-10T12:08:58.769Z"
   },
   {
    "duration": 156,
    "start_time": "2024-02-10T12:08:58.777Z"
   },
   {
    "duration": 18,
    "start_time": "2024-02-10T12:08:58.935Z"
   },
   {
    "duration": 7,
    "start_time": "2024-02-10T12:08:58.954Z"
   },
   {
    "duration": 10,
    "start_time": "2024-02-10T12:08:58.962Z"
   },
   {
    "duration": 3,
    "start_time": "2024-02-10T12:08:58.973Z"
   },
   {
    "duration": 5,
    "start_time": "2024-02-10T12:08:58.977Z"
   },
   {
    "duration": 33,
    "start_time": "2024-02-10T12:08:58.983Z"
   },
   {
    "duration": 28,
    "start_time": "2024-02-10T12:08:59.018Z"
   },
   {
    "duration": 14,
    "start_time": "2024-02-10T12:08:59.048Z"
   },
   {
    "duration": 6,
    "start_time": "2024-02-10T12:08:59.063Z"
   },
   {
    "duration": 26,
    "start_time": "2024-02-10T12:08:59.070Z"
   },
   {
    "duration": 13,
    "start_time": "2024-02-10T12:08:59.098Z"
   },
   {
    "duration": 13,
    "start_time": "2024-02-10T12:08:59.113Z"
   },
   {
    "duration": 3260,
    "start_time": "2024-02-10T12:08:59.127Z"
   },
   {
    "duration": 11,
    "start_time": "2024-02-10T12:09:02.388Z"
   },
   {
    "duration": 15,
    "start_time": "2024-02-10T12:09:02.400Z"
   },
   {
    "duration": 11,
    "start_time": "2024-02-10T12:09:02.417Z"
   },
   {
    "duration": 4,
    "start_time": "2024-02-10T12:09:02.429Z"
   },
   {
    "duration": 5,
    "start_time": "2024-02-10T12:09:02.434Z"
   },
   {
    "duration": 25,
    "start_time": "2024-02-10T12:09:02.441Z"
   },
   {
    "duration": 22,
    "start_time": "2024-02-10T12:09:02.467Z"
   },
   {
    "duration": 4,
    "start_time": "2024-02-10T12:09:02.490Z"
   },
   {
    "duration": 13,
    "start_time": "2024-02-10T12:09:02.495Z"
   },
   {
    "duration": 6,
    "start_time": "2024-02-10T12:09:02.509Z"
   },
   {
    "duration": 40010,
    "start_time": "2024-02-10T12:09:02.517Z"
   },
   {
    "duration": 28,
    "start_time": "2024-02-10T12:09:42.528Z"
   },
   {
    "duration": 4,
    "start_time": "2024-02-10T12:09:42.557Z"
   },
   {
    "duration": 8,
    "start_time": "2024-02-10T12:09:42.563Z"
   },
   {
    "duration": 5,
    "start_time": "2024-02-10T12:09:42.572Z"
   },
   {
    "duration": 7,
    "start_time": "2024-02-10T12:09:42.578Z"
   },
   {
    "duration": 3,
    "start_time": "2024-02-10T12:09:42.615Z"
   },
   {
    "duration": 18,
    "start_time": "2024-02-10T12:09:42.620Z"
   },
   {
    "duration": 15,
    "start_time": "2024-02-10T12:09:42.639Z"
   },
   {
    "duration": 17,
    "start_time": "2024-02-10T12:09:42.655Z"
   },
   {
    "duration": 3,
    "start_time": "2024-02-10T12:09:42.674Z"
   },
   {
    "duration": 5,
    "start_time": "2024-02-10T12:09:42.679Z"
   },
   {
    "duration": 17,
    "start_time": "2024-02-10T12:09:42.715Z"
   },
   {
    "duration": 24,
    "start_time": "2024-02-10T12:09:42.733Z"
   },
   {
    "duration": 92,
    "start_time": "2024-02-10T12:09:42.758Z"
   },
   {
    "duration": 7,
    "start_time": "2024-02-10T12:09:42.852Z"
   },
   {
    "duration": 4,
    "start_time": "2024-02-10T12:09:42.860Z"
   },
   {
    "duration": 62,
    "start_time": "2024-02-10T12:09:42.865Z"
   },
   {
    "duration": 4,
    "start_time": "2024-02-10T12:09:42.928Z"
   },
   {
    "duration": 864,
    "start_time": "2024-02-10T12:09:42.934Z"
   },
   {
    "duration": 598,
    "start_time": "2024-02-10T12:09:43.800Z"
   },
   {
    "duration": 9,
    "start_time": "2024-02-10T12:09:44.400Z"
   },
   {
    "duration": 6,
    "start_time": "2024-02-10T12:09:44.411Z"
   },
   {
    "duration": 17,
    "start_time": "2024-02-10T12:09:44.419Z"
   },
   {
    "duration": 8,
    "start_time": "2024-02-10T12:09:44.437Z"
   },
   {
    "duration": 102,
    "start_time": "2024-02-10T12:09:44.446Z"
   },
   {
    "duration": 137,
    "start_time": "2024-02-10T12:09:44.549Z"
   },
   {
    "duration": 279,
    "start_time": "2024-02-10T12:09:44.688Z"
   },
   {
    "duration": 11,
    "start_time": "2024-02-10T12:09:44.972Z"
   },
   {
    "duration": 6,
    "start_time": "2024-02-10T12:09:44.985Z"
   },
   {
    "duration": 279,
    "start_time": "2024-02-10T12:09:44.993Z"
   },
   {
    "duration": 3,
    "start_time": "2024-02-10T12:09:45.274Z"
   },
   {
    "duration": 15,
    "start_time": "2024-02-10T12:09:45.278Z"
   },
   {
    "duration": 6,
    "start_time": "2024-02-10T12:09:45.294Z"
   },
   {
    "duration": 260,
    "start_time": "2024-02-10T12:09:45.301Z"
   },
   {
    "duration": 131,
    "start_time": "2024-02-10T12:09:45.563Z"
   },
   {
    "duration": 154,
    "start_time": "2024-02-10T12:09:45.695Z"
   },
   {
    "duration": 137,
    "start_time": "2024-02-10T12:09:45.851Z"
   },
   {
    "duration": 7,
    "start_time": "2024-02-10T12:09:45.989Z"
   },
   {
    "duration": 153,
    "start_time": "2024-02-10T12:09:45.998Z"
   },
   {
    "duration": 290,
    "start_time": "2024-02-10T12:10:42.103Z"
   },
   {
    "duration": 6,
    "start_time": "2024-02-10T12:12:37.096Z"
   },
   {
    "duration": 75,
    "start_time": "2024-02-10T12:14:35.059Z"
   },
   {
    "duration": 3,
    "start_time": "2024-02-10T12:15:18.910Z"
   },
   {
    "duration": 6,
    "start_time": "2024-02-10T12:29:47.274Z"
   },
   {
    "duration": 160,
    "start_time": "2024-02-10T12:30:37.137Z"
   },
   {
    "duration": 13,
    "start_time": "2024-02-10T12:30:48.916Z"
   },
   {
    "duration": 6,
    "start_time": "2024-02-10T12:30:55.475Z"
   },
   {
    "duration": 6,
    "start_time": "2024-02-10T12:32:10.842Z"
   },
   {
    "duration": 5,
    "start_time": "2024-02-10T12:32:22.142Z"
   },
   {
    "duration": 104,
    "start_time": "2024-02-10T12:36:27.026Z"
   },
   {
    "duration": 12,
    "start_time": "2024-02-10T12:39:31.351Z"
   },
   {
    "duration": 4809,
    "start_time": "2024-02-10T12:40:55.275Z"
   },
   {
    "duration": 53,
    "start_time": "2024-02-10T12:41:00.087Z"
   },
   {
    "duration": 42,
    "start_time": "2024-02-10T12:41:00.141Z"
   },
   {
    "duration": 29,
    "start_time": "2024-02-10T12:41:00.184Z"
   },
   {
    "duration": 38,
    "start_time": "2024-02-10T12:41:00.214Z"
   },
   {
    "duration": 10,
    "start_time": "2024-02-10T12:41:00.253Z"
   },
   {
    "duration": 20,
    "start_time": "2024-02-10T12:41:00.265Z"
   },
   {
    "duration": 43,
    "start_time": "2024-02-10T12:41:00.287Z"
   },
   {
    "duration": 19,
    "start_time": "2024-02-10T12:41:00.332Z"
   },
   {
    "duration": 34,
    "start_time": "2024-02-10T12:41:00.354Z"
   },
   {
    "duration": 18,
    "start_time": "2024-02-10T12:41:00.390Z"
   },
   {
    "duration": 20,
    "start_time": "2024-02-10T12:41:00.410Z"
   },
   {
    "duration": 31,
    "start_time": "2024-02-10T12:41:00.432Z"
   },
   {
    "duration": 18,
    "start_time": "2024-02-10T12:41:00.464Z"
   },
   {
    "duration": 28,
    "start_time": "2024-02-10T12:41:00.484Z"
   },
   {
    "duration": 36,
    "start_time": "2024-02-10T12:41:00.515Z"
   },
   {
    "duration": 30,
    "start_time": "2024-02-10T12:41:00.553Z"
   },
   {
    "duration": 30,
    "start_time": "2024-02-10T12:41:00.584Z"
   },
   {
    "duration": 254,
    "start_time": "2024-02-10T12:41:00.616Z"
   },
   {
    "duration": 151,
    "start_time": "2024-02-10T12:41:00.872Z"
   },
   {
    "duration": 1199,
    "start_time": "2024-02-10T12:41:01.025Z"
   },
   {
    "duration": 31,
    "start_time": "2024-02-10T12:41:02.226Z"
   },
   {
    "duration": 5,
    "start_time": "2024-02-10T12:41:02.258Z"
   },
   {
    "duration": 28,
    "start_time": "2024-02-10T12:41:02.264Z"
   },
   {
    "duration": 188,
    "start_time": "2024-02-10T12:41:02.293Z"
   },
   {
    "duration": 1,
    "start_time": "2024-02-10T12:41:02.601Z"
   },
   {
    "duration": 0,
    "start_time": "2024-02-10T12:41:02.603Z"
   },
   {
    "duration": 0,
    "start_time": "2024-02-10T12:41:02.604Z"
   },
   {
    "duration": 0,
    "start_time": "2024-02-10T12:41:02.605Z"
   },
   {
    "duration": 0,
    "start_time": "2024-02-10T12:41:02.606Z"
   },
   {
    "duration": 0,
    "start_time": "2024-02-10T12:41:02.607Z"
   },
   {
    "duration": 0,
    "start_time": "2024-02-10T12:41:02.608Z"
   },
   {
    "duration": 0,
    "start_time": "2024-02-10T12:41:02.608Z"
   },
   {
    "duration": 0,
    "start_time": "2024-02-10T12:41:02.614Z"
   },
   {
    "duration": 0,
    "start_time": "2024-02-10T12:41:02.615Z"
   },
   {
    "duration": 0,
    "start_time": "2024-02-10T12:41:02.616Z"
   },
   {
    "duration": 0,
    "start_time": "2024-02-10T12:41:02.617Z"
   },
   {
    "duration": 0,
    "start_time": "2024-02-10T12:41:02.618Z"
   },
   {
    "duration": 0,
    "start_time": "2024-02-10T12:41:02.619Z"
   },
   {
    "duration": 0,
    "start_time": "2024-02-10T12:41:02.619Z"
   },
   {
    "duration": 0,
    "start_time": "2024-02-10T12:41:02.620Z"
   },
   {
    "duration": 0,
    "start_time": "2024-02-10T12:41:02.621Z"
   },
   {
    "duration": 0,
    "start_time": "2024-02-10T12:41:02.622Z"
   },
   {
    "duration": 0,
    "start_time": "2024-02-10T12:41:02.623Z"
   },
   {
    "duration": 0,
    "start_time": "2024-02-10T12:41:02.624Z"
   },
   {
    "duration": 0,
    "start_time": "2024-02-10T12:41:02.625Z"
   },
   {
    "duration": 0,
    "start_time": "2024-02-10T12:41:02.626Z"
   },
   {
    "duration": 0,
    "start_time": "2024-02-10T12:41:02.627Z"
   },
   {
    "duration": 0,
    "start_time": "2024-02-10T12:41:02.628Z"
   },
   {
    "duration": 0,
    "start_time": "2024-02-10T12:41:02.629Z"
   },
   {
    "duration": 0,
    "start_time": "2024-02-10T12:41:02.630Z"
   },
   {
    "duration": 0,
    "start_time": "2024-02-10T12:41:02.631Z"
   },
   {
    "duration": 0,
    "start_time": "2024-02-10T12:41:02.632Z"
   },
   {
    "duration": 0,
    "start_time": "2024-02-10T12:41:02.632Z"
   },
   {
    "duration": 0,
    "start_time": "2024-02-10T12:41:02.633Z"
   },
   {
    "duration": 0,
    "start_time": "2024-02-10T12:41:02.634Z"
   },
   {
    "duration": 0,
    "start_time": "2024-02-10T12:41:02.635Z"
   },
   {
    "duration": 0,
    "start_time": "2024-02-10T12:41:02.636Z"
   },
   {
    "duration": 0,
    "start_time": "2024-02-10T12:41:02.637Z"
   },
   {
    "duration": 0,
    "start_time": "2024-02-10T12:41:02.638Z"
   },
   {
    "duration": 0,
    "start_time": "2024-02-10T12:41:02.639Z"
   },
   {
    "duration": 0,
    "start_time": "2024-02-10T12:41:02.640Z"
   },
   {
    "duration": 0,
    "start_time": "2024-02-10T12:41:02.641Z"
   },
   {
    "duration": 0,
    "start_time": "2024-02-10T12:41:02.642Z"
   },
   {
    "duration": 0,
    "start_time": "2024-02-10T12:41:02.643Z"
   },
   {
    "duration": 0,
    "start_time": "2024-02-10T12:41:02.644Z"
   },
   {
    "duration": 0,
    "start_time": "2024-02-10T12:41:02.645Z"
   },
   {
    "duration": 0,
    "start_time": "2024-02-10T12:41:02.645Z"
   },
   {
    "duration": 0,
    "start_time": "2024-02-10T12:41:02.646Z"
   },
   {
    "duration": 0,
    "start_time": "2024-02-10T12:41:02.647Z"
   },
   {
    "duration": 0,
    "start_time": "2024-02-10T12:41:02.648Z"
   },
   {
    "duration": 0,
    "start_time": "2024-02-10T12:41:02.649Z"
   },
   {
    "duration": 0,
    "start_time": "2024-02-10T12:41:02.650Z"
   },
   {
    "duration": 0,
    "start_time": "2024-02-10T12:41:02.651Z"
   },
   {
    "duration": 0,
    "start_time": "2024-02-10T12:41:02.652Z"
   },
   {
    "duration": 0,
    "start_time": "2024-02-10T12:41:02.653Z"
   },
   {
    "duration": 0,
    "start_time": "2024-02-10T12:41:02.714Z"
   },
   {
    "duration": 0,
    "start_time": "2024-02-10T12:41:02.716Z"
   },
   {
    "duration": 0,
    "start_time": "2024-02-10T12:41:02.717Z"
   },
   {
    "duration": 0,
    "start_time": "2024-02-10T12:41:02.718Z"
   },
   {
    "duration": 0,
    "start_time": "2024-02-10T12:41:02.719Z"
   },
   {
    "duration": 0,
    "start_time": "2024-02-10T12:41:02.720Z"
   },
   {
    "duration": 1,
    "start_time": "2024-02-10T12:41:02.720Z"
   },
   {
    "duration": 0,
    "start_time": "2024-02-10T12:41:02.722Z"
   },
   {
    "duration": 0,
    "start_time": "2024-02-10T12:41:02.723Z"
   },
   {
    "duration": 0,
    "start_time": "2024-02-10T12:41:02.724Z"
   },
   {
    "duration": 0,
    "start_time": "2024-02-10T12:41:02.725Z"
   },
   {
    "duration": 0,
    "start_time": "2024-02-10T12:41:02.726Z"
   },
   {
    "duration": 0,
    "start_time": "2024-02-10T12:41:02.726Z"
   },
   {
    "duration": 0,
    "start_time": "2024-02-10T12:41:02.727Z"
   },
   {
    "duration": 0,
    "start_time": "2024-02-10T12:41:02.728Z"
   },
   {
    "duration": 0,
    "start_time": "2024-02-10T12:41:02.729Z"
   },
   {
    "duration": 0,
    "start_time": "2024-02-10T12:41:02.730Z"
   },
   {
    "duration": 0,
    "start_time": "2024-02-10T12:41:02.731Z"
   },
   {
    "duration": 0,
    "start_time": "2024-02-10T12:41:02.732Z"
   },
   {
    "duration": 0,
    "start_time": "2024-02-10T12:41:02.733Z"
   },
   {
    "duration": 0,
    "start_time": "2024-02-10T12:41:02.734Z"
   },
   {
    "duration": 0,
    "start_time": "2024-02-10T12:41:02.735Z"
   },
   {
    "duration": 99,
    "start_time": "2024-02-10T12:41:32.275Z"
   },
   {
    "duration": 676,
    "start_time": "2024-02-10T12:43:20.891Z"
   },
   {
    "duration": 703,
    "start_time": "2024-02-10T12:44:11.744Z"
   },
   {
    "duration": 865,
    "start_time": "2024-02-10T12:44:18.017Z"
   },
   {
    "duration": 636,
    "start_time": "2024-02-10T12:44:27.162Z"
   },
   {
    "duration": 653,
    "start_time": "2024-02-10T12:44:36.087Z"
   },
   {
    "duration": 735,
    "start_time": "2024-02-10T12:44:41.738Z"
   },
   {
    "duration": 652,
    "start_time": "2024-02-10T12:44:59.503Z"
   },
   {
    "duration": 23,
    "start_time": "2024-02-10T12:49:09.420Z"
   },
   {
    "duration": 8,
    "start_time": "2024-02-10T12:49:20.300Z"
   },
   {
    "duration": 6,
    "start_time": "2024-02-10T12:49:31.124Z"
   },
   {
    "duration": 7,
    "start_time": "2024-02-10T12:50:46.679Z"
   },
   {
    "duration": 8,
    "start_time": "2024-02-10T12:51:22.928Z"
   },
   {
    "duration": 6,
    "start_time": "2024-02-10T12:51:28.704Z"
   },
   {
    "duration": 7,
    "start_time": "2024-02-10T12:52:46.566Z"
   },
   {
    "duration": 7,
    "start_time": "2024-02-10T12:53:37.075Z"
   },
   {
    "duration": 4787,
    "start_time": "2024-02-10T13:04:13.716Z"
   },
   {
    "duration": 54,
    "start_time": "2024-02-10T13:04:18.517Z"
   },
   {
    "duration": 29,
    "start_time": "2024-02-10T13:04:18.573Z"
   },
   {
    "duration": 33,
    "start_time": "2024-02-10T13:04:18.605Z"
   },
   {
    "duration": 37,
    "start_time": "2024-02-10T13:04:18.639Z"
   },
   {
    "duration": 9,
    "start_time": "2024-02-10T13:04:18.678Z"
   },
   {
    "duration": 5,
    "start_time": "2024-02-10T13:04:18.688Z"
   },
   {
    "duration": 8,
    "start_time": "2024-02-10T13:04:18.694Z"
   },
   {
    "duration": 5,
    "start_time": "2024-02-10T13:04:18.703Z"
   },
   {
    "duration": 5,
    "start_time": "2024-02-10T13:04:18.714Z"
   },
   {
    "duration": 7,
    "start_time": "2024-02-10T13:04:18.720Z"
   },
   {
    "duration": 7,
    "start_time": "2024-02-10T13:04:18.729Z"
   },
   {
    "duration": 5,
    "start_time": "2024-02-10T13:04:18.737Z"
   },
   {
    "duration": 8,
    "start_time": "2024-02-10T13:04:18.743Z"
   },
   {
    "duration": 11,
    "start_time": "2024-02-10T13:04:18.753Z"
   },
   {
    "duration": 7,
    "start_time": "2024-02-10T13:04:18.765Z"
   },
   {
    "duration": 3,
    "start_time": "2024-02-10T13:04:18.774Z"
   },
   {
    "duration": 37,
    "start_time": "2024-02-10T13:04:18.779Z"
   },
   {
    "duration": 233,
    "start_time": "2024-02-10T13:04:18.818Z"
   },
   {
    "duration": 147,
    "start_time": "2024-02-10T13:04:19.053Z"
   },
   {
    "duration": 1172,
    "start_time": "2024-02-10T13:04:19.201Z"
   },
   {
    "duration": 42,
    "start_time": "2024-02-10T13:04:20.374Z"
   },
   {
    "duration": 5,
    "start_time": "2024-02-10T13:04:20.418Z"
   },
   {
    "duration": 779,
    "start_time": "2024-02-10T13:04:20.424Z"
   },
   {
    "duration": 10,
    "start_time": "2024-02-10T13:04:21.205Z"
   },
   {
    "duration": 6,
    "start_time": "2024-02-10T13:04:21.217Z"
   },
   {
    "duration": 7,
    "start_time": "2024-02-10T13:04:21.224Z"
   },
   {
    "duration": 5,
    "start_time": "2024-02-10T13:04:21.235Z"
   },
   {
    "duration": 7,
    "start_time": "2024-02-10T13:04:21.242Z"
   },
   {
    "duration": 150,
    "start_time": "2024-02-10T13:04:21.250Z"
   },
   {
    "duration": 13,
    "start_time": "2024-02-10T13:04:21.402Z"
   },
   {
    "duration": 6,
    "start_time": "2024-02-10T13:04:21.417Z"
   },
   {
    "duration": 5,
    "start_time": "2024-02-10T13:04:21.425Z"
   },
   {
    "duration": 176,
    "start_time": "2024-02-10T13:04:21.432Z"
   },
   {
    "duration": 9,
    "start_time": "2024-02-10T13:04:21.609Z"
   },
   {
    "duration": 7,
    "start_time": "2024-02-10T13:04:21.619Z"
   },
   {
    "duration": 163,
    "start_time": "2024-02-10T13:04:21.628Z"
   },
   {
    "duration": 28,
    "start_time": "2024-02-10T13:04:21.793Z"
   },
   {
    "duration": 7,
    "start_time": "2024-02-10T13:04:21.823Z"
   },
   {
    "duration": 13,
    "start_time": "2024-02-10T13:04:21.831Z"
   },
   {
    "duration": 4,
    "start_time": "2024-02-10T13:04:21.845Z"
   },
   {
    "duration": 4,
    "start_time": "2024-02-10T13:04:21.851Z"
   },
   {
    "duration": 3,
    "start_time": "2024-02-10T13:04:21.856Z"
   },
   {
    "duration": 8,
    "start_time": "2024-02-10T13:04:21.861Z"
   },
   {
    "duration": 12,
    "start_time": "2024-02-10T13:04:21.870Z"
   },
   {
    "duration": 7,
    "start_time": "2024-02-10T13:04:21.914Z"
   },
   {
    "duration": 10,
    "start_time": "2024-02-10T13:04:21.923Z"
   },
   {
    "duration": 21,
    "start_time": "2024-02-10T13:04:21.934Z"
   },
   {
    "duration": 11,
    "start_time": "2024-02-10T13:04:21.957Z"
   },
   {
    "duration": 3349,
    "start_time": "2024-02-10T13:04:21.970Z"
   },
   {
    "duration": 10,
    "start_time": "2024-02-10T13:04:25.320Z"
   },
   {
    "duration": 6,
    "start_time": "2024-02-10T13:04:25.332Z"
   },
   {
    "duration": 5,
    "start_time": "2024-02-10T13:04:25.340Z"
   },
   {
    "duration": 2,
    "start_time": "2024-02-10T13:04:25.347Z"
   },
   {
    "duration": 6,
    "start_time": "2024-02-10T13:04:25.350Z"
   },
   {
    "duration": 3,
    "start_time": "2024-02-10T13:04:25.357Z"
   },
   {
    "duration": 3,
    "start_time": "2024-02-10T13:04:25.362Z"
   },
   {
    "duration": 3,
    "start_time": "2024-02-10T13:04:25.366Z"
   },
   {
    "duration": 5,
    "start_time": "2024-02-10T13:04:25.370Z"
   },
   {
    "duration": 42,
    "start_time": "2024-02-10T13:04:25.377Z"
   },
   {
    "duration": 40228,
    "start_time": "2024-02-10T13:04:25.420Z"
   },
   {
    "duration": 28,
    "start_time": "2024-02-10T13:05:05.650Z"
   },
   {
    "duration": 8,
    "start_time": "2024-02-10T13:05:05.679Z"
   },
   {
    "duration": 28,
    "start_time": "2024-02-10T13:05:05.688Z"
   },
   {
    "duration": 12,
    "start_time": "2024-02-10T13:05:05.717Z"
   },
   {
    "duration": 22,
    "start_time": "2024-02-10T13:05:05.730Z"
   },
   {
    "duration": 21,
    "start_time": "2024-02-10T13:05:05.754Z"
   },
   {
    "duration": 35,
    "start_time": "2024-02-10T13:05:05.777Z"
   },
   {
    "duration": 18,
    "start_time": "2024-02-10T13:05:05.814Z"
   },
   {
    "duration": 24,
    "start_time": "2024-02-10T13:05:05.834Z"
   },
   {
    "duration": 4,
    "start_time": "2024-02-10T13:05:05.860Z"
   },
   {
    "duration": 27,
    "start_time": "2024-02-10T13:05:05.865Z"
   },
   {
    "duration": 29,
    "start_time": "2024-02-10T13:05:05.894Z"
   },
   {
    "duration": 32,
    "start_time": "2024-02-10T13:05:05.924Z"
   },
   {
    "duration": 82,
    "start_time": "2024-02-10T13:05:05.958Z"
   },
   {
    "duration": 6,
    "start_time": "2024-02-10T13:05:06.041Z"
   },
   {
    "duration": 10,
    "start_time": "2024-02-10T13:05:06.048Z"
   },
   {
    "duration": 43,
    "start_time": "2024-02-10T13:05:06.060Z"
   },
   {
    "duration": 4,
    "start_time": "2024-02-10T13:05:06.114Z"
   },
   {
    "duration": 978,
    "start_time": "2024-02-10T13:05:06.120Z"
   },
   {
    "duration": 587,
    "start_time": "2024-02-10T13:05:07.100Z"
   },
   {
    "duration": 7,
    "start_time": "2024-02-10T13:05:07.693Z"
   },
   {
    "duration": 13,
    "start_time": "2024-02-10T13:05:07.702Z"
   },
   {
    "duration": 18,
    "start_time": "2024-02-10T13:05:07.717Z"
   },
   {
    "duration": 8,
    "start_time": "2024-02-10T13:05:07.736Z"
   },
   {
    "duration": 108,
    "start_time": "2024-02-10T13:05:07.745Z"
   },
   {
    "duration": 136,
    "start_time": "2024-02-10T13:05:07.854Z"
   },
   {
    "duration": 162,
    "start_time": "2024-02-10T13:05:07.992Z"
   },
   {
    "duration": 14,
    "start_time": "2024-02-10T13:05:08.156Z"
   },
   {
    "duration": 12,
    "start_time": "2024-02-10T13:05:08.173Z"
   },
   {
    "duration": 8,
    "start_time": "2024-02-10T13:05:08.187Z"
   },
   {
    "duration": 9,
    "start_time": "2024-02-10T13:05:08.198Z"
   },
   {
    "duration": 4,
    "start_time": "2024-02-10T13:05:08.215Z"
   },
   {
    "duration": 10,
    "start_time": "2024-02-10T13:05:08.220Z"
   },
   {
    "duration": 16,
    "start_time": "2024-02-10T13:05:08.231Z"
   },
   {
    "duration": 129,
    "start_time": "2024-02-10T13:05:08.249Z"
   },
   {
    "duration": 132,
    "start_time": "2024-02-10T13:05:08.379Z"
   },
   {
    "duration": 127,
    "start_time": "2024-02-10T13:05:08.513Z"
   },
   {
    "duration": 7,
    "start_time": "2024-02-10T13:05:08.642Z"
   },
   {
    "duration": 301,
    "start_time": "2024-02-10T13:05:08.651Z"
   },
   {
    "duration": 0,
    "start_time": "2024-02-10T13:05:08.954Z"
   },
   {
    "duration": 90,
    "start_time": "2024-02-10T13:05:53.185Z"
   },
   {
    "duration": 11,
    "start_time": "2024-02-10T13:06:17.955Z"
   },
   {
    "duration": 14,
    "start_time": "2024-02-10T13:06:41.946Z"
   },
   {
    "duration": 116,
    "start_time": "2024-02-10T13:06:54.294Z"
   },
   {
    "duration": 223,
    "start_time": "2024-02-10T13:08:05.530Z"
   },
   {
    "duration": 124,
    "start_time": "2024-02-10T13:08:16.523Z"
   },
   {
    "duration": 95,
    "start_time": "2024-02-10T13:08:26.303Z"
   },
   {
    "duration": 11,
    "start_time": "2024-02-10T13:09:24.961Z"
   },
   {
    "duration": 13,
    "start_time": "2024-02-10T13:09:30.195Z"
   },
   {
    "duration": 20,
    "start_time": "2024-02-10T13:09:45.546Z"
   },
   {
    "duration": 257,
    "start_time": "2024-02-10T13:09:52.933Z"
   },
   {
    "duration": 119,
    "start_time": "2024-02-10T13:10:20.234Z"
   },
   {
    "duration": 94,
    "start_time": "2024-02-10T13:10:29.773Z"
   },
   {
    "duration": 133,
    "start_time": "2024-02-10T13:10:55.712Z"
   },
   {
    "duration": 202,
    "start_time": "2024-02-10T13:12:00.459Z"
   },
   {
    "duration": 255,
    "start_time": "2024-02-10T13:12:24.836Z"
   },
   {
    "duration": 276,
    "start_time": "2024-02-10T13:12:39.431Z"
   },
   {
    "duration": 307,
    "start_time": "2024-02-10T13:12:52.588Z"
   },
   {
    "duration": 267,
    "start_time": "2024-02-10T13:13:00.986Z"
   },
   {
    "duration": 1280,
    "start_time": "2024-02-10T13:15:14.771Z"
   },
   {
    "duration": 6,
    "start_time": "2024-02-10T13:15:38.935Z"
   },
   {
    "duration": 10,
    "start_time": "2024-02-10T13:15:48.413Z"
   },
   {
    "duration": 84,
    "start_time": "2024-02-10T13:21:45.361Z"
   },
   {
    "duration": 11,
    "start_time": "2024-02-10T13:21:48.492Z"
   },
   {
    "duration": 8,
    "start_time": "2024-02-10T13:21:59.244Z"
   },
   {
    "duration": 281,
    "start_time": "2024-02-10T13:22:33.422Z"
   },
   {
    "duration": 415,
    "start_time": "2024-02-10T13:22:40.333Z"
   },
   {
    "duration": 410,
    "start_time": "2024-02-10T13:23:29.775Z"
   },
   {
    "duration": 398,
    "start_time": "2024-02-10T13:24:01.534Z"
   },
   {
    "duration": 498,
    "start_time": "2024-02-10T13:24:44.074Z"
   },
   {
    "duration": 670,
    "start_time": "2024-02-10T13:24:52.463Z"
   },
   {
    "duration": 502,
    "start_time": "2024-02-10T13:24:56.453Z"
   },
   {
    "duration": 380,
    "start_time": "2024-02-10T13:25:03.614Z"
   },
   {
    "duration": 366,
    "start_time": "2024-02-10T13:25:19.250Z"
   },
   {
    "duration": 632,
    "start_time": "2024-02-10T13:26:19.588Z"
   },
   {
    "duration": 85,
    "start_time": "2024-02-10T13:29:44.118Z"
   },
   {
    "duration": 10,
    "start_time": "2024-02-10T13:29:51.116Z"
   },
   {
    "duration": 5,
    "start_time": "2024-02-10T13:35:33.958Z"
   },
   {
    "duration": 5174,
    "start_time": "2024-02-10T13:36:00.207Z"
   },
   {
    "duration": 52,
    "start_time": "2024-02-10T13:36:05.383Z"
   },
   {
    "duration": 28,
    "start_time": "2024-02-10T13:36:05.436Z"
   },
   {
    "duration": 26,
    "start_time": "2024-02-10T13:36:05.466Z"
   },
   {
    "duration": 36,
    "start_time": "2024-02-10T13:36:05.493Z"
   },
   {
    "duration": 9,
    "start_time": "2024-02-10T13:36:05.530Z"
   },
   {
    "duration": 8,
    "start_time": "2024-02-10T13:36:05.541Z"
   },
   {
    "duration": 13,
    "start_time": "2024-02-10T13:36:05.550Z"
   },
   {
    "duration": 5,
    "start_time": "2024-02-10T13:36:05.564Z"
   },
   {
    "duration": 5,
    "start_time": "2024-02-10T13:36:05.572Z"
   },
   {
    "duration": 7,
    "start_time": "2024-02-10T13:36:05.578Z"
   },
   {
    "duration": 29,
    "start_time": "2024-02-10T13:36:05.586Z"
   },
   {
    "duration": 5,
    "start_time": "2024-02-10T13:36:05.616Z"
   },
   {
    "duration": 20,
    "start_time": "2024-02-10T13:36:05.623Z"
   },
   {
    "duration": 6,
    "start_time": "2024-02-10T13:36:05.645Z"
   },
   {
    "duration": 18,
    "start_time": "2024-02-10T13:36:05.652Z"
   },
   {
    "duration": 6,
    "start_time": "2024-02-10T13:36:05.671Z"
   },
   {
    "duration": 22,
    "start_time": "2024-02-10T13:36:05.678Z"
   },
   {
    "duration": 237,
    "start_time": "2024-02-10T13:36:05.702Z"
   },
   {
    "duration": 149,
    "start_time": "2024-02-10T13:36:05.940Z"
   },
   {
    "duration": 1211,
    "start_time": "2024-02-10T13:36:06.091Z"
   },
   {
    "duration": 35,
    "start_time": "2024-02-10T13:36:07.304Z"
   },
   {
    "duration": 5,
    "start_time": "2024-02-10T13:36:07.340Z"
   },
   {
    "duration": 814,
    "start_time": "2024-02-10T13:36:07.347Z"
   },
   {
    "duration": 8,
    "start_time": "2024-02-10T13:36:08.162Z"
   },
   {
    "duration": 8,
    "start_time": "2024-02-10T13:36:08.172Z"
   },
   {
    "duration": 6,
    "start_time": "2024-02-10T13:36:08.181Z"
   },
   {
    "duration": 6,
    "start_time": "2024-02-10T13:36:08.214Z"
   },
   {
    "duration": 8,
    "start_time": "2024-02-10T13:36:08.221Z"
   },
   {
    "duration": 138,
    "start_time": "2024-02-10T13:36:08.230Z"
   },
   {
    "duration": 6,
    "start_time": "2024-02-10T13:36:08.370Z"
   },
   {
    "duration": 301,
    "start_time": "2024-02-10T13:36:08.377Z"
   },
   {
    "duration": 530,
    "start_time": "2024-02-10T13:36:08.680Z"
   },
   {
    "duration": 75,
    "start_time": "2024-02-10T13:36:09.212Z"
   },
   {
    "duration": 0,
    "start_time": "2024-02-10T13:36:09.289Z"
   },
   {
    "duration": 0,
    "start_time": "2024-02-10T13:36:09.291Z"
   },
   {
    "duration": 0,
    "start_time": "2024-02-10T13:36:09.292Z"
   },
   {
    "duration": 0,
    "start_time": "2024-02-10T13:36:09.294Z"
   },
   {
    "duration": 0,
    "start_time": "2024-02-10T13:36:09.295Z"
   },
   {
    "duration": 0,
    "start_time": "2024-02-10T13:36:09.296Z"
   },
   {
    "duration": 0,
    "start_time": "2024-02-10T13:36:09.298Z"
   },
   {
    "duration": 0,
    "start_time": "2024-02-10T13:36:09.299Z"
   },
   {
    "duration": 1,
    "start_time": "2024-02-10T13:36:09.300Z"
   },
   {
    "duration": 0,
    "start_time": "2024-02-10T13:36:09.302Z"
   },
   {
    "duration": 0,
    "start_time": "2024-02-10T13:36:09.303Z"
   },
   {
    "duration": 0,
    "start_time": "2024-02-10T13:36:09.304Z"
   },
   {
    "duration": 0,
    "start_time": "2024-02-10T13:36:09.306Z"
   },
   {
    "duration": 0,
    "start_time": "2024-02-10T13:36:09.307Z"
   },
   {
    "duration": 0,
    "start_time": "2024-02-10T13:36:09.309Z"
   },
   {
    "duration": 0,
    "start_time": "2024-02-10T13:36:09.310Z"
   },
   {
    "duration": 0,
    "start_time": "2024-02-10T13:36:09.312Z"
   },
   {
    "duration": 0,
    "start_time": "2024-02-10T13:36:09.314Z"
   },
   {
    "duration": 0,
    "start_time": "2024-02-10T13:36:09.315Z"
   },
   {
    "duration": 0,
    "start_time": "2024-02-10T13:36:09.316Z"
   },
   {
    "duration": 0,
    "start_time": "2024-02-10T13:36:09.318Z"
   },
   {
    "duration": 0,
    "start_time": "2024-02-10T13:36:09.319Z"
   },
   {
    "duration": 0,
    "start_time": "2024-02-10T13:36:09.320Z"
   },
   {
    "duration": 0,
    "start_time": "2024-02-10T13:36:09.322Z"
   },
   {
    "duration": 0,
    "start_time": "2024-02-10T13:36:09.323Z"
   },
   {
    "duration": 0,
    "start_time": "2024-02-10T13:36:09.324Z"
   },
   {
    "duration": 0,
    "start_time": "2024-02-10T13:36:09.326Z"
   },
   {
    "duration": 0,
    "start_time": "2024-02-10T13:36:09.327Z"
   },
   {
    "duration": 0,
    "start_time": "2024-02-10T13:36:09.328Z"
   },
   {
    "duration": 0,
    "start_time": "2024-02-10T13:36:09.329Z"
   },
   {
    "duration": 0,
    "start_time": "2024-02-10T13:36:09.331Z"
   },
   {
    "duration": 0,
    "start_time": "2024-02-10T13:36:09.332Z"
   },
   {
    "duration": 0,
    "start_time": "2024-02-10T13:36:09.333Z"
   },
   {
    "duration": 0,
    "start_time": "2024-02-10T13:36:09.334Z"
   },
   {
    "duration": 0,
    "start_time": "2024-02-10T13:36:09.335Z"
   },
   {
    "duration": 0,
    "start_time": "2024-02-10T13:36:09.336Z"
   },
   {
    "duration": 0,
    "start_time": "2024-02-10T13:36:09.337Z"
   },
   {
    "duration": 0,
    "start_time": "2024-02-10T13:36:09.338Z"
   },
   {
    "duration": 0,
    "start_time": "2024-02-10T13:36:09.339Z"
   },
   {
    "duration": 0,
    "start_time": "2024-02-10T13:36:09.340Z"
   },
   {
    "duration": 1,
    "start_time": "2024-02-10T13:36:09.341Z"
   },
   {
    "duration": 0,
    "start_time": "2024-02-10T13:36:09.342Z"
   },
   {
    "duration": 0,
    "start_time": "2024-02-10T13:36:09.344Z"
   },
   {
    "duration": 0,
    "start_time": "2024-02-10T13:36:09.345Z"
   },
   {
    "duration": 0,
    "start_time": "2024-02-10T13:36:09.346Z"
   },
   {
    "duration": 0,
    "start_time": "2024-02-10T13:36:09.347Z"
   },
   {
    "duration": 0,
    "start_time": "2024-02-10T13:36:09.348Z"
   },
   {
    "duration": 0,
    "start_time": "2024-02-10T13:36:09.349Z"
   },
   {
    "duration": 0,
    "start_time": "2024-02-10T13:36:09.350Z"
   },
   {
    "duration": 0,
    "start_time": "2024-02-10T13:36:09.351Z"
   },
   {
    "duration": 0,
    "start_time": "2024-02-10T13:36:09.351Z"
   },
   {
    "duration": 0,
    "start_time": "2024-02-10T13:36:09.353Z"
   },
   {
    "duration": 0,
    "start_time": "2024-02-10T13:36:09.353Z"
   },
   {
    "duration": 0,
    "start_time": "2024-02-10T13:36:09.355Z"
   },
   {
    "duration": 0,
    "start_time": "2024-02-10T13:36:09.356Z"
   },
   {
    "duration": 0,
    "start_time": "2024-02-10T13:36:09.415Z"
   },
   {
    "duration": 0,
    "start_time": "2024-02-10T13:36:09.416Z"
   },
   {
    "duration": 0,
    "start_time": "2024-02-10T13:36:09.417Z"
   },
   {
    "duration": 0,
    "start_time": "2024-02-10T13:36:09.418Z"
   },
   {
    "duration": 0,
    "start_time": "2024-02-10T13:36:09.419Z"
   },
   {
    "duration": 0,
    "start_time": "2024-02-10T13:36:09.420Z"
   },
   {
    "duration": 0,
    "start_time": "2024-02-10T13:36:09.421Z"
   },
   {
    "duration": 0,
    "start_time": "2024-02-10T13:36:09.422Z"
   },
   {
    "duration": 0,
    "start_time": "2024-02-10T13:36:09.423Z"
   },
   {
    "duration": 0,
    "start_time": "2024-02-10T13:36:09.424Z"
   },
   {
    "duration": 0,
    "start_time": "2024-02-10T13:36:09.425Z"
   },
   {
    "duration": 0,
    "start_time": "2024-02-10T13:36:09.426Z"
   },
   {
    "duration": 0,
    "start_time": "2024-02-10T13:36:09.426Z"
   },
   {
    "duration": 0,
    "start_time": "2024-02-10T13:36:09.427Z"
   },
   {
    "duration": 0,
    "start_time": "2024-02-10T13:36:09.429Z"
   },
   {
    "duration": 1,
    "start_time": "2024-02-10T13:36:09.429Z"
   },
   {
    "duration": 10,
    "start_time": "2024-02-10T13:36:39.332Z"
   },
   {
    "duration": 5,
    "start_time": "2024-02-10T13:36:41.303Z"
   },
   {
    "duration": 406,
    "start_time": "2024-02-10T13:36:45.473Z"
   },
   {
    "duration": 483,
    "start_time": "2024-02-10T13:37:09.191Z"
   },
   {
    "duration": 4667,
    "start_time": "2024-02-10T13:37:26.890Z"
   },
   {
    "duration": 52,
    "start_time": "2024-02-10T13:37:31.559Z"
   },
   {
    "duration": 30,
    "start_time": "2024-02-10T13:37:31.614Z"
   },
   {
    "duration": 27,
    "start_time": "2024-02-10T13:37:31.646Z"
   },
   {
    "duration": 35,
    "start_time": "2024-02-10T13:37:31.675Z"
   },
   {
    "duration": 8,
    "start_time": "2024-02-10T13:37:31.712Z"
   },
   {
    "duration": 30,
    "start_time": "2024-02-10T13:37:31.721Z"
   },
   {
    "duration": 29,
    "start_time": "2024-02-10T13:37:31.752Z"
   },
   {
    "duration": 21,
    "start_time": "2024-02-10T13:37:31.783Z"
   },
   {
    "duration": 21,
    "start_time": "2024-02-10T13:37:31.806Z"
   },
   {
    "duration": 18,
    "start_time": "2024-02-10T13:37:31.829Z"
   },
   {
    "duration": 32,
    "start_time": "2024-02-10T13:37:31.848Z"
   },
   {
    "duration": 18,
    "start_time": "2024-02-10T13:37:31.882Z"
   },
   {
    "duration": 20,
    "start_time": "2024-02-10T13:37:31.901Z"
   },
   {
    "duration": 10,
    "start_time": "2024-02-10T13:37:31.923Z"
   },
   {
    "duration": 28,
    "start_time": "2024-02-10T13:37:31.935Z"
   },
   {
    "duration": 31,
    "start_time": "2024-02-10T13:37:31.964Z"
   },
   {
    "duration": 15,
    "start_time": "2024-02-10T13:37:31.996Z"
   },
   {
    "duration": 234,
    "start_time": "2024-02-10T13:37:32.013Z"
   },
   {
    "duration": 153,
    "start_time": "2024-02-10T13:37:32.248Z"
   },
   {
    "duration": 1161,
    "start_time": "2024-02-10T13:37:32.403Z"
   },
   {
    "duration": 31,
    "start_time": "2024-02-10T13:37:33.565Z"
   },
   {
    "duration": 25,
    "start_time": "2024-02-10T13:37:33.597Z"
   },
   {
    "duration": 808,
    "start_time": "2024-02-10T13:37:33.624Z"
   },
   {
    "duration": 6,
    "start_time": "2024-02-10T13:37:34.434Z"
   },
   {
    "duration": 8,
    "start_time": "2024-02-10T13:37:34.442Z"
   },
   {
    "duration": 12,
    "start_time": "2024-02-10T13:37:34.454Z"
   },
   {
    "duration": 21,
    "start_time": "2024-02-10T13:37:34.467Z"
   },
   {
    "duration": 17,
    "start_time": "2024-02-10T13:37:34.489Z"
   },
   {
    "duration": 132,
    "start_time": "2024-02-10T13:37:34.507Z"
   },
   {
    "duration": 6,
    "start_time": "2024-02-10T13:37:34.640Z"
   },
   {
    "duration": 301,
    "start_time": "2024-02-10T13:37:34.647Z"
   },
   {
    "duration": 529,
    "start_time": "2024-02-10T13:37:34.950Z"
   },
   {
    "duration": 10,
    "start_time": "2024-02-10T13:37:35.480Z"
   },
   {
    "duration": 5,
    "start_time": "2024-02-10T13:37:35.491Z"
   },
   {
    "duration": 22,
    "start_time": "2024-02-10T13:37:35.497Z"
   },
   {
    "duration": 6,
    "start_time": "2024-02-10T13:37:35.521Z"
   },
   {
    "duration": 175,
    "start_time": "2024-02-10T13:37:35.528Z"
   },
   {
    "duration": 12,
    "start_time": "2024-02-10T13:37:35.704Z"
   },
   {
    "duration": 7,
    "start_time": "2024-02-10T13:37:35.718Z"
   },
   {
    "duration": 308,
    "start_time": "2024-02-10T13:37:35.727Z"
   },
   {
    "duration": 21,
    "start_time": "2024-02-10T13:37:36.036Z"
   },
   {
    "duration": 6,
    "start_time": "2024-02-10T13:37:36.058Z"
   },
   {
    "duration": 9,
    "start_time": "2024-02-10T13:37:36.065Z"
   },
   {
    "duration": 9,
    "start_time": "2024-02-10T13:37:36.075Z"
   },
   {
    "duration": 6,
    "start_time": "2024-02-10T13:37:36.085Z"
   },
   {
    "duration": 23,
    "start_time": "2024-02-10T13:37:36.092Z"
   },
   {
    "duration": 9,
    "start_time": "2024-02-10T13:37:36.116Z"
   },
   {
    "duration": 16,
    "start_time": "2024-02-10T13:37:36.127Z"
   },
   {
    "duration": 7,
    "start_time": "2024-02-10T13:37:36.144Z"
   },
   {
    "duration": 7,
    "start_time": "2024-02-10T13:37:36.152Z"
   },
   {
    "duration": 14,
    "start_time": "2024-02-10T13:37:36.160Z"
   },
   {
    "duration": 40,
    "start_time": "2024-02-10T13:37:36.176Z"
   },
   {
    "duration": 3350,
    "start_time": "2024-02-10T13:37:36.217Z"
   },
   {
    "duration": 13,
    "start_time": "2024-02-10T13:37:39.569Z"
   },
   {
    "duration": 9,
    "start_time": "2024-02-10T13:37:39.583Z"
   },
   {
    "duration": 22,
    "start_time": "2024-02-10T13:37:39.594Z"
   },
   {
    "duration": 2,
    "start_time": "2024-02-10T13:37:39.617Z"
   },
   {
    "duration": 6,
    "start_time": "2024-02-10T13:37:39.621Z"
   },
   {
    "duration": 4,
    "start_time": "2024-02-10T13:37:39.628Z"
   },
   {
    "duration": 4,
    "start_time": "2024-02-10T13:37:39.633Z"
   },
   {
    "duration": 8,
    "start_time": "2024-02-10T13:37:39.639Z"
   },
   {
    "duration": 9,
    "start_time": "2024-02-10T13:37:39.648Z"
   },
   {
    "duration": 12,
    "start_time": "2024-02-10T13:37:39.659Z"
   },
   {
    "duration": 49568,
    "start_time": "2024-02-10T13:37:39.673Z"
   },
   {
    "duration": 29,
    "start_time": "2024-02-10T13:38:29.243Z"
   },
   {
    "duration": 5,
    "start_time": "2024-02-10T13:38:29.274Z"
   },
   {
    "duration": 12,
    "start_time": "2024-02-10T13:38:29.281Z"
   },
   {
    "duration": 5,
    "start_time": "2024-02-10T13:38:29.315Z"
   },
   {
    "duration": 7,
    "start_time": "2024-02-10T13:38:29.322Z"
   },
   {
    "duration": 5,
    "start_time": "2024-02-10T13:38:29.330Z"
   },
   {
    "duration": 17,
    "start_time": "2024-02-10T13:38:29.336Z"
   },
   {
    "duration": 15,
    "start_time": "2024-02-10T13:38:29.354Z"
   },
   {
    "duration": 46,
    "start_time": "2024-02-10T13:38:29.371Z"
   },
   {
    "duration": 4,
    "start_time": "2024-02-10T13:38:29.418Z"
   },
   {
    "duration": 4,
    "start_time": "2024-02-10T13:38:29.424Z"
   },
   {
    "duration": 18,
    "start_time": "2024-02-10T13:38:29.429Z"
   },
   {
    "duration": 25,
    "start_time": "2024-02-10T13:38:29.448Z"
   },
   {
    "duration": 101,
    "start_time": "2024-02-10T13:38:29.474Z"
   },
   {
    "duration": 6,
    "start_time": "2024-02-10T13:38:29.577Z"
   },
   {
    "duration": 3,
    "start_time": "2024-02-10T13:38:29.588Z"
   },
   {
    "duration": 52,
    "start_time": "2024-02-10T13:38:29.592Z"
   },
   {
    "duration": 3,
    "start_time": "2024-02-10T13:38:29.646Z"
   },
   {
    "duration": 918,
    "start_time": "2024-02-10T13:38:29.650Z"
   },
   {
    "duration": 612,
    "start_time": "2024-02-10T13:38:30.570Z"
   },
   {
    "duration": 8,
    "start_time": "2024-02-10T13:38:31.183Z"
   },
   {
    "duration": 13,
    "start_time": "2024-02-10T13:38:31.192Z"
   },
   {
    "duration": 23,
    "start_time": "2024-02-10T13:38:31.206Z"
   },
   {
    "duration": 26,
    "start_time": "2024-02-10T13:38:31.231Z"
   },
   {
    "duration": 101,
    "start_time": "2024-02-10T13:38:31.258Z"
   },
   {
    "duration": 145,
    "start_time": "2024-02-10T13:38:31.361Z"
   },
   {
    "duration": 143,
    "start_time": "2024-02-10T13:38:31.507Z"
   },
   {
    "duration": 9,
    "start_time": "2024-02-10T13:38:31.651Z"
   },
   {
    "duration": 48,
    "start_time": "2024-02-10T13:38:31.661Z"
   },
   {
    "duration": 30,
    "start_time": "2024-02-10T13:38:31.711Z"
   },
   {
    "duration": 32,
    "start_time": "2024-02-10T13:38:31.743Z"
   },
   {
    "duration": 40,
    "start_time": "2024-02-10T13:38:31.777Z"
   },
   {
    "duration": 21,
    "start_time": "2024-02-10T13:38:31.819Z"
   },
   {
    "duration": 18,
    "start_time": "2024-02-10T13:38:31.842Z"
   },
   {
    "duration": 126,
    "start_time": "2024-02-10T13:38:31.862Z"
   },
   {
    "duration": 238,
    "start_time": "2024-02-10T13:38:31.989Z"
   },
   {
    "duration": 125,
    "start_time": "2024-02-10T13:38:32.229Z"
   },
   {
    "duration": 7,
    "start_time": "2024-02-10T13:38:32.356Z"
   },
   {
    "duration": 277,
    "start_time": "2024-02-10T13:38:32.365Z"
   },
   {
    "duration": 5,
    "start_time": "2024-02-10T13:39:03.121Z"
   },
   {
    "duration": 4743,
    "start_time": "2024-02-10T13:39:07.828Z"
   },
   {
    "duration": 52,
    "start_time": "2024-02-10T13:39:12.573Z"
   },
   {
    "duration": 28,
    "start_time": "2024-02-10T13:39:12.627Z"
   },
   {
    "duration": 27,
    "start_time": "2024-02-10T13:39:12.657Z"
   },
   {
    "duration": 37,
    "start_time": "2024-02-10T13:39:12.686Z"
   },
   {
    "duration": 11,
    "start_time": "2024-02-10T13:39:12.724Z"
   },
   {
    "duration": 6,
    "start_time": "2024-02-10T13:39:12.736Z"
   },
   {
    "duration": 6,
    "start_time": "2024-02-10T13:39:12.743Z"
   },
   {
    "duration": 5,
    "start_time": "2024-02-10T13:39:12.751Z"
   },
   {
    "duration": 5,
    "start_time": "2024-02-10T13:39:12.758Z"
   },
   {
    "duration": 6,
    "start_time": "2024-02-10T13:39:12.764Z"
   },
   {
    "duration": 8,
    "start_time": "2024-02-10T13:39:12.771Z"
   },
   {
    "duration": 39,
    "start_time": "2024-02-10T13:39:12.780Z"
   },
   {
    "duration": 6,
    "start_time": "2024-02-10T13:39:12.820Z"
   },
   {
    "duration": 6,
    "start_time": "2024-02-10T13:39:12.828Z"
   },
   {
    "duration": 8,
    "start_time": "2024-02-10T13:39:12.835Z"
   },
   {
    "duration": 4,
    "start_time": "2024-02-10T13:39:12.844Z"
   },
   {
    "duration": 11,
    "start_time": "2024-02-10T13:39:12.849Z"
   },
   {
    "duration": 271,
    "start_time": "2024-02-10T13:39:12.862Z"
   },
   {
    "duration": 159,
    "start_time": "2024-02-10T13:39:13.135Z"
   },
   {
    "duration": 1175,
    "start_time": "2024-02-10T13:39:13.295Z"
   },
   {
    "duration": 33,
    "start_time": "2024-02-10T13:39:14.471Z"
   },
   {
    "duration": 6,
    "start_time": "2024-02-10T13:39:14.514Z"
   },
   {
    "duration": 798,
    "start_time": "2024-02-10T13:39:14.521Z"
   },
   {
    "duration": 7,
    "start_time": "2024-02-10T13:39:15.320Z"
   },
   {
    "duration": 7,
    "start_time": "2024-02-10T13:39:15.328Z"
   },
   {
    "duration": 6,
    "start_time": "2024-02-10T13:39:15.337Z"
   },
   {
    "duration": 11,
    "start_time": "2024-02-10T13:39:15.347Z"
   },
   {
    "duration": 15,
    "start_time": "2024-02-10T13:39:15.360Z"
   },
   {
    "duration": 151,
    "start_time": "2024-02-10T13:39:15.377Z"
   },
   {
    "duration": 6,
    "start_time": "2024-02-10T13:39:15.530Z"
   },
   {
    "duration": 285,
    "start_time": "2024-02-10T13:39:15.538Z"
   },
   {
    "duration": 510,
    "start_time": "2024-02-10T13:39:15.825Z"
   },
   {
    "duration": 9,
    "start_time": "2024-02-10T13:39:16.337Z"
   },
   {
    "duration": 6,
    "start_time": "2024-02-10T13:39:16.347Z"
   },
   {
    "duration": 8,
    "start_time": "2024-02-10T13:39:16.354Z"
   },
   {
    "duration": 6,
    "start_time": "2024-02-10T13:39:16.363Z"
   },
   {
    "duration": 189,
    "start_time": "2024-02-10T13:39:16.371Z"
   },
   {
    "duration": 8,
    "start_time": "2024-02-10T13:39:16.561Z"
   },
   {
    "duration": 8,
    "start_time": "2024-02-10T13:39:16.571Z"
   },
   {
    "duration": 314,
    "start_time": "2024-02-10T13:39:16.581Z"
   },
   {
    "duration": 28,
    "start_time": "2024-02-10T13:39:16.897Z"
   },
   {
    "duration": 7,
    "start_time": "2024-02-10T13:39:16.926Z"
   },
   {
    "duration": 9,
    "start_time": "2024-02-10T13:39:16.934Z"
   },
   {
    "duration": 3,
    "start_time": "2024-02-10T13:39:16.945Z"
   },
   {
    "duration": 4,
    "start_time": "2024-02-10T13:39:16.949Z"
   },
   {
    "duration": 4,
    "start_time": "2024-02-10T13:39:16.954Z"
   },
   {
    "duration": 16,
    "start_time": "2024-02-10T13:39:16.959Z"
   },
   {
    "duration": 38,
    "start_time": "2024-02-10T13:39:16.977Z"
   },
   {
    "duration": 7,
    "start_time": "2024-02-10T13:39:17.017Z"
   },
   {
    "duration": 6,
    "start_time": "2024-02-10T13:39:17.025Z"
   },
   {
    "duration": 14,
    "start_time": "2024-02-10T13:39:17.033Z"
   },
   {
    "duration": 12,
    "start_time": "2024-02-10T13:39:17.049Z"
   },
   {
    "duration": 3333,
    "start_time": "2024-02-10T13:39:17.062Z"
   },
   {
    "duration": 11,
    "start_time": "2024-02-10T13:39:20.396Z"
   },
   {
    "duration": 8,
    "start_time": "2024-02-10T13:39:20.409Z"
   },
   {
    "duration": 6,
    "start_time": "2024-02-10T13:39:20.418Z"
   },
   {
    "duration": 2,
    "start_time": "2024-02-10T13:39:20.426Z"
   },
   {
    "duration": 6,
    "start_time": "2024-02-10T13:39:20.429Z"
   },
   {
    "duration": 11,
    "start_time": "2024-02-10T13:39:20.436Z"
   },
   {
    "duration": 5,
    "start_time": "2024-02-10T13:39:20.448Z"
   },
   {
    "duration": 10,
    "start_time": "2024-02-10T13:39:20.454Z"
   },
   {
    "duration": 14,
    "start_time": "2024-02-10T13:39:20.465Z"
   },
   {
    "duration": 6,
    "start_time": "2024-02-10T13:39:20.480Z"
   },
   {
    "duration": 49534,
    "start_time": "2024-02-10T13:39:20.488Z"
   },
   {
    "duration": 30,
    "start_time": "2024-02-10T13:40:10.024Z"
   },
   {
    "duration": 12,
    "start_time": "2024-02-10T13:40:10.055Z"
   },
   {
    "duration": 11,
    "start_time": "2024-02-10T13:40:10.068Z"
   },
   {
    "duration": 5,
    "start_time": "2024-02-10T13:40:10.081Z"
   },
   {
    "duration": 11,
    "start_time": "2024-02-10T13:40:10.087Z"
   },
   {
    "duration": 14,
    "start_time": "2024-02-10T13:40:10.115Z"
   },
   {
    "duration": 19,
    "start_time": "2024-02-10T13:40:10.131Z"
   },
   {
    "duration": 15,
    "start_time": "2024-02-10T13:40:10.152Z"
   },
   {
    "duration": 17,
    "start_time": "2024-02-10T13:40:10.169Z"
   },
   {
    "duration": 4,
    "start_time": "2024-02-10T13:40:10.187Z"
   },
   {
    "duration": 21,
    "start_time": "2024-02-10T13:40:10.193Z"
   },
   {
    "duration": 17,
    "start_time": "2024-02-10T13:40:10.216Z"
   },
   {
    "duration": 36,
    "start_time": "2024-02-10T13:40:10.234Z"
   },
   {
    "duration": 81,
    "start_time": "2024-02-10T13:40:10.272Z"
   },
   {
    "duration": 6,
    "start_time": "2024-02-10T13:40:10.354Z"
   },
   {
    "duration": 3,
    "start_time": "2024-02-10T13:40:10.362Z"
   },
   {
    "duration": 63,
    "start_time": "2024-02-10T13:40:10.370Z"
   },
   {
    "duration": 4,
    "start_time": "2024-02-10T13:40:10.434Z"
   },
   {
    "duration": 899,
    "start_time": "2024-02-10T13:40:10.439Z"
   },
   {
    "duration": 569,
    "start_time": "2024-02-10T13:40:11.339Z"
   },
   {
    "duration": 9,
    "start_time": "2024-02-10T13:40:11.910Z"
   },
   {
    "duration": 15,
    "start_time": "2024-02-10T13:40:11.920Z"
   },
   {
    "duration": 18,
    "start_time": "2024-02-10T13:40:11.936Z"
   },
   {
    "duration": 8,
    "start_time": "2024-02-10T13:40:11.955Z"
   },
   {
    "duration": 107,
    "start_time": "2024-02-10T13:40:11.965Z"
   },
   {
    "duration": 145,
    "start_time": "2024-02-10T13:40:12.073Z"
   },
   {
    "duration": 140,
    "start_time": "2024-02-10T13:40:12.219Z"
   },
   {
    "duration": 10,
    "start_time": "2024-02-10T13:40:12.360Z"
   },
   {
    "duration": 6,
    "start_time": "2024-02-10T13:40:12.371Z"
   },
   {
    "duration": 4,
    "start_time": "2024-02-10T13:40:12.378Z"
   },
   {
    "duration": 8,
    "start_time": "2024-02-10T13:40:12.384Z"
   },
   {
    "duration": 21,
    "start_time": "2024-02-10T13:40:12.394Z"
   },
   {
    "duration": 8,
    "start_time": "2024-02-10T13:40:12.416Z"
   },
   {
    "duration": 4,
    "start_time": "2024-02-10T13:40:12.425Z"
   },
   {
    "duration": 124,
    "start_time": "2024-02-10T13:40:12.430Z"
   },
   {
    "duration": 231,
    "start_time": "2024-02-10T13:40:12.555Z"
   },
   {
    "duration": 141,
    "start_time": "2024-02-10T13:40:12.788Z"
   },
   {
    "duration": 7,
    "start_time": "2024-02-10T13:40:12.930Z"
   },
   {
    "duration": 260,
    "start_time": "2024-02-10T13:40:12.938Z"
   },
   {
    "duration": 11,
    "start_time": "2024-02-10T13:42:52.139Z"
   },
   {
    "duration": 17914,
    "start_time": "2024-02-10T13:46:25.060Z"
   },
   {
    "duration": 4849,
    "start_time": "2024-02-10T13:46:55.054Z"
   },
   {
    "duration": 50,
    "start_time": "2024-02-10T13:46:59.905Z"
   },
   {
    "duration": 28,
    "start_time": "2024-02-10T13:46:59.956Z"
   },
   {
    "duration": 28,
    "start_time": "2024-02-10T13:46:59.986Z"
   },
   {
    "duration": 40,
    "start_time": "2024-02-10T13:47:00.016Z"
   },
   {
    "duration": 14,
    "start_time": "2024-02-10T13:47:00.057Z"
   },
   {
    "duration": 64,
    "start_time": "2024-02-10T13:47:00.073Z"
   },
   {
    "duration": 32,
    "start_time": "2024-02-10T13:47:00.138Z"
   },
   {
    "duration": 47,
    "start_time": "2024-02-10T13:47:00.172Z"
   },
   {
    "duration": 52,
    "start_time": "2024-02-10T13:47:00.221Z"
   },
   {
    "duration": 47,
    "start_time": "2024-02-10T13:47:00.275Z"
   },
   {
    "duration": 26,
    "start_time": "2024-02-10T13:47:00.324Z"
   },
   {
    "duration": 24,
    "start_time": "2024-02-10T13:47:00.351Z"
   },
   {
    "duration": 52,
    "start_time": "2024-02-10T13:47:00.377Z"
   },
   {
    "duration": 32,
    "start_time": "2024-02-10T13:47:00.430Z"
   },
   {
    "duration": 35,
    "start_time": "2024-02-10T13:47:00.463Z"
   },
   {
    "duration": 41,
    "start_time": "2024-02-10T13:47:00.500Z"
   },
   {
    "duration": 39,
    "start_time": "2024-02-10T13:47:00.543Z"
   },
   {
    "duration": 242,
    "start_time": "2024-02-10T13:47:00.584Z"
   },
   {
    "duration": 147,
    "start_time": "2024-02-10T13:47:00.828Z"
   },
   {
    "duration": 1173,
    "start_time": "2024-02-10T13:47:00.977Z"
   },
   {
    "duration": 31,
    "start_time": "2024-02-10T13:47:02.152Z"
   },
   {
    "duration": 5,
    "start_time": "2024-02-10T13:47:02.185Z"
   },
   {
    "duration": 818,
    "start_time": "2024-02-10T13:47:02.191Z"
   },
   {
    "duration": 8,
    "start_time": "2024-02-10T13:47:03.010Z"
   },
   {
    "duration": 8,
    "start_time": "2024-02-10T13:47:03.020Z"
   },
   {
    "duration": 7,
    "start_time": "2024-02-10T13:47:03.030Z"
   },
   {
    "duration": 6,
    "start_time": "2024-02-10T13:47:03.041Z"
   },
   {
    "duration": 7,
    "start_time": "2024-02-10T13:47:03.048Z"
   },
   {
    "duration": 155,
    "start_time": "2024-02-10T13:47:03.057Z"
   },
   {
    "duration": 6,
    "start_time": "2024-02-10T13:47:03.215Z"
   },
   {
    "duration": 283,
    "start_time": "2024-02-10T13:47:03.222Z"
   },
   {
    "duration": 546,
    "start_time": "2024-02-10T13:47:03.507Z"
   },
   {
    "duration": 10,
    "start_time": "2024-02-10T13:47:04.054Z"
   },
   {
    "duration": 6,
    "start_time": "2024-02-10T13:47:04.066Z"
   },
   {
    "duration": 7,
    "start_time": "2024-02-10T13:47:04.073Z"
   },
   {
    "duration": 6,
    "start_time": "2024-02-10T13:47:04.082Z"
   },
   {
    "duration": 192,
    "start_time": "2024-02-10T13:47:04.089Z"
   },
   {
    "duration": 7,
    "start_time": "2024-02-10T13:47:04.283Z"
   },
   {
    "duration": 23,
    "start_time": "2024-02-10T13:47:04.292Z"
   },
   {
    "duration": 273,
    "start_time": "2024-02-10T13:47:04.317Z"
   },
   {
    "duration": 25,
    "start_time": "2024-02-10T13:47:04.592Z"
   },
   {
    "duration": 6,
    "start_time": "2024-02-10T13:47:04.619Z"
   },
   {
    "duration": 8,
    "start_time": "2024-02-10T13:47:04.627Z"
   },
   {
    "duration": 2,
    "start_time": "2024-02-10T13:47:04.637Z"
   },
   {
    "duration": 4,
    "start_time": "2024-02-10T13:47:04.640Z"
   },
   {
    "duration": 4,
    "start_time": "2024-02-10T13:47:04.646Z"
   },
   {
    "duration": 8,
    "start_time": "2024-02-10T13:47:04.651Z"
   },
   {
    "duration": 12,
    "start_time": "2024-02-10T13:47:04.660Z"
   },
   {
    "duration": 45,
    "start_time": "2024-02-10T13:47:04.674Z"
   },
   {
    "duration": 8,
    "start_time": "2024-02-10T13:47:04.720Z"
   },
   {
    "duration": 19,
    "start_time": "2024-02-10T13:47:04.729Z"
   },
   {
    "duration": 11,
    "start_time": "2024-02-10T13:47:04.750Z"
   },
   {
    "duration": 11,
    "start_time": "2024-02-10T13:47:04.763Z"
   },
   {
    "duration": 3780,
    "start_time": "2024-02-10T13:47:04.775Z"
   },
   {
    "duration": 15,
    "start_time": "2024-02-10T13:47:08.557Z"
   },
   {
    "duration": 8,
    "start_time": "2024-02-10T13:47:08.573Z"
   },
   {
    "duration": 7,
    "start_time": "2024-02-10T13:47:08.583Z"
   },
   {
    "duration": 3,
    "start_time": "2024-02-10T13:47:08.591Z"
   },
   {
    "duration": 7,
    "start_time": "2024-02-10T13:47:08.614Z"
   },
   {
    "duration": 5,
    "start_time": "2024-02-10T13:47:08.622Z"
   },
   {
    "duration": 6,
    "start_time": "2024-02-10T13:47:08.628Z"
   },
   {
    "duration": 12,
    "start_time": "2024-02-10T13:47:08.636Z"
   },
   {
    "duration": 5,
    "start_time": "2024-02-10T13:47:08.649Z"
   },
   {
    "duration": 6,
    "start_time": "2024-02-10T13:47:08.655Z"
   },
   {
    "duration": 49104,
    "start_time": "2024-02-10T13:47:08.662Z"
   },
   {
    "duration": 28,
    "start_time": "2024-02-10T13:47:57.768Z"
   },
   {
    "duration": 18,
    "start_time": "2024-02-10T13:47:57.798Z"
   },
   {
    "duration": 11,
    "start_time": "2024-02-10T13:47:57.817Z"
   },
   {
    "duration": 5,
    "start_time": "2024-02-10T13:47:57.829Z"
   },
   {
    "duration": 7,
    "start_time": "2024-02-10T13:47:57.836Z"
   },
   {
    "duration": 6,
    "start_time": "2024-02-10T13:47:57.845Z"
   },
   {
    "duration": 18,
    "start_time": "2024-02-10T13:47:57.852Z"
   },
   {
    "duration": 46,
    "start_time": "2024-02-10T13:47:57.871Z"
   },
   {
    "duration": 18,
    "start_time": "2024-02-10T13:47:57.918Z"
   },
   {
    "duration": 4,
    "start_time": "2024-02-10T13:47:57.937Z"
   },
   {
    "duration": 4,
    "start_time": "2024-02-10T13:47:57.942Z"
   },
   {
    "duration": 17,
    "start_time": "2024-02-10T13:47:57.948Z"
   },
   {
    "duration": 50,
    "start_time": "2024-02-10T13:47:57.967Z"
   },
   {
    "duration": 80,
    "start_time": "2024-02-10T13:47:58.018Z"
   },
   {
    "duration": 20,
    "start_time": "2024-02-10T13:47:58.100Z"
   },
   {
    "duration": 8,
    "start_time": "2024-02-10T13:47:58.127Z"
   },
   {
    "duration": 42,
    "start_time": "2024-02-10T13:47:58.137Z"
   },
   {
    "duration": 5,
    "start_time": "2024-02-10T13:47:58.181Z"
   },
   {
    "duration": 957,
    "start_time": "2024-02-10T13:47:58.215Z"
   },
   {
    "duration": 607,
    "start_time": "2024-02-10T13:47:59.173Z"
   },
   {
    "duration": 7,
    "start_time": "2024-02-10T13:47:59.782Z"
   },
   {
    "duration": 4,
    "start_time": "2024-02-10T13:47:59.791Z"
   },
   {
    "duration": 33,
    "start_time": "2024-02-10T13:47:59.797Z"
   },
   {
    "duration": 8,
    "start_time": "2024-02-10T13:47:59.831Z"
   },
   {
    "duration": 108,
    "start_time": "2024-02-10T13:47:59.841Z"
   },
   {
    "duration": 269,
    "start_time": "2024-02-10T13:47:59.951Z"
   },
   {
    "duration": 136,
    "start_time": "2024-02-10T13:48:00.222Z"
   },
   {
    "duration": 9,
    "start_time": "2024-02-10T13:48:00.360Z"
   },
   {
    "duration": 27,
    "start_time": "2024-02-10T13:48:00.370Z"
   },
   {
    "duration": 18,
    "start_time": "2024-02-10T13:48:00.398Z"
   },
   {
    "duration": 31,
    "start_time": "2024-02-10T13:48:00.417Z"
   },
   {
    "duration": 26,
    "start_time": "2024-02-10T13:48:00.449Z"
   },
   {
    "duration": 20,
    "start_time": "2024-02-10T13:48:00.477Z"
   },
   {
    "duration": 55,
    "start_time": "2024-02-10T13:48:00.499Z"
   },
   {
    "duration": 176,
    "start_time": "2024-02-10T13:48:00.555Z"
   },
   {
    "duration": 137,
    "start_time": "2024-02-10T13:48:00.733Z"
   },
   {
    "duration": 118,
    "start_time": "2024-02-10T13:48:00.872Z"
   },
   {
    "duration": 9,
    "start_time": "2024-02-10T13:48:00.991Z"
   },
   {
    "duration": 350,
    "start_time": "2024-02-10T13:48:01.001Z"
   },
   {
    "duration": 0,
    "start_time": "2024-02-10T13:48:01.353Z"
   },
   {
    "duration": 372234,
    "start_time": "2024-02-10T14:06:09.907Z"
   },
   {
    "duration": 77,
    "start_time": "2024-02-10T14:13:35.827Z"
   },
   {
    "duration": 12562,
    "start_time": "2024-02-10T14:13:40.507Z"
   },
   {
    "duration": 9553,
    "start_time": "2024-02-10T14:14:01.688Z"
   },
   {
    "duration": 12387,
    "start_time": "2024-02-10T14:14:46.575Z"
   },
   {
    "duration": 9817,
    "start_time": "2024-02-10T14:15:44.136Z"
   },
   {
    "duration": 16385,
    "start_time": "2024-02-10T14:16:23.435Z"
   },
   {
    "duration": 16617,
    "start_time": "2024-02-10T14:17:12.422Z"
   },
   {
    "duration": 104,
    "start_time": "2024-02-10T14:24:35.183Z"
   },
   {
    "duration": 11279,
    "start_time": "2024-02-10T14:24:47.993Z"
   },
   {
    "duration": 20440,
    "start_time": "2024-02-10T14:25:14.671Z"
   },
   {
    "duration": 14824,
    "start_time": "2024-02-10T14:26:15.769Z"
   },
   {
    "duration": 16648,
    "start_time": "2024-02-10T14:30:20.607Z"
   },
   {
    "duration": 18631,
    "start_time": "2024-02-10T14:30:39.996Z"
   },
   {
    "duration": 57559,
    "start_time": "2024-02-10T14:31:02.302Z"
   },
   {
    "duration": 5040,
    "start_time": "2024-02-10T14:35:10.565Z"
   },
   {
    "duration": 88,
    "start_time": "2024-02-10T14:35:15.607Z"
   },
   {
    "duration": 66,
    "start_time": "2024-02-10T14:35:15.697Z"
   },
   {
    "duration": 94,
    "start_time": "2024-02-10T14:35:15.765Z"
   },
   {
    "duration": 64,
    "start_time": "2024-02-10T14:35:15.860Z"
   },
   {
    "duration": 9,
    "start_time": "2024-02-10T14:35:15.926Z"
   },
   {
    "duration": 6,
    "start_time": "2024-02-10T14:35:15.936Z"
   },
   {
    "duration": 7,
    "start_time": "2024-02-10T14:35:15.944Z"
   },
   {
    "duration": 6,
    "start_time": "2024-02-10T14:35:15.952Z"
   },
   {
    "duration": 6,
    "start_time": "2024-02-10T14:35:15.960Z"
   },
   {
    "duration": 6,
    "start_time": "2024-02-10T14:35:15.967Z"
   },
   {
    "duration": 8,
    "start_time": "2024-02-10T14:35:15.974Z"
   },
   {
    "duration": 5,
    "start_time": "2024-02-10T14:35:16.015Z"
   },
   {
    "duration": 5,
    "start_time": "2024-02-10T14:35:16.021Z"
   },
   {
    "duration": 7,
    "start_time": "2024-02-10T14:35:16.027Z"
   },
   {
    "duration": 15,
    "start_time": "2024-02-10T14:35:16.035Z"
   },
   {
    "duration": 6,
    "start_time": "2024-02-10T14:35:16.051Z"
   },
   {
    "duration": 11,
    "start_time": "2024-02-10T14:35:16.058Z"
   },
   {
    "duration": 244,
    "start_time": "2024-02-10T14:35:16.070Z"
   },
   {
    "duration": 145,
    "start_time": "2024-02-10T14:35:16.316Z"
   },
   {
    "duration": 1170,
    "start_time": "2024-02-10T14:35:16.462Z"
   },
   {
    "duration": 31,
    "start_time": "2024-02-10T14:35:17.633Z"
   },
   {
    "duration": 5,
    "start_time": "2024-02-10T14:35:17.665Z"
   },
   {
    "duration": 838,
    "start_time": "2024-02-10T14:35:17.671Z"
   },
   {
    "duration": 7,
    "start_time": "2024-02-10T14:35:18.510Z"
   },
   {
    "duration": 6,
    "start_time": "2024-02-10T14:35:18.519Z"
   },
   {
    "duration": 10,
    "start_time": "2024-02-10T14:35:18.526Z"
   },
   {
    "duration": 6,
    "start_time": "2024-02-10T14:35:18.540Z"
   },
   {
    "duration": 6,
    "start_time": "2024-02-10T14:35:18.548Z"
   },
   {
    "duration": 155,
    "start_time": "2024-02-10T14:35:18.556Z"
   },
   {
    "duration": 7,
    "start_time": "2024-02-10T14:35:18.712Z"
   },
   {
    "duration": 284,
    "start_time": "2024-02-10T14:35:18.721Z"
   },
   {
    "duration": 505,
    "start_time": "2024-02-10T14:35:19.007Z"
   },
   {
    "duration": 9,
    "start_time": "2024-02-10T14:35:19.514Z"
   },
   {
    "duration": 6,
    "start_time": "2024-02-10T14:35:19.524Z"
   },
   {
    "duration": 9,
    "start_time": "2024-02-10T14:35:19.531Z"
   },
   {
    "duration": 6,
    "start_time": "2024-02-10T14:35:19.541Z"
   },
   {
    "duration": 182,
    "start_time": "2024-02-10T14:35:19.549Z"
   },
   {
    "duration": 6,
    "start_time": "2024-02-10T14:35:19.733Z"
   },
   {
    "duration": 8,
    "start_time": "2024-02-10T14:35:19.740Z"
   },
   {
    "duration": 296,
    "start_time": "2024-02-10T14:35:19.749Z"
   },
   {
    "duration": 18,
    "start_time": "2024-02-10T14:35:20.047Z"
   },
   {
    "duration": 6,
    "start_time": "2024-02-10T14:35:20.067Z"
   },
   {
    "duration": 19,
    "start_time": "2024-02-10T14:35:20.074Z"
   },
   {
    "duration": 11,
    "start_time": "2024-02-10T14:35:20.094Z"
   },
   {
    "duration": 8,
    "start_time": "2024-02-10T14:35:20.115Z"
   },
   {
    "duration": 5,
    "start_time": "2024-02-10T14:35:20.124Z"
   },
   {
    "duration": 10,
    "start_time": "2024-02-10T14:35:20.130Z"
   },
   {
    "duration": 12,
    "start_time": "2024-02-10T14:35:20.141Z"
   },
   {
    "duration": 6,
    "start_time": "2024-02-10T14:35:20.155Z"
   },
   {
    "duration": 6,
    "start_time": "2024-02-10T14:35:20.163Z"
   },
   {
    "duration": 15,
    "start_time": "2024-02-10T14:35:20.170Z"
   },
   {
    "duration": 40,
    "start_time": "2024-02-10T14:35:20.186Z"
   },
   {
    "duration": 12,
    "start_time": "2024-02-10T14:35:20.227Z"
   },
   {
    "duration": 3691,
    "start_time": "2024-02-10T14:35:20.240Z"
   },
   {
    "duration": 46,
    "start_time": "2024-02-10T14:35:50.335Z"
   },
   {
    "duration": 5131,
    "start_time": "2024-02-10T14:35:58.803Z"
   },
   {
    "duration": 88,
    "start_time": "2024-02-10T14:36:03.936Z"
   },
   {
    "duration": 65,
    "start_time": "2024-02-10T14:36:04.026Z"
   },
   {
    "duration": 96,
    "start_time": "2024-02-10T14:36:04.095Z"
   },
   {
    "duration": 66,
    "start_time": "2024-02-10T14:36:04.193Z"
   },
   {
    "duration": 11,
    "start_time": "2024-02-10T14:36:04.261Z"
   },
   {
    "duration": 11,
    "start_time": "2024-02-10T14:36:04.274Z"
   },
   {
    "duration": 8,
    "start_time": "2024-02-10T14:36:04.287Z"
   },
   {
    "duration": 6,
    "start_time": "2024-02-10T14:36:04.297Z"
   },
   {
    "duration": 6,
    "start_time": "2024-02-10T14:36:04.306Z"
   },
   {
    "duration": 7,
    "start_time": "2024-02-10T14:36:04.313Z"
   },
   {
    "duration": 8,
    "start_time": "2024-02-10T14:36:04.322Z"
   },
   {
    "duration": 7,
    "start_time": "2024-02-10T14:36:04.332Z"
   },
   {
    "duration": 5,
    "start_time": "2024-02-10T14:36:04.341Z"
   },
   {
    "duration": 6,
    "start_time": "2024-02-10T14:36:04.348Z"
   },
   {
    "duration": 8,
    "start_time": "2024-02-10T14:36:04.355Z"
   },
   {
    "duration": 15,
    "start_time": "2024-02-10T14:36:04.365Z"
   },
   {
    "duration": 37,
    "start_time": "2024-02-10T14:36:04.382Z"
   },
   {
    "duration": 239,
    "start_time": "2024-02-10T14:36:04.421Z"
   },
   {
    "duration": 153,
    "start_time": "2024-02-10T14:36:04.662Z"
   },
   {
    "duration": 1181,
    "start_time": "2024-02-10T14:36:04.817Z"
   },
   {
    "duration": 38,
    "start_time": "2024-02-10T14:36:05.999Z"
   },
   {
    "duration": 5,
    "start_time": "2024-02-10T14:36:06.038Z"
   },
   {
    "duration": 816,
    "start_time": "2024-02-10T14:36:06.044Z"
   },
   {
    "duration": 8,
    "start_time": "2024-02-10T14:36:06.861Z"
   },
   {
    "duration": 24,
    "start_time": "2024-02-10T14:36:06.870Z"
   },
   {
    "duration": 6,
    "start_time": "2024-02-10T14:36:06.895Z"
   },
   {
    "duration": 11,
    "start_time": "2024-02-10T14:36:06.905Z"
   },
   {
    "duration": 7,
    "start_time": "2024-02-10T14:36:06.917Z"
   },
   {
    "duration": 138,
    "start_time": "2024-02-10T14:36:06.925Z"
   },
   {
    "duration": 6,
    "start_time": "2024-02-10T14:36:07.064Z"
   },
   {
    "duration": 282,
    "start_time": "2024-02-10T14:36:07.071Z"
   },
   {
    "duration": 521,
    "start_time": "2024-02-10T14:36:07.355Z"
   },
   {
    "duration": 9,
    "start_time": "2024-02-10T14:36:07.877Z"
   },
   {
    "duration": 6,
    "start_time": "2024-02-10T14:36:07.888Z"
   },
   {
    "duration": 19,
    "start_time": "2024-02-10T14:36:07.896Z"
   },
   {
    "duration": 6,
    "start_time": "2024-02-10T14:36:07.917Z"
   },
   {
    "duration": 179,
    "start_time": "2024-02-10T14:36:07.924Z"
   },
   {
    "duration": 12,
    "start_time": "2024-02-10T14:36:08.105Z"
   },
   {
    "duration": 8,
    "start_time": "2024-02-10T14:36:08.118Z"
   },
   {
    "duration": 296,
    "start_time": "2024-02-10T14:36:08.128Z"
   },
   {
    "duration": 19,
    "start_time": "2024-02-10T14:36:08.426Z"
   },
   {
    "duration": 6,
    "start_time": "2024-02-10T14:36:08.447Z"
   },
   {
    "duration": 23,
    "start_time": "2024-02-10T14:36:08.454Z"
   },
   {
    "duration": 4,
    "start_time": "2024-02-10T14:36:08.479Z"
   },
   {
    "duration": 10,
    "start_time": "2024-02-10T14:36:08.485Z"
   },
   {
    "duration": 19,
    "start_time": "2024-02-10T14:36:08.496Z"
   },
   {
    "duration": 9,
    "start_time": "2024-02-10T14:36:08.517Z"
   },
   {
    "duration": 14,
    "start_time": "2024-02-10T14:36:08.527Z"
   },
   {
    "duration": 7,
    "start_time": "2024-02-10T14:36:08.542Z"
   },
   {
    "duration": 16,
    "start_time": "2024-02-10T14:36:08.550Z"
   },
   {
    "duration": 20,
    "start_time": "2024-02-10T14:36:08.567Z"
   },
   {
    "duration": 31,
    "start_time": "2024-02-10T14:36:08.589Z"
   },
   {
    "duration": 11,
    "start_time": "2024-02-10T14:36:08.622Z"
   },
   {
    "duration": 3676,
    "start_time": "2024-02-10T14:36:08.635Z"
   },
   {
    "duration": 18683,
    "start_time": "2024-02-10T14:36:12.313Z"
   },
   {
    "duration": 59146,
    "start_time": "2024-02-10T14:36:30.998Z"
   },
   {
    "duration": 0,
    "start_time": "2024-02-10T14:37:30.149Z"
   },
   {
    "duration": 0,
    "start_time": "2024-02-10T14:37:30.150Z"
   },
   {
    "duration": 0,
    "start_time": "2024-02-10T14:37:30.154Z"
   },
   {
    "duration": 0,
    "start_time": "2024-02-10T14:37:30.155Z"
   },
   {
    "duration": 0,
    "start_time": "2024-02-10T14:37:30.156Z"
   },
   {
    "duration": 0,
    "start_time": "2024-02-10T14:37:30.157Z"
   },
   {
    "duration": 0,
    "start_time": "2024-02-10T14:37:30.159Z"
   },
   {
    "duration": 0,
    "start_time": "2024-02-10T14:37:30.159Z"
   },
   {
    "duration": 0,
    "start_time": "2024-02-10T14:37:30.160Z"
   },
   {
    "duration": 0,
    "start_time": "2024-02-10T14:37:30.161Z"
   },
   {
    "duration": 0,
    "start_time": "2024-02-10T14:37:30.162Z"
   },
   {
    "duration": 0,
    "start_time": "2024-02-10T14:37:30.164Z"
   },
   {
    "duration": 0,
    "start_time": "2024-02-10T14:37:30.165Z"
   },
   {
    "duration": 0,
    "start_time": "2024-02-10T14:37:30.166Z"
   },
   {
    "duration": 0,
    "start_time": "2024-02-10T14:37:30.167Z"
   },
   {
    "duration": 0,
    "start_time": "2024-02-10T14:37:30.168Z"
   },
   {
    "duration": 0,
    "start_time": "2024-02-10T14:37:30.169Z"
   },
   {
    "duration": 0,
    "start_time": "2024-02-10T14:37:30.215Z"
   },
   {
    "duration": 0,
    "start_time": "2024-02-10T14:37:30.216Z"
   },
   {
    "duration": 0,
    "start_time": "2024-02-10T14:37:30.217Z"
   },
   {
    "duration": 0,
    "start_time": "2024-02-10T14:37:30.218Z"
   },
   {
    "duration": 0,
    "start_time": "2024-02-10T14:37:30.219Z"
   },
   {
    "duration": 0,
    "start_time": "2024-02-10T14:37:30.220Z"
   },
   {
    "duration": 0,
    "start_time": "2024-02-10T14:37:30.221Z"
   },
   {
    "duration": 0,
    "start_time": "2024-02-10T14:37:30.223Z"
   },
   {
    "duration": 0,
    "start_time": "2024-02-10T14:37:30.224Z"
   },
   {
    "duration": 0,
    "start_time": "2024-02-10T14:37:30.225Z"
   },
   {
    "duration": 0,
    "start_time": "2024-02-10T14:37:30.226Z"
   },
   {
    "duration": 0,
    "start_time": "2024-02-10T14:37:30.227Z"
   },
   {
    "duration": 0,
    "start_time": "2024-02-10T14:37:30.228Z"
   },
   {
    "duration": 0,
    "start_time": "2024-02-10T14:37:30.229Z"
   },
   {
    "duration": 0,
    "start_time": "2024-02-10T14:37:30.230Z"
   },
   {
    "duration": 0,
    "start_time": "2024-02-10T14:37:30.231Z"
   },
   {
    "duration": 0,
    "start_time": "2024-02-10T14:37:30.232Z"
   },
   {
    "duration": 0,
    "start_time": "2024-02-10T14:37:30.233Z"
   },
   {
    "duration": 0,
    "start_time": "2024-02-10T14:37:30.234Z"
   },
   {
    "duration": 0,
    "start_time": "2024-02-10T14:37:30.235Z"
   },
   {
    "duration": 0,
    "start_time": "2024-02-10T14:37:30.236Z"
   },
   {
    "duration": 0,
    "start_time": "2024-02-10T14:37:30.237Z"
   },
   {
    "duration": 0,
    "start_time": "2024-02-10T14:37:30.238Z"
   },
   {
    "duration": 0,
    "start_time": "2024-02-10T14:37:30.239Z"
   },
   {
    "duration": 0,
    "start_time": "2024-02-10T14:37:30.240Z"
   },
   {
    "duration": 0,
    "start_time": "2024-02-10T14:37:30.241Z"
   },
   {
    "duration": 0,
    "start_time": "2024-02-10T14:37:30.242Z"
   },
   {
    "duration": 0,
    "start_time": "2024-02-10T14:37:30.243Z"
   },
   {
    "duration": 0,
    "start_time": "2024-02-10T14:37:30.244Z"
   },
   {
    "duration": 0,
    "start_time": "2024-02-10T14:37:30.245Z"
   },
   {
    "duration": 0,
    "start_time": "2024-02-10T14:37:30.246Z"
   },
   {
    "duration": 0,
    "start_time": "2024-02-10T14:37:30.247Z"
   },
   {
    "duration": 0,
    "start_time": "2024-02-10T14:37:30.248Z"
   },
   {
    "duration": 13141,
    "start_time": "2024-02-10T14:37:32.258Z"
   },
   {
    "duration": 32,
    "start_time": "2024-02-10T14:39:11.193Z"
   },
   {
    "duration": 11,
    "start_time": "2024-02-10T14:39:30.114Z"
   },
   {
    "duration": 70111,
    "start_time": "2024-02-10T14:39:38.560Z"
   },
   {
    "duration": 47,
    "start_time": "2024-02-10T14:46:07.072Z"
   },
   {
    "duration": 4820,
    "start_time": "2024-02-10T14:46:13.106Z"
   },
   {
    "duration": 88,
    "start_time": "2024-02-10T14:46:17.928Z"
   },
   {
    "duration": 66,
    "start_time": "2024-02-10T14:46:18.018Z"
   },
   {
    "duration": 94,
    "start_time": "2024-02-10T14:46:18.086Z"
   },
   {
    "duration": 65,
    "start_time": "2024-02-10T14:46:18.182Z"
   },
   {
    "duration": 9,
    "start_time": "2024-02-10T14:46:18.249Z"
   },
   {
    "duration": 5,
    "start_time": "2024-02-10T14:46:18.260Z"
   },
   {
    "duration": 9,
    "start_time": "2024-02-10T14:46:18.266Z"
   },
   {
    "duration": 10,
    "start_time": "2024-02-10T14:46:18.276Z"
   },
   {
    "duration": 6,
    "start_time": "2024-02-10T14:46:18.288Z"
   },
   {
    "duration": 5,
    "start_time": "2024-02-10T14:46:18.295Z"
   },
   {
    "duration": 16,
    "start_time": "2024-02-10T14:46:18.302Z"
   },
   {
    "duration": 4,
    "start_time": "2024-02-10T14:46:18.320Z"
   },
   {
    "duration": 4,
    "start_time": "2024-02-10T14:46:18.326Z"
   },
   {
    "duration": 6,
    "start_time": "2024-02-10T14:46:18.332Z"
   },
   {
    "duration": 8,
    "start_time": "2024-02-10T14:46:18.340Z"
   },
   {
    "duration": 5,
    "start_time": "2024-02-10T14:46:18.349Z"
   },
   {
    "duration": 13,
    "start_time": "2024-02-10T14:46:18.355Z"
   },
   {
    "duration": 259,
    "start_time": "2024-02-10T14:46:18.369Z"
   },
   {
    "duration": 158,
    "start_time": "2024-02-10T14:46:18.630Z"
   },
   {
    "duration": 1150,
    "start_time": "2024-02-10T14:46:18.790Z"
   },
   {
    "duration": 33,
    "start_time": "2024-02-10T14:46:19.942Z"
   },
   {
    "duration": 5,
    "start_time": "2024-02-10T14:46:19.977Z"
   },
   {
    "duration": 840,
    "start_time": "2024-02-10T14:46:19.984Z"
   },
   {
    "duration": 7,
    "start_time": "2024-02-10T14:46:20.825Z"
   },
   {
    "duration": 7,
    "start_time": "2024-02-10T14:46:20.833Z"
   },
   {
    "duration": 5,
    "start_time": "2024-02-10T14:46:20.842Z"
   },
   {
    "duration": 7,
    "start_time": "2024-02-10T14:46:20.851Z"
   },
   {
    "duration": 7,
    "start_time": "2024-02-10T14:46:20.859Z"
   },
   {
    "duration": 164,
    "start_time": "2024-02-10T14:46:20.867Z"
   },
   {
    "duration": 6,
    "start_time": "2024-02-10T14:46:21.033Z"
   },
   {
    "duration": 295,
    "start_time": "2024-02-10T14:46:21.040Z"
   },
   {
    "duration": 523,
    "start_time": "2024-02-10T14:46:21.337Z"
   },
   {
    "duration": 11,
    "start_time": "2024-02-10T14:46:21.862Z"
   },
   {
    "duration": 6,
    "start_time": "2024-02-10T14:46:21.875Z"
   },
   {
    "duration": 7,
    "start_time": "2024-02-10T14:46:21.882Z"
   },
   {
    "duration": 27,
    "start_time": "2024-02-10T14:46:21.891Z"
   },
   {
    "duration": 186,
    "start_time": "2024-02-10T14:46:21.920Z"
   },
   {
    "duration": 11,
    "start_time": "2024-02-10T14:46:22.108Z"
   },
   {
    "duration": 10,
    "start_time": "2024-02-10T14:46:22.121Z"
   },
   {
    "duration": 302,
    "start_time": "2024-02-10T14:46:22.133Z"
   },
   {
    "duration": 18,
    "start_time": "2024-02-10T14:46:22.437Z"
   },
   {
    "duration": 6,
    "start_time": "2024-02-10T14:46:22.457Z"
   },
   {
    "duration": 17,
    "start_time": "2024-02-10T14:46:22.465Z"
   },
   {
    "duration": 3,
    "start_time": "2024-02-10T14:46:22.483Z"
   },
   {
    "duration": 27,
    "start_time": "2024-02-10T14:46:22.488Z"
   },
   {
    "duration": 4,
    "start_time": "2024-02-10T14:46:22.516Z"
   },
   {
    "duration": 9,
    "start_time": "2024-02-10T14:46:22.522Z"
   },
   {
    "duration": 14,
    "start_time": "2024-02-10T14:46:22.533Z"
   },
   {
    "duration": 6,
    "start_time": "2024-02-10T14:46:22.548Z"
   },
   {
    "duration": 7,
    "start_time": "2024-02-10T14:46:22.556Z"
   },
   {
    "duration": 15,
    "start_time": "2024-02-10T14:46:22.564Z"
   },
   {
    "duration": 43,
    "start_time": "2024-02-10T14:46:22.581Z"
   },
   {
    "duration": 12,
    "start_time": "2024-02-10T14:46:22.626Z"
   },
   {
    "duration": 3647,
    "start_time": "2024-02-10T14:46:22.640Z"
   },
   {
    "duration": 18613,
    "start_time": "2024-02-10T14:46:26.288Z"
   },
   {
    "duration": 2709,
    "start_time": "2024-02-10T14:46:44.903Z"
   },
   {
    "duration": 0,
    "start_time": "2024-02-10T14:46:47.615Z"
   },
   {
    "duration": 0,
    "start_time": "2024-02-10T14:46:47.616Z"
   },
   {
    "duration": 0,
    "start_time": "2024-02-10T14:46:47.618Z"
   },
   {
    "duration": 0,
    "start_time": "2024-02-10T14:46:47.619Z"
   },
   {
    "duration": 0,
    "start_time": "2024-02-10T14:46:47.620Z"
   },
   {
    "duration": 0,
    "start_time": "2024-02-10T14:46:47.621Z"
   },
   {
    "duration": 0,
    "start_time": "2024-02-10T14:46:47.622Z"
   },
   {
    "duration": 0,
    "start_time": "2024-02-10T14:46:47.623Z"
   },
   {
    "duration": 0,
    "start_time": "2024-02-10T14:46:47.624Z"
   },
   {
    "duration": 0,
    "start_time": "2024-02-10T14:46:47.625Z"
   },
   {
    "duration": 0,
    "start_time": "2024-02-10T14:46:47.626Z"
   },
   {
    "duration": 0,
    "start_time": "2024-02-10T14:46:47.627Z"
   },
   {
    "duration": 0,
    "start_time": "2024-02-10T14:46:47.628Z"
   },
   {
    "duration": 0,
    "start_time": "2024-02-10T14:46:47.629Z"
   },
   {
    "duration": 0,
    "start_time": "2024-02-10T14:46:47.630Z"
   },
   {
    "duration": 0,
    "start_time": "2024-02-10T14:46:47.631Z"
   },
   {
    "duration": 0,
    "start_time": "2024-02-10T14:46:47.632Z"
   },
   {
    "duration": 0,
    "start_time": "2024-02-10T14:46:47.633Z"
   },
   {
    "duration": 0,
    "start_time": "2024-02-10T14:46:47.634Z"
   },
   {
    "duration": 0,
    "start_time": "2024-02-10T14:46:47.635Z"
   },
   {
    "duration": 0,
    "start_time": "2024-02-10T14:46:47.636Z"
   },
   {
    "duration": 0,
    "start_time": "2024-02-10T14:46:47.637Z"
   },
   {
    "duration": 0,
    "start_time": "2024-02-10T14:46:47.638Z"
   },
   {
    "duration": 0,
    "start_time": "2024-02-10T14:46:47.639Z"
   },
   {
    "duration": 0,
    "start_time": "2024-02-10T14:46:47.640Z"
   },
   {
    "duration": 0,
    "start_time": "2024-02-10T14:46:47.641Z"
   },
   {
    "duration": 0,
    "start_time": "2024-02-10T14:46:47.642Z"
   },
   {
    "duration": 0,
    "start_time": "2024-02-10T14:46:47.642Z"
   },
   {
    "duration": 0,
    "start_time": "2024-02-10T14:46:47.643Z"
   },
   {
    "duration": 0,
    "start_time": "2024-02-10T14:46:47.644Z"
   },
   {
    "duration": 0,
    "start_time": "2024-02-10T14:46:47.645Z"
   },
   {
    "duration": 0,
    "start_time": "2024-02-10T14:46:47.646Z"
   },
   {
    "duration": 0,
    "start_time": "2024-02-10T14:46:47.647Z"
   },
   {
    "duration": 0,
    "start_time": "2024-02-10T14:46:47.648Z"
   },
   {
    "duration": 0,
    "start_time": "2024-02-10T14:46:47.649Z"
   },
   {
    "duration": 0,
    "start_time": "2024-02-10T14:46:47.650Z"
   },
   {
    "duration": 0,
    "start_time": "2024-02-10T14:46:47.651Z"
   },
   {
    "duration": 0,
    "start_time": "2024-02-10T14:46:47.651Z"
   },
   {
    "duration": 0,
    "start_time": "2024-02-10T14:46:47.714Z"
   },
   {
    "duration": 0,
    "start_time": "2024-02-10T14:46:47.715Z"
   },
   {
    "duration": 0,
    "start_time": "2024-02-10T14:46:47.717Z"
   },
   {
    "duration": 0,
    "start_time": "2024-02-10T14:46:47.718Z"
   },
   {
    "duration": 0,
    "start_time": "2024-02-10T14:46:47.719Z"
   },
   {
    "duration": 0,
    "start_time": "2024-02-10T14:46:47.720Z"
   },
   {
    "duration": 0,
    "start_time": "2024-02-10T14:46:47.721Z"
   },
   {
    "duration": 0,
    "start_time": "2024-02-10T14:46:47.722Z"
   },
   {
    "duration": 0,
    "start_time": "2024-02-10T14:46:47.723Z"
   },
   {
    "duration": 0,
    "start_time": "2024-02-10T14:46:47.724Z"
   },
   {
    "duration": 0,
    "start_time": "2024-02-10T14:46:47.725Z"
   },
   {
    "duration": 0,
    "start_time": "2024-02-10T14:46:47.726Z"
   },
   {
    "duration": 0,
    "start_time": "2024-02-10T14:46:47.727Z"
   },
   {
    "duration": 1359,
    "start_time": "2024-02-10T14:47:18.078Z"
   },
   {
    "duration": 4720,
    "start_time": "2024-02-10T14:48:34.433Z"
   },
   {
    "duration": 53,
    "start_time": "2024-02-10T14:48:39.155Z"
   },
   {
    "duration": 37,
    "start_time": "2024-02-10T14:48:39.210Z"
   },
   {
    "duration": 29,
    "start_time": "2024-02-10T14:48:39.249Z"
   },
   {
    "duration": 36,
    "start_time": "2024-02-10T14:48:39.279Z"
   },
   {
    "duration": 10,
    "start_time": "2024-02-10T14:48:39.317Z"
   },
   {
    "duration": 24,
    "start_time": "2024-02-10T14:48:39.329Z"
   },
   {
    "duration": 10,
    "start_time": "2024-02-10T14:48:39.354Z"
   },
   {
    "duration": 5,
    "start_time": "2024-02-10T14:48:39.366Z"
   },
   {
    "duration": 6,
    "start_time": "2024-02-10T14:48:39.373Z"
   },
   {
    "duration": 8,
    "start_time": "2024-02-10T14:48:39.380Z"
   },
   {
    "duration": 7,
    "start_time": "2024-02-10T14:48:39.390Z"
   },
   {
    "duration": 18,
    "start_time": "2024-02-10T14:48:39.398Z"
   },
   {
    "duration": 5,
    "start_time": "2024-02-10T14:48:39.417Z"
   },
   {
    "duration": 6,
    "start_time": "2024-02-10T14:48:39.423Z"
   },
   {
    "duration": 7,
    "start_time": "2024-02-10T14:48:39.431Z"
   },
   {
    "duration": 4,
    "start_time": "2024-02-10T14:48:39.439Z"
   },
   {
    "duration": 12,
    "start_time": "2024-02-10T14:48:39.445Z"
   },
   {
    "duration": 248,
    "start_time": "2024-02-10T14:48:39.459Z"
   },
   {
    "duration": 144,
    "start_time": "2024-02-10T14:48:39.714Z"
   },
   {
    "duration": 1159,
    "start_time": "2024-02-10T14:48:39.859Z"
   },
   {
    "duration": 31,
    "start_time": "2024-02-10T14:48:41.020Z"
   },
   {
    "duration": 5,
    "start_time": "2024-02-10T14:48:41.052Z"
   },
   {
    "duration": 799,
    "start_time": "2024-02-10T14:48:41.058Z"
   },
   {
    "duration": 6,
    "start_time": "2024-02-10T14:48:41.859Z"
   },
   {
    "duration": 6,
    "start_time": "2024-02-10T14:48:41.866Z"
   },
   {
    "duration": 10,
    "start_time": "2024-02-10T14:48:41.873Z"
   },
   {
    "duration": 5,
    "start_time": "2024-02-10T14:48:41.887Z"
   },
   {
    "duration": 26,
    "start_time": "2024-02-10T14:48:41.894Z"
   },
   {
    "duration": 139,
    "start_time": "2024-02-10T14:48:41.922Z"
   },
   {
    "duration": 6,
    "start_time": "2024-02-10T14:48:42.063Z"
   },
   {
    "duration": 276,
    "start_time": "2024-02-10T14:48:42.071Z"
   },
   {
    "duration": 532,
    "start_time": "2024-02-10T14:48:42.349Z"
   },
   {
    "duration": 9,
    "start_time": "2024-02-10T14:48:42.882Z"
   },
   {
    "duration": 6,
    "start_time": "2024-02-10T14:48:42.892Z"
   },
   {
    "duration": 16,
    "start_time": "2024-02-10T14:48:42.899Z"
   },
   {
    "duration": 5,
    "start_time": "2024-02-10T14:48:42.917Z"
   },
   {
    "duration": 180,
    "start_time": "2024-02-10T14:48:42.923Z"
   },
   {
    "duration": 11,
    "start_time": "2024-02-10T14:48:43.105Z"
   },
   {
    "duration": 8,
    "start_time": "2024-02-10T14:48:43.117Z"
   },
   {
    "duration": 274,
    "start_time": "2024-02-10T14:48:43.127Z"
   },
   {
    "duration": 22,
    "start_time": "2024-02-10T14:48:43.403Z"
   },
   {
    "duration": 6,
    "start_time": "2024-02-10T14:48:43.427Z"
   },
   {
    "duration": 15,
    "start_time": "2024-02-10T14:48:43.434Z"
   },
   {
    "duration": 3,
    "start_time": "2024-02-10T14:48:43.450Z"
   },
   {
    "duration": 7,
    "start_time": "2024-02-10T14:48:43.454Z"
   },
   {
    "duration": 4,
    "start_time": "2024-02-10T14:48:43.463Z"
   },
   {
    "duration": 8,
    "start_time": "2024-02-10T14:48:43.468Z"
   },
   {
    "duration": 36,
    "start_time": "2024-02-10T14:48:43.478Z"
   },
   {
    "duration": 7,
    "start_time": "2024-02-10T14:48:43.516Z"
   },
   {
    "duration": 7,
    "start_time": "2024-02-10T14:48:43.524Z"
   },
   {
    "duration": 15,
    "start_time": "2024-02-10T14:48:43.532Z"
   },
   {
    "duration": 12,
    "start_time": "2024-02-10T14:48:43.548Z"
   },
   {
    "duration": 10,
    "start_time": "2024-02-10T14:48:43.562Z"
   },
   {
    "duration": 3729,
    "start_time": "2024-02-10T14:48:43.574Z"
   },
   {
    "duration": 47,
    "start_time": "2024-02-10T14:50:11.260Z"
   },
   {
    "duration": 7,
    "start_time": "2024-02-10T14:50:49.441Z"
   },
   {
    "duration": 4954,
    "start_time": "2024-02-10T14:50:55.136Z"
   },
   {
    "duration": 88,
    "start_time": "2024-02-10T14:51:00.092Z"
   },
   {
    "duration": 67,
    "start_time": "2024-02-10T14:51:00.182Z"
   },
   {
    "duration": 96,
    "start_time": "2024-02-10T14:51:00.251Z"
   },
   {
    "duration": 65,
    "start_time": "2024-02-10T14:51:00.349Z"
   },
   {
    "duration": 9,
    "start_time": "2024-02-10T14:51:00.415Z"
   },
   {
    "duration": 51,
    "start_time": "2024-02-10T14:51:00.426Z"
   },
   {
    "duration": 22,
    "start_time": "2024-02-10T14:51:00.479Z"
   },
   {
    "duration": 37,
    "start_time": "2024-02-10T14:51:00.503Z"
   },
   {
    "duration": 7,
    "start_time": "2024-02-10T14:51:00.543Z"
   },
   {
    "duration": 12,
    "start_time": "2024-02-10T14:51:00.551Z"
   },
   {
    "duration": 24,
    "start_time": "2024-02-10T14:51:00.564Z"
   },
   {
    "duration": 22,
    "start_time": "2024-02-10T14:51:00.590Z"
   },
   {
    "duration": 23,
    "start_time": "2024-02-10T14:51:00.614Z"
   },
   {
    "duration": 19,
    "start_time": "2024-02-10T14:51:00.638Z"
   },
   {
    "duration": 30,
    "start_time": "2024-02-10T14:51:00.659Z"
   },
   {
    "duration": 21,
    "start_time": "2024-02-10T14:51:00.691Z"
   },
   {
    "duration": 35,
    "start_time": "2024-02-10T14:51:00.713Z"
   },
   {
    "duration": 254,
    "start_time": "2024-02-10T14:51:00.749Z"
   },
   {
    "duration": 158,
    "start_time": "2024-02-10T14:51:01.005Z"
   },
   {
    "duration": 1205,
    "start_time": "2024-02-10T14:51:01.165Z"
   },
   {
    "duration": 31,
    "start_time": "2024-02-10T14:51:02.371Z"
   },
   {
    "duration": 14,
    "start_time": "2024-02-10T14:51:02.404Z"
   },
   {
    "duration": 789,
    "start_time": "2024-02-10T14:51:02.419Z"
   },
   {
    "duration": 7,
    "start_time": "2024-02-10T14:51:03.209Z"
   },
   {
    "duration": 22,
    "start_time": "2024-02-10T14:51:03.218Z"
   },
   {
    "duration": 8,
    "start_time": "2024-02-10T14:51:03.241Z"
   },
   {
    "duration": 6,
    "start_time": "2024-02-10T14:51:03.253Z"
   },
   {
    "duration": 12,
    "start_time": "2024-02-10T14:51:03.260Z"
   },
   {
    "duration": 137,
    "start_time": "2024-02-10T14:51:03.273Z"
   },
   {
    "duration": 7,
    "start_time": "2024-02-10T14:51:03.415Z"
   },
   {
    "duration": 293,
    "start_time": "2024-02-10T14:51:03.423Z"
   },
   {
    "duration": 509,
    "start_time": "2024-02-10T14:51:03.717Z"
   },
   {
    "duration": 11,
    "start_time": "2024-02-10T14:51:04.227Z"
   },
   {
    "duration": 6,
    "start_time": "2024-02-10T14:51:04.239Z"
   },
   {
    "duration": 9,
    "start_time": "2024-02-10T14:51:04.247Z"
   },
   {
    "duration": 15,
    "start_time": "2024-02-10T14:51:04.257Z"
   },
   {
    "duration": 180,
    "start_time": "2024-02-10T14:51:04.274Z"
   },
   {
    "duration": 7,
    "start_time": "2024-02-10T14:51:04.456Z"
   },
   {
    "duration": 11,
    "start_time": "2024-02-10T14:51:04.464Z"
   },
   {
    "duration": 318,
    "start_time": "2024-02-10T14:51:04.476Z"
   },
   {
    "duration": 24,
    "start_time": "2024-02-10T14:51:04.795Z"
   },
   {
    "duration": 6,
    "start_time": "2024-02-10T14:51:04.821Z"
   },
   {
    "duration": 10,
    "start_time": "2024-02-10T14:51:04.828Z"
   },
   {
    "duration": 5,
    "start_time": "2024-02-10T14:51:04.839Z"
   },
   {
    "duration": 3,
    "start_time": "2024-02-10T14:51:04.846Z"
   },
   {
    "duration": 3,
    "start_time": "2024-02-10T14:51:04.851Z"
   },
   {
    "duration": 13,
    "start_time": "2024-02-10T14:51:04.856Z"
   },
   {
    "duration": 51,
    "start_time": "2024-02-10T14:51:04.871Z"
   },
   {
    "duration": 8,
    "start_time": "2024-02-10T14:51:04.923Z"
   },
   {
    "duration": 7,
    "start_time": "2024-02-10T14:51:04.932Z"
   },
   {
    "duration": 14,
    "start_time": "2024-02-10T14:51:04.940Z"
   },
   {
    "duration": 12,
    "start_time": "2024-02-10T14:51:04.956Z"
   },
   {
    "duration": 11,
    "start_time": "2024-02-10T14:51:04.970Z"
   },
   {
    "duration": 3713,
    "start_time": "2024-02-10T14:51:04.982Z"
   },
   {
    "duration": 45836,
    "start_time": "2024-02-10T14:51:08.697Z"
   },
   {
    "duration": 13570,
    "start_time": "2024-02-10T14:51:54.535Z"
   },
   {
    "duration": 17,
    "start_time": "2024-02-10T14:52:08.107Z"
   },
   {
    "duration": 12,
    "start_time": "2024-02-10T14:52:08.126Z"
   },
   {
    "duration": 8,
    "start_time": "2024-02-10T14:52:08.139Z"
   },
   {
    "duration": 8,
    "start_time": "2024-02-10T14:52:08.148Z"
   },
   {
    "duration": 12,
    "start_time": "2024-02-10T14:52:08.158Z"
   },
   {
    "duration": 4,
    "start_time": "2024-02-10T14:52:08.215Z"
   },
   {
    "duration": 4,
    "start_time": "2024-02-10T14:52:08.220Z"
   },
   {
    "duration": 5,
    "start_time": "2024-02-10T14:52:08.225Z"
   },
   {
    "duration": 6,
    "start_time": "2024-02-10T14:52:08.231Z"
   },
   {
    "duration": 5,
    "start_time": "2024-02-10T14:52:08.238Z"
   },
   {
    "duration": 18647,
    "start_time": "2024-02-10T14:52:08.244Z"
   },
   {
    "duration": 0,
    "start_time": "2024-02-10T14:52:26.893Z"
   },
   {
    "duration": 0,
    "start_time": "2024-02-10T14:52:26.894Z"
   },
   {
    "duration": 0,
    "start_time": "2024-02-10T14:52:26.896Z"
   },
   {
    "duration": 0,
    "start_time": "2024-02-10T14:52:26.897Z"
   },
   {
    "duration": 0,
    "start_time": "2024-02-10T14:52:26.898Z"
   },
   {
    "duration": 0,
    "start_time": "2024-02-10T14:52:26.899Z"
   },
   {
    "duration": 0,
    "start_time": "2024-02-10T14:52:26.914Z"
   },
   {
    "duration": 0,
    "start_time": "2024-02-10T14:52:26.915Z"
   },
   {
    "duration": 0,
    "start_time": "2024-02-10T14:52:26.916Z"
   },
   {
    "duration": 0,
    "start_time": "2024-02-10T14:52:26.917Z"
   },
   {
    "duration": 1,
    "start_time": "2024-02-10T14:52:26.918Z"
   },
   {
    "duration": 0,
    "start_time": "2024-02-10T14:52:26.919Z"
   },
   {
    "duration": 0,
    "start_time": "2024-02-10T14:52:26.920Z"
   },
   {
    "duration": 0,
    "start_time": "2024-02-10T14:52:26.921Z"
   },
   {
    "duration": 0,
    "start_time": "2024-02-10T14:52:26.923Z"
   },
   {
    "duration": 0,
    "start_time": "2024-02-10T14:52:26.924Z"
   },
   {
    "duration": 0,
    "start_time": "2024-02-10T14:52:26.925Z"
   },
   {
    "duration": 0,
    "start_time": "2024-02-10T14:52:26.926Z"
   },
   {
    "duration": 0,
    "start_time": "2024-02-10T14:52:26.927Z"
   },
   {
    "duration": 0,
    "start_time": "2024-02-10T14:52:26.928Z"
   },
   {
    "duration": 0,
    "start_time": "2024-02-10T14:52:26.928Z"
   },
   {
    "duration": 0,
    "start_time": "2024-02-10T14:52:26.929Z"
   },
   {
    "duration": 0,
    "start_time": "2024-02-10T14:52:26.931Z"
   },
   {
    "duration": 0,
    "start_time": "2024-02-10T14:52:26.932Z"
   },
   {
    "duration": 0,
    "start_time": "2024-02-10T14:52:26.933Z"
   },
   {
    "duration": 0,
    "start_time": "2024-02-10T14:52:26.934Z"
   },
   {
    "duration": 0,
    "start_time": "2024-02-10T14:52:26.935Z"
   },
   {
    "duration": 0,
    "start_time": "2024-02-10T14:52:26.936Z"
   },
   {
    "duration": 0,
    "start_time": "2024-02-10T14:52:26.937Z"
   },
   {
    "duration": 0,
    "start_time": "2024-02-10T14:52:26.938Z"
   },
   {
    "duration": 0,
    "start_time": "2024-02-10T14:52:26.939Z"
   },
   {
    "duration": 0,
    "start_time": "2024-02-10T14:52:26.940Z"
   },
   {
    "duration": 0,
    "start_time": "2024-02-10T14:52:26.941Z"
   },
   {
    "duration": 0,
    "start_time": "2024-02-10T14:52:26.942Z"
   },
   {
    "duration": 0,
    "start_time": "2024-02-10T14:52:26.943Z"
   },
   {
    "duration": 0,
    "start_time": "2024-02-10T14:52:26.943Z"
   },
   {
    "duration": 0,
    "start_time": "2024-02-10T14:52:26.944Z"
   },
   {
    "duration": 0,
    "start_time": "2024-02-10T14:52:26.946Z"
   },
   {
    "duration": 0,
    "start_time": "2024-02-10T14:52:26.946Z"
   },
   {
    "duration": 0,
    "start_time": "2024-02-10T14:52:26.947Z"
   },
   {
    "duration": 4740,
    "start_time": "2024-02-10T14:52:41.752Z"
   },
   {
    "duration": 50,
    "start_time": "2024-02-10T14:52:46.494Z"
   },
   {
    "duration": 29,
    "start_time": "2024-02-10T14:52:46.545Z"
   },
   {
    "duration": 28,
    "start_time": "2024-02-10T14:52:46.575Z"
   },
   {
    "duration": 36,
    "start_time": "2024-02-10T14:52:46.604Z"
   },
   {
    "duration": 9,
    "start_time": "2024-02-10T14:52:46.642Z"
   },
   {
    "duration": 14,
    "start_time": "2024-02-10T14:52:46.653Z"
   },
   {
    "duration": 6,
    "start_time": "2024-02-10T14:52:46.669Z"
   },
   {
    "duration": 5,
    "start_time": "2024-02-10T14:52:46.677Z"
   },
   {
    "duration": 5,
    "start_time": "2024-02-10T14:52:46.684Z"
   },
   {
    "duration": 6,
    "start_time": "2024-02-10T14:52:46.691Z"
   },
   {
    "duration": 21,
    "start_time": "2024-02-10T14:52:46.699Z"
   },
   {
    "duration": 5,
    "start_time": "2024-02-10T14:52:46.722Z"
   },
   {
    "duration": 5,
    "start_time": "2024-02-10T14:52:46.729Z"
   },
   {
    "duration": 14,
    "start_time": "2024-02-10T14:52:46.735Z"
   },
   {
    "duration": 9,
    "start_time": "2024-02-10T14:52:46.750Z"
   },
   {
    "duration": 7,
    "start_time": "2024-02-10T14:52:46.761Z"
   },
   {
    "duration": 14,
    "start_time": "2024-02-10T14:52:46.769Z"
   },
   {
    "duration": 255,
    "start_time": "2024-02-10T14:52:46.785Z"
   },
   {
    "duration": 152,
    "start_time": "2024-02-10T14:52:47.041Z"
   },
   {
    "duration": 1189,
    "start_time": "2024-02-10T14:52:47.194Z"
   },
   {
    "duration": 40,
    "start_time": "2024-02-10T14:52:48.385Z"
   },
   {
    "duration": 5,
    "start_time": "2024-02-10T14:52:48.427Z"
   },
   {
    "duration": 807,
    "start_time": "2024-02-10T14:52:48.433Z"
   },
   {
    "duration": 7,
    "start_time": "2024-02-10T14:52:49.241Z"
   },
   {
    "duration": 6,
    "start_time": "2024-02-10T14:52:49.250Z"
   },
   {
    "duration": 6,
    "start_time": "2024-02-10T14:52:49.258Z"
   },
   {
    "duration": 5,
    "start_time": "2024-02-10T14:52:49.268Z"
   },
   {
    "duration": 8,
    "start_time": "2024-02-10T14:52:49.274Z"
   },
   {
    "duration": 158,
    "start_time": "2024-02-10T14:52:49.283Z"
   },
   {
    "duration": 6,
    "start_time": "2024-02-10T14:52:49.442Z"
   },
   {
    "duration": 275,
    "start_time": "2024-02-10T14:52:49.449Z"
   },
   {
    "duration": 507,
    "start_time": "2024-02-10T14:52:49.726Z"
   },
   {
    "duration": 9,
    "start_time": "2024-02-10T14:52:50.235Z"
   },
   {
    "duration": 4,
    "start_time": "2024-02-10T14:52:50.246Z"
   },
   {
    "duration": 7,
    "start_time": "2024-02-10T14:52:50.252Z"
   },
   {
    "duration": 9,
    "start_time": "2024-02-10T14:52:50.260Z"
   },
   {
    "duration": 191,
    "start_time": "2024-02-10T14:52:50.270Z"
   },
   {
    "duration": 6,
    "start_time": "2024-02-10T14:52:50.463Z"
   },
   {
    "duration": 7,
    "start_time": "2024-02-10T14:52:50.471Z"
   },
   {
    "duration": 280,
    "start_time": "2024-02-10T14:52:50.480Z"
   },
   {
    "duration": 19,
    "start_time": "2024-02-10T14:52:50.761Z"
   },
   {
    "duration": 6,
    "start_time": "2024-02-10T14:52:50.781Z"
   },
   {
    "duration": 27,
    "start_time": "2024-02-10T14:52:50.788Z"
   },
   {
    "duration": 3,
    "start_time": "2024-02-10T14:52:50.816Z"
   },
   {
    "duration": 5,
    "start_time": "2024-02-10T14:52:50.820Z"
   },
   {
    "duration": 20,
    "start_time": "2024-02-10T14:52:50.827Z"
   },
   {
    "duration": 24,
    "start_time": "2024-02-10T14:52:50.848Z"
   },
   {
    "duration": 13,
    "start_time": "2024-02-10T14:52:50.874Z"
   },
   {
    "duration": 7,
    "start_time": "2024-02-10T14:52:50.888Z"
   },
   {
    "duration": 7,
    "start_time": "2024-02-10T14:52:50.896Z"
   },
   {
    "duration": 22,
    "start_time": "2024-02-10T14:52:50.904Z"
   },
   {
    "duration": 11,
    "start_time": "2024-02-10T14:52:50.927Z"
   },
   {
    "duration": 11,
    "start_time": "2024-02-10T14:52:50.939Z"
   },
   {
    "duration": 3643,
    "start_time": "2024-02-10T14:52:50.952Z"
   },
   {
    "duration": 55810,
    "start_time": "2024-02-10T14:52:54.596Z"
   },
   {
    "duration": 13789,
    "start_time": "2024-02-10T14:53:50.407Z"
   },
   {
    "duration": 24,
    "start_time": "2024-02-10T14:54:04.198Z"
   },
   {
    "duration": 9,
    "start_time": "2024-02-10T14:54:04.224Z"
   },
   {
    "duration": 10,
    "start_time": "2024-02-10T14:54:04.235Z"
   },
   {
    "duration": 4,
    "start_time": "2024-02-10T14:54:04.247Z"
   },
   {
    "duration": 62,
    "start_time": "2024-02-10T14:54:04.253Z"
   },
   {
    "duration": 4,
    "start_time": "2024-02-10T14:54:04.317Z"
   },
   {
    "duration": 7,
    "start_time": "2024-02-10T14:54:04.323Z"
   },
   {
    "duration": 4,
    "start_time": "2024-02-10T14:54:04.331Z"
   },
   {
    "duration": 3,
    "start_time": "2024-02-10T14:54:04.337Z"
   },
   {
    "duration": 6,
    "start_time": "2024-02-10T14:54:04.342Z"
   },
   {
    "duration": 49129,
    "start_time": "2024-02-10T14:54:04.350Z"
   },
   {
    "duration": 38,
    "start_time": "2024-02-10T14:54:53.481Z"
   },
   {
    "duration": 13,
    "start_time": "2024-02-10T14:54:53.521Z"
   },
   {
    "duration": 21,
    "start_time": "2024-02-10T14:54:53.536Z"
   },
   {
    "duration": 6,
    "start_time": "2024-02-10T14:54:53.559Z"
   },
   {
    "duration": 11,
    "start_time": "2024-02-10T14:54:53.566Z"
   },
   {
    "duration": 11,
    "start_time": "2024-02-10T14:54:53.578Z"
   },
   {
    "duration": 19,
    "start_time": "2024-02-10T14:54:53.591Z"
   },
   {
    "duration": 18,
    "start_time": "2024-02-10T14:54:53.612Z"
   },
   {
    "duration": 30,
    "start_time": "2024-02-10T14:54:53.632Z"
   },
   {
    "duration": 4,
    "start_time": "2024-02-10T14:54:53.664Z"
   },
   {
    "duration": 4,
    "start_time": "2024-02-10T14:54:53.669Z"
   },
   {
    "duration": 40,
    "start_time": "2024-02-10T14:54:53.675Z"
   },
   {
    "duration": 29,
    "start_time": "2024-02-10T14:54:53.716Z"
   },
   {
    "duration": 82,
    "start_time": "2024-02-10T14:54:53.750Z"
   },
   {
    "duration": 6,
    "start_time": "2024-02-10T14:54:53.834Z"
   },
   {
    "duration": 16,
    "start_time": "2024-02-10T14:54:53.841Z"
   },
   {
    "duration": 38,
    "start_time": "2024-02-10T14:54:53.858Z"
   },
   {
    "duration": 4,
    "start_time": "2024-02-10T14:54:53.897Z"
   },
   {
    "duration": 851,
    "start_time": "2024-02-10T14:54:53.914Z"
   },
   {
    "duration": 836,
    "start_time": "2024-02-10T14:54:54.767Z"
   },
   {
    "duration": 13,
    "start_time": "2024-02-10T14:54:55.606Z"
   },
   {
    "duration": 23,
    "start_time": "2024-02-10T14:54:55.621Z"
   },
   {
    "duration": 20,
    "start_time": "2024-02-10T14:54:55.646Z"
   },
   {
    "duration": 21,
    "start_time": "2024-02-10T14:54:55.668Z"
   },
   {
    "duration": 99,
    "start_time": "2024-02-10T14:54:55.691Z"
   },
   {
    "duration": 147,
    "start_time": "2024-02-10T14:54:55.792Z"
   },
   {
    "duration": 144,
    "start_time": "2024-02-10T14:54:55.941Z"
   },
   {
    "duration": 10,
    "start_time": "2024-02-10T14:54:56.086Z"
   },
   {
    "duration": 18,
    "start_time": "2024-02-10T14:54:56.098Z"
   },
   {
    "duration": 6,
    "start_time": "2024-02-10T14:54:56.118Z"
   },
   {
    "duration": 7,
    "start_time": "2024-02-10T14:54:56.125Z"
   },
   {
    "duration": 18,
    "start_time": "2024-02-10T14:54:56.133Z"
   },
   {
    "duration": 14,
    "start_time": "2024-02-10T14:54:56.152Z"
   },
   {
    "duration": 6,
    "start_time": "2024-02-10T14:54:56.167Z"
   },
   {
    "duration": 111,
    "start_time": "2024-02-10T14:54:56.174Z"
   },
   {
    "duration": 129,
    "start_time": "2024-02-10T14:54:56.287Z"
   },
   {
    "duration": 119,
    "start_time": "2024-02-10T14:54:56.418Z"
   },
   {
    "duration": 6,
    "start_time": "2024-02-10T14:54:56.539Z"
   },
   {
    "duration": 260,
    "start_time": "2024-02-10T14:54:56.546Z"
   },
   {
    "duration": 54920,
    "start_time": "2024-02-10T15:17:05.672Z"
   },
   {
    "duration": 4798,
    "start_time": "2024-02-10T15:18:30.205Z"
   },
   {
    "duration": 52,
    "start_time": "2024-02-10T15:18:35.004Z"
   },
   {
    "duration": 29,
    "start_time": "2024-02-10T15:18:35.058Z"
   },
   {
    "duration": 29,
    "start_time": "2024-02-10T15:18:35.089Z"
   },
   {
    "duration": 37,
    "start_time": "2024-02-10T15:18:35.120Z"
   },
   {
    "duration": 10,
    "start_time": "2024-02-10T15:18:35.158Z"
   },
   {
    "duration": 10,
    "start_time": "2024-02-10T15:18:35.169Z"
   },
   {
    "duration": 7,
    "start_time": "2024-02-10T15:18:35.182Z"
   },
   {
    "duration": 5,
    "start_time": "2024-02-10T15:18:35.190Z"
   },
   {
    "duration": 5,
    "start_time": "2024-02-10T15:18:35.198Z"
   },
   {
    "duration": 13,
    "start_time": "2024-02-10T15:18:35.205Z"
   },
   {
    "duration": 10,
    "start_time": "2024-02-10T15:18:35.219Z"
   },
   {
    "duration": 6,
    "start_time": "2024-02-10T15:18:35.230Z"
   },
   {
    "duration": 19,
    "start_time": "2024-02-10T15:18:35.237Z"
   },
   {
    "duration": 6,
    "start_time": "2024-02-10T15:18:35.257Z"
   },
   {
    "duration": 7,
    "start_time": "2024-02-10T15:18:35.265Z"
   },
   {
    "duration": 4,
    "start_time": "2024-02-10T15:18:35.274Z"
   },
   {
    "duration": 43,
    "start_time": "2024-02-10T15:18:35.279Z"
   },
   {
    "duration": 236,
    "start_time": "2024-02-10T15:18:35.324Z"
   },
   {
    "duration": 144,
    "start_time": "2024-02-10T15:18:35.562Z"
   },
   {
    "duration": 1172,
    "start_time": "2024-02-10T15:18:35.707Z"
   },
   {
    "duration": 36,
    "start_time": "2024-02-10T15:18:36.880Z"
   },
   {
    "duration": 5,
    "start_time": "2024-02-10T15:18:36.917Z"
   },
   {
    "duration": 783,
    "start_time": "2024-02-10T15:18:36.924Z"
   },
   {
    "duration": 9,
    "start_time": "2024-02-10T15:18:37.708Z"
   },
   {
    "duration": 6,
    "start_time": "2024-02-10T15:18:37.719Z"
   },
   {
    "duration": 6,
    "start_time": "2024-02-10T15:18:37.727Z"
   },
   {
    "duration": 6,
    "start_time": "2024-02-10T15:18:37.737Z"
   },
   {
    "duration": 16,
    "start_time": "2024-02-10T15:18:37.744Z"
   },
   {
    "duration": 154,
    "start_time": "2024-02-10T15:18:37.761Z"
   },
   {
    "duration": 6,
    "start_time": "2024-02-10T15:18:37.917Z"
   },
   {
    "duration": 292,
    "start_time": "2024-02-10T15:18:37.924Z"
   },
   {
    "duration": 516,
    "start_time": "2024-02-10T15:18:38.217Z"
   },
   {
    "duration": 9,
    "start_time": "2024-02-10T15:18:38.735Z"
   },
   {
    "duration": 20,
    "start_time": "2024-02-10T15:18:38.745Z"
   },
   {
    "duration": 34,
    "start_time": "2024-02-10T15:18:38.767Z"
   },
   {
    "duration": 13,
    "start_time": "2024-02-10T15:18:38.803Z"
   },
   {
    "duration": 212,
    "start_time": "2024-02-10T15:18:38.817Z"
   },
   {
    "duration": 7,
    "start_time": "2024-02-10T15:18:39.031Z"
   },
   {
    "duration": 11,
    "start_time": "2024-02-10T15:18:39.040Z"
   },
   {
    "duration": 288,
    "start_time": "2024-02-10T15:18:39.053Z"
   },
   {
    "duration": 20,
    "start_time": "2024-02-10T15:18:39.343Z"
   },
   {
    "duration": 14,
    "start_time": "2024-02-10T15:18:39.364Z"
   },
   {
    "duration": 53,
    "start_time": "2024-02-10T15:18:39.380Z"
   },
   {
    "duration": 32,
    "start_time": "2024-02-10T15:18:39.435Z"
   },
   {
    "duration": 27,
    "start_time": "2024-02-10T15:18:39.469Z"
   },
   {
    "duration": 36,
    "start_time": "2024-02-10T15:18:39.497Z"
   },
   {
    "duration": 36,
    "start_time": "2024-02-10T15:18:39.535Z"
   },
   {
    "duration": 38,
    "start_time": "2024-02-10T15:18:39.572Z"
   },
   {
    "duration": 34,
    "start_time": "2024-02-10T15:18:39.611Z"
   },
   {
    "duration": 23,
    "start_time": "2024-02-10T15:18:39.647Z"
   },
   {
    "duration": 35,
    "start_time": "2024-02-10T15:18:39.672Z"
   },
   {
    "duration": 12,
    "start_time": "2024-02-10T15:18:39.708Z"
   },
   {
    "duration": 11,
    "start_time": "2024-02-10T15:18:39.721Z"
   },
   {
    "duration": 3641,
    "start_time": "2024-02-10T15:18:39.734Z"
   },
   {
    "duration": 57076,
    "start_time": "2024-02-10T15:18:43.377Z"
   },
   {
    "duration": 13352,
    "start_time": "2024-02-10T15:19:40.454Z"
   },
   {
    "duration": 15,
    "start_time": "2024-02-10T15:19:53.808Z"
   },
   {
    "duration": 9,
    "start_time": "2024-02-10T15:19:53.825Z"
   },
   {
    "duration": 7,
    "start_time": "2024-02-10T15:19:53.835Z"
   },
   {
    "duration": 5,
    "start_time": "2024-02-10T15:19:53.843Z"
   },
   {
    "duration": 6,
    "start_time": "2024-02-10T15:19:53.849Z"
   },
   {
    "duration": 15,
    "start_time": "2024-02-10T15:19:53.856Z"
   },
   {
    "duration": 43,
    "start_time": "2024-02-10T15:19:53.873Z"
   },
   {
    "duration": 6,
    "start_time": "2024-02-10T15:19:53.918Z"
   },
   {
    "duration": 7,
    "start_time": "2024-02-10T15:19:53.925Z"
   },
   {
    "duration": 4,
    "start_time": "2024-02-10T15:19:53.934Z"
   },
   {
    "duration": 50417,
    "start_time": "2024-02-10T15:19:53.940Z"
   },
   {
    "duration": 30,
    "start_time": "2024-02-10T15:20:44.359Z"
   },
   {
    "duration": 16,
    "start_time": "2024-02-10T15:20:44.390Z"
   },
   {
    "duration": 38,
    "start_time": "2024-02-10T15:20:44.407Z"
   },
   {
    "duration": 18,
    "start_time": "2024-02-10T15:20:44.446Z"
   },
   {
    "duration": 7,
    "start_time": "2024-02-10T15:20:44.466Z"
   },
   {
    "duration": 23,
    "start_time": "2024-02-10T15:20:44.475Z"
   },
   {
    "duration": 46,
    "start_time": "2024-02-10T15:20:44.499Z"
   },
   {
    "duration": 16,
    "start_time": "2024-02-10T15:20:44.547Z"
   },
   {
    "duration": 31,
    "start_time": "2024-02-10T15:20:44.565Z"
   },
   {
    "duration": 5,
    "start_time": "2024-02-10T15:20:44.598Z"
   },
   {
    "duration": 22,
    "start_time": "2024-02-10T15:20:44.605Z"
   },
   {
    "duration": 32,
    "start_time": "2024-02-10T15:20:44.630Z"
   },
   {
    "duration": 35,
    "start_time": "2024-02-10T15:20:44.663Z"
   },
   {
    "duration": 71,
    "start_time": "2024-02-10T15:20:44.704Z"
   },
   {
    "duration": 6,
    "start_time": "2024-02-10T15:20:44.776Z"
   },
   {
    "duration": 11,
    "start_time": "2024-02-10T15:20:44.784Z"
   },
   {
    "duration": 67,
    "start_time": "2024-02-10T15:20:44.796Z"
   },
   {
    "duration": 4,
    "start_time": "2024-02-10T15:20:44.865Z"
   },
   {
    "duration": 1104,
    "start_time": "2024-02-10T15:20:44.871Z"
   },
   {
    "duration": 614,
    "start_time": "2024-02-10T15:20:45.977Z"
   },
   {
    "duration": 8,
    "start_time": "2024-02-10T15:20:46.592Z"
   },
   {
    "duration": 4,
    "start_time": "2024-02-10T15:20:46.614Z"
   },
   {
    "duration": 19,
    "start_time": "2024-02-10T15:20:46.619Z"
   },
   {
    "duration": 7,
    "start_time": "2024-02-10T15:20:46.639Z"
   },
   {
    "duration": 110,
    "start_time": "2024-02-10T15:20:46.648Z"
   },
   {
    "duration": 160,
    "start_time": "2024-02-10T15:20:46.759Z"
   },
   {
    "duration": 145,
    "start_time": "2024-02-10T15:20:46.921Z"
   },
   {
    "duration": 9,
    "start_time": "2024-02-10T15:20:47.068Z"
   },
   {
    "duration": 5,
    "start_time": "2024-02-10T15:20:47.079Z"
   },
   {
    "duration": 5,
    "start_time": "2024-02-10T15:20:47.085Z"
   },
   {
    "duration": 7,
    "start_time": "2024-02-10T15:20:47.091Z"
   },
   {
    "duration": 4,
    "start_time": "2024-02-10T15:20:47.115Z"
   },
   {
    "duration": 8,
    "start_time": "2024-02-10T15:20:47.121Z"
   },
   {
    "duration": 4,
    "start_time": "2024-02-10T15:20:47.131Z"
   },
   {
    "duration": 140,
    "start_time": "2024-02-10T15:20:47.137Z"
   },
   {
    "duration": 116,
    "start_time": "2024-02-10T15:20:47.279Z"
   },
   {
    "duration": 116,
    "start_time": "2024-02-10T15:20:47.396Z"
   },
   {
    "duration": 6,
    "start_time": "2024-02-10T15:20:47.515Z"
   },
   {
    "duration": 259,
    "start_time": "2024-02-10T15:20:47.522Z"
   },
   {
    "duration": 4809,
    "start_time": "2024-02-10T15:30:14.694Z"
   },
   {
    "duration": 50,
    "start_time": "2024-02-10T15:30:19.505Z"
   },
   {
    "duration": 30,
    "start_time": "2024-02-10T15:30:19.557Z"
   },
   {
    "duration": 28,
    "start_time": "2024-02-10T15:30:19.589Z"
   },
   {
    "duration": 41,
    "start_time": "2024-02-10T15:30:19.619Z"
   },
   {
    "duration": 11,
    "start_time": "2024-02-10T15:30:19.661Z"
   },
   {
    "duration": 35,
    "start_time": "2024-02-10T15:30:19.674Z"
   },
   {
    "duration": 37,
    "start_time": "2024-02-10T15:30:19.711Z"
   },
   {
    "duration": 14,
    "start_time": "2024-02-10T15:30:19.750Z"
   },
   {
    "duration": 7,
    "start_time": "2024-02-10T15:30:19.766Z"
   },
   {
    "duration": 55,
    "start_time": "2024-02-10T15:30:19.774Z"
   },
   {
    "duration": 7,
    "start_time": "2024-02-10T15:30:19.831Z"
   },
   {
    "duration": 7,
    "start_time": "2024-02-10T15:30:19.840Z"
   },
   {
    "duration": 8,
    "start_time": "2024-02-10T15:30:19.849Z"
   },
   {
    "duration": 15,
    "start_time": "2024-02-10T15:30:19.858Z"
   },
   {
    "duration": 7,
    "start_time": "2024-02-10T15:30:19.874Z"
   },
   {
    "duration": 5,
    "start_time": "2024-02-10T15:30:19.882Z"
   },
   {
    "duration": 27,
    "start_time": "2024-02-10T15:30:19.889Z"
   },
   {
    "duration": 225,
    "start_time": "2024-02-10T15:30:19.918Z"
   },
   {
    "duration": 147,
    "start_time": "2024-02-10T15:30:20.145Z"
   },
   {
    "duration": 1141,
    "start_time": "2024-02-10T15:30:20.294Z"
   },
   {
    "duration": 34,
    "start_time": "2024-02-10T15:30:21.437Z"
   },
   {
    "duration": 5,
    "start_time": "2024-02-10T15:30:21.473Z"
   },
   {
    "duration": 797,
    "start_time": "2024-02-10T15:30:21.479Z"
   },
   {
    "duration": 6,
    "start_time": "2024-02-10T15:30:22.278Z"
   },
   {
    "duration": 14,
    "start_time": "2024-02-10T15:30:22.286Z"
   },
   {
    "duration": 15,
    "start_time": "2024-02-10T15:30:22.302Z"
   },
   {
    "duration": 5,
    "start_time": "2024-02-10T15:30:22.321Z"
   },
   {
    "duration": 6,
    "start_time": "2024-02-10T15:30:22.328Z"
   },
   {
    "duration": 139,
    "start_time": "2024-02-10T15:30:22.336Z"
   },
   {
    "duration": 6,
    "start_time": "2024-02-10T15:30:22.477Z"
   },
   {
    "duration": 284,
    "start_time": "2024-02-10T15:30:22.485Z"
   },
   {
    "duration": 528,
    "start_time": "2024-02-10T15:30:22.770Z"
   },
   {
    "duration": 16,
    "start_time": "2024-02-10T15:30:23.299Z"
   },
   {
    "duration": 6,
    "start_time": "2024-02-10T15:30:23.317Z"
   },
   {
    "duration": 9,
    "start_time": "2024-02-10T15:30:23.324Z"
   },
   {
    "duration": 8,
    "start_time": "2024-02-10T15:30:23.334Z"
   },
   {
    "duration": 178,
    "start_time": "2024-02-10T15:30:23.343Z"
   },
   {
    "duration": 6,
    "start_time": "2024-02-10T15:30:23.522Z"
   },
   {
    "duration": 7,
    "start_time": "2024-02-10T15:30:23.530Z"
   },
   {
    "duration": 286,
    "start_time": "2024-02-10T15:30:23.538Z"
   },
   {
    "duration": 19,
    "start_time": "2024-02-10T15:30:23.826Z"
   },
   {
    "duration": 6,
    "start_time": "2024-02-10T15:30:23.847Z"
   },
   {
    "duration": 22,
    "start_time": "2024-02-10T15:30:23.855Z"
   },
   {
    "duration": 4,
    "start_time": "2024-02-10T15:30:23.878Z"
   },
   {
    "duration": 5,
    "start_time": "2024-02-10T15:30:23.883Z"
   },
   {
    "duration": 12,
    "start_time": "2024-02-10T15:30:23.889Z"
   },
   {
    "duration": 19,
    "start_time": "2024-02-10T15:30:23.902Z"
   },
   {
    "duration": 14,
    "start_time": "2024-02-10T15:30:23.922Z"
   },
   {
    "duration": 6,
    "start_time": "2024-02-10T15:30:23.937Z"
   },
   {
    "duration": 6,
    "start_time": "2024-02-10T15:30:23.945Z"
   },
   {
    "duration": 15,
    "start_time": "2024-02-10T15:30:23.952Z"
   },
   {
    "duration": 13,
    "start_time": "2024-02-10T15:30:23.968Z"
   },
   {
    "duration": 41,
    "start_time": "2024-02-10T15:30:23.982Z"
   },
   {
    "duration": 3595,
    "start_time": "2024-02-10T15:30:24.024Z"
   },
   {
    "duration": 61976,
    "start_time": "2024-02-10T15:30:27.620Z"
   },
   {
    "duration": 13467,
    "start_time": "2024-02-10T15:31:29.598Z"
   },
   {
    "duration": 11,
    "start_time": "2024-02-10T15:31:43.067Z"
   },
   {
    "duration": 35,
    "start_time": "2024-02-10T15:31:43.080Z"
   },
   {
    "duration": 7,
    "start_time": "2024-02-10T15:31:43.117Z"
   },
   {
    "duration": 4,
    "start_time": "2024-02-10T15:31:43.125Z"
   },
   {
    "duration": 6,
    "start_time": "2024-02-10T15:31:43.131Z"
   },
   {
    "duration": 3,
    "start_time": "2024-02-10T15:31:43.138Z"
   },
   {
    "duration": 4,
    "start_time": "2024-02-10T15:31:43.142Z"
   },
   {
    "duration": 3,
    "start_time": "2024-02-10T15:31:43.147Z"
   },
   {
    "duration": 3,
    "start_time": "2024-02-10T15:31:43.152Z"
   },
   {
    "duration": 5,
    "start_time": "2024-02-10T15:31:43.156Z"
   },
   {
    "duration": 4628,
    "start_time": "2024-02-10T15:32:09.158Z"
   },
   {
    "duration": 54,
    "start_time": "2024-02-10T15:32:13.788Z"
   },
   {
    "duration": 29,
    "start_time": "2024-02-10T15:32:13.843Z"
   },
   {
    "duration": 28,
    "start_time": "2024-02-10T15:32:13.874Z"
   },
   {
    "duration": 36,
    "start_time": "2024-02-10T15:32:13.904Z"
   },
   {
    "duration": 10,
    "start_time": "2024-02-10T15:32:13.942Z"
   },
   {
    "duration": 5,
    "start_time": "2024-02-10T15:32:13.953Z"
   },
   {
    "duration": 10,
    "start_time": "2024-02-10T15:32:13.960Z"
   },
   {
    "duration": 6,
    "start_time": "2024-02-10T15:32:13.972Z"
   },
   {
    "duration": 7,
    "start_time": "2024-02-10T15:32:13.980Z"
   },
   {
    "duration": 7,
    "start_time": "2024-02-10T15:32:13.988Z"
   },
   {
    "duration": 23,
    "start_time": "2024-02-10T15:32:13.996Z"
   },
   {
    "duration": 5,
    "start_time": "2024-02-10T15:32:14.021Z"
   },
   {
    "duration": 6,
    "start_time": "2024-02-10T15:32:14.027Z"
   },
   {
    "duration": 16,
    "start_time": "2024-02-10T15:32:14.034Z"
   },
   {
    "duration": 8,
    "start_time": "2024-02-10T15:32:14.052Z"
   },
   {
    "duration": 7,
    "start_time": "2024-02-10T15:32:14.061Z"
   },
   {
    "duration": 21,
    "start_time": "2024-02-10T15:32:14.069Z"
   },
   {
    "duration": 260,
    "start_time": "2024-02-10T15:32:14.091Z"
   },
   {
    "duration": 154,
    "start_time": "2024-02-10T15:32:14.353Z"
   },
   {
    "duration": 1190,
    "start_time": "2024-02-10T15:32:14.508Z"
   },
   {
    "duration": 40,
    "start_time": "2024-02-10T15:32:15.700Z"
   },
   {
    "duration": 6,
    "start_time": "2024-02-10T15:32:15.742Z"
   },
   {
    "duration": 809,
    "start_time": "2024-02-10T15:32:15.749Z"
   },
   {
    "duration": 7,
    "start_time": "2024-02-10T15:32:16.560Z"
   },
   {
    "duration": 18,
    "start_time": "2024-02-10T15:32:16.569Z"
   },
   {
    "duration": 26,
    "start_time": "2024-02-10T15:32:16.589Z"
   },
   {
    "duration": 8,
    "start_time": "2024-02-10T15:32:16.620Z"
   },
   {
    "duration": 28,
    "start_time": "2024-02-10T15:32:16.629Z"
   },
   {
    "duration": 153,
    "start_time": "2024-02-10T15:32:16.659Z"
   },
   {
    "duration": 7,
    "start_time": "2024-02-10T15:32:16.814Z"
   },
   {
    "duration": 293,
    "start_time": "2024-02-10T15:32:16.822Z"
   },
   {
    "duration": 505,
    "start_time": "2024-02-10T15:32:17.117Z"
   },
   {
    "duration": 9,
    "start_time": "2024-02-10T15:32:17.623Z"
   },
   {
    "duration": 8,
    "start_time": "2024-02-10T15:32:17.634Z"
   },
   {
    "duration": 21,
    "start_time": "2024-02-10T15:32:17.643Z"
   },
   {
    "duration": 19,
    "start_time": "2024-02-10T15:32:17.666Z"
   },
   {
    "duration": 184,
    "start_time": "2024-02-10T15:32:17.687Z"
   },
   {
    "duration": 6,
    "start_time": "2024-02-10T15:32:17.873Z"
   },
   {
    "duration": 17,
    "start_time": "2024-02-10T15:32:17.881Z"
   },
   {
    "duration": 307,
    "start_time": "2024-02-10T15:32:17.900Z"
   },
   {
    "duration": 21,
    "start_time": "2024-02-10T15:32:18.209Z"
   },
   {
    "duration": 5,
    "start_time": "2024-02-10T15:32:18.232Z"
   },
   {
    "duration": 15,
    "start_time": "2024-02-10T15:32:18.239Z"
   },
   {
    "duration": 4,
    "start_time": "2024-02-10T15:32:18.255Z"
   },
   {
    "duration": 16,
    "start_time": "2024-02-10T15:32:18.261Z"
   },
   {
    "duration": 24,
    "start_time": "2024-02-10T15:32:18.278Z"
   },
   {
    "duration": 19,
    "start_time": "2024-02-10T15:32:18.304Z"
   },
   {
    "duration": 32,
    "start_time": "2024-02-10T15:32:18.325Z"
   },
   {
    "duration": 17,
    "start_time": "2024-02-10T15:32:18.359Z"
   },
   {
    "duration": 6,
    "start_time": "2024-02-10T15:32:18.378Z"
   },
   {
    "duration": 38,
    "start_time": "2024-02-10T15:32:18.385Z"
   },
   {
    "duration": 18,
    "start_time": "2024-02-10T15:32:18.424Z"
   },
   {
    "duration": 20,
    "start_time": "2024-02-10T15:32:18.444Z"
   },
   {
    "duration": 3706,
    "start_time": "2024-02-10T15:32:18.465Z"
   },
   {
    "duration": 64429,
    "start_time": "2024-02-10T15:32:22.173Z"
   },
   {
    "duration": 12,
    "start_time": "2024-02-10T15:33:26.605Z"
   },
   {
    "duration": 11,
    "start_time": "2024-02-10T15:33:26.619Z"
   },
   {
    "duration": 6,
    "start_time": "2024-02-10T15:33:26.632Z"
   },
   {
    "duration": 19,
    "start_time": "2024-02-10T15:33:26.639Z"
   },
   {
    "duration": 56,
    "start_time": "2024-02-10T15:33:26.660Z"
   },
   {
    "duration": 15,
    "start_time": "2024-02-10T15:33:26.718Z"
   },
   {
    "duration": 15,
    "start_time": "2024-02-10T15:33:26.734Z"
   },
   {
    "duration": 5,
    "start_time": "2024-02-10T15:33:26.751Z"
   },
   {
    "duration": 57,
    "start_time": "2024-02-10T15:33:26.758Z"
   },
   {
    "duration": 1193,
    "start_time": "2024-02-10T15:33:26.817Z"
   },
   {
    "duration": 50760,
    "start_time": "2024-02-10T15:33:28.014Z"
   },
   {
    "duration": 28,
    "start_time": "2024-02-10T15:34:18.775Z"
   },
   {
    "duration": 15,
    "start_time": "2024-02-10T15:34:18.804Z"
   },
   {
    "duration": 12,
    "start_time": "2024-02-10T15:34:18.820Z"
   },
   {
    "duration": 5,
    "start_time": "2024-02-10T15:34:18.834Z"
   },
   {
    "duration": 13,
    "start_time": "2024-02-10T15:34:18.841Z"
   },
   {
    "duration": 6,
    "start_time": "2024-02-10T15:34:18.856Z"
   },
   {
    "duration": 18,
    "start_time": "2024-02-10T15:34:18.864Z"
   },
   {
    "duration": 38,
    "start_time": "2024-02-10T15:34:18.883Z"
   },
   {
    "duration": 21,
    "start_time": "2024-02-10T15:34:18.922Z"
   },
   {
    "duration": 4,
    "start_time": "2024-02-10T15:34:18.944Z"
   },
   {
    "duration": 4,
    "start_time": "2024-02-10T15:34:18.950Z"
   },
   {
    "duration": 18,
    "start_time": "2024-02-10T15:34:18.955Z"
   },
   {
    "duration": 57,
    "start_time": "2024-02-10T15:34:18.974Z"
   },
   {
    "duration": 95,
    "start_time": "2024-02-10T15:34:19.032Z"
   },
   {
    "duration": 6,
    "start_time": "2024-02-10T15:34:19.133Z"
   },
   {
    "duration": 3,
    "start_time": "2024-02-10T15:34:19.141Z"
   },
   {
    "duration": 37,
    "start_time": "2024-02-10T15:34:19.146Z"
   },
   {
    "duration": 3,
    "start_time": "2024-02-10T15:34:19.185Z"
   },
   {
    "duration": 841,
    "start_time": "2024-02-10T15:34:19.214Z"
   },
   {
    "duration": 616,
    "start_time": "2024-02-10T15:34:20.056Z"
   },
   {
    "duration": 8,
    "start_time": "2024-02-10T15:34:20.673Z"
   },
   {
    "duration": 4,
    "start_time": "2024-02-10T15:34:20.683Z"
   },
   {
    "duration": 32,
    "start_time": "2024-02-10T15:34:20.688Z"
   },
   {
    "duration": 9,
    "start_time": "2024-02-10T15:34:20.722Z"
   },
   {
    "duration": 115,
    "start_time": "2024-02-10T15:34:20.732Z"
   },
   {
    "duration": 140,
    "start_time": "2024-02-10T15:34:20.849Z"
   },
   {
    "duration": 139,
    "start_time": "2024-02-10T15:34:20.991Z"
   },
   {
    "duration": 9,
    "start_time": "2024-02-10T15:34:21.131Z"
   },
   {
    "duration": 6,
    "start_time": "2024-02-10T15:34:21.141Z"
   },
   {
    "duration": 6,
    "start_time": "2024-02-10T15:34:21.148Z"
   },
   {
    "duration": 4,
    "start_time": "2024-02-10T15:34:21.155Z"
   },
   {
    "duration": 3,
    "start_time": "2024-02-10T15:34:21.161Z"
   },
   {
    "duration": 6,
    "start_time": "2024-02-10T15:34:21.165Z"
   },
   {
    "duration": 7,
    "start_time": "2024-02-10T15:34:21.172Z"
   },
   {
    "duration": 145,
    "start_time": "2024-02-10T15:34:21.180Z"
   },
   {
    "duration": 133,
    "start_time": "2024-02-10T15:34:21.327Z"
   },
   {
    "duration": 118,
    "start_time": "2024-02-10T15:34:21.461Z"
   },
   {
    "duration": 7,
    "start_time": "2024-02-10T15:34:21.580Z"
   },
   {
    "duration": 259,
    "start_time": "2024-02-10T15:34:21.589Z"
   },
   {
    "duration": 4745,
    "start_time": "2024-02-10T15:35:31.460Z"
   },
   {
    "duration": 53,
    "start_time": "2024-02-10T15:35:36.206Z"
   },
   {
    "duration": 29,
    "start_time": "2024-02-10T15:35:36.261Z"
   },
   {
    "duration": 28,
    "start_time": "2024-02-10T15:35:36.292Z"
   },
   {
    "duration": 36,
    "start_time": "2024-02-10T15:35:36.321Z"
   },
   {
    "duration": 10,
    "start_time": "2024-02-10T15:35:36.358Z"
   },
   {
    "duration": 6,
    "start_time": "2024-02-10T15:35:36.369Z"
   },
   {
    "duration": 11,
    "start_time": "2024-02-10T15:35:36.376Z"
   },
   {
    "duration": 5,
    "start_time": "2024-02-10T15:35:36.389Z"
   },
   {
    "duration": 9,
    "start_time": "2024-02-10T15:35:36.396Z"
   },
   {
    "duration": 6,
    "start_time": "2024-02-10T15:35:36.407Z"
   },
   {
    "duration": 8,
    "start_time": "2024-02-10T15:35:36.414Z"
   },
   {
    "duration": 5,
    "start_time": "2024-02-10T15:35:36.423Z"
   },
   {
    "duration": 4,
    "start_time": "2024-02-10T15:35:36.429Z"
   },
   {
    "duration": 14,
    "start_time": "2024-02-10T15:35:36.435Z"
   },
   {
    "duration": 7,
    "start_time": "2024-02-10T15:35:36.450Z"
   },
   {
    "duration": 4,
    "start_time": "2024-02-10T15:35:36.459Z"
   },
   {
    "duration": 11,
    "start_time": "2024-02-10T15:35:36.464Z"
   },
   {
    "duration": 248,
    "start_time": "2024-02-10T15:35:36.477Z"
   },
   {
    "duration": 152,
    "start_time": "2024-02-10T15:35:36.726Z"
   },
   {
    "duration": 1148,
    "start_time": "2024-02-10T15:35:36.879Z"
   },
   {
    "duration": 31,
    "start_time": "2024-02-10T15:35:38.029Z"
   },
   {
    "duration": 5,
    "start_time": "2024-02-10T15:35:38.062Z"
   },
   {
    "duration": 823,
    "start_time": "2024-02-10T15:35:38.068Z"
   },
   {
    "duration": 6,
    "start_time": "2024-02-10T15:35:38.893Z"
   },
   {
    "duration": 20,
    "start_time": "2024-02-10T15:35:38.900Z"
   },
   {
    "duration": 5,
    "start_time": "2024-02-10T15:35:38.921Z"
   },
   {
    "duration": 5,
    "start_time": "2024-02-10T15:35:38.931Z"
   },
   {
    "duration": 8,
    "start_time": "2024-02-10T15:35:38.938Z"
   },
   {
    "duration": 155,
    "start_time": "2024-02-10T15:35:38.948Z"
   },
   {
    "duration": 11,
    "start_time": "2024-02-10T15:35:39.105Z"
   },
   {
    "duration": 285,
    "start_time": "2024-02-10T15:35:39.118Z"
   },
   {
    "duration": 512,
    "start_time": "2024-02-10T15:35:39.405Z"
   },
   {
    "duration": 9,
    "start_time": "2024-02-10T15:35:39.918Z"
   },
   {
    "duration": 5,
    "start_time": "2024-02-10T15:35:39.929Z"
   },
   {
    "duration": 8,
    "start_time": "2024-02-10T15:35:39.936Z"
   },
   {
    "duration": 7,
    "start_time": "2024-02-10T15:35:39.945Z"
   },
   {
    "duration": 176,
    "start_time": "2024-02-10T15:35:39.953Z"
   },
   {
    "duration": 7,
    "start_time": "2024-02-10T15:35:40.130Z"
   },
   {
    "duration": 9,
    "start_time": "2024-02-10T15:35:40.139Z"
   },
   {
    "duration": 283,
    "start_time": "2024-02-10T15:35:40.149Z"
   },
   {
    "duration": 23,
    "start_time": "2024-02-10T15:35:40.434Z"
   },
   {
    "duration": 7,
    "start_time": "2024-02-10T15:35:40.459Z"
   },
   {
    "duration": 10,
    "start_time": "2024-02-10T15:35:40.467Z"
   },
   {
    "duration": 2,
    "start_time": "2024-02-10T15:35:40.479Z"
   },
   {
    "duration": 4,
    "start_time": "2024-02-10T15:35:40.515Z"
   },
   {
    "duration": 5,
    "start_time": "2024-02-10T15:35:40.521Z"
   },
   {
    "duration": 9,
    "start_time": "2024-02-10T15:35:40.528Z"
   },
   {
    "duration": 13,
    "start_time": "2024-02-10T15:35:40.538Z"
   },
   {
    "duration": 7,
    "start_time": "2024-02-10T15:35:40.553Z"
   },
   {
    "duration": 9,
    "start_time": "2024-02-10T15:35:40.561Z"
   },
   {
    "duration": 14,
    "start_time": "2024-02-10T15:35:40.572Z"
   },
   {
    "duration": 11,
    "start_time": "2024-02-10T15:35:40.615Z"
   },
   {
    "duration": 14,
    "start_time": "2024-02-10T15:35:40.627Z"
   },
   {
    "duration": 3541,
    "start_time": "2024-02-10T15:35:40.642Z"
   },
   {
    "duration": 69829,
    "start_time": "2024-02-10T15:35:44.185Z"
   },
   {
    "duration": 18,
    "start_time": "2024-02-10T15:36:54.017Z"
   },
   {
    "duration": 16,
    "start_time": "2024-02-10T15:36:54.037Z"
   },
   {
    "duration": 6,
    "start_time": "2024-02-10T15:36:54.054Z"
   },
   {
    "duration": 55,
    "start_time": "2024-02-10T15:36:54.061Z"
   },
   {
    "duration": 7,
    "start_time": "2024-02-10T15:36:54.118Z"
   },
   {
    "duration": 4,
    "start_time": "2024-02-10T15:36:54.126Z"
   },
   {
    "duration": 5,
    "start_time": "2024-02-10T15:36:54.131Z"
   },
   {
    "duration": 4,
    "start_time": "2024-02-10T15:36:54.137Z"
   },
   {
    "duration": 9,
    "start_time": "2024-02-10T15:36:54.142Z"
   },
   {
    "duration": 6,
    "start_time": "2024-02-10T15:36:54.153Z"
   },
   {
    "duration": 49292,
    "start_time": "2024-02-10T15:36:54.160Z"
   },
   {
    "duration": 30,
    "start_time": "2024-02-10T15:37:43.454Z"
   },
   {
    "duration": 5,
    "start_time": "2024-02-10T15:37:43.486Z"
   },
   {
    "duration": 27,
    "start_time": "2024-02-10T15:37:43.492Z"
   },
   {
    "duration": 7,
    "start_time": "2024-02-10T15:37:43.521Z"
   },
   {
    "duration": 11,
    "start_time": "2024-02-10T15:37:43.530Z"
   },
   {
    "duration": 13,
    "start_time": "2024-02-10T15:37:43.543Z"
   },
   {
    "duration": 20,
    "start_time": "2024-02-10T15:37:43.557Z"
   },
   {
    "duration": 17,
    "start_time": "2024-02-10T15:37:43.579Z"
   },
   {
    "duration": 36,
    "start_time": "2024-02-10T15:37:43.597Z"
   },
   {
    "duration": 4,
    "start_time": "2024-02-10T15:37:43.634Z"
   },
   {
    "duration": 9,
    "start_time": "2024-02-10T15:37:43.639Z"
   },
   {
    "duration": 26,
    "start_time": "2024-02-10T15:37:43.649Z"
   },
   {
    "duration": 40,
    "start_time": "2024-02-10T15:37:43.677Z"
   },
   {
    "duration": 71,
    "start_time": "2024-02-10T15:37:43.719Z"
   },
   {
    "duration": 19,
    "start_time": "2024-02-10T15:37:43.796Z"
   },
   {
    "duration": 3,
    "start_time": "2024-02-10T15:37:43.817Z"
   },
   {
    "duration": 42,
    "start_time": "2024-02-10T15:37:43.822Z"
   },
   {
    "duration": 4,
    "start_time": "2024-02-10T15:37:43.866Z"
   },
   {
    "duration": 896,
    "start_time": "2024-02-10T15:37:43.871Z"
   },
   {
    "duration": 643,
    "start_time": "2024-02-10T15:37:44.769Z"
   },
   {
    "duration": 8,
    "start_time": "2024-02-10T15:37:45.414Z"
   },
   {
    "duration": 5,
    "start_time": "2024-02-10T15:37:45.423Z"
   },
   {
    "duration": 20,
    "start_time": "2024-02-10T15:37:45.429Z"
   },
   {
    "duration": 12,
    "start_time": "2024-02-10T15:37:45.450Z"
   },
   {
    "duration": 113,
    "start_time": "2024-02-10T15:37:45.464Z"
   },
   {
    "duration": 154,
    "start_time": "2024-02-10T15:37:45.578Z"
   },
   {
    "duration": 154,
    "start_time": "2024-02-10T15:37:45.733Z"
   },
   {
    "duration": 9,
    "start_time": "2024-02-10T15:37:45.889Z"
   },
   {
    "duration": 16,
    "start_time": "2024-02-10T15:37:45.900Z"
   },
   {
    "duration": 5,
    "start_time": "2024-02-10T15:37:45.917Z"
   },
   {
    "duration": 6,
    "start_time": "2024-02-10T15:37:45.923Z"
   },
   {
    "duration": 5,
    "start_time": "2024-02-10T15:37:45.930Z"
   },
   {
    "duration": 7,
    "start_time": "2024-02-10T15:37:45.936Z"
   },
   {
    "duration": 7,
    "start_time": "2024-02-10T15:37:45.944Z"
   },
   {
    "duration": 131,
    "start_time": "2024-02-10T15:37:45.952Z"
   },
   {
    "duration": 119,
    "start_time": "2024-02-10T15:37:46.084Z"
   },
   {
    "duration": 120,
    "start_time": "2024-02-10T15:37:46.205Z"
   },
   {
    "duration": 7,
    "start_time": "2024-02-10T15:37:46.326Z"
   },
   {
    "duration": 264,
    "start_time": "2024-02-10T15:37:46.335Z"
   },
   {
    "duration": 4614,
    "start_time": "2024-02-10T15:39:32.579Z"
   },
   {
    "duration": 51,
    "start_time": "2024-02-10T15:39:37.195Z"
   },
   {
    "duration": 29,
    "start_time": "2024-02-10T15:39:37.247Z"
   },
   {
    "duration": 28,
    "start_time": "2024-02-10T15:39:37.278Z"
   },
   {
    "duration": 36,
    "start_time": "2024-02-10T15:39:37.307Z"
   },
   {
    "duration": 9,
    "start_time": "2024-02-10T15:39:37.345Z"
   },
   {
    "duration": 9,
    "start_time": "2024-02-10T15:39:37.356Z"
   },
   {
    "duration": 10,
    "start_time": "2024-02-10T15:39:37.366Z"
   },
   {
    "duration": 6,
    "start_time": "2024-02-10T15:39:37.377Z"
   },
   {
    "duration": 6,
    "start_time": "2024-02-10T15:39:37.385Z"
   },
   {
    "duration": 6,
    "start_time": "2024-02-10T15:39:37.392Z"
   },
   {
    "duration": 19,
    "start_time": "2024-02-10T15:39:37.399Z"
   },
   {
    "duration": 4,
    "start_time": "2024-02-10T15:39:37.420Z"
   },
   {
    "duration": 6,
    "start_time": "2024-02-10T15:39:37.426Z"
   },
   {
    "duration": 6,
    "start_time": "2024-02-10T15:39:37.433Z"
   },
   {
    "duration": 7,
    "start_time": "2024-02-10T15:39:37.441Z"
   },
   {
    "duration": 4,
    "start_time": "2024-02-10T15:39:37.449Z"
   },
   {
    "duration": 11,
    "start_time": "2024-02-10T15:39:37.455Z"
   },
   {
    "duration": 251,
    "start_time": "2024-02-10T15:39:37.467Z"
   },
   {
    "duration": 144,
    "start_time": "2024-02-10T15:39:37.720Z"
   },
   {
    "duration": 1205,
    "start_time": "2024-02-10T15:39:37.866Z"
   },
   {
    "duration": 32,
    "start_time": "2024-02-10T15:39:39.072Z"
   },
   {
    "duration": 5,
    "start_time": "2024-02-10T15:39:39.115Z"
   },
   {
    "duration": 809,
    "start_time": "2024-02-10T15:39:39.121Z"
   },
   {
    "duration": 7,
    "start_time": "2024-02-10T15:39:39.932Z"
   },
   {
    "duration": 6,
    "start_time": "2024-02-10T15:39:39.941Z"
   },
   {
    "duration": 7,
    "start_time": "2024-02-10T15:39:39.948Z"
   },
   {
    "duration": 6,
    "start_time": "2024-02-10T15:39:39.959Z"
   },
   {
    "duration": 13,
    "start_time": "2024-02-10T15:39:39.966Z"
   },
   {
    "duration": 155,
    "start_time": "2024-02-10T15:39:39.980Z"
   },
   {
    "duration": 7,
    "start_time": "2024-02-10T15:39:40.136Z"
   },
   {
    "duration": 287,
    "start_time": "2024-02-10T15:39:40.144Z"
   },
   {
    "duration": 484,
    "start_time": "2024-02-10T15:39:40.433Z"
   },
   {
    "duration": 10,
    "start_time": "2024-02-10T15:39:40.919Z"
   },
   {
    "duration": 9,
    "start_time": "2024-02-10T15:39:40.931Z"
   },
   {
    "duration": 12,
    "start_time": "2024-02-10T15:39:40.942Z"
   },
   {
    "duration": 6,
    "start_time": "2024-02-10T15:39:40.955Z"
   },
   {
    "duration": 178,
    "start_time": "2024-02-10T15:39:40.962Z"
   },
   {
    "duration": 7,
    "start_time": "2024-02-10T15:39:41.141Z"
   },
   {
    "duration": 8,
    "start_time": "2024-02-10T15:39:41.149Z"
   },
   {
    "duration": 297,
    "start_time": "2024-02-10T15:39:41.159Z"
   },
   {
    "duration": 19,
    "start_time": "2024-02-10T15:39:41.458Z"
   },
   {
    "duration": 7,
    "start_time": "2024-02-10T15:39:41.478Z"
   },
   {
    "duration": 33,
    "start_time": "2024-02-10T15:39:41.487Z"
   },
   {
    "duration": 7,
    "start_time": "2024-02-10T15:39:41.522Z"
   },
   {
    "duration": 4,
    "start_time": "2024-02-10T15:39:41.530Z"
   },
   {
    "duration": 4,
    "start_time": "2024-02-10T15:39:41.535Z"
   },
   {
    "duration": 8,
    "start_time": "2024-02-10T15:39:41.540Z"
   },
   {
    "duration": 12,
    "start_time": "2024-02-10T15:39:41.549Z"
   },
   {
    "duration": 6,
    "start_time": "2024-02-10T15:39:41.562Z"
   },
   {
    "duration": 6,
    "start_time": "2024-02-10T15:39:41.569Z"
   },
   {
    "duration": 43,
    "start_time": "2024-02-10T15:39:41.577Z"
   },
   {
    "duration": 12,
    "start_time": "2024-02-10T15:39:41.621Z"
   },
   {
    "duration": 10,
    "start_time": "2024-02-10T15:39:41.634Z"
   },
   {
    "duration": 3634,
    "start_time": "2024-02-10T15:39:41.646Z"
   },
   {
    "duration": 71606,
    "start_time": "2024-02-10T15:39:45.282Z"
   },
   {
    "duration": 34,
    "start_time": "2024-02-10T15:40:56.890Z"
   },
   {
    "duration": 9,
    "start_time": "2024-02-10T15:40:56.925Z"
   },
   {
    "duration": 7,
    "start_time": "2024-02-10T15:40:56.936Z"
   },
   {
    "duration": 2,
    "start_time": "2024-02-10T15:40:56.945Z"
   },
   {
    "duration": 7,
    "start_time": "2024-02-10T15:40:56.949Z"
   },
   {
    "duration": 59,
    "start_time": "2024-02-10T15:40:56.958Z"
   },
   {
    "duration": 5,
    "start_time": "2024-02-10T15:40:57.019Z"
   },
   {
    "duration": 4,
    "start_time": "2024-02-10T15:40:57.026Z"
   },
   {
    "duration": 4,
    "start_time": "2024-02-10T15:40:57.032Z"
   },
   {
    "duration": 5,
    "start_time": "2024-02-10T15:40:57.037Z"
   },
   {
    "duration": 49790,
    "start_time": "2024-02-10T15:40:57.044Z"
   },
   {
    "duration": 30,
    "start_time": "2024-02-10T15:41:46.836Z"
   },
   {
    "duration": 20,
    "start_time": "2024-02-10T15:41:46.868Z"
   },
   {
    "duration": 17,
    "start_time": "2024-02-10T15:41:46.890Z"
   },
   {
    "duration": 7,
    "start_time": "2024-02-10T15:41:46.909Z"
   },
   {
    "duration": 7,
    "start_time": "2024-02-10T15:41:46.918Z"
   },
   {
    "duration": 11,
    "start_time": "2024-02-10T15:41:46.927Z"
   },
   {
    "duration": 21,
    "start_time": "2024-02-10T15:41:46.940Z"
   },
   {
    "duration": 17,
    "start_time": "2024-02-10T15:41:46.963Z"
   },
   {
    "duration": 41,
    "start_time": "2024-02-10T15:41:46.982Z"
   },
   {
    "duration": 4,
    "start_time": "2024-02-10T15:41:47.025Z"
   },
   {
    "duration": 11,
    "start_time": "2024-02-10T15:41:47.030Z"
   },
   {
    "duration": 19,
    "start_time": "2024-02-10T15:41:47.042Z"
   },
   {
    "duration": 27,
    "start_time": "2024-02-10T15:41:47.063Z"
   },
   {
    "duration": 95,
    "start_time": "2024-02-10T15:41:47.092Z"
   },
   {
    "duration": 7,
    "start_time": "2024-02-10T15:41:47.192Z"
   },
   {
    "duration": 16,
    "start_time": "2024-02-10T15:41:47.200Z"
   },
   {
    "duration": 35,
    "start_time": "2024-02-10T15:41:47.218Z"
   },
   {
    "duration": 3,
    "start_time": "2024-02-10T15:41:47.255Z"
   },
   {
    "duration": 899,
    "start_time": "2024-02-10T15:41:47.260Z"
   },
   {
    "duration": 610,
    "start_time": "2024-02-10T15:41:48.161Z"
   },
   {
    "duration": 9,
    "start_time": "2024-02-10T15:41:48.773Z"
   },
   {
    "duration": 4,
    "start_time": "2024-02-10T15:41:48.784Z"
   },
   {
    "duration": 35,
    "start_time": "2024-02-10T15:41:48.790Z"
   },
   {
    "duration": 8,
    "start_time": "2024-02-10T15:41:48.826Z"
   },
   {
    "duration": 111,
    "start_time": "2024-02-10T15:41:48.836Z"
   },
   {
    "duration": 167,
    "start_time": "2024-02-10T15:41:48.949Z"
   },
   {
    "duration": 142,
    "start_time": "2024-02-10T15:41:49.118Z"
   },
   {
    "duration": 10,
    "start_time": "2024-02-10T15:41:49.262Z"
   },
   {
    "duration": 13,
    "start_time": "2024-02-10T15:41:49.273Z"
   },
   {
    "duration": 6,
    "start_time": "2024-02-10T15:41:49.288Z"
   },
   {
    "duration": 13,
    "start_time": "2024-02-10T15:41:49.295Z"
   },
   {
    "duration": 6,
    "start_time": "2024-02-10T15:41:49.310Z"
   },
   {
    "duration": 12,
    "start_time": "2024-02-10T15:41:49.318Z"
   },
   {
    "duration": 5,
    "start_time": "2024-02-10T15:41:49.331Z"
   },
   {
    "duration": 127,
    "start_time": "2024-02-10T15:41:49.337Z"
   },
   {
    "duration": 134,
    "start_time": "2024-02-10T15:41:49.466Z"
   },
   {
    "duration": 122,
    "start_time": "2024-02-10T15:41:49.601Z"
   },
   {
    "duration": 7,
    "start_time": "2024-02-10T15:41:49.724Z"
   },
   {
    "duration": 258,
    "start_time": "2024-02-10T15:41:49.732Z"
   },
   {
    "duration": 4762,
    "start_time": "2024-02-10T15:43:42.425Z"
   },
   {
    "duration": 50,
    "start_time": "2024-02-10T15:43:47.189Z"
   },
   {
    "duration": 29,
    "start_time": "2024-02-10T15:43:47.240Z"
   },
   {
    "duration": 27,
    "start_time": "2024-02-10T15:43:47.271Z"
   },
   {
    "duration": 36,
    "start_time": "2024-02-10T15:43:47.299Z"
   },
   {
    "duration": 10,
    "start_time": "2024-02-10T15:43:47.336Z"
   },
   {
    "duration": 6,
    "start_time": "2024-02-10T15:43:47.347Z"
   },
   {
    "duration": 8,
    "start_time": "2024-02-10T15:43:47.354Z"
   },
   {
    "duration": 4,
    "start_time": "2024-02-10T15:43:47.364Z"
   },
   {
    "duration": 12,
    "start_time": "2024-02-10T15:43:47.371Z"
   },
   {
    "duration": 15,
    "start_time": "2024-02-10T15:43:47.384Z"
   },
   {
    "duration": 16,
    "start_time": "2024-02-10T15:43:47.400Z"
   },
   {
    "duration": 5,
    "start_time": "2024-02-10T15:43:47.418Z"
   },
   {
    "duration": 6,
    "start_time": "2024-02-10T15:43:47.424Z"
   },
   {
    "duration": 9,
    "start_time": "2024-02-10T15:43:47.431Z"
   },
   {
    "duration": 11,
    "start_time": "2024-02-10T15:43:47.441Z"
   },
   {
    "duration": 16,
    "start_time": "2024-02-10T15:43:47.453Z"
   },
   {
    "duration": 11,
    "start_time": "2024-02-10T15:43:47.470Z"
   },
   {
    "duration": 235,
    "start_time": "2024-02-10T15:43:47.483Z"
   },
   {
    "duration": 148,
    "start_time": "2024-02-10T15:43:47.719Z"
   },
   {
    "duration": 1163,
    "start_time": "2024-02-10T15:43:47.869Z"
   },
   {
    "duration": 30,
    "start_time": "2024-02-10T15:43:49.033Z"
   },
   {
    "duration": 5,
    "start_time": "2024-02-10T15:43:49.064Z"
   },
   {
    "duration": 784,
    "start_time": "2024-02-10T15:43:49.070Z"
   },
   {
    "duration": 6,
    "start_time": "2024-02-10T15:43:49.855Z"
   },
   {
    "duration": 7,
    "start_time": "2024-02-10T15:43:49.863Z"
   },
   {
    "duration": 10,
    "start_time": "2024-02-10T15:43:49.871Z"
   },
   {
    "duration": 6,
    "start_time": "2024-02-10T15:43:49.885Z"
   },
   {
    "duration": 24,
    "start_time": "2024-02-10T15:43:49.892Z"
   },
   {
    "duration": 130,
    "start_time": "2024-02-10T15:43:49.918Z"
   },
   {
    "duration": 6,
    "start_time": "2024-02-10T15:43:50.049Z"
   },
   {
    "duration": 277,
    "start_time": "2024-02-10T15:43:50.056Z"
   },
   {
    "duration": 514,
    "start_time": "2024-02-10T15:43:50.334Z"
   },
   {
    "duration": 9,
    "start_time": "2024-02-10T15:43:50.850Z"
   },
   {
    "duration": 7,
    "start_time": "2024-02-10T15:43:50.860Z"
   },
   {
    "duration": 8,
    "start_time": "2024-02-10T15:43:50.868Z"
   },
   {
    "duration": 14,
    "start_time": "2024-02-10T15:43:50.877Z"
   },
   {
    "duration": 173,
    "start_time": "2024-02-10T15:43:50.892Z"
   },
   {
    "duration": 7,
    "start_time": "2024-02-10T15:43:51.066Z"
   },
   {
    "duration": 10,
    "start_time": "2024-02-10T15:43:51.074Z"
   },
   {
    "duration": 277,
    "start_time": "2024-02-10T15:43:51.085Z"
   },
   {
    "duration": 20,
    "start_time": "2024-02-10T15:43:51.363Z"
   },
   {
    "duration": 7,
    "start_time": "2024-02-10T15:43:51.384Z"
   },
   {
    "duration": 27,
    "start_time": "2024-02-10T15:43:51.392Z"
   },
   {
    "duration": 2,
    "start_time": "2024-02-10T15:43:51.421Z"
   },
   {
    "duration": 7,
    "start_time": "2024-02-10T15:43:51.424Z"
   },
   {
    "duration": 8,
    "start_time": "2024-02-10T15:43:51.432Z"
   },
   {
    "duration": 12,
    "start_time": "2024-02-10T15:43:51.442Z"
   },
   {
    "duration": 18,
    "start_time": "2024-02-10T15:43:51.456Z"
   },
   {
    "duration": 7,
    "start_time": "2024-02-10T15:43:51.476Z"
   },
   {
    "duration": 7,
    "start_time": "2024-02-10T15:43:51.484Z"
   },
   {
    "duration": 35,
    "start_time": "2024-02-10T15:43:51.492Z"
   },
   {
    "duration": 11,
    "start_time": "2024-02-10T15:43:51.529Z"
   },
   {
    "duration": 10,
    "start_time": "2024-02-10T15:43:51.541Z"
   },
   {
    "duration": 3638,
    "start_time": "2024-02-10T15:43:51.553Z"
   },
   {
    "duration": 14230,
    "start_time": "2024-02-10T15:43:55.193Z"
   },
   {
    "duration": 190,
    "start_time": "2024-02-10T15:44:09.425Z"
   },
   {
    "duration": 8,
    "start_time": "2024-02-10T15:44:09.617Z"
   },
   {
    "duration": 6,
    "start_time": "2024-02-10T15:44:09.626Z"
   },
   {
    "duration": 4,
    "start_time": "2024-02-10T15:44:09.634Z"
   },
   {
    "duration": 10,
    "start_time": "2024-02-10T15:44:09.640Z"
   },
   {
    "duration": 4,
    "start_time": "2024-02-10T15:44:09.651Z"
   },
   {
    "duration": 5,
    "start_time": "2024-02-10T15:44:09.657Z"
   },
   {
    "duration": 8,
    "start_time": "2024-02-10T15:44:09.663Z"
   },
   {
    "duration": 13,
    "start_time": "2024-02-10T15:44:09.672Z"
   },
   {
    "duration": 29,
    "start_time": "2024-02-10T15:44:09.687Z"
   },
   {
    "duration": 49329,
    "start_time": "2024-02-10T15:44:09.718Z"
   },
   {
    "duration": 28,
    "start_time": "2024-02-10T15:44:59.049Z"
   },
   {
    "duration": 4,
    "start_time": "2024-02-10T15:44:59.079Z"
   },
   {
    "duration": 8,
    "start_time": "2024-02-10T15:44:59.085Z"
   },
   {
    "duration": 5,
    "start_time": "2024-02-10T15:44:59.114Z"
   },
   {
    "duration": 11,
    "start_time": "2024-02-10T15:44:59.121Z"
   },
   {
    "duration": 6,
    "start_time": "2024-02-10T15:44:59.133Z"
   },
   {
    "duration": 24,
    "start_time": "2024-02-10T15:44:59.141Z"
   },
   {
    "duration": 18,
    "start_time": "2024-02-10T15:44:59.167Z"
   },
   {
    "duration": 42,
    "start_time": "2024-02-10T15:44:59.186Z"
   },
   {
    "duration": 4,
    "start_time": "2024-02-10T15:44:59.230Z"
   },
   {
    "duration": 4,
    "start_time": "2024-02-10T15:44:59.235Z"
   },
   {
    "duration": 18,
    "start_time": "2024-02-10T15:44:59.240Z"
   },
   {
    "duration": 26,
    "start_time": "2024-02-10T15:44:59.259Z"
   },
   {
    "duration": 85,
    "start_time": "2024-02-10T15:44:59.315Z"
   },
   {
    "duration": 7,
    "start_time": "2024-02-10T15:44:59.414Z"
   },
   {
    "duration": 8,
    "start_time": "2024-02-10T15:44:59.422Z"
   },
   {
    "duration": 37,
    "start_time": "2024-02-10T15:44:59.431Z"
   },
   {
    "duration": 3,
    "start_time": "2024-02-10T15:44:59.470Z"
   },
   {
    "duration": 876,
    "start_time": "2024-02-10T15:44:59.474Z"
   },
   {
    "duration": 625,
    "start_time": "2024-02-10T15:45:00.352Z"
   },
   {
    "duration": 8,
    "start_time": "2024-02-10T15:45:00.978Z"
   },
   {
    "duration": 21,
    "start_time": "2024-02-10T15:45:00.987Z"
   },
   {
    "duration": 50,
    "start_time": "2024-02-10T15:45:01.009Z"
   },
   {
    "duration": 34,
    "start_time": "2024-02-10T15:45:01.061Z"
   },
   {
    "duration": 118,
    "start_time": "2024-02-10T15:45:01.096Z"
   },
   {
    "duration": 147,
    "start_time": "2024-02-10T15:45:01.216Z"
   },
   {
    "duration": 142,
    "start_time": "2024-02-10T15:45:01.365Z"
   },
   {
    "duration": 10,
    "start_time": "2024-02-10T15:45:01.509Z"
   },
   {
    "duration": 25,
    "start_time": "2024-02-10T15:45:01.520Z"
   },
   {
    "duration": 10,
    "start_time": "2024-02-10T15:45:01.547Z"
   },
   {
    "duration": 33,
    "start_time": "2024-02-10T15:45:01.559Z"
   },
   {
    "duration": 19,
    "start_time": "2024-02-10T15:45:01.593Z"
   },
   {
    "duration": 19,
    "start_time": "2024-02-10T15:45:01.614Z"
   },
   {
    "duration": 8,
    "start_time": "2024-02-10T15:45:01.636Z"
   },
   {
    "duration": 135,
    "start_time": "2024-02-10T15:45:01.645Z"
   },
   {
    "duration": 109,
    "start_time": "2024-02-10T15:45:01.782Z"
   },
   {
    "duration": 116,
    "start_time": "2024-02-10T15:45:01.892Z"
   },
   {
    "duration": 6,
    "start_time": "2024-02-10T15:45:02.014Z"
   },
   {
    "duration": 262,
    "start_time": "2024-02-10T15:45:02.021Z"
   },
   {
    "duration": 0,
    "start_time": "2024-02-10T15:45:02.284Z"
   },
   {
    "duration": 4652,
    "start_time": "2024-02-10T15:49:40.532Z"
   },
   {
    "duration": 50,
    "start_time": "2024-02-10T15:49:45.186Z"
   },
   {
    "duration": 28,
    "start_time": "2024-02-10T15:49:45.238Z"
   },
   {
    "duration": 27,
    "start_time": "2024-02-10T15:49:45.268Z"
   },
   {
    "duration": 36,
    "start_time": "2024-02-10T15:49:45.296Z"
   },
   {
    "duration": 11,
    "start_time": "2024-02-10T15:49:45.333Z"
   },
   {
    "duration": 11,
    "start_time": "2024-02-10T15:49:45.345Z"
   },
   {
    "duration": 12,
    "start_time": "2024-02-10T15:49:45.358Z"
   },
   {
    "duration": 5,
    "start_time": "2024-02-10T15:49:45.371Z"
   },
   {
    "duration": 13,
    "start_time": "2024-02-10T15:49:45.378Z"
   },
   {
    "duration": 13,
    "start_time": "2024-02-10T15:49:45.392Z"
   },
   {
    "duration": 8,
    "start_time": "2024-02-10T15:49:45.407Z"
   },
   {
    "duration": 5,
    "start_time": "2024-02-10T15:49:45.416Z"
   },
   {
    "duration": 6,
    "start_time": "2024-02-10T15:49:45.422Z"
   },
   {
    "duration": 19,
    "start_time": "2024-02-10T15:49:45.429Z"
   },
   {
    "duration": 8,
    "start_time": "2024-02-10T15:49:45.449Z"
   },
   {
    "duration": 4,
    "start_time": "2024-02-10T15:49:45.458Z"
   },
   {
    "duration": 10,
    "start_time": "2024-02-10T15:49:45.464Z"
   },
   {
    "duration": 250,
    "start_time": "2024-02-10T15:49:45.476Z"
   },
   {
    "duration": 158,
    "start_time": "2024-02-10T15:49:45.728Z"
   },
   {
    "duration": 1197,
    "start_time": "2024-02-10T15:49:45.887Z"
   },
   {
    "duration": 40,
    "start_time": "2024-02-10T15:49:47.085Z"
   },
   {
    "duration": 5,
    "start_time": "2024-02-10T15:49:47.126Z"
   },
   {
    "duration": 772,
    "start_time": "2024-02-10T15:49:47.132Z"
   },
   {
    "duration": 9,
    "start_time": "2024-02-10T15:49:47.906Z"
   },
   {
    "duration": 8,
    "start_time": "2024-02-10T15:49:47.916Z"
   },
   {
    "duration": 8,
    "start_time": "2024-02-10T15:49:47.926Z"
   },
   {
    "duration": 5,
    "start_time": "2024-02-10T15:49:47.938Z"
   },
   {
    "duration": 14,
    "start_time": "2024-02-10T15:49:47.944Z"
   },
   {
    "duration": 148,
    "start_time": "2024-02-10T15:49:47.959Z"
   },
   {
    "duration": 11,
    "start_time": "2024-02-10T15:49:48.109Z"
   },
   {
    "duration": 291,
    "start_time": "2024-02-10T15:49:48.122Z"
   },
   {
    "duration": 508,
    "start_time": "2024-02-10T15:49:48.414Z"
   },
   {
    "duration": 10,
    "start_time": "2024-02-10T15:49:48.924Z"
   },
   {
    "duration": 5,
    "start_time": "2024-02-10T15:49:48.936Z"
   },
   {
    "duration": 7,
    "start_time": "2024-02-10T15:49:48.942Z"
   },
   {
    "duration": 6,
    "start_time": "2024-02-10T15:49:48.951Z"
   },
   {
    "duration": 199,
    "start_time": "2024-02-10T15:49:48.958Z"
   },
   {
    "duration": 7,
    "start_time": "2024-02-10T15:49:49.159Z"
   },
   {
    "duration": 9,
    "start_time": "2024-02-10T15:49:49.168Z"
   },
   {
    "duration": 293,
    "start_time": "2024-02-10T15:49:49.178Z"
   },
   {
    "duration": 18,
    "start_time": "2024-02-10T15:49:49.473Z"
   },
   {
    "duration": 5,
    "start_time": "2024-02-10T15:49:49.493Z"
   },
   {
    "duration": 9,
    "start_time": "2024-02-10T15:49:49.515Z"
   },
   {
    "duration": 6,
    "start_time": "2024-02-10T15:49:49.525Z"
   },
   {
    "duration": 4,
    "start_time": "2024-02-10T15:49:49.532Z"
   },
   {
    "duration": 7,
    "start_time": "2024-02-10T15:49:49.537Z"
   },
   {
    "duration": 20,
    "start_time": "2024-02-10T15:49:49.545Z"
   },
   {
    "duration": 12,
    "start_time": "2024-02-10T15:49:49.567Z"
   },
   {
    "duration": 7,
    "start_time": "2024-02-10T15:49:49.580Z"
   },
   {
    "duration": 28,
    "start_time": "2024-02-10T15:49:49.588Z"
   },
   {
    "duration": 14,
    "start_time": "2024-02-10T15:49:49.618Z"
   },
   {
    "duration": 11,
    "start_time": "2024-02-10T15:49:49.635Z"
   },
   {
    "duration": 10,
    "start_time": "2024-02-10T15:49:49.648Z"
   },
   {
    "duration": 3679,
    "start_time": "2024-02-10T15:49:49.660Z"
   },
   {
    "duration": 79566,
    "start_time": "2024-02-10T15:49:53.341Z"
   },
   {
    "duration": 14,
    "start_time": "2024-02-10T15:51:12.908Z"
   },
   {
    "duration": 15,
    "start_time": "2024-02-10T15:51:12.924Z"
   },
   {
    "duration": 8,
    "start_time": "2024-02-10T15:51:12.941Z"
   },
   {
    "duration": 2,
    "start_time": "2024-02-10T15:51:12.951Z"
   },
   {
    "duration": 7,
    "start_time": "2024-02-10T15:51:13.015Z"
   },
   {
    "duration": 3,
    "start_time": "2024-02-10T15:51:13.024Z"
   },
   {
    "duration": 6,
    "start_time": "2024-02-10T15:51:13.028Z"
   },
   {
    "duration": 4,
    "start_time": "2024-02-10T15:51:13.036Z"
   },
   {
    "duration": 3,
    "start_time": "2024-02-10T15:51:13.042Z"
   },
   {
    "duration": 7,
    "start_time": "2024-02-10T15:51:13.047Z"
   },
   {
    "duration": 5999,
    "start_time": "2024-02-10T15:52:04.220Z"
   },
   {
    "duration": 51,
    "start_time": "2024-02-10T15:52:10.221Z"
   },
   {
    "duration": 29,
    "start_time": "2024-02-10T15:52:10.273Z"
   },
   {
    "duration": 25,
    "start_time": "2024-02-10T15:52:10.304Z"
   },
   {
    "duration": 35,
    "start_time": "2024-02-10T15:52:10.331Z"
   },
   {
    "duration": 9,
    "start_time": "2024-02-10T15:52:10.368Z"
   },
   {
    "duration": 25,
    "start_time": "2024-02-10T15:52:10.378Z"
   },
   {
    "duration": 7,
    "start_time": "2024-02-10T15:52:10.405Z"
   },
   {
    "duration": 6,
    "start_time": "2024-02-10T15:52:10.414Z"
   },
   {
    "duration": 7,
    "start_time": "2024-02-10T15:52:10.422Z"
   },
   {
    "duration": 7,
    "start_time": "2024-02-10T15:52:10.430Z"
   },
   {
    "duration": 7,
    "start_time": "2024-02-10T15:52:10.438Z"
   },
   {
    "duration": 5,
    "start_time": "2024-02-10T15:52:10.447Z"
   },
   {
    "duration": 5,
    "start_time": "2024-02-10T15:52:10.454Z"
   },
   {
    "duration": 9,
    "start_time": "2024-02-10T15:52:10.460Z"
   },
   {
    "duration": 43,
    "start_time": "2024-02-10T15:52:10.471Z"
   },
   {
    "duration": 5,
    "start_time": "2024-02-10T15:52:10.516Z"
   },
   {
    "duration": 20,
    "start_time": "2024-02-10T15:52:10.522Z"
   },
   {
    "duration": 221,
    "start_time": "2024-02-10T15:52:10.544Z"
   },
   {
    "duration": 163,
    "start_time": "2024-02-10T15:52:10.767Z"
   },
   {
    "duration": 1163,
    "start_time": "2024-02-10T15:52:10.931Z"
   },
   {
    "duration": 35,
    "start_time": "2024-02-10T15:52:12.096Z"
   },
   {
    "duration": 5,
    "start_time": "2024-02-10T15:52:12.132Z"
   },
   {
    "duration": 791,
    "start_time": "2024-02-10T15:52:12.138Z"
   },
   {
    "duration": 9,
    "start_time": "2024-02-10T15:52:12.931Z"
   },
   {
    "duration": 8,
    "start_time": "2024-02-10T15:52:12.942Z"
   },
   {
    "duration": 6,
    "start_time": "2024-02-10T15:52:12.951Z"
   },
   {
    "duration": 7,
    "start_time": "2024-02-10T15:52:12.959Z"
   },
   {
    "duration": 8,
    "start_time": "2024-02-10T15:52:12.967Z"
   },
   {
    "duration": 170,
    "start_time": "2024-02-10T15:52:12.977Z"
   },
   {
    "duration": 6,
    "start_time": "2024-02-10T15:52:13.149Z"
   },
   {
    "duration": 299,
    "start_time": "2024-02-10T15:52:13.156Z"
   },
   {
    "duration": 518,
    "start_time": "2024-02-10T15:52:13.456Z"
   },
   {
    "duration": 10,
    "start_time": "2024-02-10T15:52:13.976Z"
   },
   {
    "duration": 6,
    "start_time": "2024-02-10T15:52:13.988Z"
   },
   {
    "duration": 20,
    "start_time": "2024-02-10T15:52:13.996Z"
   },
   {
    "duration": 7,
    "start_time": "2024-02-10T15:52:14.017Z"
   },
   {
    "duration": 180,
    "start_time": "2024-02-10T15:52:14.026Z"
   },
   {
    "duration": 12,
    "start_time": "2024-02-10T15:52:14.208Z"
   },
   {
    "duration": 9,
    "start_time": "2024-02-10T15:52:14.222Z"
   },
   {
    "duration": 152,
    "start_time": "2024-02-10T15:52:14.382Z"
   },
   {
    "duration": 17,
    "start_time": "2024-02-10T15:52:14.536Z"
   },
   {
    "duration": 5,
    "start_time": "2024-02-10T15:52:14.555Z"
   },
   {
    "duration": 23,
    "start_time": "2024-02-10T15:52:14.562Z"
   },
   {
    "duration": 16,
    "start_time": "2024-02-10T15:52:14.586Z"
   },
   {
    "duration": 19,
    "start_time": "2024-02-10T15:52:14.603Z"
   },
   {
    "duration": 13,
    "start_time": "2024-02-10T15:52:14.623Z"
   },
   {
    "duration": 17,
    "start_time": "2024-02-10T15:52:14.637Z"
   },
   {
    "duration": 25,
    "start_time": "2024-02-10T15:52:14.655Z"
   },
   {
    "duration": 8,
    "start_time": "2024-02-10T15:52:14.681Z"
   },
   {
    "duration": 17,
    "start_time": "2024-02-10T15:52:14.690Z"
   },
   {
    "duration": 37,
    "start_time": "2024-02-10T15:52:14.709Z"
   },
   {
    "duration": 24,
    "start_time": "2024-02-10T15:52:14.748Z"
   },
   {
    "duration": 10,
    "start_time": "2024-02-10T15:52:14.773Z"
   },
   {
    "duration": 3658,
    "start_time": "2024-02-10T15:52:14.785Z"
   },
   {
    "duration": 75592,
    "start_time": "2024-02-10T15:52:18.444Z"
   },
   {
    "duration": 12,
    "start_time": "2024-02-10T15:53:34.038Z"
   },
   {
    "duration": 14,
    "start_time": "2024-02-10T15:53:34.052Z"
   },
   {
    "duration": 7,
    "start_time": "2024-02-10T15:53:34.115Z"
   },
   {
    "duration": 4,
    "start_time": "2024-02-10T15:53:34.124Z"
   },
   {
    "duration": 6,
    "start_time": "2024-02-10T15:53:34.129Z"
   },
   {
    "duration": 4,
    "start_time": "2024-02-10T15:53:34.137Z"
   },
   {
    "duration": 7,
    "start_time": "2024-02-10T15:53:34.142Z"
   },
   {
    "duration": 4,
    "start_time": "2024-02-10T15:53:34.150Z"
   },
   {
    "duration": 3,
    "start_time": "2024-02-10T15:53:34.155Z"
   },
   {
    "duration": 6,
    "start_time": "2024-02-10T15:53:34.215Z"
   },
   {
    "duration": 51160,
    "start_time": "2024-02-10T15:53:34.223Z"
   },
   {
    "duration": 36,
    "start_time": "2024-02-10T15:54:25.385Z"
   },
   {
    "duration": 7,
    "start_time": "2024-02-10T15:54:25.423Z"
   },
   {
    "duration": 10,
    "start_time": "2024-02-10T15:54:25.431Z"
   },
   {
    "duration": 5,
    "start_time": "2024-02-10T15:54:25.443Z"
   },
   {
    "duration": 12,
    "start_time": "2024-02-10T15:54:25.449Z"
   },
   {
    "duration": 4,
    "start_time": "2024-02-10T15:54:25.463Z"
   },
   {
    "duration": 25,
    "start_time": "2024-02-10T15:54:25.469Z"
   },
   {
    "duration": 16,
    "start_time": "2024-02-10T15:54:25.515Z"
   },
   {
    "duration": 21,
    "start_time": "2024-02-10T15:54:25.532Z"
   },
   {
    "duration": 5,
    "start_time": "2024-02-10T15:54:25.554Z"
   },
   {
    "duration": 15,
    "start_time": "2024-02-10T15:54:25.561Z"
   },
   {
    "duration": 20,
    "start_time": "2024-02-10T15:54:25.577Z"
   },
   {
    "duration": 41,
    "start_time": "2024-02-10T15:54:25.598Z"
   },
   {
    "duration": 86,
    "start_time": "2024-02-10T15:54:25.640Z"
   },
   {
    "duration": 5,
    "start_time": "2024-02-10T15:54:25.728Z"
   },
   {
    "duration": 6,
    "start_time": "2024-02-10T15:54:25.735Z"
   },
   {
    "duration": 71,
    "start_time": "2024-02-10T15:54:25.743Z"
   },
   {
    "duration": 3,
    "start_time": "2024-02-10T15:54:25.817Z"
   },
   {
    "duration": 2034,
    "start_time": "2024-02-10T15:54:25.821Z"
   },
   {
    "duration": 632,
    "start_time": "2024-02-10T15:54:27.857Z"
   },
   {
    "duration": 9,
    "start_time": "2024-02-10T15:54:28.491Z"
   },
   {
    "duration": 14,
    "start_time": "2024-02-10T15:54:28.502Z"
   },
   {
    "duration": 17,
    "start_time": "2024-02-10T15:54:28.518Z"
   },
   {
    "duration": 8,
    "start_time": "2024-02-10T15:54:28.536Z"
   },
   {
    "duration": 120,
    "start_time": "2024-02-10T15:54:28.546Z"
   },
   {
    "duration": 150,
    "start_time": "2024-02-10T15:54:28.668Z"
   },
   {
    "duration": 154,
    "start_time": "2024-02-10T15:54:28.819Z"
   },
   {
    "duration": 10,
    "start_time": "2024-02-10T15:54:28.974Z"
   },
   {
    "duration": 5,
    "start_time": "2024-02-10T15:54:28.986Z"
   },
   {
    "duration": 22,
    "start_time": "2024-02-10T15:54:28.992Z"
   },
   {
    "duration": 3,
    "start_time": "2024-02-10T15:54:29.016Z"
   },
   {
    "duration": 3,
    "start_time": "2024-02-10T15:54:29.020Z"
   },
   {
    "duration": 8,
    "start_time": "2024-02-10T15:54:29.024Z"
   },
   {
    "duration": 5,
    "start_time": "2024-02-10T15:54:29.033Z"
   },
   {
    "duration": 125,
    "start_time": "2024-02-10T15:54:29.039Z"
   },
   {
    "duration": 121,
    "start_time": "2024-02-10T15:54:29.165Z"
   },
   {
    "duration": 118,
    "start_time": "2024-02-10T15:54:29.288Z"
   },
   {
    "duration": 12,
    "start_time": "2024-02-10T15:54:29.408Z"
   },
   {
    "duration": 263,
    "start_time": "2024-02-10T15:54:29.421Z"
   },
   {
    "duration": 486,
    "start_time": "2024-02-10T15:55:21.358Z"
   },
   {
    "duration": 4704,
    "start_time": "2024-02-10T15:55:54.972Z"
   },
   {
    "duration": 51,
    "start_time": "2024-02-10T15:55:59.677Z"
   },
   {
    "duration": 29,
    "start_time": "2024-02-10T15:55:59.729Z"
   },
   {
    "duration": 33,
    "start_time": "2024-02-10T15:55:59.761Z"
   },
   {
    "duration": 36,
    "start_time": "2024-02-10T15:55:59.796Z"
   },
   {
    "duration": 10,
    "start_time": "2024-02-10T15:55:59.834Z"
   },
   {
    "duration": 9,
    "start_time": "2024-02-10T15:55:59.845Z"
   },
   {
    "duration": 22,
    "start_time": "2024-02-10T15:55:59.855Z"
   },
   {
    "duration": 8,
    "start_time": "2024-02-10T15:55:59.879Z"
   },
   {
    "duration": 20,
    "start_time": "2024-02-10T15:55:59.889Z"
   },
   {
    "duration": 23,
    "start_time": "2024-02-10T15:55:59.910Z"
   },
   {
    "duration": 16,
    "start_time": "2024-02-10T15:55:59.935Z"
   },
   {
    "duration": 10,
    "start_time": "2024-02-10T15:55:59.953Z"
   },
   {
    "duration": 13,
    "start_time": "2024-02-10T15:55:59.964Z"
   },
   {
    "duration": 12,
    "start_time": "2024-02-10T15:55:59.979Z"
   },
   {
    "duration": 14,
    "start_time": "2024-02-10T15:55:59.993Z"
   },
   {
    "duration": 38,
    "start_time": "2024-02-10T15:56:00.009Z"
   },
   {
    "duration": 58,
    "start_time": "2024-02-10T15:56:00.049Z"
   },
   {
    "duration": 273,
    "start_time": "2024-02-10T15:56:00.109Z"
   },
   {
    "duration": 145,
    "start_time": "2024-02-10T15:56:00.384Z"
   },
   {
    "duration": 1310,
    "start_time": "2024-02-10T15:56:00.531Z"
   },
   {
    "duration": 29,
    "start_time": "2024-02-10T15:56:01.843Z"
   },
   {
    "duration": 5,
    "start_time": "2024-02-10T15:56:01.874Z"
   },
   {
    "duration": 981,
    "start_time": "2024-02-10T15:56:01.880Z"
   },
   {
    "duration": 7,
    "start_time": "2024-02-10T15:56:02.863Z"
   },
   {
    "duration": 11,
    "start_time": "2024-02-10T15:56:02.871Z"
   },
   {
    "duration": 16,
    "start_time": "2024-02-10T15:56:02.883Z"
   },
   {
    "duration": 6,
    "start_time": "2024-02-10T15:56:02.915Z"
   },
   {
    "duration": 19,
    "start_time": "2024-02-10T15:56:02.923Z"
   },
   {
    "duration": 131,
    "start_time": "2024-02-10T15:56:02.944Z"
   },
   {
    "duration": 6,
    "start_time": "2024-02-10T15:56:03.077Z"
   },
   {
    "duration": 305,
    "start_time": "2024-02-10T15:56:03.085Z"
   },
   {
    "duration": 531,
    "start_time": "2024-02-10T15:56:03.391Z"
   },
   {
    "duration": 9,
    "start_time": "2024-02-10T15:56:03.924Z"
   },
   {
    "duration": 16,
    "start_time": "2024-02-10T15:56:03.935Z"
   },
   {
    "duration": 10,
    "start_time": "2024-02-10T15:56:03.952Z"
   },
   {
    "duration": 15,
    "start_time": "2024-02-10T15:56:03.963Z"
   },
   {
    "duration": 169,
    "start_time": "2024-02-10T15:56:03.980Z"
   },
   {
    "duration": 6,
    "start_time": "2024-02-10T15:56:04.151Z"
   },
   {
    "duration": 8,
    "start_time": "2024-02-10T15:56:04.159Z"
   },
   {
    "duration": 308,
    "start_time": "2024-02-10T15:56:04.168Z"
   },
   {
    "duration": 19,
    "start_time": "2024-02-10T15:56:04.477Z"
   },
   {
    "duration": 6,
    "start_time": "2024-02-10T15:56:04.497Z"
   },
   {
    "duration": 13,
    "start_time": "2024-02-10T15:56:04.514Z"
   },
   {
    "duration": 11,
    "start_time": "2024-02-10T15:56:04.528Z"
   },
   {
    "duration": 12,
    "start_time": "2024-02-10T15:56:04.541Z"
   },
   {
    "duration": 9,
    "start_time": "2024-02-10T15:56:04.554Z"
   },
   {
    "duration": 16,
    "start_time": "2024-02-10T15:56:04.564Z"
   },
   {
    "duration": 17,
    "start_time": "2024-02-10T15:56:04.582Z"
   },
   {
    "duration": 16,
    "start_time": "2024-02-10T15:56:04.601Z"
   },
   {
    "duration": 8,
    "start_time": "2024-02-10T15:56:04.618Z"
   },
   {
    "duration": 16,
    "start_time": "2024-02-10T15:56:04.627Z"
   },
   {
    "duration": 26,
    "start_time": "2024-02-10T15:56:04.644Z"
   },
   {
    "duration": 11,
    "start_time": "2024-02-10T15:56:04.672Z"
   },
   {
    "duration": 3635,
    "start_time": "2024-02-10T15:56:04.684Z"
   },
   {
    "duration": 48721,
    "start_time": "2024-02-10T15:56:08.321Z"
   },
   {
    "duration": 2,
    "start_time": "2024-02-10T15:56:57.044Z"
   },
   {
    "duration": 13,
    "start_time": "2024-02-10T15:56:57.047Z"
   },
   {
    "duration": 7,
    "start_time": "2024-02-10T15:56:57.061Z"
   },
   {
    "duration": 9,
    "start_time": "2024-02-10T15:56:57.069Z"
   },
   {
    "duration": 3,
    "start_time": "2024-02-10T15:56:57.079Z"
   },
   {
    "duration": 35,
    "start_time": "2024-02-10T15:56:57.083Z"
   },
   {
    "duration": 9,
    "start_time": "2024-02-10T15:56:57.120Z"
   },
   {
    "duration": 31,
    "start_time": "2024-02-10T15:56:57.130Z"
   },
   {
    "duration": 13,
    "start_time": "2024-02-10T15:56:57.163Z"
   },
   {
    "duration": 5,
    "start_time": "2024-02-10T15:56:57.178Z"
   },
   {
    "duration": 7,
    "start_time": "2024-02-10T15:56:57.184Z"
   },
   {
    "duration": 49887,
    "start_time": "2024-02-10T15:56:57.192Z"
   },
   {
    "duration": 37,
    "start_time": "2024-02-10T15:57:47.080Z"
   },
   {
    "duration": 5,
    "start_time": "2024-02-10T15:57:47.118Z"
   },
   {
    "duration": 20,
    "start_time": "2024-02-10T15:57:47.124Z"
   },
   {
    "duration": 7,
    "start_time": "2024-02-10T15:57:47.145Z"
   },
   {
    "duration": 7,
    "start_time": "2024-02-10T15:57:47.153Z"
   },
   {
    "duration": 9,
    "start_time": "2024-02-10T15:57:47.162Z"
   },
   {
    "duration": 44,
    "start_time": "2024-02-10T15:57:47.172Z"
   },
   {
    "duration": 18,
    "start_time": "2024-02-10T15:57:47.218Z"
   },
   {
    "duration": 20,
    "start_time": "2024-02-10T15:57:47.238Z"
   },
   {
    "duration": 4,
    "start_time": "2024-02-10T15:57:47.261Z"
   },
   {
    "duration": 5,
    "start_time": "2024-02-10T15:57:47.267Z"
   },
   {
    "duration": 49,
    "start_time": "2024-02-10T15:57:47.273Z"
   },
   {
    "duration": 38,
    "start_time": "2024-02-10T15:57:47.324Z"
   },
   {
    "duration": 84,
    "start_time": "2024-02-10T15:57:47.369Z"
   },
   {
    "duration": 7,
    "start_time": "2024-02-10T15:57:47.455Z"
   },
   {
    "duration": 12,
    "start_time": "2024-02-10T15:57:47.464Z"
   },
   {
    "duration": 56,
    "start_time": "2024-02-10T15:57:47.477Z"
   },
   {
    "duration": 5,
    "start_time": "2024-02-10T15:57:47.535Z"
   },
   {
    "duration": 933,
    "start_time": "2024-02-10T15:57:47.542Z"
   },
   {
    "duration": 656,
    "start_time": "2024-02-10T15:57:48.476Z"
   },
   {
    "duration": 8,
    "start_time": "2024-02-10T15:57:49.134Z"
   },
   {
    "duration": 5,
    "start_time": "2024-02-10T15:57:49.143Z"
   },
   {
    "duration": 17,
    "start_time": "2024-02-10T15:57:49.149Z"
   },
   {
    "duration": 7,
    "start_time": "2024-02-10T15:57:49.168Z"
   },
   {
    "duration": 123,
    "start_time": "2024-02-10T15:57:49.177Z"
   },
   {
    "duration": 154,
    "start_time": "2024-02-10T15:57:49.302Z"
   },
   {
    "duration": 140,
    "start_time": "2024-02-10T15:57:49.457Z"
   },
   {
    "duration": 17,
    "start_time": "2024-02-10T15:57:49.599Z"
   },
   {
    "duration": 5,
    "start_time": "2024-02-10T15:57:49.618Z"
   },
   {
    "duration": 5,
    "start_time": "2024-02-10T15:57:49.625Z"
   },
   {
    "duration": 5,
    "start_time": "2024-02-10T15:57:49.632Z"
   },
   {
    "duration": 9,
    "start_time": "2024-02-10T15:57:49.639Z"
   },
   {
    "duration": 7,
    "start_time": "2024-02-10T15:57:49.650Z"
   },
   {
    "duration": 5,
    "start_time": "2024-02-10T15:57:49.658Z"
   },
   {
    "duration": 138,
    "start_time": "2024-02-10T15:57:49.664Z"
   },
   {
    "duration": 117,
    "start_time": "2024-02-10T15:57:49.804Z"
   },
   {
    "duration": 116,
    "start_time": "2024-02-10T15:57:49.923Z"
   },
   {
    "duration": 6,
    "start_time": "2024-02-10T15:57:50.041Z"
   },
   {
    "duration": 275,
    "start_time": "2024-02-10T15:57:50.049Z"
   },
   {
    "duration": 96,
    "start_time": "2024-02-10T15:59:20.994Z"
   },
   {
    "duration": 1424,
    "start_time": "2024-02-10T15:59:35.224Z"
   },
   {
    "duration": 0,
    "start_time": "2024-02-10T16:01:29.292Z"
   },
   {
    "duration": 4843,
    "start_time": "2024-02-10T16:02:27.433Z"
   },
   {
    "duration": 51,
    "start_time": "2024-02-10T16:02:32.278Z"
   },
   {
    "duration": 29,
    "start_time": "2024-02-10T16:02:32.330Z"
   },
   {
    "duration": 26,
    "start_time": "2024-02-10T16:02:32.361Z"
   },
   {
    "duration": 37,
    "start_time": "2024-02-10T16:02:32.389Z"
   },
   {
    "duration": 10,
    "start_time": "2024-02-10T16:02:32.427Z"
   },
   {
    "duration": 5,
    "start_time": "2024-02-10T16:02:32.439Z"
   },
   {
    "duration": 10,
    "start_time": "2024-02-10T16:02:32.445Z"
   },
   {
    "duration": 5,
    "start_time": "2024-02-10T16:02:32.456Z"
   },
   {
    "duration": 4,
    "start_time": "2024-02-10T16:02:32.464Z"
   },
   {
    "duration": 7,
    "start_time": "2024-02-10T16:02:32.470Z"
   },
   {
    "duration": 40,
    "start_time": "2024-02-10T16:02:32.478Z"
   },
   {
    "duration": 4,
    "start_time": "2024-02-10T16:02:32.520Z"
   },
   {
    "duration": 8,
    "start_time": "2024-02-10T16:02:32.526Z"
   },
   {
    "duration": 11,
    "start_time": "2024-02-10T16:02:32.536Z"
   },
   {
    "duration": 7,
    "start_time": "2024-02-10T16:02:32.548Z"
   },
   {
    "duration": 8,
    "start_time": "2024-02-10T16:02:32.556Z"
   },
   {
    "duration": 13,
    "start_time": "2024-02-10T16:02:32.566Z"
   },
   {
    "duration": 241,
    "start_time": "2024-02-10T16:02:32.581Z"
   },
   {
    "duration": 147,
    "start_time": "2024-02-10T16:02:32.823Z"
   },
   {
    "duration": 1177,
    "start_time": "2024-02-10T16:02:32.971Z"
   },
   {
    "duration": 30,
    "start_time": "2024-02-10T16:02:34.150Z"
   },
   {
    "duration": 5,
    "start_time": "2024-02-10T16:02:34.182Z"
   },
   {
    "duration": 812,
    "start_time": "2024-02-10T16:02:34.189Z"
   },
   {
    "duration": 12,
    "start_time": "2024-02-10T16:02:35.003Z"
   },
   {
    "duration": 8,
    "start_time": "2024-02-10T16:02:35.016Z"
   },
   {
    "duration": 5,
    "start_time": "2024-02-10T16:02:35.025Z"
   },
   {
    "duration": 6,
    "start_time": "2024-02-10T16:02:35.034Z"
   },
   {
    "duration": 12,
    "start_time": "2024-02-10T16:02:35.041Z"
   },
   {
    "duration": 147,
    "start_time": "2024-02-10T16:02:35.054Z"
   },
   {
    "duration": 13,
    "start_time": "2024-02-10T16:02:35.203Z"
   },
   {
    "duration": 275,
    "start_time": "2024-02-10T16:02:35.217Z"
   },
   {
    "duration": 545,
    "start_time": "2024-02-10T16:02:35.494Z"
   },
   {
    "duration": 9,
    "start_time": "2024-02-10T16:02:36.041Z"
   },
   {
    "duration": 5,
    "start_time": "2024-02-10T16:02:36.051Z"
   },
   {
    "duration": 8,
    "start_time": "2024-02-10T16:02:36.058Z"
   },
   {
    "duration": 7,
    "start_time": "2024-02-10T16:02:36.067Z"
   },
   {
    "duration": 185,
    "start_time": "2024-02-10T16:02:36.076Z"
   },
   {
    "duration": 7,
    "start_time": "2024-02-10T16:02:36.263Z"
   },
   {
    "duration": 8,
    "start_time": "2024-02-10T16:02:36.272Z"
   },
   {
    "duration": 284,
    "start_time": "2024-02-10T16:02:36.282Z"
   },
   {
    "duration": 18,
    "start_time": "2024-02-10T16:02:36.568Z"
   },
   {
    "duration": 28,
    "start_time": "2024-02-10T16:02:36.588Z"
   },
   {
    "duration": 17,
    "start_time": "2024-02-10T16:02:36.618Z"
   },
   {
    "duration": 2,
    "start_time": "2024-02-10T16:02:36.637Z"
   },
   {
    "duration": 4,
    "start_time": "2024-02-10T16:02:36.641Z"
   },
   {
    "duration": 7,
    "start_time": "2024-02-10T16:02:36.646Z"
   },
   {
    "duration": 11,
    "start_time": "2024-02-10T16:02:36.655Z"
   },
   {
    "duration": 17,
    "start_time": "2024-02-10T16:02:36.668Z"
   },
   {
    "duration": 7,
    "start_time": "2024-02-10T16:02:36.686Z"
   },
   {
    "duration": 20,
    "start_time": "2024-02-10T16:02:36.695Z"
   },
   {
    "duration": 16,
    "start_time": "2024-02-10T16:02:36.716Z"
   },
   {
    "duration": 12,
    "start_time": "2024-02-10T16:02:36.733Z"
   },
   {
    "duration": 11,
    "start_time": "2024-02-10T16:02:36.746Z"
   },
   {
    "duration": 3677,
    "start_time": "2024-02-10T16:02:36.758Z"
   },
   {
    "duration": 66943,
    "start_time": "2024-02-10T16:02:40.436Z"
   },
   {
    "duration": 2,
    "start_time": "2024-02-10T16:03:47.381Z"
   },
   {
    "duration": 41,
    "start_time": "2024-02-10T16:03:47.385Z"
   },
   {
    "duration": 9,
    "start_time": "2024-02-10T16:03:47.427Z"
   },
   {
    "duration": 6,
    "start_time": "2024-02-10T16:03:47.437Z"
   },
   {
    "duration": 11,
    "start_time": "2024-02-10T16:03:47.444Z"
   },
   {
    "duration": 61,
    "start_time": "2024-02-10T16:03:47.456Z"
   },
   {
    "duration": 13,
    "start_time": "2024-02-10T16:03:47.519Z"
   },
   {
    "duration": 19,
    "start_time": "2024-02-10T16:03:47.533Z"
   },
   {
    "duration": 5,
    "start_time": "2024-02-10T16:03:47.554Z"
   },
   {
    "duration": 5,
    "start_time": "2024-02-10T16:03:47.561Z"
   },
   {
    "duration": 7,
    "start_time": "2024-02-10T16:03:47.568Z"
   },
   {
    "duration": 50556,
    "start_time": "2024-02-10T16:03:47.615Z"
   },
   {
    "duration": 41,
    "start_time": "2024-02-10T16:04:38.173Z"
   },
   {
    "duration": 4,
    "start_time": "2024-02-10T16:04:38.216Z"
   },
   {
    "duration": 10,
    "start_time": "2024-02-10T16:04:38.221Z"
   },
   {
    "duration": 5,
    "start_time": "2024-02-10T16:04:38.232Z"
   },
   {
    "duration": 12,
    "start_time": "2024-02-10T16:04:38.238Z"
   },
   {
    "duration": 5,
    "start_time": "2024-02-10T16:04:38.251Z"
   },
   {
    "duration": 37,
    "start_time": "2024-02-10T16:04:38.257Z"
   },
   {
    "duration": 30,
    "start_time": "2024-02-10T16:04:38.296Z"
   },
   {
    "duration": 19,
    "start_time": "2024-02-10T16:04:38.327Z"
   },
   {
    "duration": 4,
    "start_time": "2024-02-10T16:04:38.348Z"
   },
   {
    "duration": 4,
    "start_time": "2024-02-10T16:04:38.353Z"
   },
   {
    "duration": 18,
    "start_time": "2024-02-10T16:04:38.359Z"
   },
   {
    "duration": 52,
    "start_time": "2024-02-10T16:04:38.378Z"
   },
   {
    "duration": 82,
    "start_time": "2024-02-10T16:04:38.436Z"
   },
   {
    "duration": 8,
    "start_time": "2024-02-10T16:04:38.519Z"
   },
   {
    "duration": 4,
    "start_time": "2024-02-10T16:04:38.528Z"
   },
   {
    "duration": 39,
    "start_time": "2024-02-10T16:04:38.533Z"
   },
   {
    "duration": 4,
    "start_time": "2024-02-10T16:04:38.574Z"
   },
   {
    "duration": 2080,
    "start_time": "2024-02-10T16:04:38.615Z"
   },
   {
    "duration": 600,
    "start_time": "2024-02-10T16:04:40.696Z"
   },
   {
    "duration": 19,
    "start_time": "2024-02-10T16:04:41.298Z"
   },
   {
    "duration": 5,
    "start_time": "2024-02-10T16:04:41.318Z"
   },
   {
    "duration": 19,
    "start_time": "2024-02-10T16:04:41.325Z"
   },
   {
    "duration": 19,
    "start_time": "2024-02-10T16:04:41.346Z"
   },
   {
    "duration": 105,
    "start_time": "2024-02-10T16:04:41.367Z"
   },
   {
    "duration": 153,
    "start_time": "2024-02-10T16:04:41.474Z"
   },
   {
    "duration": 151,
    "start_time": "2024-02-10T16:04:41.629Z"
   },
   {
    "duration": 11,
    "start_time": "2024-02-10T16:04:41.781Z"
   },
   {
    "duration": 22,
    "start_time": "2024-02-10T16:04:41.793Z"
   },
   {
    "duration": 6,
    "start_time": "2024-02-10T16:04:41.816Z"
   },
   {
    "duration": 7,
    "start_time": "2024-02-10T16:04:41.823Z"
   },
   {
    "duration": 13,
    "start_time": "2024-02-10T16:04:41.832Z"
   },
   {
    "duration": 14,
    "start_time": "2024-02-10T16:04:41.846Z"
   },
   {
    "duration": 6,
    "start_time": "2024-02-10T16:04:41.862Z"
   },
   {
    "duration": 117,
    "start_time": "2024-02-10T16:04:41.870Z"
   },
   {
    "duration": 121,
    "start_time": "2024-02-10T16:04:41.988Z"
   },
   {
    "duration": 130,
    "start_time": "2024-02-10T16:04:42.110Z"
   },
   {
    "duration": 7,
    "start_time": "2024-02-10T16:04:42.242Z"
   },
   {
    "duration": 292,
    "start_time": "2024-02-10T16:04:42.251Z"
   },
   {
    "duration": 4813,
    "start_time": "2024-02-10T16:04:50.235Z"
   },
   {
    "duration": 52,
    "start_time": "2024-02-10T16:04:55.050Z"
   },
   {
    "duration": 29,
    "start_time": "2024-02-10T16:04:55.103Z"
   },
   {
    "duration": 27,
    "start_time": "2024-02-10T16:04:55.134Z"
   },
   {
    "duration": 36,
    "start_time": "2024-02-10T16:04:55.163Z"
   },
   {
    "duration": 9,
    "start_time": "2024-02-10T16:04:55.200Z"
   },
   {
    "duration": 32,
    "start_time": "2024-02-10T16:04:55.211Z"
   },
   {
    "duration": 7,
    "start_time": "2024-02-10T16:04:55.245Z"
   },
   {
    "duration": 7,
    "start_time": "2024-02-10T16:04:55.254Z"
   },
   {
    "duration": 7,
    "start_time": "2024-02-10T16:04:55.263Z"
   },
   {
    "duration": 8,
    "start_time": "2024-02-10T16:04:55.271Z"
   },
   {
    "duration": 8,
    "start_time": "2024-02-10T16:04:55.281Z"
   },
   {
    "duration": 6,
    "start_time": "2024-02-10T16:04:55.291Z"
   },
   {
    "duration": 15,
    "start_time": "2024-02-10T16:04:55.299Z"
   },
   {
    "duration": 7,
    "start_time": "2024-02-10T16:04:55.316Z"
   },
   {
    "duration": 14,
    "start_time": "2024-02-10T16:04:55.324Z"
   },
   {
    "duration": 5,
    "start_time": "2024-02-10T16:04:55.340Z"
   },
   {
    "duration": 13,
    "start_time": "2024-02-10T16:04:55.347Z"
   },
   {
    "duration": 245,
    "start_time": "2024-02-10T16:04:55.361Z"
   },
   {
    "duration": 147,
    "start_time": "2024-02-10T16:04:55.614Z"
   },
   {
    "duration": 1210,
    "start_time": "2024-02-10T16:04:55.763Z"
   },
   {
    "duration": 31,
    "start_time": "2024-02-10T16:04:56.974Z"
   },
   {
    "duration": 5,
    "start_time": "2024-02-10T16:04:57.015Z"
   },
   {
    "duration": 812,
    "start_time": "2024-02-10T16:04:57.022Z"
   },
   {
    "duration": 7,
    "start_time": "2024-02-10T16:04:57.835Z"
   },
   {
    "duration": 27,
    "start_time": "2024-02-10T16:04:57.844Z"
   },
   {
    "duration": 16,
    "start_time": "2024-02-10T16:04:57.872Z"
   },
   {
    "duration": 8,
    "start_time": "2024-02-10T16:04:57.892Z"
   },
   {
    "duration": 20,
    "start_time": "2024-02-10T16:04:57.902Z"
   },
   {
    "duration": 144,
    "start_time": "2024-02-10T16:04:57.924Z"
   },
   {
    "duration": 7,
    "start_time": "2024-02-10T16:04:58.070Z"
   },
   {
    "duration": 291,
    "start_time": "2024-02-10T16:04:58.079Z"
   },
   {
    "duration": 538,
    "start_time": "2024-02-10T16:04:58.372Z"
   },
   {
    "duration": 11,
    "start_time": "2024-02-10T16:04:58.912Z"
   },
   {
    "duration": 16,
    "start_time": "2024-02-10T16:04:58.925Z"
   },
   {
    "duration": 25,
    "start_time": "2024-02-10T16:04:58.943Z"
   },
   {
    "duration": 27,
    "start_time": "2024-02-10T16:04:58.969Z"
   },
   {
    "duration": 188,
    "start_time": "2024-02-10T16:04:59.007Z"
   },
   {
    "duration": 6,
    "start_time": "2024-02-10T16:04:59.197Z"
   },
   {
    "duration": 37,
    "start_time": "2024-02-10T16:04:59.205Z"
   },
   {
    "duration": 274,
    "start_time": "2024-02-10T16:04:59.243Z"
   },
   {
    "duration": 19,
    "start_time": "2024-02-10T16:04:59.519Z"
   },
   {
    "duration": 7,
    "start_time": "2024-02-10T16:04:59.540Z"
   },
   {
    "duration": 20,
    "start_time": "2024-02-10T16:04:59.548Z"
   },
   {
    "duration": 21,
    "start_time": "2024-02-10T16:04:59.570Z"
   },
   {
    "duration": 14,
    "start_time": "2024-02-10T16:04:59.593Z"
   },
   {
    "duration": 27,
    "start_time": "2024-02-10T16:04:59.608Z"
   },
   {
    "duration": 20,
    "start_time": "2024-02-10T16:04:59.636Z"
   },
   {
    "duration": 40,
    "start_time": "2024-02-10T16:04:59.657Z"
   },
   {
    "duration": 12,
    "start_time": "2024-02-10T16:04:59.699Z"
   },
   {
    "duration": 28,
    "start_time": "2024-02-10T16:04:59.713Z"
   },
   {
    "duration": 20,
    "start_time": "2024-02-10T16:04:59.742Z"
   },
   {
    "duration": 29,
    "start_time": "2024-02-10T16:04:59.764Z"
   },
   {
    "duration": 22,
    "start_time": "2024-02-10T16:04:59.794Z"
   },
   {
    "duration": 3669,
    "start_time": "2024-02-10T16:04:59.818Z"
   },
   {
    "duration": 67322,
    "start_time": "2024-02-10T16:05:03.488Z"
   },
   {
    "duration": 3,
    "start_time": "2024-02-10T16:06:10.812Z"
   },
   {
    "duration": 21,
    "start_time": "2024-02-10T16:06:10.817Z"
   },
   {
    "duration": 8,
    "start_time": "2024-02-10T16:06:10.839Z"
   },
   {
    "duration": 66,
    "start_time": "2024-02-10T16:06:10.848Z"
   },
   {
    "duration": 3,
    "start_time": "2024-02-10T16:06:10.916Z"
   },
   {
    "duration": 11,
    "start_time": "2024-02-10T16:06:10.920Z"
   },
   {
    "duration": 4,
    "start_time": "2024-02-10T16:06:10.933Z"
   },
   {
    "duration": 5,
    "start_time": "2024-02-10T16:06:10.939Z"
   },
   {
    "duration": 8,
    "start_time": "2024-02-10T16:06:10.945Z"
   },
   {
    "duration": 3,
    "start_time": "2024-02-10T16:06:10.955Z"
   },
   {
    "duration": 5,
    "start_time": "2024-02-10T16:06:10.959Z"
   },
   {
    "duration": 50036,
    "start_time": "2024-02-10T16:06:11.014Z"
   },
   {
    "duration": 30,
    "start_time": "2024-02-10T16:07:01.052Z"
   },
   {
    "duration": 28,
    "start_time": "2024-02-10T16:07:01.084Z"
   },
   {
    "duration": 31,
    "start_time": "2024-02-10T16:07:01.113Z"
   },
   {
    "duration": 31,
    "start_time": "2024-02-10T16:07:01.146Z"
   },
   {
    "duration": 50,
    "start_time": "2024-02-10T16:07:01.179Z"
   },
   {
    "duration": 71,
    "start_time": "2024-02-10T16:07:01.231Z"
   },
   {
    "duration": 77,
    "start_time": "2024-02-10T16:07:01.304Z"
   },
   {
    "duration": 42,
    "start_time": "2024-02-10T16:07:01.383Z"
   },
   {
    "duration": 36,
    "start_time": "2024-02-10T16:07:01.427Z"
   },
   {
    "duration": 7,
    "start_time": "2024-02-10T16:07:01.465Z"
   },
   {
    "duration": 55,
    "start_time": "2024-02-10T16:07:01.474Z"
   },
   {
    "duration": 56,
    "start_time": "2024-02-10T16:07:01.531Z"
   },
   {
    "duration": 52,
    "start_time": "2024-02-10T16:07:01.588Z"
   },
   {
    "duration": 83,
    "start_time": "2024-02-10T16:07:01.646Z"
   },
   {
    "duration": 6,
    "start_time": "2024-02-10T16:07:01.731Z"
   },
   {
    "duration": 19,
    "start_time": "2024-02-10T16:07:01.738Z"
   },
   {
    "duration": 54,
    "start_time": "2024-02-10T16:07:01.758Z"
   },
   {
    "duration": 3,
    "start_time": "2024-02-10T16:07:01.814Z"
   },
   {
    "duration": 2036,
    "start_time": "2024-02-10T16:07:01.819Z"
   },
   {
    "duration": 644,
    "start_time": "2024-02-10T16:07:03.856Z"
   },
   {
    "duration": 15,
    "start_time": "2024-02-10T16:07:04.501Z"
   },
   {
    "duration": 4,
    "start_time": "2024-02-10T16:07:04.518Z"
   },
   {
    "duration": 23,
    "start_time": "2024-02-10T16:07:04.523Z"
   },
   {
    "duration": 9,
    "start_time": "2024-02-10T16:07:04.548Z"
   },
   {
    "duration": 117,
    "start_time": "2024-02-10T16:07:04.559Z"
   },
   {
    "duration": 157,
    "start_time": "2024-02-10T16:07:04.678Z"
   },
   {
    "duration": 156,
    "start_time": "2024-02-10T16:07:04.837Z"
   },
   {
    "duration": 9,
    "start_time": "2024-02-10T16:07:04.995Z"
   },
   {
    "duration": 5,
    "start_time": "2024-02-10T16:07:05.014Z"
   },
   {
    "duration": 5,
    "start_time": "2024-02-10T16:07:05.020Z"
   },
   {
    "duration": 6,
    "start_time": "2024-02-10T16:07:05.026Z"
   },
   {
    "duration": 7,
    "start_time": "2024-02-10T16:07:05.033Z"
   },
   {
    "duration": 8,
    "start_time": "2024-02-10T16:07:05.042Z"
   },
   {
    "duration": 10,
    "start_time": "2024-02-10T16:07:05.051Z"
   },
   {
    "duration": 123,
    "start_time": "2024-02-10T16:07:05.062Z"
   },
   {
    "duration": 117,
    "start_time": "2024-02-10T16:07:05.186Z"
   },
   {
    "duration": 112,
    "start_time": "2024-02-10T16:07:05.304Z"
   },
   {
    "duration": 6,
    "start_time": "2024-02-10T16:07:05.418Z"
   },
   {
    "duration": 260,
    "start_time": "2024-02-10T16:07:05.426Z"
   },
   {
    "duration": 51,
    "start_time": "2024-02-11T07:01:23.509Z"
   },
   {
    "duration": 10385,
    "start_time": "2024-02-11T07:01:27.837Z"
   },
   {
    "duration": 141,
    "start_time": "2024-02-11T07:01:38.224Z"
   },
   {
    "duration": 98,
    "start_time": "2024-02-11T07:01:38.367Z"
   },
   {
    "duration": 65,
    "start_time": "2024-02-11T07:01:38.467Z"
   },
   {
    "duration": 73,
    "start_time": "2024-02-11T07:01:38.534Z"
   },
   {
    "duration": 9,
    "start_time": "2024-02-11T07:01:38.609Z"
   },
   {
    "duration": 25,
    "start_time": "2024-02-11T07:01:38.620Z"
   },
   {
    "duration": 9,
    "start_time": "2024-02-11T07:01:38.646Z"
   },
   {
    "duration": 9,
    "start_time": "2024-02-11T07:01:38.657Z"
   },
   {
    "duration": 13,
    "start_time": "2024-02-11T07:01:38.668Z"
   },
   {
    "duration": 25,
    "start_time": "2024-02-11T07:01:38.683Z"
   },
   {
    "duration": 16,
    "start_time": "2024-02-11T07:01:38.710Z"
   },
   {
    "duration": 17,
    "start_time": "2024-02-11T07:01:38.727Z"
   },
   {
    "duration": 10,
    "start_time": "2024-02-11T07:01:38.745Z"
   },
   {
    "duration": 12,
    "start_time": "2024-02-11T07:01:38.756Z"
   },
   {
    "duration": 8,
    "start_time": "2024-02-11T07:01:38.770Z"
   },
   {
    "duration": 16,
    "start_time": "2024-02-11T07:01:38.780Z"
   },
   {
    "duration": 16,
    "start_time": "2024-02-11T07:01:38.797Z"
   },
   {
    "duration": 253,
    "start_time": "2024-02-11T07:01:38.814Z"
   },
   {
    "duration": 155,
    "start_time": "2024-02-11T07:01:39.072Z"
   },
   {
    "duration": 1246,
    "start_time": "2024-02-11T07:01:39.228Z"
   },
   {
    "duration": 33,
    "start_time": "2024-02-11T07:01:40.476Z"
   },
   {
    "duration": 5,
    "start_time": "2024-02-11T07:01:40.511Z"
   },
   {
    "duration": 887,
    "start_time": "2024-02-11T07:01:40.517Z"
   },
   {
    "duration": 7,
    "start_time": "2024-02-11T07:01:41.407Z"
   },
   {
    "duration": 7,
    "start_time": "2024-02-11T07:01:41.415Z"
   },
   {
    "duration": 11,
    "start_time": "2024-02-11T07:01:41.423Z"
   },
   {
    "duration": 11,
    "start_time": "2024-02-11T07:01:41.438Z"
   },
   {
    "duration": 32,
    "start_time": "2024-02-11T07:01:41.450Z"
   },
   {
    "duration": 149,
    "start_time": "2024-02-11T07:01:41.484Z"
   },
   {
    "duration": 7,
    "start_time": "2024-02-11T07:01:41.634Z"
   },
   {
    "duration": 330,
    "start_time": "2024-02-11T07:01:41.643Z"
   },
   {
    "duration": 569,
    "start_time": "2024-02-11T07:01:41.974Z"
   },
   {
    "duration": 10,
    "start_time": "2024-02-11T07:01:42.545Z"
   },
   {
    "duration": 23,
    "start_time": "2024-02-11T07:01:42.556Z"
   },
   {
    "duration": 28,
    "start_time": "2024-02-11T07:01:42.581Z"
   },
   {
    "duration": 31,
    "start_time": "2024-02-11T07:01:42.610Z"
   },
   {
    "duration": 182,
    "start_time": "2024-02-11T07:01:42.643Z"
   },
   {
    "duration": 7,
    "start_time": "2024-02-11T07:01:42.826Z"
   },
   {
    "duration": 15,
    "start_time": "2024-02-11T07:01:42.835Z"
   },
   {
    "duration": 304,
    "start_time": "2024-02-11T07:01:42.851Z"
   },
   {
    "duration": 22,
    "start_time": "2024-02-11T07:01:43.157Z"
   },
   {
    "duration": 6,
    "start_time": "2024-02-11T07:01:43.181Z"
   },
   {
    "duration": 10,
    "start_time": "2024-02-11T07:01:43.188Z"
   },
   {
    "duration": 4,
    "start_time": "2024-02-11T07:01:43.199Z"
   },
   {
    "duration": 4,
    "start_time": "2024-02-11T07:01:43.205Z"
   },
   {
    "duration": 4,
    "start_time": "2024-02-11T07:01:43.211Z"
   },
   {
    "duration": 10,
    "start_time": "2024-02-11T07:01:43.217Z"
   },
   {
    "duration": 44,
    "start_time": "2024-02-11T07:01:43.229Z"
   },
   {
    "duration": 7,
    "start_time": "2024-02-11T07:01:43.275Z"
   },
   {
    "duration": 7,
    "start_time": "2024-02-11T07:01:43.284Z"
   },
   {
    "duration": 26,
    "start_time": "2024-02-11T07:01:43.292Z"
   },
   {
    "duration": 13,
    "start_time": "2024-02-11T07:01:43.319Z"
   },
   {
    "duration": 11,
    "start_time": "2024-02-11T07:01:43.333Z"
   },
   {
    "duration": 3975,
    "start_time": "2024-02-11T07:01:43.346Z"
   },
   {
    "duration": 3,
    "start_time": "2024-02-11T07:01:47.323Z"
   },
   {
    "duration": 18960,
    "start_time": "2024-02-11T07:01:47.328Z"
   },
   {
    "duration": 3,
    "start_time": "2024-02-11T07:02:06.290Z"
   },
   {
    "duration": 12,
    "start_time": "2024-02-11T07:02:06.295Z"
   },
   {
    "duration": 9,
    "start_time": "2024-02-11T07:02:06.309Z"
   },
   {
    "duration": 8,
    "start_time": "2024-02-11T07:02:06.320Z"
   },
   {
    "duration": 3,
    "start_time": "2024-02-11T07:02:06.330Z"
   },
   {
    "duration": 39,
    "start_time": "2024-02-11T07:02:06.335Z"
   },
   {
    "duration": 3,
    "start_time": "2024-02-11T07:02:06.376Z"
   },
   {
    "duration": 10,
    "start_time": "2024-02-11T07:02:06.381Z"
   },
   {
    "duration": 7,
    "start_time": "2024-02-11T07:02:06.392Z"
   },
   {
    "duration": 7,
    "start_time": "2024-02-11T07:02:06.400Z"
   },
   {
    "duration": 15,
    "start_time": "2024-02-11T07:02:06.408Z"
   },
   {
    "duration": 5004,
    "start_time": "2024-02-11T07:02:16.226Z"
   },
   {
    "duration": 55,
    "start_time": "2024-02-11T07:02:21.232Z"
   },
   {
    "duration": 33,
    "start_time": "2024-02-11T07:02:21.288Z"
   },
   {
    "duration": 35,
    "start_time": "2024-02-11T07:02:21.324Z"
   },
   {
    "duration": 49,
    "start_time": "2024-02-11T07:02:21.360Z"
   },
   {
    "duration": 12,
    "start_time": "2024-02-11T07:02:21.411Z"
   },
   {
    "duration": 47,
    "start_time": "2024-02-11T07:02:21.425Z"
   },
   {
    "duration": 24,
    "start_time": "2024-02-11T07:02:21.474Z"
   },
   {
    "duration": 20,
    "start_time": "2024-02-11T07:02:21.500Z"
   },
   {
    "duration": 18,
    "start_time": "2024-02-11T07:02:21.523Z"
   },
   {
    "duration": 28,
    "start_time": "2024-02-11T07:02:21.542Z"
   },
   {
    "duration": 34,
    "start_time": "2024-02-11T07:02:21.572Z"
   },
   {
    "duration": 13,
    "start_time": "2024-02-11T07:02:21.608Z"
   },
   {
    "duration": 37,
    "start_time": "2024-02-11T07:02:21.623Z"
   },
   {
    "duration": 34,
    "start_time": "2024-02-11T07:02:21.662Z"
   },
   {
    "duration": 34,
    "start_time": "2024-02-11T07:02:21.698Z"
   },
   {
    "duration": 28,
    "start_time": "2024-02-11T07:02:21.733Z"
   },
   {
    "duration": 33,
    "start_time": "2024-02-11T07:02:21.763Z"
   },
   {
    "duration": 243,
    "start_time": "2024-02-11T07:02:21.797Z"
   },
   {
    "duration": 167,
    "start_time": "2024-02-11T07:02:22.042Z"
   },
   {
    "duration": 1245,
    "start_time": "2024-02-11T07:02:22.211Z"
   },
   {
    "duration": 54,
    "start_time": "2024-02-11T07:02:23.458Z"
   },
   {
    "duration": 6,
    "start_time": "2024-02-11T07:02:23.514Z"
   },
   {
    "duration": 863,
    "start_time": "2024-02-11T07:02:23.522Z"
   },
   {
    "duration": 8,
    "start_time": "2024-02-11T07:02:24.386Z"
   },
   {
    "duration": 7,
    "start_time": "2024-02-11T07:02:24.395Z"
   },
   {
    "duration": 6,
    "start_time": "2024-02-11T07:02:24.403Z"
   },
   {
    "duration": 6,
    "start_time": "2024-02-11T07:02:24.413Z"
   },
   {
    "duration": 12,
    "start_time": "2024-02-11T07:02:24.421Z"
   },
   {
    "duration": 164,
    "start_time": "2024-02-11T07:02:24.434Z"
   },
   {
    "duration": 6,
    "start_time": "2024-02-11T07:02:24.600Z"
   },
   {
    "duration": 312,
    "start_time": "2024-02-11T07:02:24.607Z"
   },
   {
    "duration": 553,
    "start_time": "2024-02-11T07:02:24.920Z"
   },
   {
    "duration": 10,
    "start_time": "2024-02-11T07:02:25.474Z"
   },
   {
    "duration": 10,
    "start_time": "2024-02-11T07:02:25.485Z"
   },
   {
    "duration": 8,
    "start_time": "2024-02-11T07:02:25.496Z"
   },
   {
    "duration": 6,
    "start_time": "2024-02-11T07:02:25.505Z"
   },
   {
    "duration": 199,
    "start_time": "2024-02-11T07:02:25.512Z"
   },
   {
    "duration": 7,
    "start_time": "2024-02-11T07:02:25.712Z"
   },
   {
    "duration": 13,
    "start_time": "2024-02-11T07:02:25.720Z"
   },
   {
    "duration": 295,
    "start_time": "2024-02-11T07:02:25.734Z"
   },
   {
    "duration": 20,
    "start_time": "2024-02-11T07:02:26.030Z"
   },
   {
    "duration": 25,
    "start_time": "2024-02-11T07:02:26.051Z"
   },
   {
    "duration": 13,
    "start_time": "2024-02-11T07:02:26.078Z"
   },
   {
    "duration": 6,
    "start_time": "2024-02-11T07:02:26.093Z"
   },
   {
    "duration": 17,
    "start_time": "2024-02-11T07:02:26.100Z"
   },
   {
    "duration": 6,
    "start_time": "2024-02-11T07:02:26.119Z"
   },
   {
    "duration": 16,
    "start_time": "2024-02-11T07:02:26.127Z"
   },
   {
    "duration": 15,
    "start_time": "2024-02-11T07:02:26.145Z"
   },
   {
    "duration": 8,
    "start_time": "2024-02-11T07:02:26.172Z"
   },
   {
    "duration": 7,
    "start_time": "2024-02-11T07:02:26.181Z"
   },
   {
    "duration": 19,
    "start_time": "2024-02-11T07:02:26.189Z"
   },
   {
    "duration": 13,
    "start_time": "2024-02-11T07:02:26.210Z"
   },
   {
    "duration": 12,
    "start_time": "2024-02-11T07:02:26.225Z"
   },
   {
    "duration": 3967,
    "start_time": "2024-02-11T07:02:26.239Z"
   },
   {
    "duration": 5,
    "start_time": "2024-02-11T07:02:30.208Z"
   },
   {
    "duration": 5082,
    "start_time": "2024-02-11T07:03:06.738Z"
   },
   {
    "duration": 54,
    "start_time": "2024-02-11T07:03:11.823Z"
   },
   {
    "duration": 36,
    "start_time": "2024-02-11T07:03:11.879Z"
   },
   {
    "duration": 29,
    "start_time": "2024-02-11T07:03:11.918Z"
   },
   {
    "duration": 38,
    "start_time": "2024-02-11T07:03:11.949Z"
   },
   {
    "duration": 12,
    "start_time": "2024-02-11T07:03:11.989Z"
   },
   {
    "duration": 6,
    "start_time": "2024-02-11T07:03:12.003Z"
   },
   {
    "duration": 16,
    "start_time": "2024-02-11T07:03:12.010Z"
   },
   {
    "duration": 8,
    "start_time": "2024-02-11T07:03:12.028Z"
   },
   {
    "duration": 13,
    "start_time": "2024-02-11T07:03:12.038Z"
   },
   {
    "duration": 21,
    "start_time": "2024-02-11T07:03:12.053Z"
   },
   {
    "duration": 9,
    "start_time": "2024-02-11T07:03:12.075Z"
   },
   {
    "duration": 7,
    "start_time": "2024-02-11T07:03:12.085Z"
   },
   {
    "duration": 10,
    "start_time": "2024-02-11T07:03:12.093Z"
   },
   {
    "duration": 11,
    "start_time": "2024-02-11T07:03:12.105Z"
   },
   {
    "duration": 8,
    "start_time": "2024-02-11T07:03:12.117Z"
   },
   {
    "duration": 4,
    "start_time": "2024-02-11T07:03:12.126Z"
   },
   {
    "duration": 46,
    "start_time": "2024-02-11T07:03:12.131Z"
   },
   {
    "duration": 247,
    "start_time": "2024-02-11T07:03:12.178Z"
   },
   {
    "duration": 159,
    "start_time": "2024-02-11T07:03:12.427Z"
   },
   {
    "duration": 1277,
    "start_time": "2024-02-11T07:03:12.587Z"
   },
   {
    "duration": 51,
    "start_time": "2024-02-11T07:03:13.872Z"
   },
   {
    "duration": 5,
    "start_time": "2024-02-11T07:03:13.924Z"
   },
   {
    "duration": 879,
    "start_time": "2024-02-11T07:03:13.931Z"
   },
   {
    "duration": 7,
    "start_time": "2024-02-11T07:03:14.813Z"
   },
   {
    "duration": 7,
    "start_time": "2024-02-11T07:03:14.822Z"
   },
   {
    "duration": 10,
    "start_time": "2024-02-11T07:03:14.831Z"
   },
   {
    "duration": 6,
    "start_time": "2024-02-11T07:03:14.845Z"
   },
   {
    "duration": 8,
    "start_time": "2024-02-11T07:03:14.875Z"
   },
   {
    "duration": 144,
    "start_time": "2024-02-11T07:03:14.885Z"
   },
   {
    "duration": 6,
    "start_time": "2024-02-11T07:03:15.031Z"
   },
   {
    "duration": 304,
    "start_time": "2024-02-11T07:03:15.039Z"
   },
   {
    "duration": 551,
    "start_time": "2024-02-11T07:03:15.344Z"
   },
   {
    "duration": 10,
    "start_time": "2024-02-11T07:03:15.896Z"
   },
   {
    "duration": 12,
    "start_time": "2024-02-11T07:03:15.907Z"
   },
   {
    "duration": 9,
    "start_time": "2024-02-11T07:03:15.920Z"
   },
   {
    "duration": 7,
    "start_time": "2024-02-11T07:03:15.930Z"
   },
   {
    "duration": 202,
    "start_time": "2024-02-11T07:03:15.938Z"
   },
   {
    "duration": 7,
    "start_time": "2024-02-11T07:03:16.142Z"
   },
   {
    "duration": 22,
    "start_time": "2024-02-11T07:03:16.150Z"
   },
   {
    "duration": 276,
    "start_time": "2024-02-11T07:03:16.174Z"
   },
   {
    "duration": 27,
    "start_time": "2024-02-11T07:03:16.452Z"
   },
   {
    "duration": 23,
    "start_time": "2024-02-11T07:03:16.481Z"
   },
   {
    "duration": 25,
    "start_time": "2024-02-11T07:03:16.506Z"
   },
   {
    "duration": 9,
    "start_time": "2024-02-11T07:03:16.532Z"
   },
   {
    "duration": 5,
    "start_time": "2024-02-11T07:03:16.543Z"
   },
   {
    "duration": 9,
    "start_time": "2024-02-11T07:03:16.550Z"
   },
   {
    "duration": 12,
    "start_time": "2024-02-11T07:03:16.560Z"
   },
   {
    "duration": 25,
    "start_time": "2024-02-11T07:03:16.573Z"
   },
   {
    "duration": 6,
    "start_time": "2024-02-11T07:03:16.600Z"
   },
   {
    "duration": 10,
    "start_time": "2024-02-11T07:03:16.608Z"
   },
   {
    "duration": 19,
    "start_time": "2024-02-11T07:03:16.619Z"
   },
   {
    "duration": 25,
    "start_time": "2024-02-11T07:03:16.640Z"
   },
   {
    "duration": 12,
    "start_time": "2024-02-11T07:03:16.667Z"
   },
   {
    "duration": 3894,
    "start_time": "2024-02-11T07:03:16.680Z"
   },
   {
    "duration": 4,
    "start_time": "2024-02-11T07:03:20.575Z"
   },
   {
    "duration": 72803,
    "start_time": "2024-02-11T07:03:20.580Z"
   },
   {
    "duration": 3,
    "start_time": "2024-02-11T07:04:33.385Z"
   },
   {
    "duration": 18,
    "start_time": "2024-02-11T07:04:33.390Z"
   },
   {
    "duration": 10,
    "start_time": "2024-02-11T07:04:33.410Z"
   },
   {
    "duration": 9,
    "start_time": "2024-02-11T07:04:33.473Z"
   },
   {
    "duration": 3,
    "start_time": "2024-02-11T07:04:33.484Z"
   },
   {
    "duration": 8,
    "start_time": "2024-02-11T07:04:33.489Z"
   },
   {
    "duration": 5,
    "start_time": "2024-02-11T07:04:33.499Z"
   },
   {
    "duration": 3,
    "start_time": "2024-02-11T07:04:33.506Z"
   },
   {
    "duration": 7,
    "start_time": "2024-02-11T07:04:33.511Z"
   },
   {
    "duration": 54,
    "start_time": "2024-02-11T07:04:33.519Z"
   },
   {
    "duration": 6,
    "start_time": "2024-02-11T07:04:33.575Z"
   },
   {
    "duration": 53910,
    "start_time": "2024-02-11T07:04:33.583Z"
   },
   {
    "duration": 31,
    "start_time": "2024-02-11T07:05:27.494Z"
   },
   {
    "duration": 5,
    "start_time": "2024-02-11T07:05:27.527Z"
   },
   {
    "duration": 9,
    "start_time": "2024-02-11T07:05:27.534Z"
   },
   {
    "duration": 28,
    "start_time": "2024-02-11T07:05:27.545Z"
   },
   {
    "duration": 8,
    "start_time": "2024-02-11T07:05:27.574Z"
   },
   {
    "duration": 10,
    "start_time": "2024-02-11T07:05:27.584Z"
   },
   {
    "duration": 20,
    "start_time": "2024-02-11T07:05:27.596Z"
   },
   {
    "duration": 18,
    "start_time": "2024-02-11T07:05:27.617Z"
   },
   {
    "duration": 44,
    "start_time": "2024-02-11T07:05:27.636Z"
   },
   {
    "duration": 4,
    "start_time": "2024-02-11T07:05:27.682Z"
   },
   {
    "duration": 9,
    "start_time": "2024-02-11T07:05:27.687Z"
   },
   {
    "duration": 20,
    "start_time": "2024-02-11T07:05:27.698Z"
   },
   {
    "duration": 49,
    "start_time": "2024-02-11T07:05:27.724Z"
   },
   {
    "duration": 77,
    "start_time": "2024-02-11T07:05:27.775Z"
   },
   {
    "duration": 6,
    "start_time": "2024-02-11T07:05:27.854Z"
   },
   {
    "duration": 3,
    "start_time": "2024-02-11T07:05:27.873Z"
   },
   {
    "duration": 46,
    "start_time": "2024-02-11T07:05:27.878Z"
   },
   {
    "duration": 4,
    "start_time": "2024-02-11T07:05:27.925Z"
   },
   {
    "duration": 2001,
    "start_time": "2024-02-11T07:05:27.930Z"
   },
   {
    "duration": 673,
    "start_time": "2024-02-11T07:05:29.933Z"
   },
   {
    "duration": 8,
    "start_time": "2024-02-11T07:05:30.608Z"
   },
   {
    "duration": 30,
    "start_time": "2024-02-11T07:05:30.617Z"
   },
   {
    "duration": 62,
    "start_time": "2024-02-11T07:05:30.648Z"
   },
   {
    "duration": 47,
    "start_time": "2024-02-11T07:05:30.712Z"
   },
   {
    "duration": 130,
    "start_time": "2024-02-11T07:05:30.761Z"
   },
   {
    "duration": 155,
    "start_time": "2024-02-11T07:05:30.893Z"
   },
   {
    "duration": 161,
    "start_time": "2024-02-11T07:05:31.050Z"
   },
   {
    "duration": 10,
    "start_time": "2024-02-11T07:05:31.212Z"
   },
   {
    "duration": 35,
    "start_time": "2024-02-11T07:05:31.223Z"
   },
   {
    "duration": 18,
    "start_time": "2024-02-11T07:05:31.259Z"
   },
   {
    "duration": 43,
    "start_time": "2024-02-11T07:05:31.279Z"
   },
   {
    "duration": 23,
    "start_time": "2024-02-11T07:05:31.324Z"
   },
   {
    "duration": 21,
    "start_time": "2024-02-11T07:05:31.349Z"
   },
   {
    "duration": 16,
    "start_time": "2024-02-11T07:05:31.372Z"
   },
   {
    "duration": 161,
    "start_time": "2024-02-11T07:05:31.389Z"
   },
   {
    "duration": 141,
    "start_time": "2024-02-11T07:05:31.552Z"
   },
   {
    "duration": 132,
    "start_time": "2024-02-11T07:05:31.694Z"
   },
   {
    "duration": 8,
    "start_time": "2024-02-11T07:05:31.827Z"
   },
   {
    "duration": 301,
    "start_time": "2024-02-11T07:05:31.836Z"
   },
   {
    "duration": 0,
    "start_time": "2024-02-11T07:12:57.393Z"
   },
   {
    "duration": 0,
    "start_time": "2024-02-11T07:12:57.393Z"
   },
   {
    "duration": 0,
    "start_time": "2024-02-11T07:12:57.395Z"
   },
   {
    "duration": 0,
    "start_time": "2024-02-11T07:12:57.396Z"
   },
   {
    "duration": 0,
    "start_time": "2024-02-11T07:12:57.397Z"
   },
   {
    "duration": 0,
    "start_time": "2024-02-11T07:12:57.398Z"
   },
   {
    "duration": 0,
    "start_time": "2024-02-11T07:12:57.399Z"
   },
   {
    "duration": 0,
    "start_time": "2024-02-11T07:12:57.399Z"
   },
   {
    "duration": 0,
    "start_time": "2024-02-11T07:12:57.401Z"
   },
   {
    "duration": 0,
    "start_time": "2024-02-11T07:12:57.401Z"
   },
   {
    "duration": 0,
    "start_time": "2024-02-11T07:12:57.402Z"
   },
   {
    "duration": 0,
    "start_time": "2024-02-11T07:12:57.403Z"
   },
   {
    "duration": 0,
    "start_time": "2024-02-11T07:12:57.404Z"
   },
   {
    "duration": 0,
    "start_time": "2024-02-11T07:12:57.406Z"
   },
   {
    "duration": 0,
    "start_time": "2024-02-11T07:12:57.406Z"
   },
   {
    "duration": 1,
    "start_time": "2024-02-11T07:12:57.407Z"
   },
   {
    "duration": 0,
    "start_time": "2024-02-11T07:12:57.408Z"
   },
   {
    "duration": 0,
    "start_time": "2024-02-11T07:12:57.409Z"
   },
   {
    "duration": 0,
    "start_time": "2024-02-11T07:12:57.410Z"
   },
   {
    "duration": 0,
    "start_time": "2024-02-11T07:12:57.411Z"
   },
   {
    "duration": 0,
    "start_time": "2024-02-11T07:12:57.412Z"
   },
   {
    "duration": 0,
    "start_time": "2024-02-11T07:12:57.413Z"
   },
   {
    "duration": 0,
    "start_time": "2024-02-11T07:12:57.414Z"
   },
   {
    "duration": 0,
    "start_time": "2024-02-11T07:12:57.472Z"
   },
   {
    "duration": 0,
    "start_time": "2024-02-11T07:12:57.474Z"
   },
   {
    "duration": 0,
    "start_time": "2024-02-11T07:12:57.475Z"
   },
   {
    "duration": 0,
    "start_time": "2024-02-11T07:12:57.476Z"
   },
   {
    "duration": 0,
    "start_time": "2024-02-11T07:12:57.478Z"
   },
   {
    "duration": 0,
    "start_time": "2024-02-11T07:12:57.479Z"
   },
   {
    "duration": 0,
    "start_time": "2024-02-11T07:12:57.480Z"
   },
   {
    "duration": 0,
    "start_time": "2024-02-11T07:12:57.481Z"
   },
   {
    "duration": 0,
    "start_time": "2024-02-11T07:12:57.482Z"
   },
   {
    "duration": 0,
    "start_time": "2024-02-11T07:12:57.483Z"
   },
   {
    "duration": 0,
    "start_time": "2024-02-11T07:12:57.484Z"
   },
   {
    "duration": 0,
    "start_time": "2024-02-11T07:12:57.485Z"
   },
   {
    "duration": 0,
    "start_time": "2024-02-11T07:12:57.486Z"
   },
   {
    "duration": 0,
    "start_time": "2024-02-11T07:12:57.487Z"
   },
   {
    "duration": 0,
    "start_time": "2024-02-11T07:12:57.488Z"
   },
   {
    "duration": 0,
    "start_time": "2024-02-11T07:12:57.488Z"
   },
   {
    "duration": 0,
    "start_time": "2024-02-11T07:12:57.489Z"
   },
   {
    "duration": 0,
    "start_time": "2024-02-11T07:12:57.490Z"
   },
   {
    "duration": 0,
    "start_time": "2024-02-11T07:12:57.491Z"
   },
   {
    "duration": 0,
    "start_time": "2024-02-11T07:12:57.492Z"
   },
   {
    "duration": 0,
    "start_time": "2024-02-11T07:12:57.493Z"
   },
   {
    "duration": 0,
    "start_time": "2024-02-11T07:12:57.494Z"
   },
   {
    "duration": 0,
    "start_time": "2024-02-11T07:12:57.495Z"
   },
   {
    "duration": 0,
    "start_time": "2024-02-11T07:12:57.496Z"
   },
   {
    "duration": 0,
    "start_time": "2024-02-11T07:12:57.498Z"
   },
   {
    "duration": 0,
    "start_time": "2024-02-11T07:12:57.499Z"
   },
   {
    "duration": 0,
    "start_time": "2024-02-11T07:12:57.500Z"
   },
   {
    "duration": 0,
    "start_time": "2024-02-11T07:12:57.501Z"
   },
   {
    "duration": 0,
    "start_time": "2024-02-11T07:12:57.502Z"
   },
   {
    "duration": 0,
    "start_time": "2024-02-11T07:12:57.503Z"
   },
   {
    "duration": 0,
    "start_time": "2024-02-11T07:12:57.504Z"
   },
   {
    "duration": 0,
    "start_time": "2024-02-11T07:12:57.505Z"
   },
   {
    "duration": 0,
    "start_time": "2024-02-11T07:12:57.506Z"
   },
   {
    "duration": 0,
    "start_time": "2024-02-11T07:12:57.507Z"
   },
   {
    "duration": 0,
    "start_time": "2024-02-11T07:12:57.508Z"
   },
   {
    "duration": 0,
    "start_time": "2024-02-11T07:12:57.509Z"
   },
   {
    "duration": 0,
    "start_time": "2024-02-11T07:12:57.510Z"
   },
   {
    "duration": 0,
    "start_time": "2024-02-11T07:12:57.511Z"
   },
   {
    "duration": 0,
    "start_time": "2024-02-11T07:12:57.512Z"
   },
   {
    "duration": 0,
    "start_time": "2024-02-11T07:12:57.513Z"
   },
   {
    "duration": 0,
    "start_time": "2024-02-11T07:12:57.514Z"
   },
   {
    "duration": 0,
    "start_time": "2024-02-11T07:12:57.515Z"
   },
   {
    "duration": 0,
    "start_time": "2024-02-11T07:12:57.573Z"
   },
   {
    "duration": 0,
    "start_time": "2024-02-11T07:12:57.574Z"
   },
   {
    "duration": 0,
    "start_time": "2024-02-11T07:12:57.575Z"
   },
   {
    "duration": 0,
    "start_time": "2024-02-11T07:12:57.576Z"
   },
   {
    "duration": 0,
    "start_time": "2024-02-11T07:12:57.577Z"
   },
   {
    "duration": 0,
    "start_time": "2024-02-11T07:12:57.578Z"
   },
   {
    "duration": 0,
    "start_time": "2024-02-11T07:12:57.579Z"
   },
   {
    "duration": 0,
    "start_time": "2024-02-11T07:12:57.580Z"
   },
   {
    "duration": 0,
    "start_time": "2024-02-11T07:12:57.581Z"
   },
   {
    "duration": 0,
    "start_time": "2024-02-11T07:12:57.582Z"
   },
   {
    "duration": 0,
    "start_time": "2024-02-11T07:12:57.583Z"
   },
   {
    "duration": 0,
    "start_time": "2024-02-11T07:12:57.585Z"
   },
   {
    "duration": 0,
    "start_time": "2024-02-11T07:12:57.586Z"
   },
   {
    "duration": 0,
    "start_time": "2024-02-11T07:12:57.587Z"
   },
   {
    "duration": 0,
    "start_time": "2024-02-11T07:12:57.588Z"
   },
   {
    "duration": 0,
    "start_time": "2024-02-11T07:12:57.589Z"
   },
   {
    "duration": 0,
    "start_time": "2024-02-11T07:12:57.590Z"
   },
   {
    "duration": 0,
    "start_time": "2024-02-11T07:12:57.591Z"
   },
   {
    "duration": 0,
    "start_time": "2024-02-11T07:12:57.592Z"
   },
   {
    "duration": 0,
    "start_time": "2024-02-11T07:12:57.594Z"
   },
   {
    "duration": 0,
    "start_time": "2024-02-11T07:12:57.595Z"
   },
   {
    "duration": 0,
    "start_time": "2024-02-11T07:12:57.596Z"
   },
   {
    "duration": 0,
    "start_time": "2024-02-11T07:12:57.597Z"
   },
   {
    "duration": 0,
    "start_time": "2024-02-11T07:12:57.598Z"
   },
   {
    "duration": 0,
    "start_time": "2024-02-11T07:12:57.599Z"
   },
   {
    "duration": 0,
    "start_time": "2024-02-11T07:12:57.600Z"
   },
   {
    "duration": 0,
    "start_time": "2024-02-11T07:12:57.601Z"
   },
   {
    "duration": 0,
    "start_time": "2024-02-11T07:12:57.602Z"
   },
   {
    "duration": 0,
    "start_time": "2024-02-11T07:12:57.604Z"
   },
   {
    "duration": 0,
    "start_time": "2024-02-11T07:12:57.605Z"
   },
   {
    "duration": 0,
    "start_time": "2024-02-11T07:12:57.606Z"
   },
   {
    "duration": 0,
    "start_time": "2024-02-11T07:12:57.607Z"
   },
   {
    "duration": 0,
    "start_time": "2024-02-11T07:12:57.608Z"
   },
   {
    "duration": 0,
    "start_time": "2024-02-11T07:12:57.609Z"
   },
   {
    "duration": 0,
    "start_time": "2024-02-11T07:12:57.610Z"
   },
   {
    "duration": 0,
    "start_time": "2024-02-11T07:12:57.611Z"
   },
   {
    "duration": 0,
    "start_time": "2024-02-11T07:12:57.679Z"
   },
   {
    "duration": 0,
    "start_time": "2024-02-11T07:12:57.680Z"
   },
   {
    "duration": 0,
    "start_time": "2024-02-11T07:12:57.681Z"
   },
   {
    "duration": 0,
    "start_time": "2024-02-11T07:12:57.682Z"
   },
   {
    "duration": 0,
    "start_time": "2024-02-11T07:12:57.683Z"
   },
   {
    "duration": 0,
    "start_time": "2024-02-11T07:12:57.684Z"
   },
   {
    "duration": 0,
    "start_time": "2024-02-11T07:12:57.685Z"
   },
   {
    "duration": 5009,
    "start_time": "2024-02-11T07:21:08.904Z"
   },
   {
    "duration": 53,
    "start_time": "2024-02-11T07:21:13.916Z"
   },
   {
    "duration": 42,
    "start_time": "2024-02-11T07:21:13.971Z"
   },
   {
    "duration": 37,
    "start_time": "2024-02-11T07:21:14.016Z"
   },
   {
    "duration": 45,
    "start_time": "2024-02-11T07:21:14.055Z"
   },
   {
    "duration": 12,
    "start_time": "2024-02-11T07:21:14.102Z"
   },
   {
    "duration": 8,
    "start_time": "2024-02-11T07:21:14.116Z"
   },
   {
    "duration": 8,
    "start_time": "2024-02-11T07:21:14.126Z"
   },
   {
    "duration": 6,
    "start_time": "2024-02-11T07:21:14.136Z"
   },
   {
    "duration": 6,
    "start_time": "2024-02-11T07:21:14.144Z"
   },
   {
    "duration": 24,
    "start_time": "2024-02-11T07:21:14.152Z"
   },
   {
    "duration": 10,
    "start_time": "2024-02-11T07:21:14.177Z"
   },
   {
    "duration": 16,
    "start_time": "2024-02-11T07:21:14.188Z"
   },
   {
    "duration": 17,
    "start_time": "2024-02-11T07:21:14.205Z"
   },
   {
    "duration": 23,
    "start_time": "2024-02-11T07:21:14.223Z"
   },
   {
    "duration": 10,
    "start_time": "2024-02-11T07:21:14.247Z"
   },
   {
    "duration": 5,
    "start_time": "2024-02-11T07:21:14.259Z"
   },
   {
    "duration": 13,
    "start_time": "2024-02-11T07:21:14.266Z"
   },
   {
    "duration": 248,
    "start_time": "2024-02-11T07:21:14.281Z"
   },
   {
    "duration": 161,
    "start_time": "2024-02-11T07:21:14.531Z"
   },
   {
    "duration": 1257,
    "start_time": "2024-02-11T07:21:14.694Z"
   },
   {
    "duration": 42,
    "start_time": "2024-02-11T07:21:15.952Z"
   },
   {
    "duration": 6,
    "start_time": "2024-02-11T07:21:15.995Z"
   },
   {
    "duration": 839,
    "start_time": "2024-02-11T07:21:16.002Z"
   },
   {
    "duration": 7,
    "start_time": "2024-02-11T07:21:16.842Z"
   },
   {
    "duration": 22,
    "start_time": "2024-02-11T07:21:16.851Z"
   },
   {
    "duration": 11,
    "start_time": "2024-02-11T07:21:16.875Z"
   },
   {
    "duration": 6,
    "start_time": "2024-02-11T07:21:16.890Z"
   },
   {
    "duration": 7,
    "start_time": "2024-02-11T07:21:16.898Z"
   },
   {
    "duration": 158,
    "start_time": "2024-02-11T07:21:16.906Z"
   },
   {
    "duration": 11,
    "start_time": "2024-02-11T07:21:17.066Z"
   },
   {
    "duration": 301,
    "start_time": "2024-02-11T07:21:17.079Z"
   },
   {
    "duration": 567,
    "start_time": "2024-02-11T07:21:17.381Z"
   },
   {
    "duration": 10,
    "start_time": "2024-02-11T07:21:17.950Z"
   },
   {
    "duration": 5,
    "start_time": "2024-02-11T07:21:17.973Z"
   },
   {
    "duration": 12,
    "start_time": "2024-02-11T07:21:17.980Z"
   },
   {
    "duration": 11,
    "start_time": "2024-02-11T07:21:17.993Z"
   },
   {
    "duration": 179,
    "start_time": "2024-02-11T07:21:18.005Z"
   },
   {
    "duration": 7,
    "start_time": "2024-02-11T07:21:18.186Z"
   },
   {
    "duration": 8,
    "start_time": "2024-02-11T07:21:18.194Z"
   },
   {
    "duration": 287,
    "start_time": "2024-02-11T07:21:18.204Z"
   },
   {
    "duration": 19,
    "start_time": "2024-02-11T07:21:18.493Z"
   },
   {
    "duration": 6,
    "start_time": "2024-02-11T07:21:18.513Z"
   },
   {
    "duration": 15,
    "start_time": "2024-02-11T07:21:18.521Z"
   },
   {
    "duration": 5,
    "start_time": "2024-02-11T07:21:18.538Z"
   },
   {
    "duration": 4,
    "start_time": "2024-02-11T07:21:18.544Z"
   },
   {
    "duration": 25,
    "start_time": "2024-02-11T07:21:18.549Z"
   },
   {
    "duration": 9,
    "start_time": "2024-02-11T07:21:18.575Z"
   },
   {
    "duration": 14,
    "start_time": "2024-02-11T07:21:18.585Z"
   },
   {
    "duration": 6,
    "start_time": "2024-02-11T07:21:18.601Z"
   },
   {
    "duration": 6,
    "start_time": "2024-02-11T07:21:18.609Z"
   },
   {
    "duration": 15,
    "start_time": "2024-02-11T07:21:18.616Z"
   },
   {
    "duration": 44,
    "start_time": "2024-02-11T07:21:18.632Z"
   },
   {
    "duration": 11,
    "start_time": "2024-02-11T07:21:18.677Z"
   },
   {
    "duration": 3912,
    "start_time": "2024-02-11T07:21:18.689Z"
   },
   {
    "duration": 83,
    "start_time": "2024-02-11T07:21:22.603Z"
   },
   {
    "duration": 0,
    "start_time": "2024-02-11T07:21:22.689Z"
   },
   {
    "duration": 0,
    "start_time": "2024-02-11T07:21:22.690Z"
   },
   {
    "duration": 0,
    "start_time": "2024-02-11T07:21:22.691Z"
   },
   {
    "duration": 0,
    "start_time": "2024-02-11T07:21:22.693Z"
   },
   {
    "duration": 0,
    "start_time": "2024-02-11T07:21:22.694Z"
   },
   {
    "duration": 0,
    "start_time": "2024-02-11T07:21:22.696Z"
   },
   {
    "duration": 0,
    "start_time": "2024-02-11T07:21:22.697Z"
   },
   {
    "duration": 0,
    "start_time": "2024-02-11T07:21:22.699Z"
   },
   {
    "duration": 0,
    "start_time": "2024-02-11T07:21:22.700Z"
   },
   {
    "duration": 0,
    "start_time": "2024-02-11T07:21:22.702Z"
   },
   {
    "duration": 0,
    "start_time": "2024-02-11T07:21:22.704Z"
   },
   {
    "duration": 0,
    "start_time": "2024-02-11T07:21:22.705Z"
   },
   {
    "duration": 0,
    "start_time": "2024-02-11T07:21:22.707Z"
   },
   {
    "duration": 0,
    "start_time": "2024-02-11T07:21:22.708Z"
   },
   {
    "duration": 0,
    "start_time": "2024-02-11T07:21:22.710Z"
   },
   {
    "duration": 0,
    "start_time": "2024-02-11T07:21:22.711Z"
   },
   {
    "duration": 0,
    "start_time": "2024-02-11T07:21:22.713Z"
   },
   {
    "duration": 0,
    "start_time": "2024-02-11T07:21:22.714Z"
   },
   {
    "duration": 0,
    "start_time": "2024-02-11T07:21:22.715Z"
   },
   {
    "duration": 0,
    "start_time": "2024-02-11T07:21:22.717Z"
   },
   {
    "duration": 0,
    "start_time": "2024-02-11T07:21:22.718Z"
   },
   {
    "duration": 0,
    "start_time": "2024-02-11T07:21:22.719Z"
   },
   {
    "duration": 0,
    "start_time": "2024-02-11T07:21:22.720Z"
   },
   {
    "duration": 0,
    "start_time": "2024-02-11T07:21:22.721Z"
   },
   {
    "duration": 0,
    "start_time": "2024-02-11T07:21:22.722Z"
   },
   {
    "duration": 0,
    "start_time": "2024-02-11T07:21:22.723Z"
   },
   {
    "duration": 0,
    "start_time": "2024-02-11T07:21:22.725Z"
   },
   {
    "duration": 0,
    "start_time": "2024-02-11T07:21:22.726Z"
   },
   {
    "duration": 0,
    "start_time": "2024-02-11T07:21:22.773Z"
   },
   {
    "duration": 0,
    "start_time": "2024-02-11T07:21:22.774Z"
   },
   {
    "duration": 0,
    "start_time": "2024-02-11T07:21:22.775Z"
   },
   {
    "duration": 0,
    "start_time": "2024-02-11T07:21:22.776Z"
   },
   {
    "duration": 0,
    "start_time": "2024-02-11T07:21:22.777Z"
   },
   {
    "duration": 0,
    "start_time": "2024-02-11T07:21:22.778Z"
   },
   {
    "duration": 0,
    "start_time": "2024-02-11T07:21:22.779Z"
   },
   {
    "duration": 0,
    "start_time": "2024-02-11T07:21:22.780Z"
   },
   {
    "duration": 0,
    "start_time": "2024-02-11T07:21:22.781Z"
   },
   {
    "duration": 0,
    "start_time": "2024-02-11T07:21:22.782Z"
   },
   {
    "duration": 0,
    "start_time": "2024-02-11T07:21:22.783Z"
   },
   {
    "duration": 0,
    "start_time": "2024-02-11T07:21:22.784Z"
   },
   {
    "duration": 0,
    "start_time": "2024-02-11T07:21:22.785Z"
   },
   {
    "duration": 0,
    "start_time": "2024-02-11T07:21:22.786Z"
   },
   {
    "duration": 0,
    "start_time": "2024-02-11T07:21:22.787Z"
   },
   {
    "duration": 0,
    "start_time": "2024-02-11T07:21:22.788Z"
   },
   {
    "duration": 0,
    "start_time": "2024-02-11T07:21:22.789Z"
   },
   {
    "duration": 0,
    "start_time": "2024-02-11T07:21:22.790Z"
   },
   {
    "duration": 0,
    "start_time": "2024-02-11T07:21:22.791Z"
   },
   {
    "duration": 0,
    "start_time": "2024-02-11T07:21:22.792Z"
   },
   {
    "duration": 0,
    "start_time": "2024-02-11T07:21:22.793Z"
   },
   {
    "duration": 0,
    "start_time": "2024-02-11T07:21:22.794Z"
   },
   {
    "duration": 0,
    "start_time": "2024-02-11T07:21:22.795Z"
   },
   {
    "duration": 0,
    "start_time": "2024-02-11T07:21:22.796Z"
   },
   {
    "duration": 3,
    "start_time": "2024-02-11T07:22:31.699Z"
   },
   {
    "duration": 1,
    "start_time": "2024-02-11T07:23:34.598Z"
   },
   {
    "duration": 65209,
    "start_time": "2024-02-11T07:23:45.557Z"
   },
   {
    "duration": 10533,
    "start_time": "2024-02-12T11:35:57.568Z"
   },
   {
    "duration": 83,
    "start_time": "2024-02-12T11:36:08.103Z"
   },
   {
    "duration": 62,
    "start_time": "2024-02-12T11:36:08.188Z"
   },
   {
    "duration": 87,
    "start_time": "2024-02-12T11:36:08.252Z"
   },
   {
    "duration": 68,
    "start_time": "2024-02-12T11:36:08.340Z"
   },
   {
    "duration": 11,
    "start_time": "2024-02-12T11:36:08.409Z"
   },
   {
    "duration": 6,
    "start_time": "2024-02-12T11:36:08.422Z"
   },
   {
    "duration": 27,
    "start_time": "2024-02-12T11:36:08.430Z"
   },
   {
    "duration": 22,
    "start_time": "2024-02-12T11:36:08.458Z"
   },
   {
    "duration": 8,
    "start_time": "2024-02-12T11:36:08.483Z"
   },
   {
    "duration": 11,
    "start_time": "2024-02-12T11:36:08.492Z"
   },
   {
    "duration": 9,
    "start_time": "2024-02-12T11:36:08.505Z"
   },
   {
    "duration": 19,
    "start_time": "2024-02-12T11:36:08.515Z"
   },
   {
    "duration": 6,
    "start_time": "2024-02-12T11:36:08.536Z"
   },
   {
    "duration": 14,
    "start_time": "2024-02-12T11:36:08.544Z"
   },
   {
    "duration": 14,
    "start_time": "2024-02-12T11:36:08.559Z"
   },
   {
    "duration": 13,
    "start_time": "2024-02-12T11:36:08.574Z"
   },
   {
    "duration": 34,
    "start_time": "2024-02-12T11:36:08.589Z"
   },
   {
    "duration": 250,
    "start_time": "2024-02-12T11:36:08.625Z"
   },
   {
    "duration": 163,
    "start_time": "2024-02-12T11:36:08.876Z"
   },
   {
    "duration": 1292,
    "start_time": "2024-02-12T11:36:09.041Z"
   },
   {
    "duration": 34,
    "start_time": "2024-02-12T11:36:10.335Z"
   },
   {
    "duration": 5,
    "start_time": "2024-02-12T11:36:10.371Z"
   },
   {
    "duration": 894,
    "start_time": "2024-02-12T11:36:10.378Z"
   },
   {
    "duration": 7,
    "start_time": "2024-02-12T11:36:11.274Z"
   },
   {
    "duration": 9,
    "start_time": "2024-02-12T11:36:11.283Z"
   },
   {
    "duration": 27,
    "start_time": "2024-02-12T11:36:11.298Z"
   },
   {
    "duration": 9,
    "start_time": "2024-02-12T11:36:11.332Z"
   },
   {
    "duration": 8,
    "start_time": "2024-02-12T11:36:11.344Z"
   },
   {
    "duration": 173,
    "start_time": "2024-02-12T11:36:11.354Z"
   },
   {
    "duration": 9,
    "start_time": "2024-02-12T11:36:11.529Z"
   },
   {
    "duration": 326,
    "start_time": "2024-02-12T11:36:11.539Z"
   },
   {
    "duration": 566,
    "start_time": "2024-02-12T11:36:11.867Z"
   },
   {
    "duration": 11,
    "start_time": "2024-02-12T11:36:12.435Z"
   },
   {
    "duration": 18,
    "start_time": "2024-02-12T11:36:12.447Z"
   },
   {
    "duration": 9,
    "start_time": "2024-02-12T11:36:12.466Z"
   },
   {
    "duration": 11,
    "start_time": "2024-02-12T11:36:12.477Z"
   },
   {
    "duration": 200,
    "start_time": "2024-02-12T11:36:12.490Z"
   },
   {
    "duration": 8,
    "start_time": "2024-02-12T11:36:12.692Z"
   },
   {
    "duration": 23,
    "start_time": "2024-02-12T11:36:12.701Z"
   },
   {
    "duration": 313,
    "start_time": "2024-02-12T11:36:12.725Z"
   },
   {
    "duration": 20,
    "start_time": "2024-02-12T11:36:13.039Z"
   },
   {
    "duration": 7,
    "start_time": "2024-02-12T11:36:13.061Z"
   },
   {
    "duration": 12,
    "start_time": "2024-02-12T11:36:13.070Z"
   },
   {
    "duration": 3,
    "start_time": "2024-02-12T11:36:13.084Z"
   },
   {
    "duration": 36,
    "start_time": "2024-02-12T11:36:13.088Z"
   },
   {
    "duration": 6,
    "start_time": "2024-02-12T11:36:13.126Z"
   },
   {
    "duration": 11,
    "start_time": "2024-02-12T11:36:13.134Z"
   },
   {
    "duration": 15,
    "start_time": "2024-02-12T11:36:13.147Z"
   },
   {
    "duration": 7,
    "start_time": "2024-02-12T11:36:13.164Z"
   },
   {
    "duration": 21,
    "start_time": "2024-02-12T11:36:13.173Z"
   },
   {
    "duration": 29,
    "start_time": "2024-02-12T11:36:13.196Z"
   },
   {
    "duration": 16,
    "start_time": "2024-02-12T11:36:13.226Z"
   },
   {
    "duration": 12,
    "start_time": "2024-02-12T11:36:13.243Z"
   },
   {
    "duration": 4053,
    "start_time": "2024-02-12T11:36:13.257Z"
   },
   {
    "duration": 3,
    "start_time": "2024-02-12T11:36:17.312Z"
   },
   {
    "duration": 68209,
    "start_time": "2024-02-12T11:36:17.317Z"
   },
   {
    "duration": 21,
    "start_time": "2024-02-12T11:37:25.529Z"
   },
   {
    "duration": 76,
    "start_time": "2024-02-12T11:37:25.553Z"
   },
   {
    "duration": 57,
    "start_time": "2024-02-12T11:37:25.631Z"
   },
   {
    "duration": 51,
    "start_time": "2024-02-12T11:37:25.690Z"
   },
   {
    "duration": 32,
    "start_time": "2024-02-12T11:37:25.743Z"
   },
   {
    "duration": 45,
    "start_time": "2024-02-12T11:37:25.778Z"
   },
   {
    "duration": 26,
    "start_time": "2024-02-12T11:37:25.825Z"
   },
   {
    "duration": 16,
    "start_time": "2024-02-12T11:37:25.853Z"
   },
   {
    "duration": 52,
    "start_time": "2024-02-12T11:37:25.871Z"
   },
   {
    "duration": 37,
    "start_time": "2024-02-12T11:37:25.926Z"
   },
   {
    "duration": 203,
    "start_time": "2024-02-12T11:37:25.964Z"
   },
   {
    "duration": 0,
    "start_time": "2024-02-12T11:37:26.170Z"
   },
   {
    "duration": 0,
    "start_time": "2024-02-12T11:37:26.172Z"
   },
   {
    "duration": 0,
    "start_time": "2024-02-12T11:37:26.173Z"
   },
   {
    "duration": 0,
    "start_time": "2024-02-12T11:37:26.175Z"
   },
   {
    "duration": 0,
    "start_time": "2024-02-12T11:37:26.176Z"
   },
   {
    "duration": 0,
    "start_time": "2024-02-12T11:37:26.178Z"
   },
   {
    "duration": 0,
    "start_time": "2024-02-12T11:37:26.180Z"
   },
   {
    "duration": 0,
    "start_time": "2024-02-12T11:37:26.181Z"
   },
   {
    "duration": 0,
    "start_time": "2024-02-12T11:37:26.183Z"
   },
   {
    "duration": 1,
    "start_time": "2024-02-12T11:37:26.184Z"
   },
   {
    "duration": 0,
    "start_time": "2024-02-12T11:37:26.186Z"
   },
   {
    "duration": 0,
    "start_time": "2024-02-12T11:37:26.187Z"
   },
   {
    "duration": 0,
    "start_time": "2024-02-12T11:37:26.189Z"
   },
   {
    "duration": 0,
    "start_time": "2024-02-12T11:37:26.224Z"
   },
   {
    "duration": 0,
    "start_time": "2024-02-12T11:37:26.225Z"
   },
   {
    "duration": 0,
    "start_time": "2024-02-12T11:37:26.227Z"
   },
   {
    "duration": 0,
    "start_time": "2024-02-12T11:37:26.229Z"
   },
   {
    "duration": 1,
    "start_time": "2024-02-12T11:37:26.230Z"
   },
   {
    "duration": 0,
    "start_time": "2024-02-12T11:37:26.232Z"
   },
   {
    "duration": 0,
    "start_time": "2024-02-12T11:37:26.233Z"
   },
   {
    "duration": 0,
    "start_time": "2024-02-12T11:37:26.235Z"
   },
   {
    "duration": 0,
    "start_time": "2024-02-12T11:37:26.236Z"
   },
   {
    "duration": 0,
    "start_time": "2024-02-12T11:37:26.238Z"
   },
   {
    "duration": 0,
    "start_time": "2024-02-12T11:37:26.239Z"
   },
   {
    "duration": 0,
    "start_time": "2024-02-12T11:37:26.241Z"
   },
   {
    "duration": 0,
    "start_time": "2024-02-12T11:37:26.242Z"
   },
   {
    "duration": 0,
    "start_time": "2024-02-12T11:37:26.244Z"
   },
   {
    "duration": 0,
    "start_time": "2024-02-12T11:37:26.245Z"
   },
   {
    "duration": 0,
    "start_time": "2024-02-12T11:37:26.247Z"
   },
   {
    "duration": 0,
    "start_time": "2024-02-12T11:37:26.248Z"
   },
   {
    "duration": 1,
    "start_time": "2024-02-12T11:37:26.249Z"
   },
   {
    "duration": 0,
    "start_time": "2024-02-12T11:37:26.251Z"
   },
   {
    "duration": 0,
    "start_time": "2024-02-12T11:37:26.252Z"
   },
   {
    "duration": 0,
    "start_time": "2024-02-12T11:37:26.254Z"
   },
   {
    "duration": 0,
    "start_time": "2024-02-12T11:37:26.255Z"
   },
   {
    "duration": 0,
    "start_time": "2024-02-12T11:37:26.256Z"
   },
   {
    "duration": 0,
    "start_time": "2024-02-12T11:37:26.258Z"
   },
   {
    "duration": 0,
    "start_time": "2024-02-12T11:37:26.260Z"
   },
   {
    "duration": 0,
    "start_time": "2024-02-12T11:37:26.261Z"
   },
   {
    "duration": 55427,
    "start_time": "2024-02-12T11:37:49.967Z"
   },
   {
    "duration": 33,
    "start_time": "2024-02-12T11:40:08.057Z"
   },
   {
    "duration": 4,
    "start_time": "2024-02-12T11:40:23.346Z"
   },
   {
    "duration": 5261,
    "start_time": "2024-02-12T11:41:29.936Z"
   },
   {
    "duration": 55,
    "start_time": "2024-02-12T11:41:35.200Z"
   },
   {
    "duration": 30,
    "start_time": "2024-02-12T11:41:35.256Z"
   },
   {
    "duration": 28,
    "start_time": "2024-02-12T11:41:35.288Z"
   },
   {
    "duration": 36,
    "start_time": "2024-02-12T11:41:35.318Z"
   },
   {
    "duration": 13,
    "start_time": "2024-02-12T11:41:35.356Z"
   },
   {
    "duration": 10,
    "start_time": "2024-02-12T11:41:35.373Z"
   },
   {
    "duration": 10,
    "start_time": "2024-02-12T11:41:35.385Z"
   },
   {
    "duration": 9,
    "start_time": "2024-02-12T11:41:35.396Z"
   },
   {
    "duration": 20,
    "start_time": "2024-02-12T11:41:35.407Z"
   },
   {
    "duration": 29,
    "start_time": "2024-02-12T11:41:35.429Z"
   },
   {
    "duration": 54,
    "start_time": "2024-02-12T11:41:35.459Z"
   },
   {
    "duration": 7,
    "start_time": "2024-02-12T11:41:35.515Z"
   },
   {
    "duration": 28,
    "start_time": "2024-02-12T11:41:35.524Z"
   },
   {
    "duration": 22,
    "start_time": "2024-02-12T11:41:35.554Z"
   },
   {
    "duration": 26,
    "start_time": "2024-02-12T11:41:35.577Z"
   },
   {
    "duration": 5,
    "start_time": "2024-02-12T11:41:35.605Z"
   },
   {
    "duration": 21,
    "start_time": "2024-02-12T11:41:35.611Z"
   },
   {
    "duration": 263,
    "start_time": "2024-02-12T11:41:35.634Z"
   },
   {
    "duration": 156,
    "start_time": "2024-02-12T11:41:35.899Z"
   },
   {
    "duration": 1305,
    "start_time": "2024-02-12T11:41:36.057Z"
   },
   {
    "duration": 34,
    "start_time": "2024-02-12T11:41:37.363Z"
   },
   {
    "duration": 5,
    "start_time": "2024-02-12T11:41:37.399Z"
   },
   {
    "duration": 912,
    "start_time": "2024-02-12T11:41:37.423Z"
   },
   {
    "duration": 7,
    "start_time": "2024-02-12T11:41:38.337Z"
   },
   {
    "duration": 16,
    "start_time": "2024-02-12T11:41:38.346Z"
   },
   {
    "duration": 11,
    "start_time": "2024-02-12T11:41:38.363Z"
   },
   {
    "duration": 10,
    "start_time": "2024-02-12T11:41:38.379Z"
   },
   {
    "duration": 12,
    "start_time": "2024-02-12T11:41:38.391Z"
   },
   {
    "duration": 155,
    "start_time": "2024-02-12T11:41:38.405Z"
   },
   {
    "duration": 7,
    "start_time": "2024-02-12T11:41:38.561Z"
   },
   {
    "duration": 318,
    "start_time": "2024-02-12T11:41:38.569Z"
   },
   {
    "duration": 563,
    "start_time": "2024-02-12T11:41:38.889Z"
   },
   {
    "duration": 10,
    "start_time": "2024-02-12T11:41:39.454Z"
   },
   {
    "duration": 11,
    "start_time": "2024-02-12T11:41:39.466Z"
   },
   {
    "duration": 28,
    "start_time": "2024-02-12T11:41:39.479Z"
   },
   {
    "duration": 8,
    "start_time": "2024-02-12T11:41:39.509Z"
   },
   {
    "duration": 198,
    "start_time": "2024-02-12T11:41:39.523Z"
   },
   {
    "duration": 7,
    "start_time": "2024-02-12T11:41:39.723Z"
   },
   {
    "duration": 11,
    "start_time": "2024-02-12T11:41:39.731Z"
   },
   {
    "duration": 305,
    "start_time": "2024-02-12T11:41:39.743Z"
   },
   {
    "duration": 19,
    "start_time": "2024-02-12T11:41:40.050Z"
   },
   {
    "duration": 84,
    "start_time": "2024-02-12T11:41:40.070Z"
   },
   {
    "duration": 30,
    "start_time": "2024-02-12T11:41:40.155Z"
   },
   {
    "duration": 5,
    "start_time": "2024-02-12T11:41:40.187Z"
   },
   {
    "duration": 8,
    "start_time": "2024-02-12T11:41:40.194Z"
   },
   {
    "duration": 13,
    "start_time": "2024-02-12T11:41:40.203Z"
   },
   {
    "duration": 13,
    "start_time": "2024-02-12T11:41:40.217Z"
   },
   {
    "duration": 18,
    "start_time": "2024-02-12T11:41:40.231Z"
   },
   {
    "duration": 8,
    "start_time": "2024-02-12T11:41:40.250Z"
   },
   {
    "duration": 7,
    "start_time": "2024-02-12T11:41:40.260Z"
   },
   {
    "duration": 16,
    "start_time": "2024-02-12T11:41:40.268Z"
   },
   {
    "duration": 11,
    "start_time": "2024-02-12T11:41:40.286Z"
   },
   {
    "duration": 12,
    "start_time": "2024-02-12T11:41:40.323Z"
   },
   {
    "duration": 3949,
    "start_time": "2024-02-12T11:41:40.337Z"
   },
   {
    "duration": 3,
    "start_time": "2024-02-12T11:41:44.288Z"
   },
   {
    "duration": 68002,
    "start_time": "2024-02-12T11:41:44.293Z"
   },
   {
    "duration": 34,
    "start_time": "2024-02-12T11:42:52.297Z"
   },
   {
    "duration": 44,
    "start_time": "2024-02-12T11:42:52.333Z"
   },
   {
    "duration": 50,
    "start_time": "2024-02-12T11:42:52.378Z"
   },
   {
    "duration": 35,
    "start_time": "2024-02-12T11:42:52.429Z"
   },
   {
    "duration": 24,
    "start_time": "2024-02-12T11:42:52.466Z"
   },
   {
    "duration": 31,
    "start_time": "2024-02-12T11:42:52.493Z"
   },
   {
    "duration": 25,
    "start_time": "2024-02-12T11:42:52.526Z"
   },
   {
    "duration": 11,
    "start_time": "2024-02-12T11:42:52.553Z"
   },
   {
    "duration": 58,
    "start_time": "2024-02-12T11:42:52.565Z"
   },
   {
    "duration": 12,
    "start_time": "2024-02-12T11:42:52.625Z"
   },
   {
    "duration": 55294,
    "start_time": "2024-02-12T11:42:52.639Z"
   },
   {
    "duration": 30,
    "start_time": "2024-02-12T11:43:47.935Z"
   },
   {
    "duration": 10,
    "start_time": "2024-02-12T11:43:47.967Z"
   },
   {
    "duration": 11,
    "start_time": "2024-02-12T11:43:47.978Z"
   },
   {
    "duration": 13,
    "start_time": "2024-02-12T11:43:47.991Z"
   },
   {
    "duration": 20,
    "start_time": "2024-02-12T11:43:48.006Z"
   },
   {
    "duration": 5,
    "start_time": "2024-02-12T11:43:48.027Z"
   },
   {
    "duration": 26,
    "start_time": "2024-02-12T11:43:48.034Z"
   },
   {
    "duration": 17,
    "start_time": "2024-02-12T11:43:48.062Z"
   },
   {
    "duration": 21,
    "start_time": "2024-02-12T11:43:48.080Z"
   },
   {
    "duration": 5,
    "start_time": "2024-02-12T11:43:48.122Z"
   },
   {
    "duration": 5,
    "start_time": "2024-02-12T11:43:48.129Z"
   },
   {
    "duration": 22,
    "start_time": "2024-02-12T11:43:48.136Z"
   },
   {
    "duration": 30,
    "start_time": "2024-02-12T11:43:48.160Z"
   },
   {
    "duration": 80,
    "start_time": "2024-02-12T11:43:48.223Z"
   },
   {
    "duration": 18,
    "start_time": "2024-02-12T11:43:48.306Z"
   },
   {
    "duration": 5,
    "start_time": "2024-02-12T11:43:48.326Z"
   },
   {
    "duration": 46,
    "start_time": "2024-02-12T11:43:48.333Z"
   },
   {
    "duration": 5,
    "start_time": "2024-02-12T11:43:48.382Z"
   },
   {
    "duration": 1022,
    "start_time": "2024-02-12T11:43:48.389Z"
   },
   {
    "duration": 652,
    "start_time": "2024-02-12T11:43:49.413Z"
   },
   {
    "duration": 9,
    "start_time": "2024-02-12T11:43:50.067Z"
   },
   {
    "duration": 27,
    "start_time": "2024-02-12T11:43:50.078Z"
   },
   {
    "duration": 23,
    "start_time": "2024-02-12T11:43:50.107Z"
   },
   {
    "duration": 9,
    "start_time": "2024-02-12T11:43:50.132Z"
   },
   {
    "duration": 117,
    "start_time": "2024-02-12T11:43:50.142Z"
   },
   {
    "duration": 167,
    "start_time": "2024-02-12T11:43:50.261Z"
   },
   {
    "duration": 157,
    "start_time": "2024-02-12T11:43:50.430Z"
   },
   {
    "duration": 10,
    "start_time": "2024-02-12T11:43:50.589Z"
   },
   {
    "duration": 23,
    "start_time": "2024-02-12T11:43:50.600Z"
   },
   {
    "duration": 11,
    "start_time": "2024-02-12T11:43:50.625Z"
   },
   {
    "duration": 13,
    "start_time": "2024-02-12T11:43:50.638Z"
   },
   {
    "duration": 21,
    "start_time": "2024-02-12T11:43:50.653Z"
   },
   {
    "duration": 25,
    "start_time": "2024-02-12T11:43:50.676Z"
   },
   {
    "duration": 14,
    "start_time": "2024-02-12T11:43:50.702Z"
   },
   {
    "duration": 138,
    "start_time": "2024-02-12T11:43:50.718Z"
   },
   {
    "duration": 127,
    "start_time": "2024-02-12T11:43:50.857Z"
   },
   {
    "duration": 141,
    "start_time": "2024-02-12T11:43:50.986Z"
   },
   {
    "duration": 7,
    "start_time": "2024-02-12T11:43:51.129Z"
   },
   {
    "duration": 302,
    "start_time": "2024-02-12T11:43:51.138Z"
   },
   {
    "duration": 5261,
    "start_time": "2024-02-12T11:51:47.434Z"
   },
   {
    "duration": 51,
    "start_time": "2024-02-12T11:51:52.697Z"
   },
   {
    "duration": 30,
    "start_time": "2024-02-12T11:51:52.751Z"
   },
   {
    "duration": 33,
    "start_time": "2024-02-12T11:51:52.783Z"
   },
   {
    "duration": 36,
    "start_time": "2024-02-12T11:51:52.818Z"
   },
   {
    "duration": 11,
    "start_time": "2024-02-12T11:51:52.856Z"
   },
   {
    "duration": 11,
    "start_time": "2024-02-12T11:51:52.869Z"
   },
   {
    "duration": 20,
    "start_time": "2024-02-12T11:51:52.881Z"
   },
   {
    "duration": 8,
    "start_time": "2024-02-12T11:51:52.902Z"
   },
   {
    "duration": 17,
    "start_time": "2024-02-12T11:51:52.913Z"
   },
   {
    "duration": 13,
    "start_time": "2024-02-12T11:51:52.931Z"
   },
   {
    "duration": 11,
    "start_time": "2024-02-12T11:51:52.946Z"
   },
   {
    "duration": 6,
    "start_time": "2024-02-12T11:51:52.959Z"
   },
   {
    "duration": 9,
    "start_time": "2024-02-12T11:51:52.967Z"
   },
   {
    "duration": 16,
    "start_time": "2024-02-12T11:51:52.978Z"
   },
   {
    "duration": 14,
    "start_time": "2024-02-12T11:51:52.996Z"
   },
   {
    "duration": 13,
    "start_time": "2024-02-12T11:51:53.012Z"
   },
   {
    "duration": 12,
    "start_time": "2024-02-12T11:51:53.027Z"
   },
   {
    "duration": 258,
    "start_time": "2024-02-12T11:51:53.041Z"
   },
   {
    "duration": 161,
    "start_time": "2024-02-12T11:51:53.301Z"
   },
   {
    "duration": 1310,
    "start_time": "2024-02-12T11:51:53.464Z"
   },
   {
    "duration": 47,
    "start_time": "2024-02-12T11:51:54.776Z"
   },
   {
    "duration": 6,
    "start_time": "2024-02-12T11:51:54.825Z"
   },
   {
    "duration": 908,
    "start_time": "2024-02-12T11:51:54.832Z"
   },
   {
    "duration": 8,
    "start_time": "2024-02-12T11:51:55.742Z"
   },
   {
    "duration": 14,
    "start_time": "2024-02-12T11:51:55.751Z"
   },
   {
    "duration": 23,
    "start_time": "2024-02-12T11:51:55.767Z"
   },
   {
    "duration": 6,
    "start_time": "2024-02-12T11:51:55.796Z"
   },
   {
    "duration": 26,
    "start_time": "2024-02-12T11:51:55.804Z"
   },
   {
    "duration": 171,
    "start_time": "2024-02-12T11:51:55.832Z"
   },
   {
    "duration": 19,
    "start_time": "2024-02-12T11:51:56.005Z"
   },
   {
    "duration": 312,
    "start_time": "2024-02-12T11:51:56.026Z"
   },
   {
    "duration": 581,
    "start_time": "2024-02-12T11:51:56.341Z"
   },
   {
    "duration": 11,
    "start_time": "2024-02-12T11:51:56.924Z"
   },
   {
    "duration": 6,
    "start_time": "2024-02-12T11:51:56.937Z"
   },
   {
    "duration": 8,
    "start_time": "2024-02-12T11:51:56.944Z"
   },
   {
    "duration": 11,
    "start_time": "2024-02-12T11:51:56.954Z"
   },
   {
    "duration": 214,
    "start_time": "2024-02-12T11:51:56.967Z"
   },
   {
    "duration": 7,
    "start_time": "2024-02-12T11:51:57.183Z"
   },
   {
    "duration": 8,
    "start_time": "2024-02-12T11:51:57.192Z"
   },
   {
    "duration": 336,
    "start_time": "2024-02-12T11:51:57.202Z"
   },
   {
    "duration": 30,
    "start_time": "2024-02-12T11:51:57.541Z"
   },
   {
    "duration": 9,
    "start_time": "2024-02-12T11:51:57.573Z"
   },
   {
    "duration": 11,
    "start_time": "2024-02-12T11:51:57.583Z"
   },
   {
    "duration": 29,
    "start_time": "2024-02-12T11:51:57.596Z"
   },
   {
    "duration": 7,
    "start_time": "2024-02-12T11:51:57.626Z"
   },
   {
    "duration": 8,
    "start_time": "2024-02-12T11:51:57.635Z"
   },
   {
    "duration": 12,
    "start_time": "2024-02-12T11:51:57.644Z"
   },
   {
    "duration": 19,
    "start_time": "2024-02-12T11:51:57.658Z"
   },
   {
    "duration": 21,
    "start_time": "2024-02-12T11:51:57.678Z"
   },
   {
    "duration": 7,
    "start_time": "2024-02-12T11:51:57.701Z"
   },
   {
    "duration": 24,
    "start_time": "2024-02-12T11:51:57.709Z"
   },
   {
    "duration": 13,
    "start_time": "2024-02-12T11:51:57.734Z"
   },
   {
    "duration": 13,
    "start_time": "2024-02-12T11:51:57.748Z"
   },
   {
    "duration": 4079,
    "start_time": "2024-02-12T11:51:57.763Z"
   },
   {
    "duration": 3,
    "start_time": "2024-02-12T11:52:01.844Z"
   },
   {
    "duration": 67833,
    "start_time": "2024-02-12T11:52:01.849Z"
   },
   {
    "duration": 46,
    "start_time": "2024-02-12T11:53:09.684Z"
   },
   {
    "duration": 12,
    "start_time": "2024-02-12T11:53:09.732Z"
   },
   {
    "duration": 8,
    "start_time": "2024-02-12T11:53:09.746Z"
   },
   {
    "duration": 3,
    "start_time": "2024-02-12T11:53:09.756Z"
   },
   {
    "duration": 6,
    "start_time": "2024-02-12T11:53:09.761Z"
   },
   {
    "duration": 56,
    "start_time": "2024-02-12T11:53:09.769Z"
   },
   {
    "duration": 17,
    "start_time": "2024-02-12T11:53:09.827Z"
   },
   {
    "duration": 4,
    "start_time": "2024-02-12T11:53:09.846Z"
   },
   {
    "duration": 7,
    "start_time": "2024-02-12T11:53:09.852Z"
   },
   {
    "duration": 8,
    "start_time": "2024-02-12T11:53:09.861Z"
   },
   {
    "duration": 53984,
    "start_time": "2024-02-12T11:53:09.871Z"
   },
   {
    "duration": 33,
    "start_time": "2024-02-12T11:54:03.857Z"
   },
   {
    "duration": 18,
    "start_time": "2024-02-12T11:54:03.891Z"
   },
   {
    "duration": 39,
    "start_time": "2024-02-12T11:54:03.911Z"
   },
   {
    "duration": 47,
    "start_time": "2024-02-12T11:54:03.951Z"
   },
   {
    "duration": 28,
    "start_time": "2024-02-12T11:54:03.999Z"
   },
   {
    "duration": 18,
    "start_time": "2024-02-12T11:54:04.029Z"
   },
   {
    "duration": 33,
    "start_time": "2024-02-12T11:54:04.049Z"
   },
   {
    "duration": 28,
    "start_time": "2024-02-12T11:54:04.084Z"
   },
   {
    "duration": 29,
    "start_time": "2024-02-12T11:54:04.114Z"
   },
   {
    "duration": 4,
    "start_time": "2024-02-12T11:54:04.144Z"
   },
   {
    "duration": 10,
    "start_time": "2024-02-12T11:54:04.150Z"
   },
   {
    "duration": 21,
    "start_time": "2024-02-12T11:54:04.162Z"
   },
   {
    "duration": 41,
    "start_time": "2024-02-12T11:54:04.185Z"
   },
   {
    "duration": 79,
    "start_time": "2024-02-12T11:54:04.233Z"
   },
   {
    "duration": 15,
    "start_time": "2024-02-12T11:54:04.313Z"
   },
   {
    "duration": 4,
    "start_time": "2024-02-12T11:54:04.330Z"
   },
   {
    "duration": 48,
    "start_time": "2024-02-12T11:54:04.335Z"
   },
   {
    "duration": 4,
    "start_time": "2024-02-12T11:54:04.385Z"
   },
   {
    "duration": 1041,
    "start_time": "2024-02-12T11:54:04.390Z"
   },
   {
    "duration": 634,
    "start_time": "2024-02-12T11:54:05.433Z"
   },
   {
    "duration": 10,
    "start_time": "2024-02-12T11:54:06.069Z"
   },
   {
    "duration": 6,
    "start_time": "2024-02-12T11:54:06.080Z"
   },
   {
    "duration": 36,
    "start_time": "2024-02-12T11:54:06.087Z"
   },
   {
    "duration": 8,
    "start_time": "2024-02-12T11:54:06.125Z"
   },
   {
    "duration": 125,
    "start_time": "2024-02-12T11:54:06.135Z"
   },
   {
    "duration": 165,
    "start_time": "2024-02-12T11:54:06.262Z"
   },
   {
    "duration": 162,
    "start_time": "2024-02-12T11:54:06.429Z"
   },
   {
    "duration": 12,
    "start_time": "2024-02-12T11:54:06.592Z"
   },
   {
    "duration": 19,
    "start_time": "2024-02-12T11:54:06.606Z"
   },
   {
    "duration": 329,
    "start_time": "2024-02-12T11:54:06.627Z"
   },
   {
    "duration": 4,
    "start_time": "2024-02-12T11:54:06.958Z"
   },
   {
    "duration": 5,
    "start_time": "2024-02-12T11:54:06.964Z"
   },
   {
    "duration": 11,
    "start_time": "2024-02-12T11:54:06.971Z"
   },
   {
    "duration": 337,
    "start_time": "2024-02-12T11:54:06.984Z"
   },
   {
    "duration": 135,
    "start_time": "2024-02-12T11:54:07.322Z"
   },
   {
    "duration": 155,
    "start_time": "2024-02-12T11:54:07.459Z"
   },
   {
    "duration": 137,
    "start_time": "2024-02-12T11:54:07.616Z"
   },
   {
    "duration": 8,
    "start_time": "2024-02-12T11:54:07.754Z"
   },
   {
    "duration": 295,
    "start_time": "2024-02-12T11:54:07.763Z"
   },
   {
    "duration": 10278,
    "start_time": "2024-02-12T18:24:31.969Z"
   },
   {
    "duration": 88,
    "start_time": "2024-02-12T18:24:42.250Z"
   },
   {
    "duration": 66,
    "start_time": "2024-02-12T18:24:42.340Z"
   },
   {
    "duration": 94,
    "start_time": "2024-02-12T18:24:42.408Z"
   },
   {
    "duration": 64,
    "start_time": "2024-02-12T18:24:42.503Z"
   },
   {
    "duration": 12,
    "start_time": "2024-02-12T18:24:42.568Z"
   },
   {
    "duration": 21,
    "start_time": "2024-02-12T18:24:42.581Z"
   },
   {
    "duration": 9,
    "start_time": "2024-02-12T18:24:42.603Z"
   },
   {
    "duration": 6,
    "start_time": "2024-02-12T18:24:42.614Z"
   },
   {
    "duration": 7,
    "start_time": "2024-02-12T18:24:42.623Z"
   },
   {
    "duration": 27,
    "start_time": "2024-02-12T18:24:42.631Z"
   },
   {
    "duration": 11,
    "start_time": "2024-02-12T18:24:42.660Z"
   },
   {
    "duration": 17,
    "start_time": "2024-02-12T18:24:42.673Z"
   },
   {
    "duration": 14,
    "start_time": "2024-02-12T18:24:42.691Z"
   },
   {
    "duration": 15,
    "start_time": "2024-02-12T18:24:42.707Z"
   },
   {
    "duration": 8,
    "start_time": "2024-02-12T18:24:42.723Z"
   },
   {
    "duration": 5,
    "start_time": "2024-02-12T18:24:42.733Z"
   },
   {
    "duration": 23,
    "start_time": "2024-02-12T18:24:42.739Z"
   },
   {
    "duration": 247,
    "start_time": "2024-02-12T18:24:42.763Z"
   },
   {
    "duration": 176,
    "start_time": "2024-02-12T18:24:43.012Z"
   },
   {
    "duration": 1336,
    "start_time": "2024-02-12T18:24:43.190Z"
   },
   {
    "duration": 42,
    "start_time": "2024-02-12T18:24:44.528Z"
   },
   {
    "duration": 6,
    "start_time": "2024-02-12T18:24:44.571Z"
   },
   {
    "duration": 901,
    "start_time": "2024-02-12T18:24:44.579Z"
   },
   {
    "duration": 7,
    "start_time": "2024-02-12T18:24:45.482Z"
   },
   {
    "duration": 31,
    "start_time": "2024-02-12T18:24:45.491Z"
   },
   {
    "duration": 39,
    "start_time": "2024-02-12T18:24:45.524Z"
   },
   {
    "duration": 40,
    "start_time": "2024-02-12T18:24:45.567Z"
   },
   {
    "duration": 32,
    "start_time": "2024-02-12T18:24:45.609Z"
   },
   {
    "duration": 173,
    "start_time": "2024-02-12T18:24:45.643Z"
   },
   {
    "duration": 8,
    "start_time": "2024-02-12T18:24:45.818Z"
   },
   {
    "duration": 332,
    "start_time": "2024-02-12T18:24:45.828Z"
   },
   {
    "duration": 587,
    "start_time": "2024-02-12T18:24:46.162Z"
   },
   {
    "duration": 14,
    "start_time": "2024-02-12T18:24:46.751Z"
   },
   {
    "duration": 5,
    "start_time": "2024-02-12T18:24:46.766Z"
   },
   {
    "duration": 7,
    "start_time": "2024-02-12T18:24:46.773Z"
   },
   {
    "duration": 7,
    "start_time": "2024-02-12T18:24:46.782Z"
   },
   {
    "duration": 227,
    "start_time": "2024-02-12T18:24:46.791Z"
   },
   {
    "duration": 7,
    "start_time": "2024-02-12T18:24:47.020Z"
   },
   {
    "duration": 13,
    "start_time": "2024-02-12T18:24:47.029Z"
   },
   {
    "duration": 336,
    "start_time": "2024-02-12T18:24:47.043Z"
   },
   {
    "duration": 21,
    "start_time": "2024-02-12T18:24:47.380Z"
   },
   {
    "duration": 7,
    "start_time": "2024-02-12T18:24:47.403Z"
   },
   {
    "duration": 15,
    "start_time": "2024-02-12T18:24:47.412Z"
   },
   {
    "duration": 6,
    "start_time": "2024-02-12T18:24:47.429Z"
   },
   {
    "duration": 29,
    "start_time": "2024-02-12T18:24:47.436Z"
   },
   {
    "duration": 5,
    "start_time": "2024-02-12T18:24:47.467Z"
   },
   {
    "duration": 11,
    "start_time": "2024-02-12T18:24:47.473Z"
   },
   {
    "duration": 15,
    "start_time": "2024-02-12T18:24:47.486Z"
   },
   {
    "duration": 8,
    "start_time": "2024-02-12T18:24:47.502Z"
   },
   {
    "duration": 7,
    "start_time": "2024-02-12T18:24:47.512Z"
   },
   {
    "duration": 48,
    "start_time": "2024-02-12T18:24:47.520Z"
   },
   {
    "duration": 19,
    "start_time": "2024-02-12T18:24:47.570Z"
   },
   {
    "duration": 16,
    "start_time": "2024-02-12T18:24:47.590Z"
   },
   {
    "duration": 4029,
    "start_time": "2024-02-12T18:24:47.607Z"
   },
   {
    "duration": 4,
    "start_time": "2024-02-12T18:24:51.637Z"
   },
   {
    "duration": 67618,
    "start_time": "2024-02-12T18:24:51.642Z"
   },
   {
    "duration": 16,
    "start_time": "2024-02-12T18:25:59.262Z"
   },
   {
    "duration": 10,
    "start_time": "2024-02-12T18:25:59.280Z"
   },
   {
    "duration": 6,
    "start_time": "2024-02-12T18:25:59.292Z"
   },
   {
    "duration": 3,
    "start_time": "2024-02-12T18:25:59.358Z"
   },
   {
    "duration": 10,
    "start_time": "2024-02-12T18:25:59.363Z"
   },
   {
    "duration": 3,
    "start_time": "2024-02-12T18:25:59.375Z"
   },
   {
    "duration": 6,
    "start_time": "2024-02-12T18:25:59.380Z"
   },
   {
    "duration": 5,
    "start_time": "2024-02-12T18:25:59.388Z"
   },
   {
    "duration": 10,
    "start_time": "2024-02-12T18:25:59.395Z"
   },
   {
    "duration": 52,
    "start_time": "2024-02-12T18:25:59.407Z"
   },
   {
    "duration": 55246,
    "start_time": "2024-02-12T18:25:59.461Z"
   },
   {
    "duration": 34,
    "start_time": "2024-02-12T18:26:54.708Z"
   },
   {
    "duration": 22,
    "start_time": "2024-02-12T18:26:54.744Z"
   },
   {
    "duration": 25,
    "start_time": "2024-02-12T18:26:54.768Z"
   },
   {
    "duration": 34,
    "start_time": "2024-02-12T18:26:54.795Z"
   },
   {
    "duration": 11,
    "start_time": "2024-02-12T18:26:54.831Z"
   },
   {
    "duration": 14,
    "start_time": "2024-02-12T18:26:54.844Z"
   },
   {
    "duration": 28,
    "start_time": "2024-02-12T18:26:54.859Z"
   },
   {
    "duration": 20,
    "start_time": "2024-02-12T18:26:54.890Z"
   },
   {
    "duration": 24,
    "start_time": "2024-02-12T18:26:54.912Z"
   },
   {
    "duration": 4,
    "start_time": "2024-02-12T18:26:54.958Z"
   },
   {
    "duration": 8,
    "start_time": "2024-02-12T18:26:54.964Z"
   },
   {
    "duration": 22,
    "start_time": "2024-02-12T18:26:54.974Z"
   },
   {
    "duration": 36,
    "start_time": "2024-02-12T18:26:54.998Z"
   },
   {
    "duration": 103,
    "start_time": "2024-02-12T18:26:55.040Z"
   },
   {
    "duration": 7,
    "start_time": "2024-02-12T18:26:55.145Z"
   },
   {
    "duration": 26,
    "start_time": "2024-02-12T18:26:55.159Z"
   },
   {
    "duration": 73,
    "start_time": "2024-02-12T18:26:55.187Z"
   },
   {
    "duration": 4,
    "start_time": "2024-02-12T18:26:55.263Z"
   },
   {
    "duration": 1014,
    "start_time": "2024-02-12T18:26:55.269Z"
   },
   {
    "duration": 665,
    "start_time": "2024-02-12T18:26:56.285Z"
   },
   {
    "duration": 9,
    "start_time": "2024-02-12T18:26:56.958Z"
   },
   {
    "duration": 24,
    "start_time": "2024-02-12T18:26:56.968Z"
   },
   {
    "duration": 26,
    "start_time": "2024-02-12T18:26:56.993Z"
   },
   {
    "duration": 18,
    "start_time": "2024-02-12T18:26:57.020Z"
   },
   {
    "duration": 123,
    "start_time": "2024-02-12T18:26:57.040Z"
   },
   {
    "duration": 191,
    "start_time": "2024-02-12T18:26:57.164Z"
   },
   {
    "duration": 170,
    "start_time": "2024-02-12T18:26:57.359Z"
   },
   {
    "duration": 13,
    "start_time": "2024-02-12T18:26:57.530Z"
   },
   {
    "duration": 20,
    "start_time": "2024-02-12T18:26:57.544Z"
   },
   {
    "duration": 320,
    "start_time": "2024-02-12T18:26:57.566Z"
   },
   {
    "duration": 4,
    "start_time": "2024-02-12T18:26:57.887Z"
   },
   {
    "duration": 12,
    "start_time": "2024-02-12T18:26:57.892Z"
   },
   {
    "duration": 14,
    "start_time": "2024-02-12T18:26:57.905Z"
   },
   {
    "duration": 324,
    "start_time": "2024-02-12T18:26:57.921Z"
   },
   {
    "duration": 135,
    "start_time": "2024-02-12T18:26:58.247Z"
   },
   {
    "duration": 141,
    "start_time": "2024-02-12T18:26:58.384Z"
   },
   {
    "duration": 150,
    "start_time": "2024-02-12T18:26:58.527Z"
   },
   {
    "duration": 8,
    "start_time": "2024-02-12T18:26:58.679Z"
   },
   {
    "duration": 299,
    "start_time": "2024-02-12T18:26:58.689Z"
   },
   {
    "duration": 190,
    "start_time": "2024-02-12T18:33:11.123Z"
   },
   {
    "duration": 18,
    "start_time": "2024-02-12T18:39:38.553Z"
   },
   {
    "duration": 14,
    "start_time": "2024-02-12T18:40:16.440Z"
   },
   {
    "duration": 1522,
    "start_time": "2024-02-12T18:41:04.408Z"
   },
   {
    "duration": 5290,
    "start_time": "2024-02-12T18:43:03.537Z"
   },
   {
    "duration": 55,
    "start_time": "2024-02-12T18:43:08.829Z"
   },
   {
    "duration": 31,
    "start_time": "2024-02-12T18:43:08.886Z"
   },
   {
    "duration": 28,
    "start_time": "2024-02-12T18:43:08.919Z"
   },
   {
    "duration": 35,
    "start_time": "2024-02-12T18:43:08.949Z"
   },
   {
    "duration": 10,
    "start_time": "2024-02-12T18:43:08.986Z"
   },
   {
    "duration": 19,
    "start_time": "2024-02-12T18:43:08.997Z"
   },
   {
    "duration": 20,
    "start_time": "2024-02-12T18:43:09.018Z"
   },
   {
    "duration": 9,
    "start_time": "2024-02-12T18:43:09.039Z"
   },
   {
    "duration": 6,
    "start_time": "2024-02-12T18:43:09.050Z"
   },
   {
    "duration": 25,
    "start_time": "2024-02-12T18:43:09.058Z"
   },
   {
    "duration": 16,
    "start_time": "2024-02-12T18:43:09.085Z"
   },
   {
    "duration": 16,
    "start_time": "2024-02-12T18:43:09.103Z"
   },
   {
    "duration": 10,
    "start_time": "2024-02-12T18:43:09.121Z"
   },
   {
    "duration": 17,
    "start_time": "2024-02-12T18:43:09.133Z"
   },
   {
    "duration": 9,
    "start_time": "2024-02-12T18:43:09.152Z"
   },
   {
    "duration": 11,
    "start_time": "2024-02-12T18:43:09.162Z"
   },
   {
    "duration": 17,
    "start_time": "2024-02-12T18:43:09.175Z"
   },
   {
    "duration": 254,
    "start_time": "2024-02-12T18:43:09.193Z"
   },
   {
    "duration": 165,
    "start_time": "2024-02-12T18:43:09.448Z"
   },
   {
    "duration": 1275,
    "start_time": "2024-02-12T18:43:09.615Z"
   },
   {
    "duration": 36,
    "start_time": "2024-02-12T18:43:10.892Z"
   },
   {
    "duration": 6,
    "start_time": "2024-02-12T18:43:10.930Z"
   },
   {
    "duration": 906,
    "start_time": "2024-02-12T18:43:10.937Z"
   },
   {
    "duration": 16,
    "start_time": "2024-02-12T18:43:11.845Z"
   },
   {
    "duration": 10,
    "start_time": "2024-02-12T18:43:11.863Z"
   },
   {
    "duration": 11,
    "start_time": "2024-02-12T18:43:11.875Z"
   },
   {
    "duration": 6,
    "start_time": "2024-02-12T18:43:11.891Z"
   },
   {
    "duration": 19,
    "start_time": "2024-02-12T18:43:11.899Z"
   },
   {
    "duration": 157,
    "start_time": "2024-02-12T18:43:11.919Z"
   },
   {
    "duration": 6,
    "start_time": "2024-02-12T18:43:12.078Z"
   },
   {
    "duration": 344,
    "start_time": "2024-02-12T18:43:12.086Z"
   },
   {
    "duration": 584,
    "start_time": "2024-02-12T18:43:12.432Z"
   },
   {
    "duration": 9,
    "start_time": "2024-02-12T18:43:13.018Z"
   },
   {
    "duration": 11,
    "start_time": "2024-02-12T18:43:13.029Z"
   },
   {
    "duration": 18,
    "start_time": "2024-02-12T18:43:13.041Z"
   },
   {
    "duration": 8,
    "start_time": "2024-02-12T18:43:13.061Z"
   },
   {
    "duration": 201,
    "start_time": "2024-02-12T18:43:13.071Z"
   },
   {
    "duration": 8,
    "start_time": "2024-02-12T18:43:13.274Z"
   },
   {
    "duration": 28,
    "start_time": "2024-02-12T18:43:13.284Z"
   },
   {
    "duration": 328,
    "start_time": "2024-02-12T18:43:13.313Z"
   },
   {
    "duration": 30,
    "start_time": "2024-02-12T18:43:13.643Z"
   },
   {
    "duration": 7,
    "start_time": "2024-02-12T18:43:13.675Z"
   },
   {
    "duration": 12,
    "start_time": "2024-02-12T18:43:13.684Z"
   },
   {
    "duration": 22,
    "start_time": "2024-02-12T18:43:13.698Z"
   },
   {
    "duration": 6,
    "start_time": "2024-02-12T18:43:13.722Z"
   },
   {
    "duration": 6,
    "start_time": "2024-02-12T18:43:13.730Z"
   },
   {
    "duration": 26,
    "start_time": "2024-02-12T18:43:13.737Z"
   },
   {
    "duration": 16,
    "start_time": "2024-02-12T18:43:13.765Z"
   },
   {
    "duration": 9,
    "start_time": "2024-02-12T18:43:13.783Z"
   },
   {
    "duration": 9,
    "start_time": "2024-02-12T18:43:13.793Z"
   },
   {
    "duration": 17,
    "start_time": "2024-02-12T18:43:13.803Z"
   },
   {
    "duration": 49,
    "start_time": "2024-02-12T18:43:13.822Z"
   },
   {
    "duration": 15,
    "start_time": "2024-02-12T18:43:13.873Z"
   },
   {
    "duration": 4046,
    "start_time": "2024-02-12T18:43:13.890Z"
   },
   {
    "duration": 4,
    "start_time": "2024-02-12T18:43:17.938Z"
   },
   {
    "duration": 68086,
    "start_time": "2024-02-12T18:43:17.944Z"
   },
   {
    "duration": 40,
    "start_time": "2024-02-12T18:44:26.033Z"
   },
   {
    "duration": 8,
    "start_time": "2024-02-12T18:44:26.075Z"
   },
   {
    "duration": 79,
    "start_time": "2024-02-12T18:44:26.085Z"
   },
   {
    "duration": 15,
    "start_time": "2024-02-12T18:44:26.165Z"
   },
   {
    "duration": 10,
    "start_time": "2024-02-12T18:44:26.182Z"
   },
   {
    "duration": 7,
    "start_time": "2024-02-12T18:44:26.193Z"
   },
   {
    "duration": 13,
    "start_time": "2024-02-12T18:44:26.202Z"
   },
   {
    "duration": 4,
    "start_time": "2024-02-12T18:44:26.259Z"
   },
   {
    "duration": 17,
    "start_time": "2024-02-12T18:44:26.265Z"
   },
   {
    "duration": 17,
    "start_time": "2024-02-12T18:44:26.284Z"
   },
   {
    "duration": 54174,
    "start_time": "2024-02-12T18:44:26.304Z"
   },
   {
    "duration": 32,
    "start_time": "2024-02-12T18:45:20.480Z"
   },
   {
    "duration": 25,
    "start_time": "2024-02-12T18:45:20.514Z"
   },
   {
    "duration": 13,
    "start_time": "2024-02-12T18:45:20.541Z"
   },
   {
    "duration": 16,
    "start_time": "2024-02-12T18:45:20.555Z"
   },
   {
    "duration": 9,
    "start_time": "2024-02-12T18:45:20.573Z"
   },
   {
    "duration": 8,
    "start_time": "2024-02-12T18:45:20.583Z"
   },
   {
    "duration": 27,
    "start_time": "2024-02-12T18:45:20.593Z"
   },
   {
    "duration": 19,
    "start_time": "2024-02-12T18:45:20.622Z"
   },
   {
    "duration": 33,
    "start_time": "2024-02-12T18:45:20.643Z"
   },
   {
    "duration": 5,
    "start_time": "2024-02-12T18:45:20.678Z"
   },
   {
    "duration": 6,
    "start_time": "2024-02-12T18:45:20.684Z"
   },
   {
    "duration": 26,
    "start_time": "2024-02-12T18:45:20.692Z"
   },
   {
    "duration": 50,
    "start_time": "2024-02-12T18:45:20.720Z"
   },
   {
    "duration": 86,
    "start_time": "2024-02-12T18:45:20.777Z"
   },
   {
    "duration": 8,
    "start_time": "2024-02-12T18:45:20.864Z"
   },
   {
    "duration": 4,
    "start_time": "2024-02-12T18:45:20.873Z"
   },
   {
    "duration": 53,
    "start_time": "2024-02-12T18:45:20.879Z"
   },
   {
    "duration": 26,
    "start_time": "2024-02-12T18:45:20.934Z"
   },
   {
    "duration": 980,
    "start_time": "2024-02-12T18:45:20.961Z"
   },
   {
    "duration": 674,
    "start_time": "2024-02-12T18:45:21.942Z"
   },
   {
    "duration": 8,
    "start_time": "2024-02-12T18:45:22.618Z"
   },
   {
    "duration": 6,
    "start_time": "2024-02-12T18:45:22.628Z"
   },
   {
    "duration": 32,
    "start_time": "2024-02-12T18:45:22.636Z"
   },
   {
    "duration": 9,
    "start_time": "2024-02-12T18:45:22.669Z"
   },
   {
    "duration": 114,
    "start_time": "2024-02-12T18:45:22.680Z"
   },
   {
    "duration": 199,
    "start_time": "2024-02-12T18:45:22.796Z"
   },
   {
    "duration": 165,
    "start_time": "2024-02-12T18:45:22.997Z"
   },
   {
    "duration": 14,
    "start_time": "2024-02-12T18:45:23.163Z"
   },
   {
    "duration": 182,
    "start_time": "2024-02-12T18:45:23.178Z"
   },
   {
    "duration": 0,
    "start_time": "2024-02-12T18:45:23.362Z"
   },
   {
    "duration": 0,
    "start_time": "2024-02-12T18:45:23.364Z"
   },
   {
    "duration": 0,
    "start_time": "2024-02-12T18:45:23.365Z"
   },
   {
    "duration": 0,
    "start_time": "2024-02-12T18:45:23.366Z"
   },
   {
    "duration": 0,
    "start_time": "2024-02-12T18:45:23.368Z"
   },
   {
    "duration": 0,
    "start_time": "2024-02-12T18:45:23.370Z"
   },
   {
    "duration": 0,
    "start_time": "2024-02-12T18:45:23.371Z"
   },
   {
    "duration": 0,
    "start_time": "2024-02-12T18:45:23.373Z"
   },
   {
    "duration": 0,
    "start_time": "2024-02-12T18:45:23.374Z"
   },
   {
    "duration": 0,
    "start_time": "2024-02-12T18:45:23.376Z"
   },
   {
    "duration": 5344,
    "start_time": "2024-02-12T18:48:29.006Z"
   },
   {
    "duration": 59,
    "start_time": "2024-02-12T18:48:34.352Z"
   },
   {
    "duration": 32,
    "start_time": "2024-02-12T18:48:34.412Z"
   },
   {
    "duration": 31,
    "start_time": "2024-02-12T18:48:34.446Z"
   },
   {
    "duration": 50,
    "start_time": "2024-02-12T18:48:34.479Z"
   },
   {
    "duration": 13,
    "start_time": "2024-02-12T18:48:34.531Z"
   },
   {
    "duration": 13,
    "start_time": "2024-02-12T18:48:34.545Z"
   },
   {
    "duration": 18,
    "start_time": "2024-02-12T18:48:34.560Z"
   },
   {
    "duration": 16,
    "start_time": "2024-02-12T18:48:34.580Z"
   },
   {
    "duration": 9,
    "start_time": "2024-02-12T18:48:34.600Z"
   },
   {
    "duration": 25,
    "start_time": "2024-02-12T18:48:34.611Z"
   },
   {
    "duration": 10,
    "start_time": "2024-02-12T18:48:34.638Z"
   },
   {
    "duration": 10,
    "start_time": "2024-02-12T18:48:34.650Z"
   },
   {
    "duration": 19,
    "start_time": "2024-02-12T18:48:34.662Z"
   },
   {
    "duration": 10,
    "start_time": "2024-02-12T18:48:34.683Z"
   },
   {
    "duration": 10,
    "start_time": "2024-02-12T18:48:34.695Z"
   },
   {
    "duration": 6,
    "start_time": "2024-02-12T18:48:34.706Z"
   },
   {
    "duration": 13,
    "start_time": "2024-02-12T18:48:34.714Z"
   },
   {
    "duration": 271,
    "start_time": "2024-02-12T18:48:34.729Z"
   },
   {
    "duration": 176,
    "start_time": "2024-02-12T18:48:35.002Z"
   },
   {
    "duration": 1312,
    "start_time": "2024-02-12T18:48:35.180Z"
   },
   {
    "duration": 35,
    "start_time": "2024-02-12T18:48:36.493Z"
   },
   {
    "duration": 6,
    "start_time": "2024-02-12T18:48:36.529Z"
   },
   {
    "duration": 928,
    "start_time": "2024-02-12T18:48:36.536Z"
   },
   {
    "duration": 8,
    "start_time": "2024-02-12T18:48:37.465Z"
   },
   {
    "duration": 10,
    "start_time": "2024-02-12T18:48:37.475Z"
   },
   {
    "duration": 7,
    "start_time": "2024-02-12T18:48:37.486Z"
   },
   {
    "duration": 10,
    "start_time": "2024-02-12T18:48:37.498Z"
   },
   {
    "duration": 8,
    "start_time": "2024-02-12T18:48:37.510Z"
   },
   {
    "duration": 177,
    "start_time": "2024-02-12T18:48:37.519Z"
   },
   {
    "duration": 7,
    "start_time": "2024-02-12T18:48:37.698Z"
   },
   {
    "duration": 321,
    "start_time": "2024-02-12T18:48:37.707Z"
   },
   {
    "duration": 580,
    "start_time": "2024-02-12T18:48:38.029Z"
   },
   {
    "duration": 10,
    "start_time": "2024-02-12T18:48:38.611Z"
   },
   {
    "duration": 14,
    "start_time": "2024-02-12T18:48:38.623Z"
   },
   {
    "duration": 21,
    "start_time": "2024-02-12T18:48:38.638Z"
   },
   {
    "duration": 9,
    "start_time": "2024-02-12T18:48:38.661Z"
   },
   {
    "duration": 196,
    "start_time": "2024-02-12T18:48:38.671Z"
   },
   {
    "duration": 7,
    "start_time": "2024-02-12T18:48:38.869Z"
   },
   {
    "duration": 20,
    "start_time": "2024-02-12T18:48:38.878Z"
   },
   {
    "duration": 302,
    "start_time": "2024-02-12T18:48:38.900Z"
   },
   {
    "duration": 20,
    "start_time": "2024-02-12T18:48:39.204Z"
   },
   {
    "duration": 8,
    "start_time": "2024-02-12T18:48:39.225Z"
   },
   {
    "duration": 31,
    "start_time": "2024-02-12T18:48:39.234Z"
   },
   {
    "duration": 3,
    "start_time": "2024-02-12T18:48:39.267Z"
   },
   {
    "duration": 5,
    "start_time": "2024-02-12T18:48:39.271Z"
   },
   {
    "duration": 4,
    "start_time": "2024-02-12T18:48:39.278Z"
   },
   {
    "duration": 9,
    "start_time": "2024-02-12T18:48:39.283Z"
   },
   {
    "duration": 14,
    "start_time": "2024-02-12T18:48:39.294Z"
   },
   {
    "duration": 8,
    "start_time": "2024-02-12T18:48:39.309Z"
   },
   {
    "duration": 44,
    "start_time": "2024-02-12T18:48:39.319Z"
   },
   {
    "duration": 16,
    "start_time": "2024-02-12T18:48:39.364Z"
   },
   {
    "duration": 17,
    "start_time": "2024-02-12T18:48:39.382Z"
   },
   {
    "duration": 18,
    "start_time": "2024-02-12T18:48:39.401Z"
   },
   {
    "duration": 4056,
    "start_time": "2024-02-12T18:48:39.420Z"
   },
   {
    "duration": 3,
    "start_time": "2024-02-12T18:48:43.478Z"
   },
   {
    "duration": 67541,
    "start_time": "2024-02-12T18:48:43.483Z"
   },
   {
    "duration": 33,
    "start_time": "2024-02-12T18:49:51.026Z"
   },
   {
    "duration": 13,
    "start_time": "2024-02-12T18:49:51.061Z"
   },
   {
    "duration": 83,
    "start_time": "2024-02-12T18:49:51.076Z"
   },
   {
    "duration": 2,
    "start_time": "2024-02-12T18:49:51.161Z"
   },
   {
    "duration": 16,
    "start_time": "2024-02-12T18:49:51.165Z"
   },
   {
    "duration": 10,
    "start_time": "2024-02-12T18:49:51.183Z"
   },
   {
    "duration": 15,
    "start_time": "2024-02-12T18:49:51.195Z"
   },
   {
    "duration": 47,
    "start_time": "2024-02-12T18:49:51.212Z"
   },
   {
    "duration": 30,
    "start_time": "2024-02-12T18:49:51.261Z"
   },
   {
    "duration": 18,
    "start_time": "2024-02-12T18:49:51.293Z"
   },
   {
    "duration": 55737,
    "start_time": "2024-02-12T18:49:51.313Z"
   },
   {
    "duration": 46,
    "start_time": "2024-02-12T18:50:47.059Z"
   },
   {
    "duration": 6,
    "start_time": "2024-02-12T18:50:47.107Z"
   },
   {
    "duration": 14,
    "start_time": "2024-02-12T18:50:47.115Z"
   },
   {
    "duration": 31,
    "start_time": "2024-02-12T18:50:47.131Z"
   },
   {
    "duration": 8,
    "start_time": "2024-02-12T18:50:47.164Z"
   },
   {
    "duration": 5,
    "start_time": "2024-02-12T18:50:47.174Z"
   },
   {
    "duration": 24,
    "start_time": "2024-02-12T18:50:47.181Z"
   },
   {
    "duration": 18,
    "start_time": "2024-02-12T18:50:47.207Z"
   },
   {
    "duration": 50,
    "start_time": "2024-02-12T18:50:47.227Z"
   },
   {
    "duration": 4,
    "start_time": "2024-02-12T18:50:47.279Z"
   },
   {
    "duration": 14,
    "start_time": "2024-02-12T18:50:47.285Z"
   },
   {
    "duration": 29,
    "start_time": "2024-02-12T18:50:47.300Z"
   },
   {
    "duration": 58,
    "start_time": "2024-02-12T18:50:47.330Z"
   },
   {
    "duration": 149,
    "start_time": "2024-02-12T18:50:47.394Z"
   },
   {
    "duration": 4,
    "start_time": "2024-02-12T18:50:47.544Z"
   },
   {
    "duration": 48,
    "start_time": "2024-02-12T18:50:47.549Z"
   },
   {
    "duration": 4,
    "start_time": "2024-02-12T18:50:47.599Z"
   },
   {
    "duration": 1056,
    "start_time": "2024-02-12T18:50:47.605Z"
   },
   {
    "duration": 635,
    "start_time": "2024-02-12T18:50:48.662Z"
   },
   {
    "duration": 8,
    "start_time": "2024-02-12T18:50:49.299Z"
   },
   {
    "duration": 4,
    "start_time": "2024-02-12T18:50:49.309Z"
   },
   {
    "duration": 18,
    "start_time": "2024-02-12T18:50:49.315Z"
   },
   {
    "duration": 32,
    "start_time": "2024-02-12T18:50:49.334Z"
   },
   {
    "duration": 118,
    "start_time": "2024-02-12T18:50:49.368Z"
   },
   {
    "duration": 210,
    "start_time": "2024-02-12T18:50:49.487Z"
   },
   {
    "duration": 162,
    "start_time": "2024-02-12T18:50:49.698Z"
   },
   {
    "duration": 14,
    "start_time": "2024-02-12T18:50:49.862Z"
   },
   {
    "duration": 303,
    "start_time": "2024-02-12T18:50:49.877Z"
   },
   {
    "duration": 300,
    "start_time": "2024-02-12T18:50:50.181Z"
   },
   {
    "duration": 4,
    "start_time": "2024-02-12T18:50:50.484Z"
   },
   {
    "duration": 17,
    "start_time": "2024-02-12T18:50:50.490Z"
   },
   {
    "duration": 11,
    "start_time": "2024-02-12T18:50:50.509Z"
   },
   {
    "duration": 320,
    "start_time": "2024-02-12T18:50:50.521Z"
   },
   {
    "duration": 139,
    "start_time": "2024-02-12T18:50:50.843Z"
   },
   {
    "duration": 138,
    "start_time": "2024-02-12T18:50:50.984Z"
   },
   {
    "duration": 142,
    "start_time": "2024-02-12T18:50:51.124Z"
   },
   {
    "duration": 8,
    "start_time": "2024-02-12T18:50:51.268Z"
   },
   {
    "duration": 1505,
    "start_time": "2024-02-12T18:50:51.277Z"
   },
   {
    "duration": 310,
    "start_time": "2024-02-12T18:51:33.848Z"
   },
   {
    "duration": 13,
    "start_time": "2024-02-12T18:53:10.884Z"
   },
   {
    "duration": 309,
    "start_time": "2024-02-12T18:53:13.414Z"
   },
   {
    "duration": 13,
    "start_time": "2024-02-12T18:56:28.294Z"
   },
   {
    "duration": 15,
    "start_time": "2024-02-12T18:56:47.811Z"
   },
   {
    "duration": 14,
    "start_time": "2024-02-12T18:56:50.870Z"
   },
   {
    "duration": 298,
    "start_time": "2024-02-12T18:56:55.863Z"
   },
   {
    "duration": 73,
    "start_time": "2024-02-12T18:57:09.639Z"
   },
   {
    "duration": 4,
    "start_time": "2024-02-12T19:16:38.782Z"
   },
   {
    "duration": 5,
    "start_time": "2024-02-12T19:16:47.643Z"
   },
   {
    "duration": 17,
    "start_time": "2024-02-12T19:18:28.206Z"
   },
   {
    "duration": 5,
    "start_time": "2024-02-12T19:18:38.060Z"
   },
   {
    "duration": 129,
    "start_time": "2024-02-12T19:20:30.210Z"
   },
   {
    "duration": 5351,
    "start_time": "2024-02-12T19:21:27.109Z"
   },
   {
    "duration": 56,
    "start_time": "2024-02-12T19:21:32.463Z"
   },
   {
    "duration": 31,
    "start_time": "2024-02-12T19:21:32.521Z"
   },
   {
    "duration": 29,
    "start_time": "2024-02-12T19:21:32.554Z"
   },
   {
    "duration": 38,
    "start_time": "2024-02-12T19:21:32.585Z"
   },
   {
    "duration": 12,
    "start_time": "2024-02-12T19:21:32.625Z"
   },
   {
    "duration": 16,
    "start_time": "2024-02-12T19:21:32.638Z"
   },
   {
    "duration": 9,
    "start_time": "2024-02-12T19:21:32.656Z"
   },
   {
    "duration": 6,
    "start_time": "2024-02-12T19:21:32.667Z"
   },
   {
    "duration": 31,
    "start_time": "2024-02-12T19:21:32.675Z"
   },
   {
    "duration": 30,
    "start_time": "2024-02-12T19:21:32.708Z"
   },
   {
    "duration": 20,
    "start_time": "2024-02-12T19:21:32.740Z"
   },
   {
    "duration": 43,
    "start_time": "2024-02-12T19:21:32.762Z"
   },
   {
    "duration": 55,
    "start_time": "2024-02-12T19:21:32.808Z"
   },
   {
    "duration": 46,
    "start_time": "2024-02-12T19:21:32.865Z"
   },
   {
    "duration": 59,
    "start_time": "2024-02-12T19:21:32.913Z"
   },
   {
    "duration": 23,
    "start_time": "2024-02-12T19:21:32.973Z"
   },
   {
    "duration": 20,
    "start_time": "2024-02-12T19:21:32.998Z"
   },
   {
    "duration": 243,
    "start_time": "2024-02-12T19:21:33.020Z"
   },
   {
    "duration": 183,
    "start_time": "2024-02-12T19:21:33.264Z"
   },
   {
    "duration": 1304,
    "start_time": "2024-02-12T19:21:33.449Z"
   },
   {
    "duration": 34,
    "start_time": "2024-02-12T19:21:34.758Z"
   },
   {
    "duration": 6,
    "start_time": "2024-02-12T19:21:34.793Z"
   },
   {
    "duration": 917,
    "start_time": "2024-02-12T19:21:34.801Z"
   },
   {
    "duration": 8,
    "start_time": "2024-02-12T19:21:35.720Z"
   },
   {
    "duration": 8,
    "start_time": "2024-02-12T19:21:35.730Z"
   },
   {
    "duration": 8,
    "start_time": "2024-02-12T19:21:35.759Z"
   },
   {
    "duration": 7,
    "start_time": "2024-02-12T19:21:35.769Z"
   },
   {
    "duration": 16,
    "start_time": "2024-02-12T19:21:35.778Z"
   },
   {
    "duration": 173,
    "start_time": "2024-02-12T19:21:35.795Z"
   },
   {
    "duration": 8,
    "start_time": "2024-02-12T19:21:35.970Z"
   },
   {
    "duration": 330,
    "start_time": "2024-02-12T19:21:35.980Z"
   },
   {
    "duration": 594,
    "start_time": "2024-02-12T19:21:36.312Z"
   },
   {
    "duration": 11,
    "start_time": "2024-02-12T19:21:36.908Z"
   },
   {
    "duration": 6,
    "start_time": "2024-02-12T19:21:36.921Z"
   },
   {
    "duration": 8,
    "start_time": "2024-02-12T19:21:36.929Z"
   },
   {
    "duration": 14,
    "start_time": "2024-02-12T19:21:36.959Z"
   },
   {
    "duration": 217,
    "start_time": "2024-02-12T19:21:36.974Z"
   },
   {
    "duration": 8,
    "start_time": "2024-02-12T19:21:37.193Z"
   },
   {
    "duration": 10,
    "start_time": "2024-02-12T19:21:37.202Z"
   },
   {
    "duration": 171,
    "start_time": "2024-02-12T19:21:37.379Z"
   },
   {
    "duration": 20,
    "start_time": "2024-02-12T19:21:37.559Z"
   },
   {
    "duration": 14,
    "start_time": "2024-02-12T19:21:37.581Z"
   },
   {
    "duration": 14,
    "start_time": "2024-02-12T19:21:37.597Z"
   },
   {
    "duration": 19,
    "start_time": "2024-02-12T19:21:37.613Z"
   },
   {
    "duration": 9,
    "start_time": "2024-02-12T19:21:37.634Z"
   },
   {
    "duration": 13,
    "start_time": "2024-02-12T19:21:37.645Z"
   },
   {
    "duration": 11,
    "start_time": "2024-02-12T19:21:37.660Z"
   },
   {
    "duration": 18,
    "start_time": "2024-02-12T19:21:37.673Z"
   },
   {
    "duration": 9,
    "start_time": "2024-02-12T19:21:37.693Z"
   },
   {
    "duration": 8,
    "start_time": "2024-02-12T19:21:37.704Z"
   },
   {
    "duration": 46,
    "start_time": "2024-02-12T19:21:37.714Z"
   },
   {
    "duration": 13,
    "start_time": "2024-02-12T19:21:37.762Z"
   },
   {
    "duration": 12,
    "start_time": "2024-02-12T19:21:37.777Z"
   },
   {
    "duration": 4081,
    "start_time": "2024-02-12T19:21:37.791Z"
   },
   {
    "duration": 5,
    "start_time": "2024-02-12T19:21:41.873Z"
   },
   {
    "duration": 68448,
    "start_time": "2024-02-12T19:21:41.879Z"
   },
   {
    "duration": 39,
    "start_time": "2024-02-12T19:22:50.329Z"
   },
   {
    "duration": 13,
    "start_time": "2024-02-12T19:22:50.370Z"
   },
   {
    "duration": 7,
    "start_time": "2024-02-12T19:22:50.385Z"
   },
   {
    "duration": 4,
    "start_time": "2024-02-12T19:22:50.394Z"
   },
   {
    "duration": 63,
    "start_time": "2024-02-12T19:22:50.400Z"
   },
   {
    "duration": 3,
    "start_time": "2024-02-12T19:22:50.465Z"
   },
   {
    "duration": 6,
    "start_time": "2024-02-12T19:22:50.470Z"
   },
   {
    "duration": 11,
    "start_time": "2024-02-12T19:22:50.477Z"
   },
   {
    "duration": 8,
    "start_time": "2024-02-12T19:22:50.489Z"
   },
   {
    "duration": 6,
    "start_time": "2024-02-12T19:22:50.498Z"
   },
   {
    "duration": 54473,
    "start_time": "2024-02-12T19:22:50.506Z"
   },
   {
    "duration": 34,
    "start_time": "2024-02-12T19:23:44.980Z"
   },
   {
    "duration": 50,
    "start_time": "2024-02-12T19:23:45.015Z"
   },
   {
    "duration": 34,
    "start_time": "2024-02-12T19:23:45.067Z"
   },
   {
    "duration": 18,
    "start_time": "2024-02-12T19:23:45.103Z"
   },
   {
    "duration": 38,
    "start_time": "2024-02-12T19:23:45.123Z"
   },
   {
    "duration": 67,
    "start_time": "2024-02-12T19:23:45.164Z"
   },
   {
    "duration": 85,
    "start_time": "2024-02-12T19:23:45.232Z"
   },
   {
    "duration": 35,
    "start_time": "2024-02-12T19:23:45.319Z"
   },
   {
    "duration": 99,
    "start_time": "2024-02-12T19:23:45.356Z"
   },
   {
    "duration": 15,
    "start_time": "2024-02-12T19:23:45.457Z"
   },
   {
    "duration": 27,
    "start_time": "2024-02-12T19:23:45.474Z"
   },
   {
    "duration": 30,
    "start_time": "2024-02-12T19:23:45.503Z"
   },
   {
    "duration": 51,
    "start_time": "2024-02-12T19:23:45.535Z"
   },
   {
    "duration": 155,
    "start_time": "2024-02-12T19:23:45.588Z"
   },
   {
    "duration": 5,
    "start_time": "2024-02-12T19:23:45.745Z"
   },
   {
    "duration": 45,
    "start_time": "2024-02-12T19:23:45.758Z"
   },
   {
    "duration": 4,
    "start_time": "2024-02-12T19:23:45.806Z"
   },
   {
    "duration": 973,
    "start_time": "2024-02-12T19:23:45.812Z"
   },
   {
    "duration": 681,
    "start_time": "2024-02-12T19:23:46.787Z"
   },
   {
    "duration": 8,
    "start_time": "2024-02-12T19:23:47.470Z"
   },
   {
    "duration": 4,
    "start_time": "2024-02-12T19:23:47.480Z"
   },
   {
    "duration": 34,
    "start_time": "2024-02-12T19:23:47.486Z"
   },
   {
    "duration": 30,
    "start_time": "2024-02-12T19:23:47.522Z"
   },
   {
    "duration": 115,
    "start_time": "2024-02-12T19:23:47.554Z"
   },
   {
    "duration": 213,
    "start_time": "2024-02-12T19:23:47.671Z"
   },
   {
    "duration": 165,
    "start_time": "2024-02-12T19:23:47.885Z"
   },
   {
    "duration": 14,
    "start_time": "2024-02-12T19:23:48.058Z"
   },
   {
    "duration": 313,
    "start_time": "2024-02-12T19:23:48.074Z"
   },
   {
    "duration": 4,
    "start_time": "2024-02-12T19:23:48.388Z"
   },
   {
    "duration": 13,
    "start_time": "2024-02-12T19:23:48.393Z"
   },
   {
    "duration": 32,
    "start_time": "2024-02-12T19:23:48.408Z"
   },
   {
    "duration": 9,
    "start_time": "2024-02-12T19:23:48.442Z"
   },
   {
    "duration": 138,
    "start_time": "2024-02-12T19:23:48.453Z"
   },
   {
    "duration": 136,
    "start_time": "2024-02-12T19:23:48.592Z"
   },
   {
    "duration": 151,
    "start_time": "2024-02-12T19:23:48.730Z"
   },
   {
    "duration": 9,
    "start_time": "2024-02-12T19:23:48.883Z"
   },
   {
    "duration": 170,
    "start_time": "2024-02-12T19:23:48.894Z"
   },
   {
    "duration": 181,
    "start_time": "2024-02-12T19:39:55.709Z"
   },
   {
    "duration": 25,
    "start_time": "2024-02-12T19:42:08.450Z"
   },
   {
    "duration": 21,
    "start_time": "2024-02-12T19:42:22.036Z"
   },
   {
    "duration": 12,
    "start_time": "2024-02-12T19:45:30.870Z"
   },
   {
    "duration": 18,
    "start_time": "2024-02-12T19:45:51.076Z"
   },
   {
    "duration": 5349,
    "start_time": "2024-02-12T19:50:07.968Z"
   },
   {
    "duration": 54,
    "start_time": "2024-02-12T19:50:13.320Z"
   },
   {
    "duration": 31,
    "start_time": "2024-02-12T19:50:13.376Z"
   },
   {
    "duration": 30,
    "start_time": "2024-02-12T19:50:13.409Z"
   },
   {
    "duration": 37,
    "start_time": "2024-02-12T19:50:13.440Z"
   },
   {
    "duration": 12,
    "start_time": "2024-02-12T19:50:13.478Z"
   },
   {
    "duration": 49,
    "start_time": "2024-02-12T19:50:13.492Z"
   },
   {
    "duration": 18,
    "start_time": "2024-02-12T19:50:13.543Z"
   },
   {
    "duration": 8,
    "start_time": "2024-02-12T19:50:13.563Z"
   },
   {
    "duration": 6,
    "start_time": "2024-02-12T19:50:13.574Z"
   },
   {
    "duration": 10,
    "start_time": "2024-02-12T19:50:13.582Z"
   },
   {
    "duration": 9,
    "start_time": "2024-02-12T19:50:13.594Z"
   },
   {
    "duration": 7,
    "start_time": "2024-02-12T19:50:13.604Z"
   },
   {
    "duration": 7,
    "start_time": "2024-02-12T19:50:13.612Z"
   },
   {
    "duration": 37,
    "start_time": "2024-02-12T19:50:13.621Z"
   },
   {
    "duration": 10,
    "start_time": "2024-02-12T19:50:13.659Z"
   },
   {
    "duration": 17,
    "start_time": "2024-02-12T19:50:13.670Z"
   },
   {
    "duration": 16,
    "start_time": "2024-02-12T19:50:13.689Z"
   },
   {
    "duration": 479,
    "start_time": "2024-02-12T19:50:13.707Z"
   },
   {
    "duration": 194,
    "start_time": "2024-02-12T19:50:14.188Z"
   },
   {
    "duration": 1349,
    "start_time": "2024-02-12T19:50:14.384Z"
   },
   {
    "duration": 48,
    "start_time": "2024-02-12T19:50:15.735Z"
   },
   {
    "duration": 5,
    "start_time": "2024-02-12T19:50:15.785Z"
   },
   {
    "duration": 893,
    "start_time": "2024-02-12T19:50:15.792Z"
   },
   {
    "duration": 7,
    "start_time": "2024-02-12T19:50:16.687Z"
   },
   {
    "duration": 15,
    "start_time": "2024-02-12T19:50:16.696Z"
   },
   {
    "duration": 23,
    "start_time": "2024-02-12T19:50:16.713Z"
   },
   {
    "duration": 10,
    "start_time": "2024-02-12T19:50:16.740Z"
   },
   {
    "duration": 13,
    "start_time": "2024-02-12T19:50:16.751Z"
   },
   {
    "duration": 153,
    "start_time": "2024-02-12T19:50:16.766Z"
   },
   {
    "duration": 7,
    "start_time": "2024-02-12T19:50:16.920Z"
   },
   {
    "duration": 331,
    "start_time": "2024-02-12T19:50:16.929Z"
   },
   {
    "duration": 571,
    "start_time": "2024-02-12T19:50:17.261Z"
   },
   {
    "duration": 12,
    "start_time": "2024-02-12T19:50:17.834Z"
   },
   {
    "duration": 7,
    "start_time": "2024-02-12T19:50:17.859Z"
   },
   {
    "duration": 11,
    "start_time": "2024-02-12T19:50:17.868Z"
   },
   {
    "duration": 11,
    "start_time": "2024-02-12T19:50:17.881Z"
   },
   {
    "duration": 214,
    "start_time": "2024-02-12T19:50:17.894Z"
   },
   {
    "duration": 8,
    "start_time": "2024-02-12T19:50:18.109Z"
   },
   {
    "duration": 18,
    "start_time": "2024-02-12T19:50:18.119Z"
   },
   {
    "duration": 314,
    "start_time": "2024-02-12T19:50:18.139Z"
   },
   {
    "duration": 20,
    "start_time": "2024-02-12T19:50:18.454Z"
   },
   {
    "duration": 16,
    "start_time": "2024-02-12T19:50:18.476Z"
   },
   {
    "duration": 11,
    "start_time": "2024-02-12T19:50:18.494Z"
   },
   {
    "duration": 3,
    "start_time": "2024-02-12T19:50:18.507Z"
   },
   {
    "duration": 5,
    "start_time": "2024-02-12T19:50:18.512Z"
   },
   {
    "duration": 5,
    "start_time": "2024-02-12T19:50:18.519Z"
   },
   {
    "duration": 10,
    "start_time": "2024-02-12T19:50:18.558Z"
   },
   {
    "duration": 24,
    "start_time": "2024-02-12T19:50:18.570Z"
   },
   {
    "duration": 9,
    "start_time": "2024-02-12T19:50:18.596Z"
   },
   {
    "duration": 8,
    "start_time": "2024-02-12T19:50:18.606Z"
   },
   {
    "duration": 32,
    "start_time": "2024-02-12T19:50:18.616Z"
   },
   {
    "duration": 13,
    "start_time": "2024-02-12T19:50:18.659Z"
   },
   {
    "duration": 60,
    "start_time": "2024-02-12T19:50:18.674Z"
   },
   {
    "duration": 3984,
    "start_time": "2024-02-12T19:50:18.736Z"
   },
   {
    "duration": 5,
    "start_time": "2024-02-12T19:50:22.722Z"
   },
   {
    "duration": 68196,
    "start_time": "2024-02-12T19:50:22.729Z"
   },
   {
    "duration": 14,
    "start_time": "2024-02-12T19:51:30.926Z"
   },
   {
    "duration": 56,
    "start_time": "2024-02-12T19:51:30.942Z"
   },
   {
    "duration": 62,
    "start_time": "2024-02-12T19:51:31.000Z"
   },
   {
    "duration": 17,
    "start_time": "2024-02-12T19:51:31.064Z"
   },
   {
    "duration": 29,
    "start_time": "2024-02-12T19:51:31.082Z"
   },
   {
    "duration": 46,
    "start_time": "2024-02-12T19:51:31.113Z"
   },
   {
    "duration": 32,
    "start_time": "2024-02-12T19:51:31.161Z"
   },
   {
    "duration": 25,
    "start_time": "2024-02-12T19:51:31.195Z"
   },
   {
    "duration": 38,
    "start_time": "2024-02-12T19:51:31.221Z"
   },
   {
    "duration": 16,
    "start_time": "2024-02-12T19:51:31.261Z"
   },
   {
    "duration": 55228,
    "start_time": "2024-02-12T19:51:31.279Z"
   },
   {
    "duration": 33,
    "start_time": "2024-02-12T19:52:26.509Z"
   },
   {
    "duration": 18,
    "start_time": "2024-02-12T19:52:26.543Z"
   },
   {
    "duration": 9,
    "start_time": "2024-02-12T19:52:26.563Z"
   },
   {
    "duration": 25,
    "start_time": "2024-02-12T19:52:26.574Z"
   },
   {
    "duration": 7,
    "start_time": "2024-02-12T19:52:26.601Z"
   },
   {
    "duration": 6,
    "start_time": "2024-02-12T19:52:26.610Z"
   },
   {
    "duration": 23,
    "start_time": "2024-02-12T19:52:26.618Z"
   },
   {
    "duration": 31,
    "start_time": "2024-02-12T19:52:26.642Z"
   },
   {
    "duration": 21,
    "start_time": "2024-02-12T19:52:26.675Z"
   },
   {
    "duration": 10,
    "start_time": "2024-02-12T19:52:26.698Z"
   },
   {
    "duration": 11,
    "start_time": "2024-02-12T19:52:26.710Z"
   },
   {
    "duration": 26,
    "start_time": "2024-02-12T19:52:26.723Z"
   },
   {
    "duration": 30,
    "start_time": "2024-02-12T19:52:26.758Z"
   },
   {
    "duration": 165,
    "start_time": "2024-02-12T19:52:26.794Z"
   },
   {
    "duration": 5,
    "start_time": "2024-02-12T19:52:26.961Z"
   },
   {
    "duration": 44,
    "start_time": "2024-02-12T19:52:26.968Z"
   },
   {
    "duration": 4,
    "start_time": "2024-02-12T19:52:27.014Z"
   },
   {
    "duration": 1029,
    "start_time": "2024-02-12T19:52:27.020Z"
   },
   {
    "duration": 646,
    "start_time": "2024-02-12T19:52:28.050Z"
   },
   {
    "duration": 9,
    "start_time": "2024-02-12T19:52:28.697Z"
   },
   {
    "duration": 5,
    "start_time": "2024-02-12T19:52:28.708Z"
   },
   {
    "duration": 19,
    "start_time": "2024-02-12T19:52:28.714Z"
   },
   {
    "duration": 30,
    "start_time": "2024-02-12T19:52:28.734Z"
   },
   {
    "duration": 116,
    "start_time": "2024-02-12T19:52:28.765Z"
   },
   {
    "duration": 201,
    "start_time": "2024-02-12T19:52:28.883Z"
   },
   {
    "duration": 163,
    "start_time": "2024-02-12T19:52:29.086Z"
   },
   {
    "duration": 19,
    "start_time": "2024-02-12T19:52:29.250Z"
   },
   {
    "duration": 326,
    "start_time": "2024-02-12T19:52:29.270Z"
   },
   {
    "duration": 4,
    "start_time": "2024-02-12T19:52:29.598Z"
   },
   {
    "duration": 10,
    "start_time": "2024-02-12T19:52:29.604Z"
   },
   {
    "duration": 8,
    "start_time": "2024-02-12T19:52:29.615Z"
   },
   {
    "duration": 21,
    "start_time": "2024-02-12T19:52:29.625Z"
   },
   {
    "duration": 149,
    "start_time": "2024-02-12T19:52:29.648Z"
   },
   {
    "duration": 142,
    "start_time": "2024-02-12T19:52:29.799Z"
   },
   {
    "duration": 149,
    "start_time": "2024-02-12T19:52:29.943Z"
   },
   {
    "duration": 9,
    "start_time": "2024-02-12T19:52:30.093Z"
   },
   {
    "duration": 176,
    "start_time": "2024-02-12T19:52:30.103Z"
   },
   {
    "duration": 9553,
    "start_time": "2024-02-13T12:24:24.265Z"
   },
   {
    "duration": 53,
    "start_time": "2024-02-13T12:24:33.820Z"
   },
   {
    "duration": 31,
    "start_time": "2024-02-13T12:24:33.874Z"
   },
   {
    "duration": 28,
    "start_time": "2024-02-13T12:24:33.907Z"
   },
   {
    "duration": 35,
    "start_time": "2024-02-13T12:24:33.936Z"
   },
   {
    "duration": 11,
    "start_time": "2024-02-13T12:24:33.972Z"
   },
   {
    "duration": 15,
    "start_time": "2024-02-13T12:24:33.985Z"
   },
   {
    "duration": 14,
    "start_time": "2024-02-13T12:24:34.002Z"
   },
   {
    "duration": 8,
    "start_time": "2024-02-13T12:24:34.018Z"
   },
   {
    "duration": 12,
    "start_time": "2024-02-13T12:24:34.029Z"
   },
   {
    "duration": 16,
    "start_time": "2024-02-13T12:24:34.042Z"
   },
   {
    "duration": 21,
    "start_time": "2024-02-13T12:24:34.059Z"
   },
   {
    "duration": 6,
    "start_time": "2024-02-13T12:24:34.081Z"
   },
   {
    "duration": 13,
    "start_time": "2024-02-13T12:24:34.089Z"
   },
   {
    "duration": 10,
    "start_time": "2024-02-13T12:24:34.104Z"
   },
   {
    "duration": 8,
    "start_time": "2024-02-13T12:24:34.116Z"
   },
   {
    "duration": 8,
    "start_time": "2024-02-13T12:24:34.125Z"
   },
   {
    "duration": 17,
    "start_time": "2024-02-13T12:24:34.134Z"
   },
   {
    "duration": 263,
    "start_time": "2024-02-13T12:24:34.153Z"
   },
   {
    "duration": 165,
    "start_time": "2024-02-13T12:24:34.417Z"
   },
   {
    "duration": 1271,
    "start_time": "2024-02-13T12:24:34.584Z"
   },
   {
    "duration": 42,
    "start_time": "2024-02-13T12:24:35.856Z"
   },
   {
    "duration": 6,
    "start_time": "2024-02-13T12:24:35.899Z"
   },
   {
    "duration": 892,
    "start_time": "2024-02-13T12:24:35.906Z"
   },
   {
    "duration": 6,
    "start_time": "2024-02-13T12:24:36.800Z"
   },
   {
    "duration": 11,
    "start_time": "2024-02-13T12:24:36.808Z"
   },
   {
    "duration": 6,
    "start_time": "2024-02-13T12:24:36.821Z"
   },
   {
    "duration": 6,
    "start_time": "2024-02-13T12:24:36.831Z"
   },
   {
    "duration": 8,
    "start_time": "2024-02-13T12:24:36.838Z"
   },
   {
    "duration": 149,
    "start_time": "2024-02-13T12:24:36.873Z"
   },
   {
    "duration": 8,
    "start_time": "2024-02-13T12:24:37.023Z"
   },
   {
    "duration": 340,
    "start_time": "2024-02-13T12:24:37.033Z"
   },
   {
    "duration": 567,
    "start_time": "2024-02-13T12:24:37.374Z"
   },
   {
    "duration": 9,
    "start_time": "2024-02-13T12:24:37.942Z"
   },
   {
    "duration": 20,
    "start_time": "2024-02-13T12:24:37.953Z"
   },
   {
    "duration": 7,
    "start_time": "2024-02-13T12:24:37.974Z"
   },
   {
    "duration": 16,
    "start_time": "2024-02-13T12:24:37.982Z"
   },
   {
    "duration": 186,
    "start_time": "2024-02-13T12:24:37.999Z"
   },
   {
    "duration": 7,
    "start_time": "2024-02-13T12:24:38.186Z"
   },
   {
    "duration": 9,
    "start_time": "2024-02-13T12:24:38.195Z"
   },
   {
    "duration": 308,
    "start_time": "2024-02-13T12:24:38.205Z"
   },
   {
    "duration": 19,
    "start_time": "2024-02-13T12:24:38.515Z"
   },
   {
    "duration": 7,
    "start_time": "2024-02-13T12:24:38.535Z"
   },
   {
    "duration": 35,
    "start_time": "2024-02-13T12:24:38.543Z"
   },
   {
    "duration": 3,
    "start_time": "2024-02-13T12:24:38.580Z"
   },
   {
    "duration": 5,
    "start_time": "2024-02-13T12:24:38.585Z"
   },
   {
    "duration": 4,
    "start_time": "2024-02-13T12:24:38.592Z"
   },
   {
    "duration": 10,
    "start_time": "2024-02-13T12:24:38.597Z"
   },
   {
    "duration": 13,
    "start_time": "2024-02-13T12:24:38.609Z"
   },
   {
    "duration": 7,
    "start_time": "2024-02-13T12:24:38.624Z"
   },
   {
    "duration": 7,
    "start_time": "2024-02-13T12:24:38.632Z"
   },
   {
    "duration": 45,
    "start_time": "2024-02-13T12:24:38.641Z"
   },
   {
    "duration": 15,
    "start_time": "2024-02-13T12:24:38.687Z"
   },
   {
    "duration": 11,
    "start_time": "2024-02-13T12:24:38.703Z"
   },
   {
    "duration": 3931,
    "start_time": "2024-02-13T12:24:38.716Z"
   },
   {
    "duration": 3,
    "start_time": "2024-02-13T12:24:42.649Z"
   },
   {
    "duration": 65846,
    "start_time": "2024-02-13T12:24:42.654Z"
   },
   {
    "duration": 18,
    "start_time": "2024-02-13T12:25:48.501Z"
   },
   {
    "duration": 53,
    "start_time": "2024-02-13T12:25:48.520Z"
   },
   {
    "duration": 7,
    "start_time": "2024-02-13T12:25:48.575Z"
   },
   {
    "duration": 10,
    "start_time": "2024-02-13T12:25:48.584Z"
   },
   {
    "duration": 9,
    "start_time": "2024-02-13T12:25:48.596Z"
   },
   {
    "duration": 10,
    "start_time": "2024-02-13T12:25:48.607Z"
   },
   {
    "duration": 54,
    "start_time": "2024-02-13T12:25:48.619Z"
   },
   {
    "duration": 8,
    "start_time": "2024-02-13T12:25:48.675Z"
   },
   {
    "duration": 8,
    "start_time": "2024-02-13T12:25:48.685Z"
   },
   {
    "duration": 12,
    "start_time": "2024-02-13T12:25:48.694Z"
   },
   {
    "duration": 53604,
    "start_time": "2024-02-13T12:25:48.708Z"
   },
   {
    "duration": 33,
    "start_time": "2024-02-13T12:26:42.313Z"
   },
   {
    "duration": 27,
    "start_time": "2024-02-13T12:26:42.347Z"
   },
   {
    "duration": 118,
    "start_time": "2024-02-13T12:26:42.376Z"
   },
   {
    "duration": 178,
    "start_time": "2024-02-13T12:26:53.882Z"
   },
   {
    "duration": 104,
    "start_time": "2024-02-13T12:28:10.650Z"
   },
   {
    "duration": 6,
    "start_time": "2024-02-13T12:28:41.278Z"
   },
   {
    "duration": 261283,
    "start_time": "2024-02-13T12:28:43.738Z"
   },
   {
    "duration": 37,
    "start_time": "2024-02-13T12:33:15.132Z"
   },
   {
    "duration": 5,
    "start_time": "2024-02-13T12:33:15.769Z"
   },
   {
    "duration": 22,
    "start_time": "2024-02-13T12:33:21.622Z"
   },
   {
    "duration": 57,
    "start_time": "2024-02-13T15:02:23.716Z"
   },
   {
    "duration": 2,
    "start_time": "2024-02-13T15:02:45.890Z"
   },
   {
    "duration": 10647,
    "start_time": "2024-02-13T15:02:52.044Z"
   },
   {
    "duration": 146,
    "start_time": "2024-02-13T15:03:02.694Z"
   },
   {
    "duration": 95,
    "start_time": "2024-02-13T15:03:02.842Z"
   },
   {
    "duration": 62,
    "start_time": "2024-02-13T15:03:02.939Z"
   },
   {
    "duration": 72,
    "start_time": "2024-02-13T15:03:03.002Z"
   },
   {
    "duration": 11,
    "start_time": "2024-02-13T15:03:03.076Z"
   },
   {
    "duration": 10,
    "start_time": "2024-02-13T15:03:03.089Z"
   },
   {
    "duration": 11,
    "start_time": "2024-02-13T15:03:03.102Z"
   },
   {
    "duration": 6,
    "start_time": "2024-02-13T15:03:03.115Z"
   },
   {
    "duration": 19,
    "start_time": "2024-02-13T15:03:03.123Z"
   },
   {
    "duration": 18,
    "start_time": "2024-02-13T15:03:03.145Z"
   },
   {
    "duration": 31,
    "start_time": "2024-02-13T15:03:03.165Z"
   },
   {
    "duration": 7,
    "start_time": "2024-02-13T15:03:03.198Z"
   },
   {
    "duration": 17,
    "start_time": "2024-02-13T15:03:03.207Z"
   },
   {
    "duration": 17,
    "start_time": "2024-02-13T15:03:03.226Z"
   },
   {
    "duration": 8,
    "start_time": "2024-02-13T15:03:03.245Z"
   },
   {
    "duration": 3,
    "start_time": "2024-02-13T15:03:03.255Z"
   },
   {
    "duration": 22,
    "start_time": "2024-02-13T15:03:03.259Z"
   },
   {
    "duration": 249,
    "start_time": "2024-02-13T15:03:03.283Z"
   },
   {
    "duration": 171,
    "start_time": "2024-02-13T15:03:03.533Z"
   },
   {
    "duration": 1395,
    "start_time": "2024-02-13T15:03:03.706Z"
   },
   {
    "duration": 41,
    "start_time": "2024-02-13T15:03:05.103Z"
   },
   {
    "duration": 6,
    "start_time": "2024-02-13T15:03:05.145Z"
   },
   {
    "duration": 878,
    "start_time": "2024-02-13T15:03:05.180Z"
   },
   {
    "duration": 8,
    "start_time": "2024-02-13T15:03:06.060Z"
   },
   {
    "duration": 14,
    "start_time": "2024-02-13T15:03:06.069Z"
   },
   {
    "duration": 11,
    "start_time": "2024-02-13T15:03:06.084Z"
   },
   {
    "duration": 15,
    "start_time": "2024-02-13T15:03:06.100Z"
   },
   {
    "duration": 16,
    "start_time": "2024-02-13T15:03:06.118Z"
   },
   {
    "duration": 197,
    "start_time": "2024-02-13T15:03:06.136Z"
   },
   {
    "duration": 7,
    "start_time": "2024-02-13T15:03:06.335Z"
   },
   {
    "duration": 336,
    "start_time": "2024-02-13T15:03:06.344Z"
   },
   {
    "duration": 609,
    "start_time": "2024-02-13T15:03:06.682Z"
   },
   {
    "duration": 10,
    "start_time": "2024-02-13T15:03:07.293Z"
   },
   {
    "duration": 14,
    "start_time": "2024-02-13T15:03:07.305Z"
   },
   {
    "duration": 10,
    "start_time": "2024-02-13T15:03:07.321Z"
   },
   {
    "duration": 9,
    "start_time": "2024-02-13T15:03:07.333Z"
   },
   {
    "duration": 210,
    "start_time": "2024-02-13T15:03:07.344Z"
   },
   {
    "duration": 8,
    "start_time": "2024-02-13T15:03:07.555Z"
   },
   {
    "duration": 20,
    "start_time": "2024-02-13T15:03:07.564Z"
   },
   {
    "duration": 301,
    "start_time": "2024-02-13T15:03:07.586Z"
   },
   {
    "duration": 20,
    "start_time": "2024-02-13T15:03:07.889Z"
   },
   {
    "duration": 7,
    "start_time": "2024-02-13T15:03:07.911Z"
   },
   {
    "duration": 14,
    "start_time": "2024-02-13T15:03:07.921Z"
   },
   {
    "duration": 3,
    "start_time": "2024-02-13T15:03:07.937Z"
   },
   {
    "duration": 38,
    "start_time": "2024-02-13T15:03:07.942Z"
   },
   {
    "duration": 4,
    "start_time": "2024-02-13T15:03:07.983Z"
   },
   {
    "duration": 14,
    "start_time": "2024-02-13T15:03:07.989Z"
   },
   {
    "duration": 20,
    "start_time": "2024-02-13T15:03:08.005Z"
   },
   {
    "duration": 9,
    "start_time": "2024-02-13T15:03:08.027Z"
   },
   {
    "duration": 8,
    "start_time": "2024-02-13T15:03:08.037Z"
   },
   {
    "duration": 23,
    "start_time": "2024-02-13T15:03:08.081Z"
   },
   {
    "duration": 23,
    "start_time": "2024-02-13T15:03:08.107Z"
   },
   {
    "duration": 16,
    "start_time": "2024-02-13T15:03:08.131Z"
   },
   {
    "duration": 4589,
    "start_time": "2024-02-13T15:03:08.149Z"
   },
   {
    "duration": 3,
    "start_time": "2024-02-13T15:03:12.740Z"
   },
   {
    "duration": 70246,
    "start_time": "2024-02-13T15:03:12.745Z"
   },
   {
    "duration": 27,
    "start_time": "2024-02-13T15:04:22.993Z"
   },
   {
    "duration": 61,
    "start_time": "2024-02-13T15:04:23.021Z"
   },
   {
    "duration": 8,
    "start_time": "2024-02-13T15:04:23.085Z"
   },
   {
    "duration": 4,
    "start_time": "2024-02-13T15:04:23.095Z"
   },
   {
    "duration": 18,
    "start_time": "2024-02-13T15:04:23.100Z"
   },
   {
    "duration": 61,
    "start_time": "2024-02-13T15:04:23.119Z"
   },
   {
    "duration": 38,
    "start_time": "2024-02-13T15:04:23.182Z"
   },
   {
    "duration": 26,
    "start_time": "2024-02-13T15:04:23.222Z"
   },
   {
    "duration": 31,
    "start_time": "2024-02-13T15:04:23.250Z"
   },
   {
    "duration": 23,
    "start_time": "2024-02-13T15:04:23.283Z"
   },
   {
    "duration": 271819,
    "start_time": "2024-02-13T15:04:23.308Z"
   },
   {
    "duration": 32,
    "start_time": "2024-02-13T15:08:55.129Z"
   },
   {
    "duration": 18,
    "start_time": "2024-02-13T15:08:55.163Z"
   },
   {
    "duration": 21,
    "start_time": "2024-02-13T15:08:55.183Z"
   },
   {
    "duration": 11,
    "start_time": "2024-02-13T15:08:55.205Z"
   },
   {
    "duration": 6,
    "start_time": "2024-02-13T15:08:55.218Z"
   },
   {
    "duration": 9,
    "start_time": "2024-02-13T15:08:55.225Z"
   },
   {
    "duration": 46,
    "start_time": "2024-02-13T15:08:55.235Z"
   },
   {
    "duration": 24,
    "start_time": "2024-02-13T15:08:55.284Z"
   },
   {
    "duration": 28,
    "start_time": "2024-02-13T15:08:55.310Z"
   },
   {
    "duration": 55,
    "start_time": "2024-02-13T15:08:55.340Z"
   },
   {
    "duration": 5,
    "start_time": "2024-02-13T15:08:55.397Z"
   },
   {
    "duration": 6,
    "start_time": "2024-02-13T15:08:55.404Z"
   },
   {
    "duration": 31,
    "start_time": "2024-02-13T15:08:55.412Z"
   },
   {
    "duration": 50,
    "start_time": "2024-02-13T15:08:55.449Z"
   },
   {
    "duration": 188,
    "start_time": "2024-02-13T15:08:55.501Z"
   },
   {
    "duration": 4,
    "start_time": "2024-02-13T15:08:55.691Z"
   },
   {
    "duration": 49,
    "start_time": "2024-02-13T15:08:55.697Z"
   },
   {
    "duration": 3,
    "start_time": "2024-02-13T15:08:55.749Z"
   },
   {
    "duration": 1219,
    "start_time": "2024-02-13T15:08:55.754Z"
   },
   {
    "duration": 731,
    "start_time": "2024-02-13T15:08:56.975Z"
   },
   {
    "duration": 10,
    "start_time": "2024-02-13T15:08:57.708Z"
   },
   {
    "duration": 5,
    "start_time": "2024-02-13T15:08:57.719Z"
   },
   {
    "duration": 19,
    "start_time": "2024-02-13T15:08:57.725Z"
   },
   {
    "duration": 37,
    "start_time": "2024-02-13T15:08:57.745Z"
   },
   {
    "duration": 122,
    "start_time": "2024-02-13T15:08:57.783Z"
   },
   {
    "duration": 197,
    "start_time": "2024-02-13T15:08:57.906Z"
   },
   {
    "duration": 167,
    "start_time": "2024-02-13T15:08:58.105Z"
   },
   {
    "duration": 26,
    "start_time": "2024-02-13T15:08:58.274Z"
   },
   {
    "duration": 394,
    "start_time": "2024-02-13T15:08:58.302Z"
   },
   {
    "duration": 4,
    "start_time": "2024-02-13T15:08:58.698Z"
   },
   {
    "duration": 12,
    "start_time": "2024-02-13T15:08:58.703Z"
   },
   {
    "duration": 12,
    "start_time": "2024-02-13T15:08:58.717Z"
   },
   {
    "duration": 9,
    "start_time": "2024-02-13T15:08:58.731Z"
   },
   {
    "duration": 159,
    "start_time": "2024-02-13T15:08:58.741Z"
   },
   {
    "duration": 149,
    "start_time": "2024-02-13T15:08:58.902Z"
   },
   {
    "duration": 140,
    "start_time": "2024-02-13T15:08:59.053Z"
   },
   {
    "duration": 9,
    "start_time": "2024-02-13T15:08:59.195Z"
   },
   {
    "duration": 163,
    "start_time": "2024-02-13T15:08:59.205Z"
   },
   {
    "duration": 5467,
    "start_time": "2024-02-13T17:30:18.443Z"
   },
   {
    "duration": 57,
    "start_time": "2024-02-13T17:30:23.912Z"
   },
   {
    "duration": 39,
    "start_time": "2024-02-13T17:30:23.971Z"
   },
   {
    "duration": 38,
    "start_time": "2024-02-13T17:30:24.012Z"
   },
   {
    "duration": 39,
    "start_time": "2024-02-13T17:30:24.052Z"
   },
   {
    "duration": 15,
    "start_time": "2024-02-13T17:30:24.093Z"
   },
   {
    "duration": 8,
    "start_time": "2024-02-13T17:30:24.109Z"
   },
   {
    "duration": 9,
    "start_time": "2024-02-13T17:30:24.119Z"
   },
   {
    "duration": 7,
    "start_time": "2024-02-13T17:30:24.129Z"
   },
   {
    "duration": 46,
    "start_time": "2024-02-13T17:30:24.140Z"
   },
   {
    "duration": 7,
    "start_time": "2024-02-13T17:30:24.189Z"
   },
   {
    "duration": 15,
    "start_time": "2024-02-13T17:30:24.198Z"
   },
   {
    "duration": 7,
    "start_time": "2024-02-13T17:30:24.216Z"
   },
   {
    "duration": 6,
    "start_time": "2024-02-13T17:30:24.224Z"
   },
   {
    "duration": 6,
    "start_time": "2024-02-13T17:30:24.231Z"
   },
   {
    "duration": 47,
    "start_time": "2024-02-13T17:30:24.239Z"
   },
   {
    "duration": 4,
    "start_time": "2024-02-13T17:30:24.288Z"
   },
   {
    "duration": 37,
    "start_time": "2024-02-13T17:30:24.294Z"
   },
   {
    "duration": 286,
    "start_time": "2024-02-13T17:30:24.333Z"
   },
   {
    "duration": 197,
    "start_time": "2024-02-13T17:30:24.621Z"
   },
   {
    "duration": 1337,
    "start_time": "2024-02-13T17:30:24.820Z"
   },
   {
    "duration": 51,
    "start_time": "2024-02-13T17:30:26.158Z"
   },
   {
    "duration": 7,
    "start_time": "2024-02-13T17:30:26.211Z"
   },
   {
    "duration": 1051,
    "start_time": "2024-02-13T17:30:26.220Z"
   },
   {
    "duration": 13,
    "start_time": "2024-02-13T17:30:27.273Z"
   },
   {
    "duration": 10,
    "start_time": "2024-02-13T17:30:27.288Z"
   },
   {
    "duration": 10,
    "start_time": "2024-02-13T17:30:27.300Z"
   },
   {
    "duration": 10,
    "start_time": "2024-02-13T17:30:27.316Z"
   },
   {
    "duration": 12,
    "start_time": "2024-02-13T17:30:27.328Z"
   },
   {
    "duration": 228,
    "start_time": "2024-02-13T17:30:27.342Z"
   },
   {
    "duration": 14,
    "start_time": "2024-02-13T17:30:27.572Z"
   },
   {
    "duration": 367,
    "start_time": "2024-02-13T17:30:27.588Z"
   },
   {
    "duration": 695,
    "start_time": "2024-02-13T17:30:27.957Z"
   },
   {
    "duration": 13,
    "start_time": "2024-02-13T17:30:28.655Z"
   },
   {
    "duration": 13,
    "start_time": "2024-02-13T17:30:28.670Z"
   },
   {
    "duration": 18,
    "start_time": "2024-02-13T17:30:28.685Z"
   },
   {
    "duration": 8,
    "start_time": "2024-02-13T17:30:28.706Z"
   },
   {
    "duration": 222,
    "start_time": "2024-02-13T17:30:28.716Z"
   },
   {
    "duration": 9,
    "start_time": "2024-02-13T17:30:28.940Z"
   },
   {
    "duration": 9,
    "start_time": "2024-02-13T17:30:28.951Z"
   },
   {
    "duration": 321,
    "start_time": "2024-02-13T17:30:28.961Z"
   },
   {
    "duration": 28,
    "start_time": "2024-02-13T17:30:29.284Z"
   },
   {
    "duration": 8,
    "start_time": "2024-02-13T17:30:29.314Z"
   },
   {
    "duration": 14,
    "start_time": "2024-02-13T17:30:29.324Z"
   },
   {
    "duration": 4,
    "start_time": "2024-02-13T17:30:29.340Z"
   },
   {
    "duration": 36,
    "start_time": "2024-02-13T17:30:29.345Z"
   },
   {
    "duration": 4,
    "start_time": "2024-02-13T17:30:29.383Z"
   },
   {
    "duration": 18,
    "start_time": "2024-02-13T17:30:29.389Z"
   },
   {
    "duration": 21,
    "start_time": "2024-02-13T17:30:29.410Z"
   },
   {
    "duration": 10,
    "start_time": "2024-02-13T17:30:29.433Z"
   },
   {
    "duration": 10,
    "start_time": "2024-02-13T17:30:29.445Z"
   },
   {
    "duration": 39,
    "start_time": "2024-02-13T17:30:29.456Z"
   },
   {
    "duration": 17,
    "start_time": "2024-02-13T17:30:29.497Z"
   },
   {
    "duration": 15,
    "start_time": "2024-02-13T17:30:29.515Z"
   },
   {
    "duration": 4254,
    "start_time": "2024-02-13T17:30:29.532Z"
   },
   {
    "duration": 4,
    "start_time": "2024-02-13T17:30:33.787Z"
   },
   {
    "duration": 70189,
    "start_time": "2024-02-13T17:30:33.792Z"
   },
   {
    "duration": 22,
    "start_time": "2024-02-13T17:31:43.984Z"
   },
   {
    "duration": 8,
    "start_time": "2024-02-13T17:31:44.007Z"
   },
   {
    "duration": 67,
    "start_time": "2024-02-13T17:31:44.017Z"
   },
   {
    "duration": 3,
    "start_time": "2024-02-13T17:31:44.086Z"
   },
   {
    "duration": 7,
    "start_time": "2024-02-13T17:31:44.090Z"
   },
   {
    "duration": 4,
    "start_time": "2024-02-13T17:31:44.099Z"
   },
   {
    "duration": 6,
    "start_time": "2024-02-13T17:31:44.104Z"
   },
   {
    "duration": 5,
    "start_time": "2024-02-13T17:31:44.111Z"
   },
   {
    "duration": 5,
    "start_time": "2024-02-13T17:31:44.118Z"
   },
   {
    "duration": 58,
    "start_time": "2024-02-13T17:31:44.125Z"
   },
   {
    "duration": 270495,
    "start_time": "2024-02-13T17:31:44.185Z"
   },
   {
    "duration": 33,
    "start_time": "2024-02-13T17:36:14.681Z"
   },
   {
    "duration": 5,
    "start_time": "2024-02-13T17:36:14.716Z"
   },
   {
    "duration": 22,
    "start_time": "2024-02-13T17:36:14.723Z"
   },
   {
    "duration": 40,
    "start_time": "2024-02-13T17:36:14.747Z"
   },
   {
    "duration": 5,
    "start_time": "2024-02-13T17:36:14.789Z"
   },
   {
    "duration": 9,
    "start_time": "2024-02-13T17:36:14.796Z"
   },
   {
    "duration": 5,
    "start_time": "2024-02-13T17:36:14.807Z"
   },
   {
    "duration": 25,
    "start_time": "2024-02-13T17:36:14.814Z"
   },
   {
    "duration": 56,
    "start_time": "2024-02-13T17:36:14.841Z"
   },
   {
    "duration": 23,
    "start_time": "2024-02-13T17:36:14.899Z"
   },
   {
    "duration": 6,
    "start_time": "2024-02-13T17:36:14.924Z"
   },
   {
    "duration": 5,
    "start_time": "2024-02-13T17:36:14.931Z"
   },
   {
    "duration": 61,
    "start_time": "2024-02-13T17:36:14.938Z"
   },
   {
    "duration": 60,
    "start_time": "2024-02-13T17:36:15.010Z"
   },
   {
    "duration": 163,
    "start_time": "2024-02-13T17:36:15.072Z"
   },
   {
    "duration": 4,
    "start_time": "2024-02-13T17:36:15.237Z"
   },
   {
    "duration": 94,
    "start_time": "2024-02-13T17:36:15.242Z"
   },
   {
    "duration": 4,
    "start_time": "2024-02-13T17:36:15.338Z"
   },
   {
    "duration": 1040,
    "start_time": "2024-02-13T17:36:15.345Z"
   },
   {
    "duration": 715,
    "start_time": "2024-02-13T17:36:16.387Z"
   },
   {
    "duration": 8,
    "start_time": "2024-02-13T17:36:17.104Z"
   },
   {
    "duration": 4,
    "start_time": "2024-02-13T17:36:17.114Z"
   },
   {
    "duration": 36,
    "start_time": "2024-02-13T17:36:17.120Z"
   },
   {
    "duration": 29,
    "start_time": "2024-02-13T17:36:17.157Z"
   },
   {
    "duration": 123,
    "start_time": "2024-02-13T17:36:17.188Z"
   },
   {
    "duration": 191,
    "start_time": "2024-02-13T17:36:17.313Z"
   },
   {
    "duration": 165,
    "start_time": "2024-02-13T17:36:17.506Z"
   },
   {
    "duration": 22,
    "start_time": "2024-02-13T17:36:17.673Z"
   },
   {
    "duration": 349,
    "start_time": "2024-02-13T17:36:17.697Z"
   },
   {
    "duration": 3,
    "start_time": "2024-02-13T17:36:18.048Z"
   },
   {
    "duration": 15,
    "start_time": "2024-02-13T17:36:18.053Z"
   },
   {
    "duration": 13,
    "start_time": "2024-02-13T17:36:18.070Z"
   },
   {
    "duration": 12,
    "start_time": "2024-02-13T17:36:18.085Z"
   },
   {
    "duration": 143,
    "start_time": "2024-02-13T17:36:18.099Z"
   },
   {
    "duration": 145,
    "start_time": "2024-02-13T17:36:18.244Z"
   },
   {
    "duration": 168,
    "start_time": "2024-02-13T17:36:18.391Z"
   },
   {
    "duration": 23,
    "start_time": "2024-02-13T17:36:18.561Z"
   },
   {
    "duration": 177,
    "start_time": "2024-02-13T17:36:18.586Z"
   },
   {
    "duration": 42,
    "start_time": "2024-02-13T17:52:13.851Z"
   },
   {
    "duration": 204,
    "start_time": "2024-02-13T17:52:38.744Z"
   },
   {
    "duration": 27,
    "start_time": "2024-02-13T17:52:42.473Z"
   },
   {
    "duration": 15,
    "start_time": "2024-02-13T17:53:06.190Z"
   },
   {
    "duration": 50,
    "start_time": "2024-02-13T17:53:14.009Z"
   },
   {
    "duration": 12,
    "start_time": "2024-02-13T17:55:22.057Z"
   },
   {
    "duration": 33,
    "start_time": "2024-02-13T17:56:43.191Z"
   },
   {
    "duration": 21,
    "start_time": "2024-02-13T17:57:00.009Z"
   },
   {
    "duration": 19,
    "start_time": "2024-02-13T17:57:45.452Z"
   },
   {
    "duration": 20,
    "start_time": "2024-02-13T17:57:55.054Z"
   },
   {
    "duration": 17,
    "start_time": "2024-02-13T17:57:59.949Z"
   },
   {
    "duration": 22,
    "start_time": "2024-02-13T17:58:13.155Z"
   },
   {
    "duration": 23,
    "start_time": "2024-02-13T17:58:16.715Z"
   },
   {
    "duration": 5440,
    "start_time": "2024-02-13T17:58:48.057Z"
   },
   {
    "duration": 53,
    "start_time": "2024-02-13T17:58:53.499Z"
   },
   {
    "duration": 30,
    "start_time": "2024-02-13T17:58:53.553Z"
   },
   {
    "duration": 29,
    "start_time": "2024-02-13T17:58:53.585Z"
   },
   {
    "duration": 38,
    "start_time": "2024-02-13T17:58:53.617Z"
   },
   {
    "duration": 11,
    "start_time": "2024-02-13T17:58:53.656Z"
   },
   {
    "duration": 10,
    "start_time": "2024-02-13T17:58:53.668Z"
   },
   {
    "duration": 10,
    "start_time": "2024-02-13T17:58:53.679Z"
   },
   {
    "duration": 6,
    "start_time": "2024-02-13T17:58:53.691Z"
   },
   {
    "duration": 19,
    "start_time": "2024-02-13T17:58:53.700Z"
   },
   {
    "duration": 12,
    "start_time": "2024-02-13T17:58:53.721Z"
   },
   {
    "duration": 34,
    "start_time": "2024-02-13T17:58:53.735Z"
   },
   {
    "duration": 21,
    "start_time": "2024-02-13T17:58:53.771Z"
   },
   {
    "duration": 9,
    "start_time": "2024-02-13T17:58:53.794Z"
   },
   {
    "duration": 7,
    "start_time": "2024-02-13T17:58:53.804Z"
   },
   {
    "duration": 15,
    "start_time": "2024-02-13T17:58:53.813Z"
   },
   {
    "duration": 4,
    "start_time": "2024-02-13T17:58:53.830Z"
   },
   {
    "duration": 20,
    "start_time": "2024-02-13T17:58:53.836Z"
   },
   {
    "duration": 274,
    "start_time": "2024-02-13T17:58:53.858Z"
   },
   {
    "duration": 196,
    "start_time": "2024-02-13T17:58:54.133Z"
   },
   {
    "duration": 1316,
    "start_time": "2024-02-13T17:58:54.331Z"
   },
   {
    "duration": 59,
    "start_time": "2024-02-13T17:58:55.649Z"
   },
   {
    "duration": 7,
    "start_time": "2024-02-13T17:58:55.710Z"
   },
   {
    "duration": 961,
    "start_time": "2024-02-13T17:58:55.719Z"
   },
   {
    "duration": 7,
    "start_time": "2024-02-13T17:58:56.682Z"
   },
   {
    "duration": 9,
    "start_time": "2024-02-13T17:58:56.690Z"
   },
   {
    "duration": 10,
    "start_time": "2024-02-13T17:58:56.700Z"
   },
   {
    "duration": 9,
    "start_time": "2024-02-13T17:58:56.714Z"
   },
   {
    "duration": 12,
    "start_time": "2024-02-13T17:58:56.724Z"
   },
   {
    "duration": 193,
    "start_time": "2024-02-13T17:58:56.738Z"
   },
   {
    "duration": 8,
    "start_time": "2024-02-13T17:58:56.933Z"
   },
   {
    "duration": 360,
    "start_time": "2024-02-13T17:58:56.943Z"
   },
   {
    "duration": 552,
    "start_time": "2024-02-13T17:58:57.305Z"
   },
   {
    "duration": 10,
    "start_time": "2024-02-13T17:58:57.858Z"
   },
   {
    "duration": 5,
    "start_time": "2024-02-13T17:58:57.880Z"
   },
   {
    "duration": 14,
    "start_time": "2024-02-13T17:58:57.887Z"
   },
   {
    "duration": 14,
    "start_time": "2024-02-13T17:58:57.903Z"
   },
   {
    "duration": 200,
    "start_time": "2024-02-13T17:58:57.919Z"
   },
   {
    "duration": 7,
    "start_time": "2024-02-13T17:58:58.121Z"
   },
   {
    "duration": 13,
    "start_time": "2024-02-13T17:58:58.130Z"
   },
   {
    "duration": 321,
    "start_time": "2024-02-13T17:58:58.145Z"
   },
   {
    "duration": 26,
    "start_time": "2024-02-13T17:58:58.468Z"
   },
   {
    "duration": 11,
    "start_time": "2024-02-13T17:58:58.496Z"
   },
   {
    "duration": 11,
    "start_time": "2024-02-13T17:58:58.509Z"
   },
   {
    "duration": 9,
    "start_time": "2024-02-13T17:58:58.522Z"
   },
   {
    "duration": 7,
    "start_time": "2024-02-13T17:58:58.534Z"
   },
   {
    "duration": 5,
    "start_time": "2024-02-13T17:58:58.543Z"
   },
   {
    "duration": 40,
    "start_time": "2024-02-13T17:58:58.550Z"
   },
   {
    "duration": 16,
    "start_time": "2024-02-13T17:58:58.592Z"
   },
   {
    "duration": 11,
    "start_time": "2024-02-13T17:58:58.611Z"
   },
   {
    "duration": 8,
    "start_time": "2024-02-13T17:58:58.624Z"
   },
   {
    "duration": 51,
    "start_time": "2024-02-13T17:58:58.634Z"
   },
   {
    "duration": 13,
    "start_time": "2024-02-13T17:58:58.686Z"
   },
   {
    "duration": 14,
    "start_time": "2024-02-13T17:58:58.701Z"
   },
   {
    "duration": 4117,
    "start_time": "2024-02-13T17:58:58.717Z"
   },
   {
    "duration": 4,
    "start_time": "2024-02-13T17:59:02.836Z"
   },
   {
    "duration": 70003,
    "start_time": "2024-02-13T17:59:02.842Z"
   },
   {
    "duration": 34,
    "start_time": "2024-02-13T18:00:12.847Z"
   },
   {
    "duration": 13,
    "start_time": "2024-02-13T18:00:12.883Z"
   },
   {
    "duration": 16,
    "start_time": "2024-02-13T18:00:12.897Z"
   },
   {
    "duration": 3,
    "start_time": "2024-02-13T18:00:12.915Z"
   },
   {
    "duration": 8,
    "start_time": "2024-02-13T18:00:12.919Z"
   },
   {
    "duration": 57,
    "start_time": "2024-02-13T18:00:12.929Z"
   },
   {
    "duration": 5,
    "start_time": "2024-02-13T18:00:12.988Z"
   },
   {
    "duration": 5,
    "start_time": "2024-02-13T18:00:12.995Z"
   },
   {
    "duration": 10,
    "start_time": "2024-02-13T18:00:13.001Z"
   },
   {
    "duration": 6,
    "start_time": "2024-02-13T18:00:13.012Z"
   },
   {
    "duration": 273695,
    "start_time": "2024-02-13T18:00:13.020Z"
   },
   {
    "duration": 35,
    "start_time": "2024-02-13T18:04:46.718Z"
   },
   {
    "duration": 5,
    "start_time": "2024-02-13T18:04:46.755Z"
   },
   {
    "duration": 24,
    "start_time": "2024-02-13T18:04:46.781Z"
   },
   {
    "duration": 12,
    "start_time": "2024-02-13T18:04:46.807Z"
   },
   {
    "duration": 6,
    "start_time": "2024-02-13T18:04:46.821Z"
   },
   {
    "duration": 39,
    "start_time": "2024-02-13T18:04:46.829Z"
   },
   {
    "duration": 26,
    "start_time": "2024-02-13T18:04:46.870Z"
   },
   {
    "duration": 25,
    "start_time": "2024-02-13T18:04:46.898Z"
   },
   {
    "duration": 23,
    "start_time": "2024-02-13T18:04:46.925Z"
   },
   {
    "duration": 30,
    "start_time": "2024-02-13T18:04:46.950Z"
   },
   {
    "duration": 5,
    "start_time": "2024-02-13T18:04:46.982Z"
   },
   {
    "duration": 8,
    "start_time": "2024-02-13T18:04:46.988Z"
   },
   {
    "duration": 22,
    "start_time": "2024-02-13T18:04:46.998Z"
   },
   {
    "duration": 34,
    "start_time": "2024-02-13T18:04:47.026Z"
   },
   {
    "duration": 174,
    "start_time": "2024-02-13T18:04:47.061Z"
   },
   {
    "duration": 4,
    "start_time": "2024-02-13T18:04:47.237Z"
   },
   {
    "duration": 62,
    "start_time": "2024-02-13T18:04:47.242Z"
   },
   {
    "duration": 4,
    "start_time": "2024-02-13T18:04:47.307Z"
   },
   {
    "duration": 1029,
    "start_time": "2024-02-13T18:04:47.312Z"
   },
   {
    "duration": 706,
    "start_time": "2024-02-13T18:04:48.342Z"
   },
   {
    "duration": 9,
    "start_time": "2024-02-13T18:04:49.049Z"
   },
   {
    "duration": 15,
    "start_time": "2024-02-13T18:04:49.060Z"
   },
   {
    "duration": 25,
    "start_time": "2024-02-13T18:04:49.077Z"
   },
   {
    "duration": 10,
    "start_time": "2024-02-13T18:04:49.104Z"
   },
   {
    "duration": 116,
    "start_time": "2024-02-13T18:04:49.116Z"
   },
   {
    "duration": 208,
    "start_time": "2024-02-13T18:04:49.234Z"
   },
   {
    "duration": 198,
    "start_time": "2024-02-13T18:04:49.444Z"
   },
   {
    "duration": 16,
    "start_time": "2024-02-13T18:04:49.644Z"
   },
   {
    "duration": 370,
    "start_time": "2024-02-13T18:04:49.661Z"
   },
   {
    "duration": 29,
    "start_time": "2024-02-13T18:04:50.032Z"
   },
   {
    "duration": 192,
    "start_time": "2024-02-13T18:04:50.063Z"
   },
   {
    "duration": 29,
    "start_time": "2024-02-13T18:05:49.577Z"
   },
   {
    "duration": 151,
    "start_time": "2024-02-13T18:06:13.394Z"
   },
   {
    "duration": 169,
    "start_time": "2024-02-13T18:06:21.488Z"
   },
   {
    "duration": 23,
    "start_time": "2024-02-13T18:06:38.740Z"
   },
   {
    "duration": 20,
    "start_time": "2024-02-13T18:07:27.368Z"
   },
   {
    "duration": 17,
    "start_time": "2024-02-13T18:07:47.322Z"
   },
   {
    "duration": 18,
    "start_time": "2024-02-13T18:07:53.515Z"
   },
   {
    "duration": 163,
    "start_time": "2024-02-13T18:09:55.420Z"
   },
   {
    "duration": 143,
    "start_time": "2024-02-13T18:10:18.999Z"
   },
   {
    "duration": 1026,
    "start_time": "2024-02-13T18:16:01.667Z"
   },
   {
    "duration": 1005,
    "start_time": "2024-02-13T18:16:21.892Z"
   },
   {
    "duration": 5,
    "start_time": "2024-02-13T18:17:24.668Z"
   },
   {
    "duration": 12,
    "start_time": "2024-02-13T18:17:52.151Z"
   },
   {
    "duration": 156,
    "start_time": "2024-02-13T18:18:40.795Z"
   },
   {
    "duration": 1418,
    "start_time": "2024-02-13T18:20:11.787Z"
   },
   {
    "duration": 1420,
    "start_time": "2024-02-13T18:20:21.543Z"
   },
   {
    "duration": 22,
    "start_time": "2024-02-13T18:20:31.415Z"
   },
   {
    "duration": 4,
    "start_time": "2024-02-13T18:20:43.444Z"
   },
   {
    "duration": 4,
    "start_time": "2024-02-13T18:21:10.280Z"
   },
   {
    "duration": 4,
    "start_time": "2024-02-13T18:21:31.486Z"
   },
   {
    "duration": 5570,
    "start_time": "2024-02-13T18:25:42.673Z"
   },
   {
    "duration": 63,
    "start_time": "2024-02-13T18:25:48.246Z"
   },
   {
    "duration": 39,
    "start_time": "2024-02-13T18:25:48.311Z"
   },
   {
    "duration": 29,
    "start_time": "2024-02-13T18:25:48.352Z"
   },
   {
    "duration": 52,
    "start_time": "2024-02-13T18:25:48.383Z"
   },
   {
    "duration": 12,
    "start_time": "2024-02-13T18:25:48.438Z"
   },
   {
    "duration": 5,
    "start_time": "2024-02-13T18:25:48.452Z"
   },
   {
    "duration": 16,
    "start_time": "2024-02-13T18:25:48.459Z"
   },
   {
    "duration": 13,
    "start_time": "2024-02-13T18:25:48.477Z"
   },
   {
    "duration": 8,
    "start_time": "2024-02-13T18:25:48.494Z"
   },
   {
    "duration": 23,
    "start_time": "2024-02-13T18:25:48.504Z"
   },
   {
    "duration": 11,
    "start_time": "2024-02-13T18:25:48.529Z"
   },
   {
    "duration": 23,
    "start_time": "2024-02-13T18:25:48.542Z"
   },
   {
    "duration": 9,
    "start_time": "2024-02-13T18:25:48.567Z"
   },
   {
    "duration": 8,
    "start_time": "2024-02-13T18:25:48.580Z"
   },
   {
    "duration": 8,
    "start_time": "2024-02-13T18:25:48.590Z"
   },
   {
    "duration": 4,
    "start_time": "2024-02-13T18:25:48.600Z"
   },
   {
    "duration": 28,
    "start_time": "2024-02-13T18:25:48.606Z"
   },
   {
    "duration": 293,
    "start_time": "2024-02-13T18:25:48.636Z"
   },
   {
    "duration": 218,
    "start_time": "2024-02-13T18:25:48.931Z"
   },
   {
    "duration": 1333,
    "start_time": "2024-02-13T18:25:49.151Z"
   },
   {
    "duration": 36,
    "start_time": "2024-02-13T18:25:50.486Z"
   },
   {
    "duration": 7,
    "start_time": "2024-02-13T18:25:50.524Z"
   },
   {
    "duration": 1000,
    "start_time": "2024-02-13T18:25:50.532Z"
   },
   {
    "duration": 7,
    "start_time": "2024-02-13T18:25:51.534Z"
   },
   {
    "duration": 12,
    "start_time": "2024-02-13T18:25:51.543Z"
   },
   {
    "duration": 24,
    "start_time": "2024-02-13T18:25:51.557Z"
   },
   {
    "duration": 9,
    "start_time": "2024-02-13T18:25:51.585Z"
   },
   {
    "duration": 32,
    "start_time": "2024-02-13T18:25:51.596Z"
   },
   {
    "duration": 172,
    "start_time": "2024-02-13T18:25:51.629Z"
   },
   {
    "duration": 7,
    "start_time": "2024-02-13T18:25:51.803Z"
   },
   {
    "duration": 386,
    "start_time": "2024-02-13T18:25:51.812Z"
   },
   {
    "duration": 758,
    "start_time": "2024-02-13T18:25:52.200Z"
   },
   {
    "duration": 11,
    "start_time": "2024-02-13T18:25:52.959Z"
   },
   {
    "duration": 7,
    "start_time": "2024-02-13T18:25:52.981Z"
   },
   {
    "duration": 22,
    "start_time": "2024-02-13T18:25:52.990Z"
   },
   {
    "duration": 10,
    "start_time": "2024-02-13T18:25:53.014Z"
   },
   {
    "duration": 222,
    "start_time": "2024-02-13T18:25:53.026Z"
   },
   {
    "duration": 9,
    "start_time": "2024-02-13T18:25:53.250Z"
   },
   {
    "duration": 25,
    "start_time": "2024-02-13T18:25:53.261Z"
   },
   {
    "duration": 310,
    "start_time": "2024-02-13T18:25:53.288Z"
   },
   {
    "duration": 22,
    "start_time": "2024-02-13T18:25:53.600Z"
   },
   {
    "duration": 28,
    "start_time": "2024-02-13T18:25:53.623Z"
   },
   {
    "duration": 13,
    "start_time": "2024-02-13T18:25:53.653Z"
   },
   {
    "duration": 6,
    "start_time": "2024-02-13T18:25:53.668Z"
   },
   {
    "duration": 5,
    "start_time": "2024-02-13T18:25:53.681Z"
   },
   {
    "duration": 22,
    "start_time": "2024-02-13T18:25:53.688Z"
   },
   {
    "duration": 16,
    "start_time": "2024-02-13T18:25:53.712Z"
   },
   {
    "duration": 30,
    "start_time": "2024-02-13T18:25:53.729Z"
   },
   {
    "duration": 7,
    "start_time": "2024-02-13T18:25:53.761Z"
   },
   {
    "duration": 7,
    "start_time": "2024-02-13T18:25:53.770Z"
   },
   {
    "duration": 30,
    "start_time": "2024-02-13T18:25:53.779Z"
   },
   {
    "duration": 15,
    "start_time": "2024-02-13T18:25:53.811Z"
   },
   {
    "duration": 38,
    "start_time": "2024-02-13T18:25:53.828Z"
   },
   {
    "duration": 4506,
    "start_time": "2024-02-13T18:25:53.868Z"
   },
   {
    "duration": 3,
    "start_time": "2024-02-13T18:25:58.376Z"
   },
   {
    "duration": 73350,
    "start_time": "2024-02-13T18:25:58.380Z"
   },
   {
    "duration": 50,
    "start_time": "2024-02-13T18:27:11.732Z"
   },
   {
    "duration": 12,
    "start_time": "2024-02-13T18:27:11.784Z"
   },
   {
    "duration": 7,
    "start_time": "2024-02-13T18:27:11.798Z"
   },
   {
    "duration": 11,
    "start_time": "2024-02-13T18:27:11.807Z"
   },
   {
    "duration": 63,
    "start_time": "2024-02-13T18:27:11.821Z"
   },
   {
    "duration": 7,
    "start_time": "2024-02-13T18:27:11.886Z"
   },
   {
    "duration": 7,
    "start_time": "2024-02-13T18:27:11.895Z"
   },
   {
    "duration": 6,
    "start_time": "2024-02-13T18:27:11.904Z"
   },
   {
    "duration": 7,
    "start_time": "2024-02-13T18:27:11.911Z"
   },
   {
    "duration": 8,
    "start_time": "2024-02-13T18:27:11.920Z"
   },
   {
    "duration": 291596,
    "start_time": "2024-02-13T18:27:11.981Z"
   },
   {
    "duration": 54,
    "start_time": "2024-02-13T18:32:03.581Z"
   },
   {
    "duration": 6,
    "start_time": "2024-02-13T18:32:03.640Z"
   },
   {
    "duration": 53,
    "start_time": "2024-02-13T18:32:03.648Z"
   },
   {
    "duration": 11,
    "start_time": "2024-02-13T18:32:03.703Z"
   },
   {
    "duration": 6,
    "start_time": "2024-02-13T18:32:03.717Z"
   },
   {
    "duration": 10,
    "start_time": "2024-02-13T18:32:03.725Z"
   },
   {
    "duration": 6,
    "start_time": "2024-02-13T18:32:03.737Z"
   },
   {
    "duration": 77,
    "start_time": "2024-02-13T18:32:03.744Z"
   },
   {
    "duration": 26,
    "start_time": "2024-02-13T18:32:03.823Z"
   },
   {
    "duration": 34,
    "start_time": "2024-02-13T18:32:03.851Z"
   },
   {
    "duration": 8,
    "start_time": "2024-02-13T18:32:03.887Z"
   },
   {
    "duration": 13,
    "start_time": "2024-02-13T18:32:03.898Z"
   },
   {
    "duration": 32,
    "start_time": "2024-02-13T18:32:03.913Z"
   },
   {
    "duration": 37,
    "start_time": "2024-02-13T18:32:03.952Z"
   },
   {
    "duration": 203,
    "start_time": "2024-02-13T18:32:03.993Z"
   },
   {
    "duration": 5,
    "start_time": "2024-02-13T18:32:04.198Z"
   },
   {
    "duration": 86,
    "start_time": "2024-02-13T18:32:04.205Z"
   },
   {
    "duration": 8,
    "start_time": "2024-02-13T18:32:04.294Z"
   },
   {
    "duration": 1184,
    "start_time": "2024-02-13T18:32:04.305Z"
   },
   {
    "duration": 725,
    "start_time": "2024-02-13T18:32:05.492Z"
   },
   {
    "duration": 12,
    "start_time": "2024-02-13T18:32:06.222Z"
   },
   {
    "duration": 6,
    "start_time": "2024-02-13T18:32:06.237Z"
   },
   {
    "duration": 46,
    "start_time": "2024-02-13T18:32:06.245Z"
   },
   {
    "duration": 11,
    "start_time": "2024-02-13T18:32:06.293Z"
   },
   {
    "duration": 151,
    "start_time": "2024-02-13T18:32:06.306Z"
   },
   {
    "duration": 224,
    "start_time": "2024-02-13T18:32:06.458Z"
   },
   {
    "duration": 166,
    "start_time": "2024-02-13T18:32:06.683Z"
   },
   {
    "duration": 14,
    "start_time": "2024-02-13T18:32:06.851Z"
   },
   {
    "duration": 337,
    "start_time": "2024-02-13T18:32:06.879Z"
   },
   {
    "duration": 20,
    "start_time": "2024-02-13T18:32:07.218Z"
   },
   {
    "duration": 152,
    "start_time": "2024-02-13T18:32:07.239Z"
   },
   {
    "duration": 4,
    "start_time": "2024-02-13T18:32:07.393Z"
   },
   {
    "duration": 5,
    "start_time": "2024-02-13T18:32:07.399Z"
   },
   {
    "duration": 167,
    "start_time": "2024-02-13T18:32:07.406Z"
   }
  ],
  "colab": {
   "provenance": []
  },
  "kernelspec": {
   "display_name": "Python 3 (ipykernel)",
   "language": "python",
   "name": "python3"
  },
  "language_info": {
   "codemirror_mode": {
    "name": "ipython",
    "version": 3
   },
   "file_extension": ".py",
   "mimetype": "text/x-python",
   "name": "python",
   "nbconvert_exporter": "python",
   "pygments_lexer": "ipython3",
   "version": "3.11.7"
  },
  "toc": {
   "base_numbering": 1,
   "nav_menu": {},
   "number_sections": true,
   "sideBar": true,
   "skip_h1_title": true,
   "title_cell": "Table of Contents",
   "title_sidebar": "Contents",
   "toc_cell": false,
   "toc_position": {},
   "toc_section_display": true,
   "toc_window_display": false
  }
 },
 "nbformat": 4,
 "nbformat_minor": 4
}
